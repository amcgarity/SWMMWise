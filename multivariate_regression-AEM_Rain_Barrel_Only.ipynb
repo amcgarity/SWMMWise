{
 "cells": [
  {
   "cell_type": "markdown",
   "metadata": {},
   "source": [
    "# Multivariate Regression WINGOHOCKING RAIN BARREL ONLY"
   ]
  },
  {
   "cell_type": "markdown",
   "metadata": {},
   "source": [
    "# Show the collections that have been generated"
   ]
  },
  {
   "cell_type": "code",
   "execution_count": 1,
   "metadata": {
    "collapsed": false
   },
   "outputs": [
    {
     "data": {
      "text/plain": [
       "[u'2008',\n",
       " u'2008trial1',\n",
       " u'2008trial3',\n",
       " u'2008trial4',\n",
       " u'2008trial6',\n",
       " u'first_wingo_test',\n",
       " u'fourth_wingo_test',\n",
       " u'impervFixed',\n",
       " u'impervNotFixed',\n",
       " u'july',\n",
       " u'july10',\n",
       " u'july12',\n",
       " u'july13',\n",
       " u'july14',\n",
       " u'july15',\n",
       " u'july16',\n",
       " u'july17',\n",
       " u'july2',\n",
       " u'july21',\n",
       " u'july22',\n",
       " u'july23',\n",
       " u'july24',\n",
       " u'july3',\n",
       " u'july4',\n",
       " u'july5',\n",
       " u'july6',\n",
       " u'july7',\n",
       " u'july8',\n",
       " u'july9',\n",
       " u'largeTrialLinier',\n",
       " u'multivariate_250_2010',\n",
       " u'multivariate_random_250_2010',\n",
       " u'multivariate_random_250_2011',\n",
       " u'multivariate_random_250_2012',\n",
       " u'multivariate_random_250_2013',\n",
       " u'randomTrial1',\n",
       " u'randomTrial2',\n",
       " u'randomTrial4',\n",
       " u'randomTrial5',\n",
       " u'random_multivariate',\n",
       " u'random_multivariate2',\n",
       " u'random_multivariate2009',\n",
       " u'random_multivariate2009year',\n",
       " u'random_multivariate2010',\n",
       " u'random_multivariate2012year',\n",
       " u'random_multivariate250',\n",
       " u'random_multivariate250_2009',\n",
       " u'random_multivariate3',\n",
       " u'random_multivariate5',\n",
       " u'random_multivariate6',\n",
       " u'random_multivariate7',\n",
       " u'random_multivariate8',\n",
       " u'random_multivariate9',\n",
       " u'second_wingo_test',\n",
       " u'trialWith%Perv',\n",
       " u'trialWith%Perv2',\n",
       " u'y16m10d11_demonstrate_runswmm_on_aws-2',\n",
       " u'y16m12d19_AEM_Wakefield_and_Anna_1',\n",
       " u'y16m12d19_AEM_Wakefield_and_Anna_50_250',\n",
       " u'y16m12d19_AEM_tests',\n",
       " u'y16m12d20_AEM_Wingo_Zero_LID_Check',\n",
       " u'y16m12d21_AEM_test_recovery_failed_SWMM_run',\n",
       " u'y16m12d27_AEM_45_Subcat_Leeds_Tree_Trench_and_Rain_Barrel',\n",
       " u'y16m12d27_AEM_45_Subcat_Leeds_Tree_Trench_and_Rain_Barrel_1',\n",
       " u'y16m12d27_AEM_45_Subcat_Leeds_Tree_Trench_and_Rain_Barrel_3',\n",
       " u'y16m12d27_AEM_45_Subcat_Leeds_Tree_Trench_and_Rain_Barrel_4',\n",
       " u'y16m12d27_AEM_45_Subcat_Leeds_Tree_Trench_and_Rain_Barrel_5',\n",
       " u'y16m12d27_AEM_7_Subcat_Leeds_Tree_Trench_and_Rain_Barrel',\n",
       " u'y17m01d10_AEM_45_Subcat_Wakefield_Rain_Garden_1',\n",
       " u'y17m01d11_AEM_45_Subcat_RainBarrel_Only_1']"
      ]
     },
     "execution_count": 1,
     "metadata": {},
     "output_type": "execute_result"
    }
   ],
   "source": [
    "from pymongo import MongoClient\n",
    "from process_collection import *\n",
    "#  IMPORTANT:  Set these for each run:\n",
    "#################################################\n",
    "# mongoServer = None   # use the local mongodb server installed on your computer\n",
    "#mongoServer = 'mongodb://server.mcgarity.info:27017/'  # Art's personal server\n",
    "#mongoServer = 'mongodb://ubuntu:27017/'  # ubuntu Linux virtual machine on Art's Mac\n",
    "mongoServer = 'mongodb://aws-2.greenphilly.net:27017/'  # aws-2 server for GreenPhilly\n",
    "database = \"jcohen4\"\n",
    "username = \"jcohen4\"\n",
    "password = \"wingohocking\"\n",
    "authenticationDatabase = \"jcohen4\"\n",
    "\n",
    "client = MongoClient(mongoServer)\n",
    "################################################\n",
    "\n",
    "db = client[database]\n",
    "db.authenticate(username, password, source=authenticationDatabase)  # pass credentials to database\n",
    "collectionNames = sorted(db.collection_names())\n",
    "collectionNames"
   ]
  },
  {
   "cell_type": "code",
   "execution_count": 2,
   "metadata": {
    "collapsed": false
   },
   "outputs": [
    {
     "name": "stdout",
     "output_type": "stream",
     "text": [
      "noLidPeak = 1948.45 cfs, noLidVolume = 1948.90 MGal\n",
      "noLid Runoff = 5987.73 acre-ft = 1951.11 MGal\n",
      "noLid csoVolumeMGal = 687.45 MGal\n"
     ]
    }
   ],
   "source": [
    "from get_cso import calculate_cso\n",
    "acft_to_mgal = 0.325851  # 1 acre-ft = 0.325851 MGal\n",
    "collectionName = 'y17m01d11_AEM_45_Subcat_RainBarrel_Only_1'\n",
    "runs = db[collectionName]\n",
    "cursor = runs.find()\n",
    "noLidRun = cursor[0]\n",
    "noLidVolume = noLidRun['volume']  # 10^6 Gal / yr\n",
    "noLidPeak = noLidRun['peak']   # cfs\n",
    "noLidRunoff = noLidRun['runoff']  # acre-ft/yr\n",
    "outflowSeries = noLidRun['outflow_series']\n",
    "ratio = 0.05\n",
    "csoResults = calculate_cso(outflowSeries,ratio)\n",
    "csoVolumeMGal = csoResults['cso_volume']/1e6\n",
    "print \"noLidPeak = %0.2f cfs, noLidVolume = %0.2f MGal\" % (noLidPeak,noLidVolume)\n",
    "print \"noLid Runoff = %0.2f acre-ft = %0.2f MGal\" % (noLidRunoff,noLidRunoff*acft_to_mgal)\n",
    "print \"noLid csoVolumeMGal = %0.2f MGal\" % csoVolumeMGal\n",
    "# NOTE: Volume is total flow volume at sewer outlet while Runoff is total runoff volume\n",
    "#       so they will likely be slightly different\n",
    "noLidRunParamsList = noLidRun['runParamList']\n",
    "#print noLidRunParamsList"
   ]
  },
  {
   "cell_type": "code",
   "execution_count": 12,
   "metadata": {
    "collapsed": false
   },
   "outputs": [
    {
     "name": "stdout",
     "output_type": "stream",
     "text": [
      "Number of Runs stored in Database = 51\n"
     ]
    }
   ],
   "source": [
    "# Compute Annual CSO Flows from results stored on Mongo\n",
    "from get_cso import * \n",
    "from process_collection import * \n",
    "collectionName = 'y17m01d11_AEM_45_Subcat_RainBarrel_Only_1'\n",
    "ratio = 0.05\n",
    "numSubcatch = 45\n",
    "numLID = 1\n",
    "numVariables = numSubcatch*numLID\n",
    "results = volume_reduction_and_runoff_volume_vs_lid_number(collectionName, numVariables, db)\n",
    "volReduction = results[\"volReductionList\"]\n",
    "numberOfRuns = len(volReduction)\n",
    "volReductionMgal = [x / 1e6 for x in volReduction]\n",
    "numberOfRuns = len(volReductionMgal)\n",
    "#print volReduction\n",
    "# ALERT:  in cso_reduction, collectionName and numSubCatch is never used !!!\n",
    "csoResults = cso_reduction(collectionName, ratio, numSubcatch, results) \n",
    "csoReduction = csoResults[\"csoReduction\"]\n",
    "csoReductionMgal = [x / 1e6 for x in csoReduction]\n",
    "#print csoReductionMgal\n",
    "cso = csoResults[\"cso\"]\n",
    "#print cso\n",
    "totVol = csoResults[\"totalVol\"]\n",
    "print \"Number of Runs stored in Database = %d\" % numberOfRuns\n",
    "#print results['numLists'][0]"
   ]
  },
  {
   "cell_type": "code",
   "execution_count": 13,
   "metadata": {
    "collapsed": false
   },
   "outputs": [],
   "source": [
    "# Compute total greened acres for each run and greened acres by LID for each run\n",
    "%matplotlib inline\n",
    "import matplotlib.pyplot as plt\n",
    "gaPerLid = [0.1]\n",
    "lidNumbers = results['numLists']\n",
    "greenedAcres = []\n",
    "lidGreenedAcres = {}\n",
    "for lid in range(0,numLID):\n",
    "    lidGreenedAcres[lid] = []\n",
    "lidTransposed = zip(*lidNumbers)\n",
    "for run in range(0,numberOfRuns):\n",
    "    variable = 0\n",
    "    lidList = lidTransposed[run]\n",
    "    gaTotalThisRun = 0.0\n",
    "    for lid in range(0,numLID):\n",
    "        gaTotalThisLID = 0.0\n",
    "        for subcat in range(0,numSubcatch):\n",
    "            numberLID = lidList[variable]\n",
    "            thisGreenedAcres = gaPerLid[lid]*numberLID\n",
    "            gaTotalThisRun += thisGreenedAcres\n",
    "            gaTotalThisLID += thisGreenedAcres\n",
    "            variable += 1\n",
    "        lidGreenedAcres[lid].append(gaTotalThisLID)\n",
    "    greenedAcres.append(gaTotalThisRun)\n",
    "#print greenedAcres\n",
    "#print lidGreenedAcres\n",
    "#print csoReduction\n",
    "#print [greenedAcres]"
   ]
  },
  {
   "cell_type": "code",
   "execution_count": 14,
   "metadata": {
    "collapsed": false
   },
   "outputs": [
    {
     "name": "stdout",
     "output_type": "stream",
     "text": [
      "Exact r-squared:\n",
      "0.994473902826\n",
      "                            OLS Regression Results                            \n",
      "==============================================================================\n",
      "Dep. Variable:                      y   R-squared:                       0.994\n",
      "Model:                            OLS   Adj. R-squared:                  0.994\n",
      "Method:                 Least Squares   F-statistic:                     8818.\n",
      "Date:                Wed, 11 Jan 2017   Prob (F-statistic):           5.56e-57\n",
      "Time:                        23:01:52   Log-Likelihood:                -836.22\n",
      "No. Observations:                  51   AIC:                             1676.\n",
      "Df Residuals:                      49   BIC:                             1680.\n",
      "Df Model:                           1                                         \n",
      "Covariance Type:            nonrobust                                         \n",
      "==============================================================================\n",
      "                 coef    std err          t      P>|t|      [95.0% Conf. Int.]\n",
      "------------------------------------------------------------------------------\n",
      "x1          3.541e+05   3770.348     93.904      0.000      3.46e+05  3.62e+05\n",
      "const       7.333e+06   1.89e+06      3.878      0.000      3.53e+06  1.11e+07\n",
      "==============================================================================\n",
      "Omnibus:                       22.759   Durbin-Watson:                   1.732\n",
      "Prob(Omnibus):                  0.000   Jarque-Bera (JB):               36.201\n",
      "Skew:                          -1.450   Prob(JB):                     1.38e-08\n",
      "Kurtosis:                       5.936   Cond. No.                     2.08e+03\n",
      "==============================================================================\n",
      "\n",
      "Warnings:\n",
      "[1] Standard Errors assume that the covariance matrix of the errors is correctly specified.\n",
      "[2] The condition number is large, 2.08e+03. This might indicate that there are\n",
      "strong multicollinearity or other numerical problems.\n",
      "[  354051.91237021  7332562.15896128]\n"
     ]
    }
   ],
   "source": [
    "#regress CSO reductions for each run vs total greened acres (combining LIDs) for each run\n",
    "import numpy as np\n",
    "import statsmodels.api as sm\n",
    "\n",
    "def reg_m(y, x):\n",
    "    ones = np.ones(len(x[0]))\n",
    "    X = sm.add_constant(np.column_stack((x[0], ones)))\n",
    "    for ele in x[1:]:\n",
    "        X = sm.add_constant(np.column_stack((ele, X)))\n",
    "    statistics = sm.OLS(y, X).fit()\n",
    "    return statistics\n",
    "\n",
    "csoReductionVsTotalGreenedAcresStats = reg_m(csoReduction,[greenedAcres])\n",
    "print \"Exact r-squared:\"\n",
    "print csoReductionVsTotalGreenedAcresStats.rsquared\n",
    "print csoReductionVsTotalGreenedAcresStats.summary()\n",
    "print csoReductionVsTotalGreenedAcresStats.params\n"
   ]
  },
  {
   "cell_type": "code",
   "execution_count": 15,
   "metadata": {
    "collapsed": false
   },
   "outputs": [
    {
     "data": {
      "text/plain": [
       "<matplotlib.text.Text at 0x118cac6d0>"
      ]
     },
     "execution_count": 15,
     "metadata": {},
     "output_type": "execute_result"
    },
    {
     "data": {
      "image/png": "[encoded data removed]",
      "text/plain": [
       "<matplotlib.figure.Figure at 0x118bfb290>"
      ]
     },
     "metadata": {},
     "output_type": "display_data"
    }
   ],
   "source": [
    "(fig, ax1) = plt.subplots()\n",
    "plt.title(\"CSO Reduction vs Greened Acres\")\n",
    "ax1.plot(greenedAcres,csoReductionMgal,'ko',color = 'b',markersize = 1)\n",
    "ax1.set_xlabel(\"Greened Acres\",fontsize=12)\n",
    "ax1.set_ylabel(\"CSO Reduction (MGal/yr)\",fontsize=12)"
   ]
  },
  {
   "cell_type": "code",
   "execution_count": 11,
   "metadata": {
    "collapsed": false
   },
   "outputs": [
    {
     "data": {
      "text/plain": [
       "<matplotlib.text.Text at 0x1188d0590>"
      ]
     },
     "execution_count": 11,
     "metadata": {},
     "output_type": "execute_result"
    },
    {
     "data": {
      "image/png": "[encoded data removed]",
      "text/plain": [
       "<matplotlib.figure.Figure at 0x118ae5a90>"
      ]
     },
     "metadata": {},
     "output_type": "display_data"
    }
   ],
   "source": [
    "(fig, ax1) = plt.subplots()\n",
    "plt.title(\"Runoff Volume Reduction vs Greened Acres\")\n",
    "ax1.plot(greenedAcres,volReductionMgal,'ko',color = 'b',markersize = 1)\n",
    "ax1.set_xlabel(\"Greened Acres\",fontsize=12)\n",
    "ax1.set_ylabel(\"Runoff Volume Reduction (MGal/yr)\",fontsize=12)"
   ]
  },
  {
   "cell_type": "code",
   "execution_count": 6,
   "metadata": {
    "collapsed": false
   },
   "outputs": [
    {
     "name": "stdout",
     "output_type": "stream",
     "text": [
      "Total number of SWMM runs = 743\n"
     ]
    },
    {
     "data": {
      "text/plain": [
       "<matplotlib.text.Text at 0x1265cdf50>"
      ]
     },
     "execution_count": 6,
     "metadata": {},
     "output_type": "execute_result"
    },
    {
     "data": {
      "image/png": "[encoded data removed]",
      "text/plain": [
       "<matplotlib.figure.Figure at 0x1091e6990>"
      ]
     },
     "metadata": {},
     "output_type": "display_data"
    }
   ],
   "source": [
    "# SCATTER PLOT OF CSO ANNUAL VOLUME REDUCTION VS SEWER OUTFLOW ANNUAL VOLUME REDUCTION\n",
    "%matplotlib inline\n",
    "import matplotlib.pyplot as plt\n",
    "print \"Total number of SWMM runs = %d\" % len(volReductionMgal)\n",
    "#xRange = [50,70]\n",
    "#yRange = [25,45]\n",
    "(fig, ax1) = plt.subplots()\n",
    "ax1.plot(volReductionMgal,csoReductionMgal,'ko',color = 'b',markersize = 1)\n",
    "plt.title(\"CSO Reduction vs Runoff Volume Reduction\")\n",
    "ax1.set_xlabel(\"Volume Reduction (MGal)\",fontsize=12)\n",
    "ax1.set_ylabel(\"CSO Reduction (MGal)\",fontsize=12)\n",
    "#plt.xlim(xRange)\n",
    "#plt.ylim(yRange)"
   ]
  },
  {
   "cell_type": "code",
   "execution_count": 24,
   "metadata": {
    "collapsed": false
   },
   "outputs": [
    {
     "name": "stdout",
     "output_type": "stream",
     "text": [
      "Exact r-squared:\n",
      "0.993489221651\n",
      "                            OLS Regression Results                            \n",
      "==============================================================================\n",
      "Dep. Variable:                      y   R-squared:                       0.993\n",
      "Model:                            OLS   Adj. R-squared:                  0.993\n",
      "Method:                 Least Squares   F-statistic:                 9.781e+04\n",
      "Date:                Sun, 08 Jan 2017   Prob (F-statistic):               0.00\n",
      "Time:                        17:02:39   Log-Likelihood:                -11400.\n",
      "No. Observations:                 643   AIC:                         2.280e+04\n",
      "Df Residuals:                     641   BIC:                         2.281e+04\n",
      "Df Model:                           1                                         \n",
      "Covariance Type:            nonrobust                                         \n",
      "==============================================================================\n",
      "                 coef    std err          t      P>|t|      [95.0% Conf. Int.]\n",
      "------------------------------------------------------------------------------\n",
      "x1           2.68e+05    856.798    312.748      0.000      2.66e+05   2.7e+05\n",
      "const       2.054e+07   9.69e+05     21.211      0.000      1.86e+07  2.24e+07\n",
      "==============================================================================\n",
      "Omnibus:                       10.080   Durbin-Watson:                   1.436\n",
      "Prob(Omnibus):                  0.006   Jarque-Bera (JB):               10.389\n",
      "Skew:                          -0.307   Prob(JB):                      0.00555\n",
      "Kurtosis:                       2.892   Cond. No.                     2.29e+03\n",
      "==============================================================================\n",
      "\n",
      "Warnings:\n",
      "[1] Standard Errors assume that the covariance matrix of the errors is correctly specified.\n",
      "[2] The condition number is large, 2.29e+03. This might indicate that there are\n",
      "strong multicollinearity or other numerical problems.\n",
      "[   267961.67728722  20544822.60940801]\n"
     ]
    }
   ],
   "source": [
    "#Single Variable Regression for LIMITED GA CSO reductions for each run vs total greened acres (combining LIDs) for each run\n",
    "# LIMIT runs to those with GA less than an upper limit to avoid upper nonlinear range\n",
    "\n",
    "import numpy as np\n",
    "import statsmodels.api as sm\n",
    "\n",
    "def reg_m(y, x):\n",
    "    ones = np.ones(len(x[0]))\n",
    "    X = sm.add_constant(np.column_stack((x[0], ones)))\n",
    "    for ele in x[1:]:\n",
    "        X = sm.add_constant(np.column_stack((ele, X)))\n",
    "    statistics = sm.OLS(y, X).fit()\n",
    "    return statistics\n",
    "\n",
    "limitedGreenedAcres = []\n",
    "limitedCsoReduction = []\n",
    "for run in range(0,numberOfRuns):\n",
    "    if greenedAcres[run] <= 2000.0:\n",
    "        limitedGreenedAcres.append(greenedAcres[run])\n",
    "        limitedCsoReduction.append(csoReduction[run])\n",
    "\n",
    "csoReductionVsTotalGreenedAcresStats = reg_m(limitedCsoReduction,[limitedGreenedAcres])\n",
    "print \"Exact r-squared:\"\n",
    "print csoReductionVsTotalGreenedAcresStats.rsquared\n",
    "print csoReductionVsTotalGreenedAcresStats.summary()\n",
    "print csoReductionVsTotalGreenedAcresStats.params"
   ]
  },
  {
   "cell_type": "code",
   "execution_count": 59,
   "metadata": {
    "collapsed": false
   },
   "outputs": [
    {
     "data": {
      "text/plain": [
       "<matplotlib.text.Text at 0x1447919d0>"
      ]
     },
     "execution_count": 59,
     "metadata": {},
     "output_type": "execute_result"
    },
    {
     "data": {
      "image/png": "[encoded data removed]",
      "text/plain": [
       "<matplotlib.figure.Figure at 0x144bb0910>"
      ]
     },
     "metadata": {},
     "output_type": "display_data"
    }
   ],
   "source": [
    "# Generate Residuals Plot for LIMITED GA CSO reductions for each run vs total greened acres (combining LIDs) for each run\n",
    "# LIMIT runs to those with GA less than an upper limit to avoid upper nonlinear range\n",
    "\n",
    "%matplotlib inline\n",
    "import matplotlib.pyplot as plt\n",
    "import numpy as np\n",
    "\n",
    "#print limitedGreenedAcres\n",
    "#xVals = limitedGreenedAcres\n",
    "betaZero = csoReductionVsTotalGreenedAcresStats.params[1]\n",
    "betaOne = csoReductionVsTotalGreenedAcresStats.params[0]\n",
    "yPredicted = []\n",
    "residuals = []\n",
    "for i in range(0,len(limitedGreenedAcres)):\n",
    "    yVal = betaZero + betaOne*limitedGreenedAcres[i]\n",
    "    resid = limitedCsoReduction[i] - yVal\n",
    "    yPredicted.append(yVal)  # Gallons\n",
    "    residuals.append(resid)  # Gallons\n",
    "#print yPredicted\n",
    "yPredictedMGal = [x/1e6 for x in yPredicted]\n",
    "stdDevResiduals = np.std(residuals, ddof=1) #ddof=1 for SAMPLE std. dev.\n",
    "stdDevResidualsMGal = stdDevResiduals/1e6\n",
    "standardizedResiduals = [x / stdDevResiduals for x in residuals]\n",
    "#print standardizedResiduals\n",
    "#print yPredictedMGal\n",
    "(fig, ax1) = plt.subplots()\n",
    "plt.title(\"CSO Reduction Residuals vs 1 Variable Predicted CSO Reduction\")\n",
    "ax1.plot(yPredictedMGal,standardizedResiduals,'ko',color = 'b',markersize = 1)\n",
    "ax1.set_xlabel(\"Predicted CSO Reduction (MGal)\",fontsize=12)\n",
    "#ax1.set_ylabel(\"Residual (MGal)\",fontsize=12)\n",
    "ax1.set_ylabel(\"Standardized Residual\",fontsize=12)\n",
    "stdDevText = \"Std. Dev. Residuals = %0.2f MGal\" % stdDevResidualsMGal\n",
    "ax1.text(2,-3,stdDevText)"
   ]
  }
 ],
 "metadata": {
  "anaconda-cloud": {},
  "kernelspec": {
   "display_name": "Python [default]",
   "language": "python",
   "name": "python2"
  },
  "language_info": {
   "codemirror_mode": {
    "name": "ipython",
    "version": 2
   },
   "file_extension": ".py",
   "mimetype": "text/x-python",
   "name": "python",
   "nbconvert_exporter": "python",
   "pygments_lexer": "ipython2",
   "version": "2.7.12"
  }
 },
 "nbformat": 4,
 "nbformat_minor": 0
}
