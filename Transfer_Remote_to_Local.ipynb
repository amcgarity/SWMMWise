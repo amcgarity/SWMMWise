{
 "cells": [
  {
   "cell_type": "code",
   "execution_count": 9,
   "metadata": {
    "collapsed": true
   },
   "outputs": [],
   "source": [
    "from pymongo import MongoClient\n",
    "local = MongoClient()\n",
    "remote = MongoClient('mongodb://server.mcgarity.info:27017')\n",
    "dbLocal = local['swmmwiseDebug']   # This creates or references the local database\n",
    "dbRemote = remote['swmmwiseDebug'] # This references the local database"
   ]
  },
  {
   "cell_type": "code",
   "execution_count": 21,
   "metadata": {
    "collapsed": false
   },
   "outputs": [
    {
     "name": "stdout",
     "output_type": "stream",
     "text": [
      "[u'y16m01d22', u'y16m01d23', u'y16m01d23_loop_test_4', u'y16m01d23_loop_test_6']\n",
      "[u'y16m01d22', u'y16m01d23', u'y16m01d23_loop_test_1', u'y16m01d23_loop_test_4', u'y16m01d23_loop_test_5', u'y16m01d23_loop_test_6', u'y16m01d24_loop_test_1']\n"
     ]
    }
   ],
   "source": [
    "collectionListLocal = sorted(dbLocal.collection_names())\n",
    "collectionListRemote = sorted(dbRemote.collection_names())\n",
    "print collectionListLocal\n",
    "print collectionListRemote"
   ]
  },
  {
   "cell_type": "code",
   "execution_count": 20,
   "metadata": {
    "collapsed": false
   },
   "outputs": [
    {
     "name": "stdout",
     "output_type": "stream",
     "text": [
      "Inserted: 56a47d0ac10157ae8eba0ee9\n",
      "Inserted: 56a47d41c10157aeb0be296b\n",
      "Inserted: 56a47d6ac10157aeb0be296c\n",
      "Inserted: 56a47d78c10157aeb0be296d\n",
      "Inserted: 56a47d86c10157aeb0be296e\n",
      "Inserted: 56a47d94c10157aeb0be296f\n",
      "Inserted: 56a47da2c10157aeb0be2970\n",
      "Inserted: 56a47db0c10157aeb0be2971\n",
      "Inserted: 56a47dbec10157aeb0be2972\n",
      "Inserted: 56a47dccc10157aeb0be2973\n",
      "Inserted: 56a47ddac10157aeb0be2974\n",
      "Inserted: 56a47de8c10157aeb0be2975\n"
     ]
    }
   ],
   "source": [
    "collectName = 'y16m01d23_loop_test_6'  # name of the remote collection to copy\n",
    "remoteCollection = dbRemote[collectName] # access corresponding collection on remote\n",
    "localCollection = dbLocal[collectName] # create corresponding collection in local\n",
    "docList = remoteCollection.find()  # return a list containing all docs in the collection\n",
    "for doc in docList:   # loop through all the docs in the specified collection\n",
    "    doc_id = localCollection.insert_one(doc).inserted_id  # insert the doc\n",
    "    print \"Inserted: %s\" % doc_id\n"
   ]
  },
  {
   "cell_type": "code",
   "execution_count": 15,
   "metadata": {
    "collapsed": false
   },
   "outputs": [
    {
     "data": {
      "text/plain": [
       "{u'_id': ObjectId('56a2d051abd22f9b318b83cb'),\n",
       " u'dateTime': datetime.datetime(2016, 1, 22, 19, 58, 46, 259000),\n",
       " u'lidDict': None,\n",
       " u'peak': 21.52,\n",
       " u'runParamList': [{u'Area': 741,\n",
       "   u'FromImp': 100,\n",
       "   u'LID': u'wakefield_BR_RG',\n",
       "   u'Number': 0,\n",
       "   u'Subcat': u'S1',\n",
       "   u'Width': 0}],\n",
       " u'volume': 15.563}"
      ]
     },
     "execution_count": 15,
     "metadata": {},
     "output_type": "execute_result"
    }
   ],
   "source": [
    "runs = dbLocal[collectName]\n",
    "cursor = runs.find()\n",
    "last = cursor.count()-1\n",
    "rundict = cursor[last]\n",
    "rundict"
   ]
  },
  {
   "cell_type": "code",
   "execution_count": null,
   "metadata": {
    "collapsed": true
   },
   "outputs": [],
   "source": []
  }
 ],
 "metadata": {
  "kernelspec": {
   "display_name": "Python 2",
   "language": "python",
   "name": "python2"
  },
  "language_info": {
   "codemirror_mode": {
    "name": "ipython",
    "version": 2
   },
   "file_extension": ".py",
   "mimetype": "text/x-python",
   "name": "python",
   "nbconvert_exporter": "python",
   "pygments_lexer": "ipython2",
   "version": "2.7.6"
  }
 },
 "nbformat": 4,
 "nbformat_minor": 0
}
