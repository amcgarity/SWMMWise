{
 "cells": [
  {
   "cell_type": "markdown",
   "metadata": {},
   "source": [
    "# Multivariate Regression RainBarrel and MorrisIT"
   ]
  },
  {
   "cell_type": "markdown",
   "metadata": {},
   "source": [
    "# Show the collections that have been generated"
   ]
  },
  {
   "cell_type": "code",
   "execution_count": 1,
   "metadata": {
    "collapsed": false
   },
   "outputs": [
    {
     "data": {
      "text/plain": [
       "[u'2008',\n",
       " u'2008trial1',\n",
       " u'2008trial3',\n",
       " u'2008trial4',\n",
       " u'2008trial6',\n",
       " u'first_wingo_test',\n",
       " u'fourth_wingo_test',\n",
       " u'impervFixed',\n",
       " u'impervNotFixed',\n",
       " u'july',\n",
       " u'july10',\n",
       " u'july12',\n",
       " u'july13',\n",
       " u'july14',\n",
       " u'july15',\n",
       " u'july16',\n",
       " u'july17',\n",
       " u'july2',\n",
       " u'july21',\n",
       " u'july22',\n",
       " u'july23',\n",
       " u'july24',\n",
       " u'july3',\n",
       " u'july4',\n",
       " u'july5',\n",
       " u'july6',\n",
       " u'july7',\n",
       " u'july8',\n",
       " u'july9',\n",
       " u'largeTrialLinier',\n",
       " u'multivariate_250_2010',\n",
       " u'multivariate_random_250_2010',\n",
       " u'multivariate_random_250_2011',\n",
       " u'multivariate_random_250_2012',\n",
       " u'multivariate_random_250_2013',\n",
       " u'randomTrial1',\n",
       " u'randomTrial2',\n",
       " u'randomTrial4',\n",
       " u'randomTrial5',\n",
       " u'random_multivariate',\n",
       " u'random_multivariate2',\n",
       " u'random_multivariate2009',\n",
       " u'random_multivariate2009year',\n",
       " u'random_multivariate2010',\n",
       " u'random_multivariate2012year',\n",
       " u'random_multivariate250',\n",
       " u'random_multivariate250_2009',\n",
       " u'random_multivariate3',\n",
       " u'random_multivariate5',\n",
       " u'random_multivariate6',\n",
       " u'random_multivariate7',\n",
       " u'random_multivariate8',\n",
       " u'random_multivariate9',\n",
       " u'second_wingo_test',\n",
       " u'trialWith%Perv',\n",
       " u'trialWith%Perv2',\n",
       " u'y16m10d11_demonstrate_runswmm_on_aws-2',\n",
       " u'y16m12d19_AEM_Wakefield_and_Anna_1',\n",
       " u'y16m12d19_AEM_Wakefield_and_Anna_50_250',\n",
       " u'y16m12d19_AEM_tests',\n",
       " u'y16m12d20_AEM_Wingo_Zero_LID_Check',\n",
       " u'y16m12d21_AEM_test_recovery_failed_SWMM_run',\n",
       " u'y16m12d27_AEM_45_Subcat_Leeds_Tree_Trench_and_Rain_Barrel',\n",
       " u'y16m12d27_AEM_45_Subcat_Leeds_Tree_Trench_and_Rain_Barrel_1',\n",
       " u'y16m12d27_AEM_45_Subcat_Leeds_Tree_Trench_and_Rain_Barrel_3',\n",
       " u'y16m12d27_AEM_45_Subcat_Leeds_Tree_Trench_and_Rain_Barrel_4',\n",
       " u'y16m12d27_AEM_45_Subcat_Leeds_Tree_Trench_and_Rain_Barrel_5',\n",
       " u'y16m12d27_AEM_7_Subcat_Leeds_Tree_Trench_and_Rain_Barrel']"
      ]
     },
     "execution_count": 1,
     "metadata": {},
     "output_type": "execute_result"
    }
   ],
   "source": [
    "from pymongo import MongoClient\n",
    "from process_collection import *\n",
    "#  IMPORTANT:  Set these for each run:\n",
    "#################################################\n",
    "# mongoServer = None   # use the local mongodb server installed on your computer\n",
    "#mongoServer = 'mongodb://server.mcgarity.info:27017/'  # Art's personal server\n",
    "#mongoServer = 'mongodb://ubuntu:27017/'  # ubuntu Linux virtual machine on Art's Mac\n",
    "mongoServer = 'mongodb://aws-2.greenphilly.net:27017/'  # aws-2 server for GreenPhilly\n",
    "database = \"jcohen4\"\n",
    "username = \"jcohen4\"\n",
    "password = \"wingohocking\"\n",
    "authenticationDatabase = \"jcohen4\"\n",
    "\n",
    "client = MongoClient(mongoServer)\n",
    "################################################\n",
    "\n",
    "db = client[database]\n",
    "db.authenticate(username, password, source=authenticationDatabase)  # pass credentials to database\n",
    "collectionNames = sorted(db.collection_names())\n",
    "collectionNames"
   ]
  },
  {
   "cell_type": "code",
   "execution_count": 2,
   "metadata": {
    "collapsed": false
   },
   "outputs": [
    {
     "name": "stdout",
     "output_type": "stream",
     "text": [
      "noLidPeak = 1948.45 cfs, noLidVolume = 1948.90 MGal\n",
      "noLid Runoff = 5987.73 acre-ft = 1951.11 MGal\n",
      "noLid csoVolumeMGal = 687.45 MGal\n"
     ]
    }
   ],
   "source": [
    "from get_cso import calculate_cso\n",
    "acft_to_mgal = 0.325851  # 1 acre-ft = 0.325851 MGal\n",
    "collectionName = 'y16m12d27_AEM_45_Subcat_Leeds_Tree_Trench_and_Rain_Barrel_5'\n",
    "runs = db[collectionName]\n",
    "cursor = runs.find()\n",
    "noLidRun = cursor[0]\n",
    "noLidVolume = noLidRun['volume']  # 10^6 Gal / yr\n",
    "noLidPeak = noLidRun['peak']   # cfs\n",
    "noLidRunoff = noLidRun['runoff']  # acre-ft/yr\n",
    "outflowSeries = noLidRun['outflow_series']\n",
    "ratio = 0.05\n",
    "csoResults = calculate_cso(outflowSeries,ratio)\n",
    "csoVolumeMGal = csoResults['cso_volume']/1e6\n",
    "print \"noLidPeak = %0.2f cfs, noLidVolume = %0.2f MGal\" % (noLidPeak,noLidVolume)\n",
    "print \"noLid Runoff = %0.2f acre-ft = %0.2f MGal\" % (noLidRunoff,noLidRunoff*acft_to_mgal)\n",
    "print \"noLid csoVolumeMGal = %0.2f MGal\" % csoVolumeMGal\n",
    "# NOTE: Volume is total flow volume at sewer outlet while Runoff is total runoff volume\n",
    "#       so they will likely be slightly different\n",
    "noLidRunParamsList = noLidRun['runParamList']\n",
    "#print noLidRunParamsList"
   ]
  },
  {
   "cell_type": "code",
   "execution_count": 3,
   "metadata": {
    "collapsed": false
   },
   "outputs": [
    {
     "name": "stdout",
     "output_type": "stream",
     "text": [
      "Number of Runs stored in Database = 743\n"
     ]
    }
   ],
   "source": [
    "# Compute Annual CSO Flows from results stored on Mongo\n",
    "from get_cso import * \n",
    "from process_collection import * \n",
    "collectionName = 'y16m12d27_AEM_45_Subcat_Leeds_Tree_Trench_and_Rain_Barrel_5'\n",
    "ratio = 0.05\n",
    "numSubcatch = 45\n",
    "numLID = 2\n",
    "numVariables = numSubcatch*numLID\n",
    "results = volume_reduction_and_runoff_volume_vs_lid_number(collectionName, numVariables, db)\n",
    "volReduction = results[\"volReductionList\"]\n",
    "numberOfRuns = len(volReduction)\n",
    "volReductionMgal = [x / 1e6 for x in volReduction]\n",
    "numberOfRuns = len(volReductionMgal)\n",
    "#print volReduction\n",
    "# ALERT:  in cso_reduction, collectionName and numSubCatch is never used !!!\n",
    "csoResults = cso_reduction(collectionName, ratio, numSubcatch, results) \n",
    "csoReduction = csoResults[\"csoReduction\"]\n",
    "csoReductionMgal = [x / 1e6 for x in csoReduction]\n",
    "#print csoReductionMgal\n",
    "cso = csoResults[\"cso\"]\n",
    "#print cso\n",
    "totVol = csoResults[\"totalVol\"]\n",
    "print \"Number of Runs stored in Database = %d\" % numberOfRuns\n",
    "#print results['numLists'][0]"
   ]
  },
  {
   "cell_type": "code",
   "execution_count": 62,
   "metadata": {
    "collapsed": false
   },
   "outputs": [],
   "source": [
    "# Compute total greened acres for each run and greened acres by LID for each run\n",
    "%matplotlib inline\n",
    "import matplotlib.pyplot as plt\n",
    "gaPerLid = [0.1,0.936]\n",
    "lidNumbers = results['numLists']\n",
    "greenedAcres = []\n",
    "lidGreenedAcres = {}\n",
    "for lid in range(0,numLID):\n",
    "    lidGreenedAcres[lid] = []\n",
    "lidTransposed = zip(*lidNumbers)\n",
    "for run in range(0,numberOfRuns):\n",
    "    variable = 0\n",
    "    lidList = lidTransposed[run]\n",
    "    gaTotalThisRun = 0.0\n",
    "    for lid in range(0,numLID):\n",
    "        gaTotalThisLID = 0.0\n",
    "        for subcat in range(0,numSubcatch):\n",
    "            numberLID = lidList[variable]\n",
    "            thisGreenedAcres = gaPerLid[lid]*numberLID\n",
    "            gaTotalThisRun += thisGreenedAcres\n",
    "            gaTotalThisLID += thisGreenedAcres\n",
    "            variable += 1\n",
    "        lidGreenedAcres[lid].append(gaTotalThisLID)\n",
    "    greenedAcres.append(gaTotalThisRun)\n",
    "#print greenedAcres\n",
    "#print lidGreenedAcres\n",
    "#print csoReduction\n",
    "#print [greenedAcres]"
   ]
  },
  {
   "cell_type": "code",
   "execution_count": 22,
   "metadata": {
    "collapsed": false
   },
   "outputs": [
    {
     "name": "stdout",
     "output_type": "stream",
     "text": [
      "Exact r-squared:\n",
      "0.946167109715\n",
      "                            OLS Regression Results                            \n",
      "==============================================================================\n",
      "Dep. Variable:                      y   R-squared:                       0.946\n",
      "Model:                            OLS   Adj. R-squared:                  0.946\n",
      "Method:                 Least Squares   F-statistic:                 1.302e+04\n",
      "Date:                Sun, 08 Jan 2017   Prob (F-statistic):               0.00\n",
      "Time:                        16:47:39   Log-Likelihood:                -14028.\n",
      "No. Observations:                 743   AIC:                         2.806e+04\n",
      "Df Residuals:                     741   BIC:                         2.807e+04\n",
      "Df Model:                           1                                         \n",
      "Covariance Type:            nonrobust                                         \n",
      "==============================================================================\n",
      "                 coef    std err          t      P>|t|      [95.0% Conf. Int.]\n",
      "------------------------------------------------------------------------------\n",
      "x1           2.24e+05   1962.990    114.122      0.000       2.2e+05  2.28e+05\n",
      "const       5.491e+07    2.7e+06     20.315      0.000      4.96e+07  6.02e+07\n",
      "==============================================================================\n",
      "Omnibus:                      219.500   Durbin-Watson:                   1.122\n",
      "Prob(Omnibus):                  0.000   Jarque-Bera (JB):              562.562\n",
      "Skew:                          -1.521   Prob(JB):                    6.94e-123\n",
      "Kurtosis:                       5.985   Cond. No.                     2.65e+03\n",
      "==============================================================================\n",
      "\n",
      "Warnings:\n",
      "[1] Standard Errors assume that the covariance matrix of the errors is correctly specified.\n",
      "[2] The condition number is large, 2.65e+03. This might indicate that there are\n",
      "strong multicollinearity or other numerical problems.\n",
      "[   224020.2240362   54912775.49004593]\n"
     ]
    }
   ],
   "source": [
    "#regress CSO reductions for each run vs total greened acres (combining LIDs) for each run\n",
    "import numpy as np\n",
    "import statsmodels.api as sm\n",
    "\n",
    "def reg_m(y, x):\n",
    "    ones = np.ones(len(x[0]))\n",
    "    X = sm.add_constant(np.column_stack((x[0], ones)))\n",
    "    for ele in x[1:]:\n",
    "        X = sm.add_constant(np.column_stack((ele, X)))\n",
    "    statistics = sm.OLS(y, X).fit()\n",
    "    return statistics\n",
    "\n",
    "csoReductionVsTotalGreenedAcresStats = reg_m(csoReduction,[greenedAcres])\n",
    "print \"Exact r-squared:\"\n",
    "print csoReductionVsTotalGreenedAcresStats.rsquared\n",
    "print csoReductionVsTotalGreenedAcresStats.summary()\n",
    "print csoReductionVsTotalGreenedAcresStats.params\n"
   ]
  },
  {
   "cell_type": "code",
   "execution_count": 14,
   "metadata": {
    "collapsed": false
   },
   "outputs": [
    {
     "data": {
      "text/plain": [
       "<matplotlib.text.Text at 0x109e54350>"
      ]
     },
     "execution_count": 14,
     "metadata": {},
     "output_type": "execute_result"
    },
    {
     "data": {
      "image/png": "[encoded data removed]",
      "text/plain": [
       "<matplotlib.figure.Figure at 0x1420212d0>"
      ]
     },
     "metadata": {},
     "output_type": "display_data"
    }
   ],
   "source": [
    "(fig, ax1) = plt.subplots()\n",
    "plt.title(\"CSO Reduction vs Greened Acres\")\n",
    "ax1.plot(greenedAcres,csoReductionMgal,'ko',color = 'b',markersize = 1)\n",
    "ax1.set_xlabel(\"Greened Acres\",fontsize=12)\n",
    "ax1.set_ylabel(\"CSO Reduction (MGal/yr)\",fontsize=12)"
   ]
  },
  {
   "cell_type": "code",
   "execution_count": 5,
   "metadata": {
    "collapsed": false
   },
   "outputs": [
    {
     "data": {
      "text/plain": [
       "<matplotlib.text.Text at 0x109eaafd0>"
      ]
     },
     "execution_count": 5,
     "metadata": {},
     "output_type": "execute_result"
    },
    {
     "data": {
      "image/png": "[encoded data removed]",
      "text/plain": [
       "<matplotlib.figure.Figure at 0x103ec9510>"
      ]
     },
     "metadata": {},
     "output_type": "display_data"
    }
   ],
   "source": [
    "(fig, ax1) = plt.subplots()\n",
    "plt.title(\"Runoff Volume Reduction vs Greened Acres\")\n",
    "ax1.plot(greenedAcres,volReductionMgal,'ko',color = 'b',markersize = 1)\n",
    "ax1.set_xlabel(\"Greened Acres\",fontsize=12)\n",
    "ax1.set_ylabel(\"Runoff Volume Reduction (MGal/yr)\",fontsize=12)"
   ]
  },
  {
   "cell_type": "code",
   "execution_count": 6,
   "metadata": {
    "collapsed": false
   },
   "outputs": [
    {
     "name": "stdout",
     "output_type": "stream",
     "text": [
      "Total number of SWMM runs = 743\n"
     ]
    },
    {
     "data": {
      "text/plain": [
       "<matplotlib.text.Text at 0x1265cdf50>"
      ]
     },
     "execution_count": 6,
     "metadata": {},
     "output_type": "execute_result"
    },
    {
     "data": {
      "image/png": "[encoded data removed]",
      "text/plain": [
       "<matplotlib.figure.Figure at 0x1091e6990>"
      ]
     },
     "metadata": {},
     "output_type": "display_data"
    }
   ],
   "source": [
    "# SCATTER PLOT OF CSO ANNUAL VOLUME REDUCTION VS SEWER OUTFLOW ANNUAL VOLUME REDUCTION\n",
    "%matplotlib inline\n",
    "import matplotlib.pyplot as plt\n",
    "print \"Total number of SWMM runs = %d\" % len(volReductionMgal)\n",
    "#xRange = [50,70]\n",
    "#yRange = [25,45]\n",
    "(fig, ax1) = plt.subplots()\n",
    "ax1.plot(volReductionMgal,csoReductionMgal,'ko',color = 'b',markersize = 1)\n",
    "plt.title(\"CSO Reduction vs Runoff Volume Reduction\")\n",
    "ax1.set_xlabel(\"Volume Reduction (MGal)\",fontsize=12)\n",
    "ax1.set_ylabel(\"CSO Reduction (MGal)\",fontsize=12)\n",
    "#plt.xlim(xRange)\n",
    "#plt.ylim(yRange)"
   ]
  },
  {
   "cell_type": "code",
   "execution_count": 24,
   "metadata": {
    "collapsed": false
   },
   "outputs": [
    {
     "name": "stdout",
     "output_type": "stream",
     "text": [
      "Exact r-squared:\n",
      "0.993489221651\n",
      "                            OLS Regression Results                            \n",
      "==============================================================================\n",
      "Dep. Variable:                      y   R-squared:                       0.993\n",
      "Model:                            OLS   Adj. R-squared:                  0.993\n",
      "Method:                 Least Squares   F-statistic:                 9.781e+04\n",
      "Date:                Sun, 08 Jan 2017   Prob (F-statistic):               0.00\n",
      "Time:                        17:02:39   Log-Likelihood:                -11400.\n",
      "No. Observations:                 643   AIC:                         2.280e+04\n",
      "Df Residuals:                     641   BIC:                         2.281e+04\n",
      "Df Model:                           1                                         \n",
      "Covariance Type:            nonrobust                                         \n",
      "==============================================================================\n",
      "                 coef    std err          t      P>|t|      [95.0% Conf. Int.]\n",
      "------------------------------------------------------------------------------\n",
      "x1           2.68e+05    856.798    312.748      0.000      2.66e+05   2.7e+05\n",
      "const       2.054e+07   9.69e+05     21.211      0.000      1.86e+07  2.24e+07\n",
      "==============================================================================\n",
      "Omnibus:                       10.080   Durbin-Watson:                   1.436\n",
      "Prob(Omnibus):                  0.006   Jarque-Bera (JB):               10.389\n",
      "Skew:                          -0.307   Prob(JB):                      0.00555\n",
      "Kurtosis:                       2.892   Cond. No.                     2.29e+03\n",
      "==============================================================================\n",
      "\n",
      "Warnings:\n",
      "[1] Standard Errors assume that the covariance matrix of the errors is correctly specified.\n",
      "[2] The condition number is large, 2.29e+03. This might indicate that there are\n",
      "strong multicollinearity or other numerical problems.\n",
      "[   267961.67728722  20544822.60940801]\n"
     ]
    }
   ],
   "source": [
    "#Single Variable Regression for LIMITED GA CSO reductions for each run vs total greened acres (combining LIDs) for each run\n",
    "# LIMIT runs to those with GA less than an upper limit to avoid upper nonlinear range\n",
    "\n",
    "import numpy as np\n",
    "import statsmodels.api as sm\n",
    "\n",
    "def reg_m(y, x):\n",
    "    ones = np.ones(len(x[0]))\n",
    "    X = sm.add_constant(np.column_stack((x[0], ones)))\n",
    "    for ele in x[1:]:\n",
    "        X = sm.add_constant(np.column_stack((ele, X)))\n",
    "    statistics = sm.OLS(y, X).fit()\n",
    "    return statistics\n",
    "\n",
    "limitedGreenedAcres = []\n",
    "limitedCsoReduction = []\n",
    "for run in range(0,numberOfRuns):\n",
    "    if greenedAcres[run] <= 2000.0:\n",
    "        limitedGreenedAcres.append(greenedAcres[run])\n",
    "        limitedCsoReduction.append(csoReduction[run])\n",
    "\n",
    "csoReductionVsTotalGreenedAcresStats = reg_m(limitedCsoReduction,[limitedGreenedAcres])\n",
    "print \"Exact r-squared:\"\n",
    "print csoReductionVsTotalGreenedAcresStats.rsquared\n",
    "print csoReductionVsTotalGreenedAcresStats.summary()\n",
    "print csoReductionVsTotalGreenedAcresStats.params"
   ]
  },
  {
   "cell_type": "code",
   "execution_count": 59,
   "metadata": {
    "collapsed": false
   },
   "outputs": [
    {
     "data": {
      "text/plain": [
       "<matplotlib.text.Text at 0x1447919d0>"
      ]
     },
     "execution_count": 59,
     "metadata": {},
     "output_type": "execute_result"
    },
    {
     "data": {
      "image/png": "[encoded data removed]",
      "text/plain": [
       "<matplotlib.figure.Figure at 0x144bb0910>"
      ]
     },
     "metadata": {},
     "output_type": "display_data"
    }
   ],
   "source": [
    "# Generate Residuals Plot for LIMITED GA CSO reductions for each run vs total greened acres (combining LIDs) for each run\n",
    "# LIMIT runs to those with GA less than an upper limit to avoid upper nonlinear range\n",
    "\n",
    "%matplotlib inline\n",
    "import matplotlib.pyplot as plt\n",
    "import numpy as np\n",
    "\n",
    "#print limitedGreenedAcres\n",
    "#xVals = limitedGreenedAcres\n",
    "betaZero = csoReductionVsTotalGreenedAcresStats.params[1]\n",
    "betaOne = csoReductionVsTotalGreenedAcresStats.params[0]\n",
    "yPredicted = []\n",
    "residuals = []\n",
    "for i in range(0,len(limitedGreenedAcres)):\n",
    "    yVal = betaZero + betaOne*limitedGreenedAcres[i]\n",
    "    resid = limitedCsoReduction[i] - yVal\n",
    "    yPredicted.append(yVal)  # Gallons\n",
    "    residuals.append(resid)  # Gallons\n",
    "#print yPredicted\n",
    "yPredictedMGal = [x/1e6 for x in yPredicted]\n",
    "stdDevResiduals = np.std(residuals, ddof=1) #ddof=1 for SAMPLE std. dev.\n",
    "stdDevResidualsMGal = stdDevResiduals/1e6\n",
    "standardizedResiduals = [x / stdDevResiduals for x in residuals]\n",
    "#print standardizedResiduals\n",
    "#print yPredictedMGal\n",
    "(fig, ax1) = plt.subplots()\n",
    "plt.title(\"CSO Reduction Residuals vs 1 Variable Predicted CSO Reduction\")\n",
    "ax1.plot(yPredictedMGal,standardizedResiduals,'ko',color = 'b',markersize = 1)\n",
    "ax1.set_xlabel(\"Predicted CSO Reduction (MGal)\",fontsize=12)\n",
    "#ax1.set_ylabel(\"Residual (MGal)\",fontsize=12)\n",
    "ax1.set_ylabel(\"Standardized Residual\",fontsize=12)\n",
    "stdDevText = \"Std. Dev. Residuals = %0.2f MGal\" % stdDevResidualsMGal\n",
    "ax1.text(2,-3,stdDevText)"
   ]
  },
  {
   "cell_type": "code",
   "execution_count": 60,
   "metadata": {
    "collapsed": false
   },
   "outputs": [
    {
     "name": "stdout",
     "output_type": "stream",
     "text": [
      "Exact r-squared:\n",
      "0.99361659582\n",
      "                            OLS Regression Results                            \n",
      "==============================================================================\n",
      "Dep. Variable:                      y   R-squared:                       0.994\n",
      "Model:                            OLS   Adj. R-squared:                  0.994\n",
      "Method:                 Least Squares   F-statistic:                 4.981e+04\n",
      "Date:                Sun, 08 Jan 2017   Prob (F-statistic):               0.00\n",
      "Time:                        19:02:52   Log-Likelihood:                -11394.\n",
      "No. Observations:                 643   AIC:                         2.279e+04\n",
      "Df Residuals:                     640   BIC:                         2.281e+04\n",
      "Df Model:                           2                                         \n",
      "Covariance Type:            nonrobust                                         \n",
      "==============================================================================\n",
      "                 coef    std err          t      P>|t|      [95.0% Conf. Int.]\n",
      "------------------------------------------------------------------------------\n",
      "x1          2.816e+05   3921.394     71.822      0.000      2.74e+05  2.89e+05\n",
      "x2          2.556e+05   3549.296     72.027      0.000      2.49e+05  2.63e+05\n",
      "const        1.93e+07   1.02e+06     18.912      0.000      1.73e+07  2.13e+07\n",
      "==============================================================================\n",
      "Omnibus:                        0.728   Durbin-Watson:                   1.554\n",
      "Prob(Omnibus):                  0.695   Jarque-Bera (JB):                0.801\n",
      "Skew:                          -0.076   Prob(JB):                        0.670\n",
      "Kurtosis:                       2.918   Cond. No.                     1.72e+03\n",
      "==============================================================================\n",
      "\n",
      "Warnings:\n",
      "[1] Standard Errors assume that the covariance matrix of the errors is correctly specified.\n",
      "[2] The condition number is large, 1.72e+03. This might indicate that there are\n",
      "strong multicollinearity or other numerical problems.\n",
      "[   281642.71638678    255646.19960031  19303949.76123013]\n"
     ]
    }
   ],
   "source": [
    "#TWO Variable Regression for LIMITED GA CSO reductions for each run vs greened acres BY LID for each run\n",
    "# LIMIT runs to those with GA less than an upper limit to avoid upper nonlinear range\n",
    "\n",
    "import numpy as np\n",
    "import statsmodels.api as sm\n",
    "\n",
    "def reg_m(y, x):\n",
    "    ones = np.ones(len(x[0]))\n",
    "    X = sm.add_constant(np.column_stack((x[0], ones)))\n",
    "    for ele in x[1:]:\n",
    "        X = sm.add_constant(np.column_stack((ele, X)))\n",
    "    statistics = sm.OLS(y, X).fit()\n",
    "    return statistics\n",
    "\n",
    "limitedLidOneGreenedAcres = []\n",
    "limitedLidTwoGreenedAcres = []\n",
    "limitedCsoReduction = []\n",
    "for run in range(0,numberOfRuns):\n",
    "    if greenedAcres[run] <= 2000.0:\n",
    "        #limitedGreenedAcres.append(greenedAcres[run])\n",
    "        limitedCsoReduction.append(csoReduction[run])\n",
    "        limitedLidOneGreenedAcres.append(lidGreenedAcres[0][run])\n",
    "        limitedLidTwoGreenedAcres.append(lidGreenedAcres[1][run])\n",
    "#print limitedLidOneGreenedAcres\n",
    "limitedLidGreenedAcres = [limitedLidOneGreenedAcres,limitedLidTwoGreenedAcres]\n",
    "\n",
    "csoReductionVsLIDGreenedAcresStats = reg_m(limitedCsoReduction,limitedLidGreenedAcres)\n",
    "print \"Exact r-squared:\"\n",
    "print csoReductionVsLIDGreenedAcresStats.rsquared\n",
    "print csoReductionVsLIDGreenedAcresStats.summary()\n",
    "print csoReductionVsLIDGreenedAcresStats.params\n"
   ]
  },
  {
   "cell_type": "code",
   "execution_count": 61,
   "metadata": {
    "collapsed": false
   },
   "outputs": [
    {
     "data": {
      "text/plain": [
       "<matplotlib.text.Text at 0x144634e90>"
      ]
     },
     "execution_count": 61,
     "metadata": {},
     "output_type": "execute_result"
    },
    {
     "data": {
      "image/png": "[encoded data removed]",
      "text/plain": [
       "<matplotlib.figure.Figure at 0x144a4bf10>"
      ]
     },
     "metadata": {},
     "output_type": "display_data"
    }
   ],
   "source": [
    "# Generate Residuals Plot for LIMITED GA CSO reductions for each run vs greened acres BY LID for each run\n",
    "# LIMIT runs to those with GA less than an upper limit to avoid upper nonlinear range\n",
    "\n",
    "%matplotlib inline\n",
    "import matplotlib.pyplot as plt\n",
    "import numpy as np\n",
    "\n",
    "#print limitedGreenedAcres\n",
    "#xVals = limitedGreenedAcres\n",
    "betaZero = csoReductionVsLIDGreenedAcresStats.params[2]\n",
    "betaOne = csoReductionVsLIDGreenedAcresStats.params[0]\n",
    "betaTwo = csoReductionVsLIDGreenedAcresStats.params[1]\n",
    "yPredicted = []\n",
    "residuals = []\n",
    "for i in range(0,len(limitedCsoReduction)):\n",
    "    yVal = betaZero + betaOne*limitedLidOneGreenedAcres[i] + betaTwo*limitedLidTwoGreenedAcres[i]\n",
    "    resid = limitedCsoReduction[i] - yVal\n",
    "    yPredicted.append(yVal)  # Gallons\n",
    "    residuals.append(resid)  # Gallons\n",
    "#print yPredicted\n",
    "yPredictedMGal = [x/1e6 for x in yPredicted]\n",
    "stdDevResiduals = np.std(residuals, ddof=1) #ddof=1 for SAMPLE std. dev.\n",
    "stdDevResidualsMGal = stdDevResiduals/1e6\n",
    "standardizedResiduals = [x / stdDevResiduals for x in residuals]\n",
    "#print standardizedResiduals\n",
    "#print yPredictedMGal\n",
    "(fig, ax1) = plt.subplots()\n",
    "plt.title(\"CSO Reduction Residuals vs 2 Variable Predicted CSO Reduction\")\n",
    "ax1.plot(yPredictedMGal,standardizedResiduals,'ko',color = 'b',markersize = 1)\n",
    "ax1.set_xlabel(\"Predicted CSO Reduction (MGal)\",fontsize=12)\n",
    "#ax1.set_ylabel(\"Residual (MGal)\",fontsize=12)\n",
    "ax1.set_ylabel(\"Standardized Residual\",fontsize=12)\n",
    "stdDevText = \"Std. Dev. Residuals = %0.2f MGal\" % stdDevResidualsMGal\n",
    "ax1.text(2,-3,stdDevText)"
   ]
  },
  {
   "cell_type": "code",
   "execution_count": 7,
   "metadata": {
    "collapsed": false
   },
   "outputs": [
    {
     "name": "stdout",
     "output_type": "stream",
     "text": [
      "Exact r-squared:\n",
      "0.968626787852\n",
      "                            OLS Regression Results                            \n",
      "==============================================================================\n",
      "Dep. Variable:                      y   R-squared:                       0.969\n",
      "Model:                            OLS   Adj. R-squared:                  0.968\n",
      "Method:                 Least Squares   F-statistic:                     870.1\n",
      "Date:                Sun, 08 Jan 2017   Prob (F-statistic):               0.00\n",
      "Time:                        16:30:08   Log-Likelihood:                -11905.\n",
      "No. Observations:                 643   AIC:                         2.386e+04\n",
      "Df Residuals:                     620   BIC:                         2.396e+04\n",
      "Df Model:                          22                                         \n",
      "Covariance Type:            nonrobust                                         \n",
      "==============================================================================\n",
      "                 coef    std err          t      P>|t|      [95.0% Conf. Int.]\n",
      "------------------------------------------------------------------------------\n",
      "x1          6.346e+05   8.47e+04      7.490      0.000      4.68e+05  8.01e+05\n",
      "x2          6.251e+05    6.3e+04      9.929      0.000      5.01e+05  7.49e+05\n",
      "x3          5.043e+05    6.6e+04      7.639      0.000      3.75e+05  6.34e+05\n",
      "x4          5.085e+05   6.47e+04      7.855      0.000      3.81e+05  6.36e+05\n",
      "x5          9.318e+05   2.21e+05      4.216      0.000      4.98e+05  1.37e+06\n",
      "x6          6.079e+05   1.09e+05      5.582      0.000      3.94e+05  8.22e+05\n",
      "x7           1.39e+06   1.72e+05      8.097      0.000      1.05e+06  1.73e+06\n",
      "x8          6.111e+05      8e+04      7.641      0.000      4.54e+05  7.68e+05\n",
      "x9          3.744e+05   3.18e+04     11.775      0.000      3.12e+05  4.37e+05\n",
      "x10         4.514e+05    3.5e+04     12.880      0.000      3.83e+05   5.2e+05\n",
      "x11         6.368e+05    8.6e+04      7.404      0.000      4.68e+05  8.06e+05\n",
      "x12          6.56e+05   9.54e+04      6.876      0.000      4.69e+05  8.43e+05\n",
      "x13          6.15e+05   7.69e+04      7.993      0.000      4.64e+05  7.66e+05\n",
      "x14         6.769e+05   8.31e+04      8.149      0.000      5.14e+05   8.4e+05\n",
      "x15          7.66e+05   7.37e+04     10.400      0.000      6.21e+05  9.11e+05\n",
      "x16         1.655e+06   2.63e+05      6.296      0.000      1.14e+06  2.17e+06\n",
      "x17         8.005e+05   1.36e+05      5.893      0.000      5.34e+05  1.07e+06\n",
      "x18         1.429e+06   2.19e+05      6.529      0.000      9.99e+05  1.86e+06\n",
      "x19         6.606e+05   1.11e+05      5.975      0.000      4.43e+05  8.78e+05\n",
      "x20         4.122e+05    3.8e+04     10.856      0.000      3.38e+05  4.87e+05\n",
      "x21         4.735e+05   4.13e+04     11.477      0.000      3.92e+05  5.54e+05\n",
      "x22         1.006e+06   1.14e+05      8.793      0.000      7.81e+05  1.23e+06\n",
      "const       3.117e+07   2.18e+06     14.326      0.000      2.69e+07  3.54e+07\n",
      "==============================================================================\n",
      "Omnibus:                       40.957   Durbin-Watson:                   1.931\n",
      "Prob(Omnibus):                  0.000   Jarque-Bera (JB):               48.480\n",
      "Skew:                           0.599   Prob(JB):                     2.97e-11\n",
      "Kurtosis:                       3.611   Cond. No.                         240.\n",
      "==============================================================================\n",
      "\n",
      "Warnings:\n",
      "[1] Standard Errors assume that the covariance matrix of the errors is correctly specified.\n",
      "[   634630.23979469    625077.15815066    504347.71057903\n",
      "    508474.77911466    931829.48100485    607921.91467203   1390129.8719097\n",
      "    611141.34062164    374396.33327073    451422.46589598\n",
      "    636844.13296108    655976.53529987    615036.3969602     676889.9568342\n",
      "    765974.81790395   1655059.6798877     800533.1025736    1429423.88394766\n",
      "    660596.15850634    412220.56913203    473475.38355172\n",
      "   1005810.99068429  31167771.52590546]\n"
     ]
    }
   ],
   "source": [
    "# Multivariable Regression for LIMITED GA runs for Annual CSO Volumes vs FILTERED subcatchments\n",
    "# LIMIT runs to those with GA less than an upper limit to avoid upper nonlinear range\n",
    "import numpy as np\n",
    "import statsmodels.api as sm\n",
    "\n",
    "def reg_m(y, x):\n",
    "    ones = np.ones(len(x[0]))\n",
    "    X = sm.add_constant(np.column_stack((x[0], ones)))\n",
    "    for ele in x[1:]:\n",
    "        X = sm.add_constant(np.column_stack((ele, X)))\n",
    "    statistics = sm.OLS(y, X).fit()\n",
    "    return statistics\n",
    "\n",
    "numberOfSubcatchmentsFiltered = 11\n",
    "gaPerLid = [0.1,0.936]\n",
    "greenedAcresFilteredTranspose = []\n",
    "csoReductionFiltered = []\n",
    "runoffVolumeReductionFiltered = []   # for runoff volume regression in later block\n",
    "#chunks = [data[x:x+100] for x in xrange(0, len(data), 100)]\n",
    "for run in range(0,numberOfRuns):\n",
    "    if greenedAcres[run] <= 2000.0:\n",
    "        csoReductionFiltered.append(csoReduction[run])\n",
    "        runoffVolumeReductionFiltered.append(volReduction[run])\n",
    "        lidList = lidTransposed[run]\n",
    "        lidChunks = [lidList[x:x+numSubcatch] for x in range(0,len(lidList),numSubcatch)]\n",
    "        #print len(lidChunks[0])\n",
    "        filteredSubcatsVariables = []\n",
    "        for lid in range(0,numLID):\n",
    "            filteredSubcats = lidChunks[lid][0:numberOfSubcatchmentsFiltered]\n",
    "            filteredSubcatsGreenedAcres = [gaPerLid[lid]*filteredSubcats[i] for i in range(0,len(filteredSubcats))]\n",
    "            #print sevenSubcatsGreenedAcres\n",
    "            filteredSubcatsVariables += filteredSubcatsGreenedAcres\n",
    "        greenedAcresFilteredTranspose.append(filteredSubcatsVariables)\n",
    "        #print sevenSubcatsVariables\n",
    "        #[list(i) for i in zip(*theArray)]\n",
    "greenedAcresFiltered = [list(i) for i in zip(*greenedAcresFilteredTranspose)]\n",
    "#print greenedAcres\n",
    "#print csoReductionFiltered\n",
    "\n",
    "csoReductionStats = reg_m(csoReductionFiltered,greenedAcresFiltered)\n",
    "print \"Exact r-squared:\"\n",
    "print csoReductionStats.rsquared\n",
    "print csoReductionStats.summary()\n",
    "print csoReductionStats.params\n",
    "#print reducedLIDNumbers\n",
    "#print reducedGreenedAcres\n",
    "      "
   ]
  },
  {
   "cell_type": "code",
   "execution_count": 8,
   "metadata": {
    "collapsed": false
   },
   "outputs": [
    {
     "data": {
      "text/plain": [
       "<matplotlib.text.Text at 0x1417e4ed0>"
      ]
     },
     "execution_count": 8,
     "metadata": {},
     "output_type": "execute_result"
    },
    {
     "data": {
      "image/png": "[encoded data removed]",
      "text/plain": [
       "<matplotlib.figure.Figure at 0x141725410>"
      ]
     },
     "metadata": {},
     "output_type": "display_data"
    }
   ],
   "source": [
    "# Generate Residuals Plot for for LIMITED GA runs for Annual CSO Volumes vs FILTERED subcatchments\n",
    "# LIMIT runs to those with GA less than an upper limit to avoid upper nonlinear range\n",
    "\n",
    "%matplotlib inline\n",
    "import matplotlib.pyplot as plt\n",
    "import numpy as np\n",
    "# First, transpose results['numLists']:\n",
    "xVals = greenedAcresFilteredTranspose\n",
    "#print list(xVals[1])\n",
    "numFilteredVariables = len(greenedAcresFiltered)\n",
    "betaZero = csoReductionStats.params[numFilteredVariables]\n",
    "yPredicted = []\n",
    "for x in xVals:\n",
    "    i = 0\n",
    "    yval = betaZero\n",
    "    for beta in csoReductionStats.params:\n",
    "        yval += beta*x[i]\n",
    "        i += 1\n",
    "        if i == numFilteredVariables:\n",
    "            break\n",
    "    yPredicted.append(yval/1e6)  # convert to 10^6 Gal\n",
    "residuals = []\n",
    "csoReductionFilteredMgal = [x / 1e6 for x in csoReductionFiltered]\n",
    "i = 0\n",
    "for ySWMM in csoReductionFilteredMgal:\n",
    "    #print ySWMM\n",
    "    resid = ySWMM - yPredicted[i]  # Residual in 10^6 Gal\n",
    "    residuals.append(resid)\n",
    "    i+=1\n",
    "stdDevResiduals = np.std(residuals, ddof=1) #ddof=1 for SAMPLE std. dev.\n",
    "standardizedResiduals = [x / stdDevResiduals for x in residuals]\n",
    "(fig, ax1) = plt.subplots()\n",
    "plt.title(\"CSO Reduction Residuals vs Predicted CSO Reduction\")\n",
    "ax1.plot(yPredicted,standardizedResiduals,'ko',color = 'b',markersize = 1)\n",
    "ax1.set_xlabel(\"Predicted CSO Reduction (MGal)\",fontsize=12)\n",
    "#ax1.set_ylabel(\"Residual (MGal)\",fontsize=12)\n",
    "ax1.set_ylabel(\"Standardized Residual\",fontsize=12)\n",
    "stdDevText = \"Std. Dev. Residuals = %0.2f MGal\" % stdDevResiduals\n",
    "ax1.text(2,-4,stdDevText)\n"
   ]
  },
  {
   "cell_type": "code",
   "execution_count": 9,
   "metadata": {
    "collapsed": false
   },
   "outputs": [
    {
     "name": "stdout",
     "output_type": "stream",
     "text": [
      "22\n",
      "643\n",
      "Exact r-squared:\n",
      "0.974219217562\n",
      "                            OLS Regression Results                            \n",
      "==============================================================================\n",
      "Dep. Variable:                      y   R-squared:                       0.974\n",
      "Model:                            OLS   Adj. R-squared:                  0.973\n",
      "Method:                 Least Squares   F-statistic:                     1065.\n",
      "Date:                Sun, 08 Jan 2017   Prob (F-statistic):               0.00\n",
      "Time:                        16:30:08   Log-Likelihood:                -12214.\n",
      "No. Observations:                 643   AIC:                         2.447e+04\n",
      "Df Residuals:                     620   BIC:                         2.458e+04\n",
      "Df Model:                          22                                         \n",
      "Covariance Type:            nonrobust                                         \n",
      "==============================================================================\n",
      "                 coef    std err          t      P>|t|      [95.0% Conf. Int.]\n",
      "------------------------------------------------------------------------------\n",
      "x1          9.674e+05   1.37e+05      7.061      0.000      6.98e+05  1.24e+06\n",
      "x2           1.14e+06   1.02e+05     11.202      0.000       9.4e+05  1.34e+06\n",
      "x3          8.448e+05   1.07e+05      7.914      0.000      6.35e+05  1.05e+06\n",
      "x4           8.54e+05   1.05e+05      8.159      0.000      6.48e+05  1.06e+06\n",
      "x5          1.698e+06   3.57e+05      4.750      0.000      9.96e+05   2.4e+06\n",
      "x6          1.021e+06   1.76e+05      5.800      0.000      6.75e+05  1.37e+06\n",
      "x7          2.166e+06   2.78e+05      7.804      0.000      1.62e+06  2.71e+06\n",
      "x8          1.082e+06   1.29e+05      8.370      0.000      8.28e+05  1.34e+06\n",
      "x9          7.493e+05   5.14e+04     14.576      0.000      6.48e+05   8.5e+05\n",
      "x10         8.147e+05   5.67e+04     14.376      0.000      7.03e+05  9.26e+05\n",
      "x11         1.046e+06   1.39e+05      7.519      0.000      7.73e+05  1.32e+06\n",
      "x12          1.12e+06   1.54e+05      7.261      0.000      8.17e+05  1.42e+06\n",
      "x13         1.049e+06   1.24e+05      8.431      0.000      8.05e+05  1.29e+06\n",
      "x14         1.316e+06   1.34e+05      9.799      0.000      1.05e+06  1.58e+06\n",
      "x15         1.272e+06   1.19e+05     10.680      0.000      1.04e+06  1.51e+06\n",
      "x16         3.077e+06   4.25e+05      7.240      0.000      2.24e+06  3.91e+06\n",
      "x17         1.437e+06    2.2e+05      6.541      0.000      1.01e+06  1.87e+06\n",
      "x18         2.529e+06   3.54e+05      7.144      0.000      1.83e+06  3.22e+06\n",
      "x19         1.231e+06   1.79e+05      6.886      0.000       8.8e+05  1.58e+06\n",
      "x20         7.806e+05   6.14e+04     12.714      0.000       6.6e+05  9.01e+05\n",
      "x21         8.872e+05   6.67e+04     13.302      0.000      7.56e+05  1.02e+06\n",
      "x22         1.966e+06   1.85e+05     10.628      0.000       1.6e+06  2.33e+06\n",
      "const       3.188e+07   3.52e+06      9.062      0.000       2.5e+07  3.88e+07\n",
      "==============================================================================\n",
      "Omnibus:                       16.048   Durbin-Watson:                   1.902\n",
      "Prob(Omnibus):                  0.000   Jarque-Bera (JB):               27.564\n",
      "Skew:                           0.154   Prob(JB):                     1.03e-06\n",
      "Kurtosis:                       3.967   Cond. No.                         240.\n",
      "==============================================================================\n",
      "\n",
      "Warnings:\n",
      "[1] Standard Errors assume that the covariance matrix of the errors is correctly specified.\n",
      "[   967422.00666513   1140163.31716088    844794.88097038\n",
      "    853960.51333924   1697501.39867869   1021282.33960402\n",
      "   2166327.28155627   1082320.33702027    749310.47256905\n",
      "    814662.32502891   1045643.37759317   1119905.91510458\n",
      "   1048832.08498355   1315966.2343465    1271800.05996101\n",
      "   3077119.61225854   1436601.7269058    2528749.16713543\n",
      "   1230970.99559591    780572.1610262     887236.74976861\n",
      "   1965543.69195391  31877644.592653  ]\n"
     ]
    }
   ],
   "source": [
    "# Multivariable Regression for Annual Runoff VOLUME Reductions vs Filtered PWD Wingohocking subcatchments\n",
    "import numpy as np\n",
    "import statsmodels.api as sm\n",
    "\n",
    "def reg_m(y, x):\n",
    "    ones = np.ones(len(x[0]))\n",
    "    X = sm.add_constant(np.column_stack((x[0], ones)))\n",
    "    for ele in x[1:]:\n",
    "        X = sm.add_constant(np.column_stack((ele, X)))\n",
    "    statistics = sm.OLS(y, X).fit()\n",
    "    return statistics\n",
    "\n",
    "print len(greenedAcresFiltered)\n",
    "print len(greenedAcresFiltered[0])\n",
    "#print runoffVolumeReductionFiltered\n",
    "\n",
    "runoffReductionStats = reg_m(runoffVolumeReductionFiltered,greenedAcresFiltered)\n",
    "print \"Exact r-squared:\"\n",
    "print runoffReductionStats.rsquared\n",
    "print runoffReductionStats.summary()\n",
    "print runoffReductionStats.params\n"
   ]
  },
  {
   "cell_type": "code",
   "execution_count": 10,
   "metadata": {
    "collapsed": false
   },
   "outputs": [
    {
     "data": {
      "text/plain": [
       "<matplotlib.text.Text at 0x142119d50>"
      ]
     },
     "execution_count": 10,
     "metadata": {},
     "output_type": "execute_result"
    },
    {
     "data": {
      "image/png": "[encoded data removed]",
      "text/plain": [
       "<matplotlib.figure.Figure at 0x1417f2d50>"
      ]
     },
     "metadata": {},
     "output_type": "display_data"
    }
   ],
   "source": [
    "# Generate Residuals Plot for FILTERED Annual RUNOFF Volumes vs reduced number of subcatchments\n",
    "%matplotlib inline\n",
    "import matplotlib.pyplot as plt\n",
    "import numpy as np\n",
    "# First, transpose results['numLists']:\n",
    "xVals = greenedAcresFilteredTranspose\n",
    "#print list(xVals[1])\n",
    "numFilteredVariables = len(greenedAcresFiltered)\n",
    "betaZero = runoffReductionStats.params[numFilteredVariables]\n",
    "yPredicted = []\n",
    "for x in xVals:\n",
    "    i = 0\n",
    "    yval = betaZero\n",
    "    for beta in runoffReductionStats.params:\n",
    "        yval += beta*x[i]\n",
    "        i += 1\n",
    "        if i == numFilteredVariables:\n",
    "            break\n",
    "    yPredicted.append(yval/1e6)  # convert to 10^6 Gal\n",
    "residuals = []\n",
    "runoffVolumeReductionFilteredMgal = [x / 1e6 for x in runoffVolumeReductionFiltered]\n",
    "i = 0\n",
    "for ySWMM in runoffVolumeReductionFilteredMgal:\n",
    "    #print ySWMM\n",
    "    resid = ySWMM - yPredicted[i]  # Residual in 10^6 Gal\n",
    "    residuals.append(resid)\n",
    "    i+=1\n",
    "stdDevResiduals = np.std(residuals, ddof=1) #ddof=1 for SAMPLE std. dev.\n",
    "standardizedResiduals = [x / stdDevResiduals for x in residuals]\n",
    "(fig, ax1) = plt.subplots()\n",
    "ax1.plot(yPredicted,standardizedResiduals,'ko',color = 'b',markersize = 1)\n",
    "plt.title(\"Runoff Reduction Residuals vs Predicted Runoff Reduction\")\n",
    "ax1.set_xlabel(\"Predicted Runoff Reduction (MGal)\",fontsize=12)\n",
    "#ax1.set_ylabel(\"Residual (MGal)\",fontsize=12)\n",
    "ax1.set_ylabel(\"Standardized Residual\",fontsize=12)\n",
    "stdDevText = \"Std. Dev. Residuals = %0.2f MGal\" % stdDevResiduals\n",
    "ax1.text(2,-4,stdDevText)"
   ]
  },
  {
   "cell_type": "code",
   "execution_count": 11,
   "metadata": {
    "collapsed": false
   },
   "outputs": [
    {
     "name": "stdout",
     "output_type": "stream",
     "text": [
      "Exact r-squared:\n",
      "0.3680978302\n",
      "                            OLS Regression Results                            \n",
      "==============================================================================\n",
      "Dep. Variable:                      y   R-squared:                       0.368\n",
      "Model:                            OLS   Adj. R-squared:                  0.337\n",
      "Method:                 Least Squares   F-statistic:                     11.65\n",
      "Date:                Sun, 08 Jan 2017   Prob (F-statistic):            0.00276\n",
      "Time:                        16:30:10   Log-Likelihood:                -305.98\n",
      "No. Observations:                  22   AIC:                             616.0\n",
      "Df Residuals:                      20   BIC:                             618.1\n",
      "Df Model:                           1                                         \n",
      "Covariance Type:            nonrobust                                         \n",
      "==============================================================================\n",
      "                 coef    std err          t      P>|t|      [95.0% Conf. Int.]\n",
      "------------------------------------------------------------------------------\n",
      "x1         -3.017e+04   8837.678     -3.413      0.003     -4.86e+04 -1.17e+04\n",
      "const       2.497e+06   5.16e+05      4.837      0.000      1.42e+06  3.57e+06\n",
      "==============================================================================\n",
      "Omnibus:                        6.582   Durbin-Watson:                   2.044\n",
      "Prob(Omnibus):                  0.037   Jarque-Bera (JB):                4.438\n",
      "Skew:                           1.039   Prob(JB):                        0.109\n",
      "Kurtosis:                       3.722   Cond. No.                         508.\n",
      "==============================================================================\n",
      "\n",
      "Warnings:\n",
      "[1] Standard Errors assume that the covariance matrix of the errors is correctly specified.\n",
      "[  -30165.4552433   2496556.64649717]\n"
     ]
    }
   ],
   "source": [
    "# Multivariable regression for statmodel cso reduction parameters versus subcatchment properties\n",
    "import yaml\n",
    "from swmm_objects import *\n",
    "from swmm_read_cso_time_series import *\n",
    "\n",
    "def reg_m(y, x):\n",
    "    ones = np.ones(len(x[0]))\n",
    "    X = sm.add_constant(np.column_stack((x[0], ones)))\n",
    "    for ele in x[1:]:\n",
    "        X = sm.add_constant(np.column_stack((ele, X)))\n",
    "    statistics = sm.OLS(y, X).fit()\n",
    "    return statistics\n",
    "\n",
    "swmmInpFile = \"wingohocking_PWD.inp\"  # initial SWMM .inp file\n",
    "lidListFile = \"PWD_wingo_Rain_Barrel_and_Morris_LID_List.yaml\"\n",
    "infile = open(swmmInpFile,'r')\n",
    "swmmInpStr = infile.readlines()\n",
    "infile.close()\n",
    "(section_names,sections) = read_inp(swmmInpStr)\n",
    "model = swmm_model(\"Model\",section_names,sections)\n",
    "f = open(lidListFile,'r')   # Read the LID parameters used to calculate [LID_USAGE]\n",
    "lidUsageList = yaml.load(f)  # list of dicts, one for each line in [LID_USAGE]\n",
    "f.close()\n",
    "lidUsageChunks = [lidUsageList[x:x+numSubcatch] for x in range(0,len(lidUsageList),numSubcatch)]\n",
    "#print lidUsageChunks[1]\n",
    "\n",
    "# These lists will hold LID and subcatchment parameters for the filtered subcatchments only\n",
    "lidGreenedAcres = []\n",
    "lidContribImpervArea = []\n",
    "subcatArea = []\n",
    "subcatPctImperv = []\n",
    "subcatImpervArea = []\n",
    "subcatWidth = []\n",
    "subcatSlope = []\n",
    "\n",
    "for lid in range(0,numLID):\n",
    "    listItem = 1\n",
    "    for lidUsage in lidUsageChunks[lid]:\n",
    "        if listItem <= numberOfSubcatchmentsFiltered:   # limit the lists to filtered subcatchments\n",
    "            subcatName = lidUsage['Subcat']\n",
    "            lidGreenedAcres.append(lidUsage['GreenedAcres'])\n",
    "            lidContribImpervArea.append(lidUsage['ContribImpervArea'])\n",
    "            thisSubcatArea = model.getSubcatchmentArea(subcatName)\n",
    "            subcatArea.append(thisSubcatArea)\n",
    "            thisSubcatPctImperv = model.getSubcatchmentPctImperv(subcatName)\n",
    "            subcatPctImperv.append(thisSubcatPctImperv)\n",
    "            thisSubcatImpervArea = (thisSubcatPctImperv/100.0)*thisSubcatArea\n",
    "            subcatImpervArea.append(thisSubcatImpervArea)\n",
    "            subcatWidth.append(model.getSubcatchmentWidth(subcatName))\n",
    "            subcatSlope.append(model.getSubcatchmentSlope(subcatName))\n",
    "            listItem += 1\n",
    "        else:\n",
    "            break   # ignore subcatchments indexed above the filtered group\n",
    "\n",
    "#paramIndVars = [lidGreenedAcres,lidContribImpervArea,subcatArea]  # choose which independent vars to use\n",
    "#paramIndVars = [subcatArea,subcatPctImperv,subcatWidth,subcatSlope]\n",
    "#paramIndVars = [subcatArea]\n",
    "paramIndVars = [subcatPctImperv]\n",
    "#paramIndVars = [lidGreenedAcres,]\n",
    "#paramIndVars = [lidContribImpervArea,subcatArea]\n",
    "#paramIndVars = [subcatImpervArea]\n",
    "#paramIndVars = [subcatSlope]\n",
    "numberOfParamIndVars = len(paramIndVars)\n",
    "numberOfParamDependentVarValues = len(csoReductionStats.params)-1  # only lid/subcat slopes without the intercept\n",
    "paramDepVarValues = csoReductionStats.params[0:numberOfParamDependentVarValues]\n",
    "#print numberOfParamDependentVarValues\n",
    "#print len(paramIndVars)\n",
    "#print len(paramIndVars[0])\n",
    "#print len(paramDepVarValues)\n",
    "\n",
    "paramStats = reg_m(paramDepVarValues,paramIndVars)\n",
    "print \"Exact r-squared:\"\n",
    "print paramStats.rsquared\n",
    "print paramStats.summary()\n",
    "print paramStats.params\n"
   ]
  },
  {
   "cell_type": "code",
   "execution_count": 12,
   "metadata": {
    "collapsed": false
   },
   "outputs": [
    {
     "name": "stdout",
     "output_type": "stream",
     "text": [
      "[0.63463023979469058, 0.62507715815066256, 0.50434771057902528, 0.50847477911466188, 0.93182948100484586, 0.60792191467202839, 1.3901298719097048, 0.61114134062163994, 0.37439633327072908, 0.45142246589597951, 0.63684413296107512, 0.65597653529987088, 0.61503639696019696, 0.67688995683419551, 0.76597481790395328, 1.6550596798876973, 0.80053310257360111, 1.4294238839476625, 0.66059615850634279, 0.41222056913203153, 0.47347538355172197, 1.005810990684286]\n",
      "[0.9868661079356319, 0.71127450883282395, 0.51001059144951244, 0.7561908716901008, 0.91223677166370232, 0.79971962360618565, 0.9993244409511155, 0.85326330666304684, 0.57586178024564105, 0.30159746117353858, 0.80726098741701124, 0.9868661079356319, 0.71127450883282395, 0.51001059144951244, 0.7561908716901008, 0.91223677166370232, 0.79971962360618565, 0.9993244409511155, 0.85326330666304684, 0.57586178024564105, 0.30159746117353858, 0.80726098741701124]\n"
     ]
    },
    {
     "data": {
      "text/plain": [
       "<matplotlib.text.Text at 0x14279ce50>"
      ]
     },
     "execution_count": 12,
     "metadata": {},
     "output_type": "execute_result"
    },
    {
     "data": {
      "image/png": "[encoded data removed]",
      "text/plain": [
       "<matplotlib.figure.Figure at 0x14260da90>"
      ]
     },
     "metadata": {},
     "output_type": "display_data"
    }
   ],
   "source": [
    "# Generate Residuals Plot for Regression Parameters vs LID and Subcatchment Properties\n",
    "%matplotlib inline\n",
    "import matplotlib.pyplot as plt\n",
    "import numpy as np\n",
    "# First, transpose results['numLists']:\n",
    "xVals = list(zip(*paramIndVars))\n",
    "#print xVals\n",
    "#print list(xVals[0])\n",
    "indexOfBetaZero = len(paramStats.params)-1\n",
    "#print indexOfBetaZero\n",
    "betaZero = paramStats.params[indexOfBetaZero]\n",
    "#print betaZero\n",
    "yPredicted = []\n",
    "\n",
    "for x in xVals:\n",
    "    i=0\n",
    "    yval = betaZero\n",
    "    for beta in paramStats.params:\n",
    "        yval += beta*x[i]\n",
    "        i+=1\n",
    "        if i == indexOfBetaZero:\n",
    "            break\n",
    "    yPredicted.append(yval)  \n",
    "\n",
    "\n",
    "paramDepVarValuesMGal = [x/1e6 for x in paramDepVarValues]\n",
    "yPredictedMGal = [x/1e6 for x in yPredicted]\n",
    "print paramDepVarValuesMGal\n",
    "print yPredictedMGal\n",
    "\n",
    "residuals = []\n",
    "\n",
    "i = 0\n",
    "for yActual in paramDepVarValues:\n",
    "    resid = yActual - yPredicted[i]  # Residual in 10^6 Gal\n",
    "    residuals.append(resid)\n",
    "    i+=1\n",
    "stdDevResiduals = np.std(residuals, ddof=1) #ddof=1 for SAMPLE std. dev.\n",
    "standardizedResiduals = [x / stdDevResiduals for x in residuals]\n",
    "(fig, ax1) = plt.subplots()\n",
    "ax1.plot(yPredictedMGal,standardizedResiduals,'ko',color = 'b',markersize = 1)\n",
    "plt.title(\"Regression Model Parameters Residuals vs Predicted Model Slopes\")\n",
    "ax1.set_xlabel(\"Predicted Model Slopes (MGal/GA)\",fontsize=12)\n",
    "#ax1.set_ylabel(\"Residual (MGal)\",fontsize=12)\n",
    "ax1.set_ylabel(\"Standardized Residual\",fontsize=12)\n",
    "stdDevText = \"Std. Dev. Residuals = %0.2f MGal/GA\" % (stdDevResiduals/1e6)  # convert to MGal\n",
    "ax1.text(0.41,-1,stdDevText)\n"
   ]
  },
  {
   "cell_type": "code",
   "execution_count": null,
   "metadata": {
    "collapsed": true
   },
   "outputs": [],
   "source": []
  }
 ],
 "metadata": {
  "anaconda-cloud": {},
  "kernelspec": {
   "display_name": "Python [default]",
   "language": "python",
   "name": "python2"
  },
  "language_info": {
   "codemirror_mode": {
    "name": "ipython",
    "version": 2
   },
   "file_extension": ".py",
   "mimetype": "text/x-python",
   "name": "python",
   "nbconvert_exporter": "python",
   "pygments_lexer": "ipython2",
   "version": "2.7.12"
  }
 },
 "nbformat": 4,
 "nbformat_minor": 0
}
