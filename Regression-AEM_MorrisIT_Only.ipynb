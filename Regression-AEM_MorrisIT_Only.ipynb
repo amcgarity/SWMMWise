{
 "cells": [
  {
   "cell_type": "markdown",
   "metadata": {},
   "source": [
    "# Single Variable Regression WINGOHOCKING MORRIS IT ONLY"
   ]
  },
  {
   "cell_type": "markdown",
   "metadata": {},
   "source": [
    "# Show the collections that have been generated"
   ]
  },
  {
   "cell_type": "code",
   "execution_count": 10,
   "metadata": {
    "collapsed": false
   },
   "outputs": [
    {
     "data": {
      "text/plain": [
       "[u'2008',\n",
       " u'2008trial1',\n",
       " u'2008trial3',\n",
       " u'2008trial4',\n",
       " u'2008trial6',\n",
       " u'first_wingo_test',\n",
       " u'fourth_wingo_test',\n",
       " u'impervFixed',\n",
       " u'impervNotFixed',\n",
       " u'july',\n",
       " u'july10',\n",
       " u'july12',\n",
       " u'july13',\n",
       " u'july14',\n",
       " u'july15',\n",
       " u'july16',\n",
       " u'july17',\n",
       " u'july2',\n",
       " u'july21',\n",
       " u'july22',\n",
       " u'july23',\n",
       " u'july24',\n",
       " u'july3',\n",
       " u'july4',\n",
       " u'july5',\n",
       " u'july6',\n",
       " u'july7',\n",
       " u'july8',\n",
       " u'july9',\n",
       " u'largeTrialLinier',\n",
       " u'multivariate_250_2010',\n",
       " u'multivariate_random_250_2010',\n",
       " u'multivariate_random_250_2011',\n",
       " u'multivariate_random_250_2012',\n",
       " u'multivariate_random_250_2013',\n",
       " u'randomTrial1',\n",
       " u'randomTrial2',\n",
       " u'randomTrial4',\n",
       " u'randomTrial5',\n",
       " u'random_multivariate',\n",
       " u'random_multivariate2',\n",
       " u'random_multivariate2009',\n",
       " u'random_multivariate2009year',\n",
       " u'random_multivariate2010',\n",
       " u'random_multivariate2012year',\n",
       " u'random_multivariate250',\n",
       " u'random_multivariate250_2009',\n",
       " u'random_multivariate3',\n",
       " u'random_multivariate5',\n",
       " u'random_multivariate6',\n",
       " u'random_multivariate7',\n",
       " u'random_multivariate8',\n",
       " u'random_multivariate9',\n",
       " u'second_wingo_test',\n",
       " u'trialWith%Perv',\n",
       " u'trialWith%Perv2',\n",
       " u'y16m10d11_demonstrate_runswmm_on_aws-2',\n",
       " u'y16m12d19_AEM_Wakefield_and_Anna_1',\n",
       " u'y16m12d19_AEM_Wakefield_and_Anna_50_250',\n",
       " u'y16m12d19_AEM_tests',\n",
       " u'y16m12d20_AEM_Wingo_Zero_LID_Check',\n",
       " u'y16m12d21_AEM_test_recovery_failed_SWMM_run',\n",
       " u'y16m12d27_AEM_45_Subcat_Leeds_Tree_Trench_and_Rain_Barrel',\n",
       " u'y16m12d27_AEM_45_Subcat_Leeds_Tree_Trench_and_Rain_Barrel_1',\n",
       " u'y16m12d27_AEM_45_Subcat_Leeds_Tree_Trench_and_Rain_Barrel_3',\n",
       " u'y16m12d27_AEM_45_Subcat_Leeds_Tree_Trench_and_Rain_Barrel_4',\n",
       " u'y16m12d27_AEM_45_Subcat_Leeds_Tree_Trench_and_Rain_Barrel_5',\n",
       " u'y16m12d27_AEM_7_Subcat_Leeds_Tree_Trench_and_Rain_Barrel',\n",
       " u'y17m01d10_AEM_45_Subcat_Wakefield_Rain_Garden_1',\n",
       " u'y17m01d11_AEM_45_Subcat_RainBarrel_Only_1',\n",
       " u'y17m01d12_AEM_45_Subcat_MorrisIT_Only_1',\n",
       " u'y17m01d12_AEM_45_Subcat_RainBarrel_MorrisIT_WakefieldRG_1']"
      ]
     },
     "execution_count": 10,
     "metadata": {},
     "output_type": "execute_result"
    }
   ],
   "source": [
    "from pymongo import MongoClient\n",
    "from process_collection import *\n",
    "#  IMPORTANT:  Set these for each run:\n",
    "#################################################\n",
    "# mongoServer = None   # use the local mongodb server installed on your computer\n",
    "#mongoServer = 'mongodb://server.mcgarity.info:27017/'  # Art's personal server\n",
    "#mongoServer = 'mongodb://ubuntu:27017/'  # ubuntu Linux virtual machine on Art's Mac\n",
    "mongoServer = 'mongodb://aws-2.greenphilly.net:27017/'  # aws-2 server for GreenPhilly\n",
    "database = \"jcohen4\"\n",
    "username = \"jcohen4\"\n",
    "password = \"wingohocking\"\n",
    "authenticationDatabase = \"jcohen4\"\n",
    "\n",
    "client = MongoClient(mongoServer)\n",
    "################################################\n",
    "\n",
    "db = client[database]\n",
    "db.authenticate(username, password, source=authenticationDatabase)  # pass credentials to database\n",
    "collectionNames = sorted(db.collection_names())\n",
    "collectionNames"
   ]
  },
  {
   "cell_type": "code",
   "execution_count": null,
   "metadata": {
    "collapsed": false
   },
   "outputs": [
    {
     "name": "stdout",
     "output_type": "stream",
     "text": [
      "noLidPeak = 1948.45 cfs, noLidVolume = 1948.90 MGal\n",
      "noLid Runoff = 5987.73 acre-ft = 1951.11 MGal\n",
      "noLid csoVolumeMGal = 687.45 MGal\n"
     ]
    }
   ],
   "source": [
    "from get_cso import calculate_cso\n",
    "acft_to_mgal = 0.325851  # 1 acre-ft = 0.325851 MGal\n",
    "collectionName = 'y17m01d12_AEM_45_Subcat_MorrisIT_Only_1'\n",
    "runs = db[collectionName]\n",
    "cursor = runs.find()\n",
    "noLidRun = cursor[0]\n",
    "noLidVolume = noLidRun['volume']  # 10^6 Gal / yr\n",
    "noLidPeak = noLidRun['peak']   # cfs\n",
    "noLidRunoff = noLidRun['runoff']  # acre-ft/yr\n",
    "outflowSeries = noLidRun['outflow_series']\n",
    "ratio = 0.05\n",
    "csoResults = calculate_cso(outflowSeries,ratio)\n",
    "csoVolumeMGal = csoResults['cso_volume']/1e6\n",
    "print \"noLidPeak = %0.2f cfs, noLidVolume = %0.2f MGal\" % (noLidPeak,noLidVolume)\n",
    "print \"noLid Runoff = %0.2f acre-ft = %0.2f MGal\" % (noLidRunoff,noLidRunoff*acft_to_mgal)\n",
    "print \"noLid csoVolumeMGal = %0.2f MGal\" % csoVolumeMGal\n",
    "# NOTE: Volume is total flow volume at sewer outlet while Runoff is total runoff volume\n",
    "#       so they will likely be slightly different\n",
    "noLidRunParamsList = noLidRun['runParamList']\n",
    "#print noLidRunParamsList"
   ]
  },
  {
   "cell_type": "code",
   "execution_count": null,
   "metadata": {
    "collapsed": false
   },
   "outputs": [],
   "source": [
    "# Compute Annual CSO Flows from results stored on Mongo\n",
    "from get_cso import * \n",
    "from process_collection import * \n",
    "collectionName = 'y17m01d12_AEM_45_Subcat_MorrisIT_Only_1'\n",
    "ratio = 0.05\n",
    "numSubcatch = 45\n",
    "numLID = 1\n",
    "numVariables = numSubcatch*numLID\n",
    "results = volume_reduction_and_runoff_volume_vs_lid_number(collectionName, numVariables, db)\n",
    "volReduction = results[\"volReductionList\"]\n",
    "numberOfRuns = len(volReduction)\n",
    "volReductionMgal = [x / 1e6 for x in volReduction]\n",
    "numberOfRuns = len(volReductionMgal)\n",
    "#print volReduction\n",
    "# ALERT:  in cso_reduction, collectionName and numSubCatch is never used !!!\n",
    "csoResults = cso_reduction(collectionName, ratio, numSubcatch, results) \n",
    "csoReduction = csoResults[\"csoReduction\"]\n",
    "csoReductionMgal = [x / 1e6 for x in csoReduction]\n",
    "#print csoReductionMgal\n",
    "cso = csoResults[\"cso\"]\n",
    "#print cso\n",
    "totVol = csoResults[\"totalVol\"]\n",
    "print \"Number of Runs stored in Database = %d\" % numberOfRuns\n",
    "#print results['numLists'][0]"
   ]
  },
  {
   "cell_type": "code",
   "execution_count": null,
   "metadata": {
    "collapsed": false
   },
   "outputs": [],
   "source": [
    "# Compute total greened acres for each run and greened acres by LID for each run\n",
    "%matplotlib inline\n",
    "import matplotlib.pyplot as plt\n",
    "gaPerLid = [0.936]\n",
    "lidNumbers = results['numLists']\n",
    "greenedAcres = []\n",
    "lidGreenedAcres = {}\n",
    "for lid in range(0,numLID):\n",
    "    lidGreenedAcres[lid] = []\n",
    "lidTransposed = zip(*lidNumbers)\n",
    "for run in range(0,numberOfRuns):\n",
    "    variable = 0\n",
    "    lidList = lidTransposed[run]\n",
    "    gaTotalThisRun = 0.0\n",
    "    for lid in range(0,numLID):\n",
    "        gaTotalThisLID = 0.0\n",
    "        for subcat in range(0,numSubcatch):\n",
    "            numberLID = lidList[variable]\n",
    "            thisGreenedAcres = gaPerLid[lid]*numberLID\n",
    "            gaTotalThisRun += thisGreenedAcres\n",
    "            gaTotalThisLID += thisGreenedAcres\n",
    "            variable += 1\n",
    "        lidGreenedAcres[lid].append(gaTotalThisLID)\n",
    "    greenedAcres.append(gaTotalThisRun)\n",
    "#print greenedAcres\n",
    "#print lidGreenedAcres\n",
    "#print csoReduction\n",
    "#print [greenedAcres]"
   ]
  },
  {
   "cell_type": "code",
   "execution_count": null,
   "metadata": {
    "collapsed": false
   },
   "outputs": [],
   "source": [
    "#regress CSO reductions for each run vs total greened acres (combining LIDs) for each run\n",
    "import numpy as np\n",
    "import statsmodels.api as sm\n",
    "\n",
    "def reg_m(y, x):\n",
    "    ones = np.ones(len(x[0]))\n",
    "    X = sm.add_constant(np.column_stack((x[0], ones)))\n",
    "    for ele in x[1:]:\n",
    "        X = sm.add_constant(np.column_stack((ele, X)))\n",
    "    statistics = sm.OLS(y, X).fit()\n",
    "    return statistics\n",
    "\n",
    "def regress(yList,xList):   \n",
    "    # y = list containing dependent variable values \n",
    "    # x = list of lists: each list contains values for all independent variables for each data point\n",
    "    X = sm.add_constant(xList)\n",
    "    results = sm.OLS(yList,X).fit()\n",
    "    return results\n",
    "\n",
    "csoReductionVsTotalGreenedAcresStats = reg_m(csoReduction,[greenedAcres])\n",
    "print \"Exact r-squared:\"\n",
    "print csoReductionVsTotalGreenedAcresStats.rsquared\n",
    "print csoReductionVsTotalGreenedAcresStats.summary()\n",
    "print csoReductionVsTotalGreenedAcresStats.params\n"
   ]
  },
  {
   "cell_type": "code",
   "execution_count": null,
   "metadata": {
    "collapsed": false
   },
   "outputs": [],
   "source": [
    "(fig, ax1) = plt.subplots()\n",
    "plt.title(\"MorrisIT CSO Reduction vs Greened Acres\")\n",
    "ax1.plot(greenedAcres,csoReductionMgal,'ko',color = 'b',markersize = 1)\n",
    "ax1.set_xlabel(\"Greened Acres\",fontsize=12)\n",
    "ax1.set_ylabel(\"CSO Reduction (MGal/yr)\",fontsize=12)"
   ]
  },
  {
   "cell_type": "code",
   "execution_count": null,
   "metadata": {
    "collapsed": false
   },
   "outputs": [],
   "source": [
    "(fig, ax1) = plt.subplots()\n",
    "plt.title(\"Runoff Volume Reduction vs Greened Acres\")\n",
    "ax1.plot(greenedAcres,volReductionMgal,'ko',color = 'b',markersize = 1)\n",
    "ax1.set_xlabel(\"Greened Acres\",fontsize=12)\n",
    "ax1.set_ylabel(\"Runoff Volume Reduction (MGal/yr)\",fontsize=12)"
   ]
  },
  {
   "cell_type": "code",
   "execution_count": null,
   "metadata": {
    "collapsed": false
   },
   "outputs": [],
   "source": [
    "# SCATTER PLOT OF CSO ANNUAL VOLUME REDUCTION VS SEWER OUTFLOW ANNUAL VOLUME REDUCTION\n",
    "%matplotlib inline\n",
    "import matplotlib.pyplot as plt\n",
    "print \"Total number of SWMM runs = %d\" % len(volReductionMgal)\n",
    "#xRange = [50,70]\n",
    "#yRange = [25,45]\n",
    "(fig, ax1) = plt.subplots()\n",
    "ax1.plot(volReductionMgal,csoReductionMgal,'ko',color = 'b',markersize = 1)\n",
    "plt.title(\"CSO Reduction vs Runoff Volume Reduction\")\n",
    "ax1.set_xlabel(\"Volume Reduction (MGal)\",fontsize=12)\n",
    "ax1.set_ylabel(\"CSO Reduction (MGal)\",fontsize=12)\n",
    "#plt.xlim(xRange)\n",
    "#plt.ylim(yRange)"
   ]
  },
  {
   "cell_type": "code",
   "execution_count": null,
   "metadata": {
    "collapsed": false
   },
   "outputs": [],
   "source": [
    "#Single Variable Regression for LIMITED GA CSO reductions for each run vs total greened acres (combining LIDs) for each run\n",
    "# LIMIT runs to those with GA less than an upper limit to avoid upper nonlinear range\n",
    "\n",
    "import numpy as np\n",
    "import statsmodels.api as sm\n",
    "\n",
    "\n",
    "def regress(yList,xList):   \n",
    "    # y = list containing dependent variable values \n",
    "    # x = list of lists: each list contains values for all independent variables for each data point\n",
    "    X = sm.add_constant(xList)\n",
    "    results = sm.OLS(yList,X).fit()\n",
    "    return results\n",
    "\n",
    "upperGreenedAcreLimit = 1000.0  # Upper limit on greened acres for the regresions below\n",
    "limitedGreenedAcres = []\n",
    "limitedCsoReduction = []\n",
    "for run in range(0,numberOfRuns):\n",
    "    if greenedAcres[run] <= upperGreenedAcreLimit:\n",
    "        limitedGreenedAcres.append([greenedAcres[run]])\n",
    "        limitedCsoReduction.append(csoReduction[run])\n",
    "\n",
    "csoReductionVsTotalGreenedAcresStats = regress(limitedCsoReduction,limitedGreenedAcres)\n",
    "print \"Exact r-squared:\"\n",
    "print csoReductionVsTotalGreenedAcresStats.rsquared\n",
    "print csoReductionVsTotalGreenedAcresStats.summary()\n",
    "print csoReductionVsTotalGreenedAcresStats.params\n",
    "\n",
    "# Generate Residuals Plot for LIMITED GA CSO reductions for each run vs total greened acres (combining LIDs) for each run\n",
    "# LIMIT runs to those with GA less than an upper limit to avoid upper nonlinear range\n",
    "\n",
    "X = sm.add_constant(limitedGreenedAcres)\n",
    "yPredicted = np.dot(X,csoReductionVsTotalGreenedAcresStats.params)\n",
    "residuals = limitedCsoReduction - yPredicted\n",
    "stdDevResiduals = np.std(residuals, ddof=1) #ddof=1 for SAMPLE std. dev.\n",
    "standardizedResiduals = [x / stdDevResiduals for x in residuals]\n",
    "\n",
    "yPredictedMGal = [x/1e6 for x in yPredicted]\n",
    "stdDevResidualsMGal = stdDevResiduals/1e6\n",
    "\n",
    "(fig, ax1) = plt.subplots()\n",
    "plt.title(\"CSO Reduction Residuals vs 1 Variable Predicted CSO Reduction\")\n",
    "ax1.plot(yPredictedMGal,standardizedResiduals,'ko',color = 'b',markersize = 1)\n",
    "ax1.set_xlabel(\"Predicted CSO Reduction (MGal)\",fontsize=12)\n",
    "#ax1.set_ylabel(\"Residual (MGal)\",fontsize=12)\n",
    "ax1.set_ylabel(\"Standardized Residual\",fontsize=12)\n",
    "stdDevText = \"Std. Dev. Residuals = %0.2f MGal\" % stdDevResidualsMGal\n",
    "ax1.text(2,-3,stdDevText)"
   ]
  }
 ],
 "metadata": {
  "anaconda-cloud": {},
  "kernelspec": {
   "display_name": "Python [default]",
   "language": "python",
   "name": "python2"
  },
  "language_info": {
   "codemirror_mode": {
    "name": "ipython",
    "version": 2
   },
   "file_extension": ".py",
   "mimetype": "text/x-python",
   "name": "python",
   "nbconvert_exporter": "python",
   "pygments_lexer": "ipython2",
   "version": "2.7.12"
  }
 },
 "nbformat": 4,
 "nbformat_minor": 0
}
