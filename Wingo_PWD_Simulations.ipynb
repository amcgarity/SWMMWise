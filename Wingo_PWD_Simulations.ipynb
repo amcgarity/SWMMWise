{
 "cells": [
  {
   "cell_type": "markdown",
   "metadata": {
    "collapsed": true
   },
   "source": [
    "### Load imports and run the no LID case:"
   ]
  },
  {
   "cell_type": "code",
   "execution_count": null,
   "metadata": {
    "collapsed": false,
    "scrolled": true
   },
   "outputs": [],
   "source": [
    "# Run this block to run the SWMM model on the 6-subcatchment Wingohocking model BEFORE adding GSI\n",
    "%reset\n",
    "import yaml\n",
    "from swmm_objects import *\n",
    "from swmm_read_cso_time_series import *\n",
    "from swmm_run_cso import *\n",
    "from subprocess import call\n",
    "from pymongo import MongoClient\n",
    "from datetime import datetime\n",
    "import sys\n",
    "\n",
    "#  IMPORTANT:  Set these for each run:\n",
    "#################################################\n",
    "# mongoServer = None   # use the local mongodb server installed on your computer\n",
    "#mongoServer = 'mongodb://server.mcgarity.info:27017/'  # Art's personal server\n",
    "#mongoServer = 'mongodb://ubuntu:27017/'  # ubuntu Linux virtual machine on Art's Mac\n",
    "mongoServer = 'mongodb://aws-2.greenphilly.net:27017/'  # aws-2 server for GreenPhilly\n",
    "database = \"jcohen4\"\n",
    "username = \"jcohen4\"\n",
    "password = \"wingohocking\"\n",
    "authenticationDatabase = \"jcohen4\"\n",
    "collection = 'randomTrial5'\n",
    "client = MongoClient(mongoServer)\n",
    "swmmInpFile = \"wingohocking_PWD.inp\"  # initial SWMM .inp file\n",
    "lidZeroFile = \"PWD_wingo_Wakefield_list_zero.yaml\"\n",
    "################################################\n",
    "\n",
    "db = client[database]   # use or create the database\n",
    "db.authenticate(username, password, source=authenticationDatabase)  # pass credentials to database\n",
    "\n",
    "thisRunCollection = db[collection]    # use or create the collection\n",
    "infile = open(swmmInpFile,'r')\n",
    "swmmInpStr = infile.readlines()\n",
    "infile.close()\n",
    "f = open(lidZeroFile,'r')   # Read the no LID changable parameters from file\n",
    "zeroLidList = yaml.load(f)  # list of dicts, one for each line in [LID_USAGE]\n",
    "f.close()\n",
    "zeroLidDocId = runswmm(zeroLidList,swmmInpStr,thisRunCollection,0,[0,0,0,0,0,0,0])  # run SWMM on the no LID model for baseline\n",
    "cursor = thisRunCollection.find_one({'_id':zeroLidDocId})\n",
    "zeroLidPeak = cursor['peak']\n",
    "zeroLidVolume = cursor['volume']\n",
    "print \"Stored record %s for zero LID usage:  peak = %s, volume = %s\" % (zeroLidDocId,zeroLidPeak,zeroLidVolume)"
   ]
  },
  {
   "cell_type": "markdown",
   "metadata": {},
   "source": [
    "### Loop ALL subcatchment LID numbers over a range (using np.random):"
   ]
  },
  {
   "cell_type": "code",
   "execution_count": null,
   "metadata": {
    "collapsed": false,
    "scrolled": true
   },
   "outputs": [],
   "source": [
    "# Now, apply a range of Wakefield Park rain gardens in all seven subcatchments simultaneously\n",
    "from swmm_run_cso import *\n",
    "from copy import deepcopy\n",
    "import numpy as np\n",
    "permList = []\n",
    "for i in range(0,10):\n",
    "    randomPerm=np.random.randint(200, size=7)\n",
    "    randomPerm = randomPerm.tolist()\n",
    "    permList.append(randomPerm)\n",
    "print permList\n",
    "for perm in permList:\n",
    "    newRunList=deepcopy(zeroLidList)  # copy the zeroLidList into a new list\n",
    "    totalAreaTreated = 0\n",
    "    for i in range(0,7):\n",
    "        lidNumber = perm[i] #number of LIDs in subcatchment\n",
    "        subArea = newRunList[i]['SubcatArea'] #area of subcatchment\n",
    "        newRunList[i]['Number'] = perm[i]  # random number of lids in each subcatchment\n",
    "        totalAreaTreated += lidNumber*subArea #area treated by each LID, added together   \n",
    "    print totalAreaTreated\n",
    "    newRunDocId = runswmm(newRunList,swmmInpStr,thisRunCollection,totalAreaTreated,perm)\n",
    "    cursor = thisRunCollection.find_one({'_id':newRunDocId})\n",
    "    newVolume = cursor['volume']\n",
    "    volumeReduction = zeroLidVolume - newVolume\n",
    "    #print \"Stored record %s for volume = %s\" % (newRunDocId,newVolume)\n",
    "    #print \"volumeReduction = %s\" % (volumeReduction)\n",
    "print \"FINISHED ALL RUNS\""
   ]
  },
  {
   "cell_type": "markdown",
   "metadata": {},
   "source": [
    "### To display all of the runs from the database:"
   ]
  },
  {
   "cell_type": "code",
   "execution_count": null,
   "metadata": {
    "collapsed": false
   },
   "outputs": [],
   "source": [
    "runs = db[collection]\n",
    "cursor = runs.find()\n",
    "#\\for run in cursor:\n",
    "#    print run\n",
    "#    print ''"
   ]
  },
  {
   "cell_type": "markdown",
   "metadata": {},
   "source": [
    "### To Reconstitute the SWMM input file for any of the runs above"
   ]
  },
  {
   "cell_type": "code",
   "execution_count": null,
   "metadata": {
    "collapsed": false
   },
   "outputs": [],
   "source": [
    "runs = db[collection]\n",
    "cursor = runs.find_one({'_id':zeroLidDocId})\n",
    "#print cursor\n",
    "swmmInputFileStr = cursor[\"swmmInputFileStr\"]\n",
    "#print swmmInputFileStr\n",
    "f = open(\"SWMM_reconstituted.inp\",'w')\n",
    "f.write(swmmInputFileStr)  # write out the swmmInputFileStr for modified problem\n",
    "f.close()"
   ]
  },
  {
   "cell_type": "markdown",
   "metadata": {
    "collapsed": true
   },
   "source": [
    "# Now, apply a range of Wakefield Park rain gardens in all seven subcatchments simultaneously\n",
    "from copy import deepcopy\n",
    "for numberForAllLid in range(0,21):\n",
    "    newRunList=deepcopy(zeroLidList)  # copy the zeroLidList into a new list\n",
    "    for lid in newRunList:\n",
    "        lid['Number'] = numberForAllLid  # the same number of LIDs will be in every subcatchment\n",
    "    newRunDocId = runswmm(newRunList,swmmInpStr,thisRunCollection)\n",
    "    cursor = thisRunCollection.find_one({'_id':newRunDocId})\n",
    "    newVolume = cursor['volume']\n",
    "    volumeReduction = zeroLidVolume - newVolume\n",
    "    #print \"Stored record %s for volume = %s\" % (newRunDocId,newVolume)\n",
    "    #print \"volumeReduction = %s\" % (volumeReduction)\n",
    "print \"FINISHED ALL RUNS\""
   ]
  }
 ],
 "metadata": {
  "anaconda-cloud": {},
  "kernelspec": {
   "display_name": "Python [Root]",
   "language": "python",
   "name": "Python [Root]"
  },
  "language_info": {
   "codemirror_mode": {
    "name": "ipython",
    "version": 2
   },
   "file_extension": ".py",
   "mimetype": "text/x-python",
   "name": "python",
   "nbconvert_exporter": "python",
   "pygments_lexer": "ipython2",
   "version": "2.7.12"
  }
 },
 "nbformat": 4,
 "nbformat_minor": 0
}
