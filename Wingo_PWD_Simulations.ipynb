{
 "cells": [
  {
   "cell_type": "markdown",
   "metadata": {
    "collapsed": true
   },
   "source": [
    "PWD's Wingohocking SWMM Model - runs to test effects of GSI installations"
   ]
  },
  {
   "cell_type": "code",
   "execution_count": 10,
   "metadata": {
    "collapsed": false
   },
   "outputs": [
    {
     "name": "stdout",
     "output_type": "stream",
     "text": [
      "Once deleted, variables cannot be recovered. Proceed (y/[n])? y\n"
     ]
    },
    {
     "data": {
      "text/plain": [
       "[u'july', u'july2008_1']"
      ]
     },
     "execution_count": 10,
     "metadata": {},
     "output_type": "execute_result"
    }
   ],
   "source": [
    "# Run this block to load imports,\n",
    "# to test mongodb connectivity, and view existing collections\n",
    "%reset\n",
    "import yaml\n",
    "from swmm_objects import *\n",
    "from swmm_read_cso_time_series import *\n",
    "from swmm_run_cso import *\n",
    "from subprocess import call\n",
    "from pymongo import MongoClient\n",
    "from datetime import datetime\n",
    "import sys\n",
    "\n",
    "# mongoServer = None   # use the local mongodb server installed on your computer\n",
    "#mongoServer = 'mongodb://server.mcgarity.info:27017/'  # Art's personal server\n",
    "#mongoServer = 'mongodb://ubuntu:27017/'  # ubuntu Linux virtual machine on Art's Mac\n",
    "mongoServer = 'mongodb://aws-2.greenphilly.net:27017/'  # aws-2 server for GreenPhilly\n",
    "client = MongoClient(mongoServer)\n",
    "database = \"ewri2017\"\n",
    "username = \"arthur\"\n",
    "password = \"jXlIkLfu5Dfr\"\n",
    "authenticationDatabase = \"admin\"\n",
    "db = client[database]\n",
    "db.authenticate(username, password, source=authenticationDatabase)  # pass credentials to database\n",
    "collectionNames = sorted(db.collection_names())\n",
    "collectionNames"
   ]
  },
  {
   "cell_type": "code",
   "execution_count": 15,
   "metadata": {
    "collapsed": false,
    "scrolled": true
   },
   "outputs": [
    {
     "name": "stdout",
     "output_type": "stream",
     "text": [
      "0.0 min, 16.50 sec\n",
      "volume = 183.249\n",
      "Stored record 5835ff775219aa2b49721d5f for zero LID usage:  peak = 1906.45, volume = 183.249\n"
     ]
    }
   ],
   "source": [
    "# Run this block to run the SWMM model on the 6-subcatchment Wingohocking\n",
    "# model BEFORE adding GSI to obtain the zero LID runoff and CSO values\n",
    "\n",
    "#  IMPORTANT:  Set these for each run:\n",
    "#################################################\n",
    "collection = '2008annual_1'\n",
    "swmmInpFile = \"wingohocking_PWD.inp\"  # initial SWMM .inp file\n",
    "lidZeroFile = \"PWD_wingo_Wakefield_list_zero.yaml\"\n",
    "################################################\n",
    "\n",
    "db = client[database]   # use or create the database\n",
    "db.authenticate(username, password, source=authenticationDatabase)  # pass credentials to database\n",
    "\n",
    "thisRunCollection = db[collection]    # use or create the collection\n",
    "infile = open(swmmInpFile,'r')\n",
    "swmmInpStr = infile.readlines()\n",
    "infile.close()\n",
    "f = open(lidZeroFile,'r')   # Read the no LID changable parameters from file\n",
    "zeroLidList = yaml.load(f)  # list of dicts, one for each line in [LID_USAGE]\n",
    "f.close()\n",
    "zeroLidDocId = runswmm(zeroLidList,swmmInpStr,thisRunCollection)  # run SWMM on the no LID model for baseline\n",
    "cursor = thisRunCollection.find_one({'_id':zeroLidDocId})\n",
    "zeroLidPeak = cursor['peak']\n",
    "zeroLidVolume = cursor['volume']\n",
    "print \"Stored record %s for zero LID usage:  peak = %s, volume = %s\" % (zeroLidDocId,zeroLidPeak,zeroLidVolume)"
   ]
  },
  {
   "cell_type": "markdown",
   "metadata": {},
   "source": [
    "### Loop ALL subcatchment LID numbers over a range:"
   ]
  },
  {
   "cell_type": "code",
   "execution_count": 16,
   "metadata": {
    "collapsed": false,
    "scrolled": false
   },
   "outputs": [
    {
     "name": "stdout",
     "output_type": "stream",
     "text": [
      "0.0 min, 16.43 sec\n",
      "volume = 183.137\n",
      "0.0 min, 16.62 sec\n",
      "volume = 183.026\n",
      "0.0 min, 16.48 sec\n",
      "volume = 182.915\n",
      "0.0 min, 16.46 sec\n",
      "volume = 182.804\n",
      "0.0 min, 16.74 sec\n",
      "volume = 182.692\n",
      "0.0 min, 16.46 sec\n",
      "volume = 182.581\n",
      "0.0 min, 17.28 sec\n",
      "volume = 182.47\n",
      "0.0 min, 16.90 sec\n",
      "volume = 182.359\n",
      "0.0 min, 16.81 sec\n",
      "volume = 182.247\n",
      "FINISHED ALL RUNS\n"
     ]
    }
   ],
   "source": [
    "# Now, apply a range of Wakefield Park rain gardens in all seven subcatchments simultaneously\n",
    "from copy import deepcopy\n",
    "for numberForAllLid in range(1,10):\n",
    "    newRunList=deepcopy(zeroLidList)  # copy the zeroLidList into a new list\n",
    "    for lid in newRunList:\n",
    "        lid['Number'] = numberForAllLid  # the same number of LIDs will be in every subcatchment\n",
    "    newRunDocId = runswmm(newRunList,swmmInpStr,thisRunCollection)\n",
    "    cursor = thisRunCollection.find_one({'_id':newRunDocId})\n",
    "    newVolume = cursor['volume']\n",
    "    volumeReduction = zeroLidVolume - newVolume\n",
    "    #print \"Stored record %s for volume = %s\" % (newRunDocId,newVolume)\n",
    "    #print \"volumeReduction = %s\" % (volumeReduction)\n",
    "print \"FINISHED ALL RUNS\""
   ]
  },
  {
   "cell_type": "markdown",
   "metadata": {},
   "source": [
    "### To display all of the runs from the database:"
   ]
  },
  {
   "cell_type": "code",
   "execution_count": 3,
   "metadata": {
    "collapsed": false
   },
   "outputs": [],
   "source": [
    "runs = db[collection]\n",
    "cursor = runs.find()\n",
    "#\\for run in cursor:\n",
    "#    print run\n",
    "#    print ''"
   ]
  },
  {
   "cell_type": "markdown",
   "metadata": {},
   "source": [
    "### To Reconstitute the SWMM input file for any of the runs above"
   ]
  },
  {
   "cell_type": "code",
   "execution_count": 4,
   "metadata": {
    "collapsed": false
   },
   "outputs": [],
   "source": [
    "runs = db[collection]\n",
    "cursor = runs.find_one({'_id':zeroLidDocId})\n",
    "#print cursor\n",
    "swmmInputFileStr = cursor[\"swmmInputFileStr\"]\n",
    "#print swmmInputFileStr\n",
    "f = open(\"SWMM_reconstituted.inp\",'w')\n",
    "f.write(swmmInputFileStr)  # write out the swmmInputFileStr for modified problem\n",
    "f.close()"
   ]
  },
  {
   "cell_type": "code",
   "execution_count": null,
   "metadata": {
    "collapsed": true
   },
   "outputs": [],
   "source": []
  }
 ],
 "metadata": {
  "anaconda-cloud": {},
  "kernelspec": {
   "display_name": "Python [Root]",
   "language": "python",
   "name": "Python [Root]"
  },
  "language_info": {
   "codemirror_mode": {
    "name": "ipython",
    "version": 2
   },
   "file_extension": ".py",
   "mimetype": "text/x-python",
   "name": "python",
   "nbconvert_exporter": "python",
   "pygments_lexer": "ipython2",
   "version": "2.7.12"
  }
 },
 "nbformat": 4,
 "nbformat_minor": 0
}
