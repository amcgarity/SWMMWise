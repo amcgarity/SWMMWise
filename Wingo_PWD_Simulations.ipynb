{
 "cells": [
  {
   "cell_type": "markdown",
   "metadata": {
    "collapsed": true
   },
   "source": [
    "PWD's Wingohocking SWMM Model - runs to test effects of GSI installations"
   ]
  },
  {
   "cell_type": "code",
   "execution_count": 1,
   "metadata": {
    "collapsed": false
   },
   "outputs": [
    {
     "name": "stdout",
     "output_type": "stream",
     "text": [
      "Once deleted, variables cannot be recovered. Proceed (y/[n])? y\n"
     ]
    },
    {
     "data": {
      "text/plain": [
       "[u'2008annual_1', u'cso_experiments_1', u'july', u'july2008_1']"
      ]
     },
     "execution_count": 1,
     "metadata": {},
     "output_type": "execute_result"
    }
   ],
   "source": [
    "# Run this block to load imports,\n",
    "# to test mongodb connectivity, and view existing collections\n",
    "%reset\n",
    "import yaml\n",
    "from swmm_objects import *\n",
    "from swmm_read_cso_time_series import *\n",
    "from swmm_run_cso import *\n",
    "from subprocess import call\n",
    "from pymongo import MongoClient\n",
    "from datetime import datetime\n",
    "import sys\n",
    "\n",
    "# mongoServer = None   # use the local mongodb server installed on your computer\n",
    "#mongoServer = 'mongodb://server.mcgarity.info:27017/'  # Art's personal server\n",
    "#mongoServer = 'mongodb://ubuntu:27017/'  # ubuntu Linux virtual machine on Art's Mac\n",
    "mongoServer = 'mongodb://aws-2.greenphilly.net:27017/'  # aws-2 server for GreenPhilly\n",
    "client = MongoClient(mongoServer)\n",
    "database = \"ewri2017\"\n",
    "username = \"arthur\"\n",
    "password = \"jXlIkLfu5Dfr\"\n",
    "authenticationDatabase = \"admin\"\n",
    "db = client[database]\n",
    "db.authenticate(username, password, source=authenticationDatabase)  # pass credentials to database\n",
    "collectionNames = sorted(db.collection_names())\n",
    "collectionNames"
   ]
  },
  {
   "cell_type": "code",
   "execution_count": 2,
   "metadata": {
    "collapsed": false,
    "scrolled": true
   },
   "outputs": [
    {
     "name": "stdout",
     "output_type": "stream",
     "text": [
      "Elapsed Time = 0.0 min, 17.58 sec\n",
      "Stored record 583b9604c10157184d496cf2 for zero LID usage:  peak = 1906.45, volume = 183.249\n"
     ]
    }
   ],
   "source": [
    "# Run this block to run the SWMM model on the 6-subcatchment Wingohocking\n",
    "# model BEFORE adding GSI to obtain the zero LID runoff and CSO values\n",
    "\n",
    "#  IMPORTANT:  Set these for each run:\n",
    "#################################################\n",
    "collection = '2008annual_1'\n",
    "swmmInpFile = \"wingohocking_PWD.inp\"  # initial SWMM .inp file\n",
    "lidZeroFile = \"PWD_wingo_Wakefield_list_zero.yaml\"\n",
    "################################################\n",
    "\n",
    "db = client[database]   # use or create the database\n",
    "db.authenticate(username, password, source=authenticationDatabase)  # pass credentials to database\n",
    "\n",
    "thisRunCollection = db[collection]    # use or create the collection\n",
    "infile = open(swmmInpFile,'r')\n",
    "swmmInpList = infile.readlines()\n",
    "infile.close()\n",
    "f = open(lidZeroFile,'r')   # Read the no LID changable parameters from file\n",
    "zeroLidList = yaml.load(f)  # list of dicts, one for each line in [LID_USAGE]\n",
    "f.close()\n",
    "zeroLidDocId = runswmm(zeroLidList,swmmInpList,thisRunCollection)  # run SWMM on the no LID model for baseline\n",
    "cursor = thisRunCollection.find_one({'_id':zeroLidDocId})\n",
    "zeroLidPeak = cursor['peak']\n",
    "zeroLidVolume = cursor['volume']\n",
    "print \"Stored record %s for zero LID usage:  peak = %s, volume = %s\" % (zeroLidDocId,zeroLidPeak,zeroLidVolume)"
   ]
  },
  {
   "cell_type": "markdown",
   "metadata": {},
   "source": [
    "### Loop ALL subcatchment LID numbers over a range:"
   ]
  },
  {
   "cell_type": "code",
   "execution_count": 4,
   "metadata": {
    "collapsed": false,
    "scrolled": false
   },
   "outputs": [
    {
     "name": "stdout",
     "output_type": "stream",
     "text": [
      "Elapsed Time = 0.0 min, 17.94 sec\n",
      "Elapsed Time = 0.0 min, 17.91 sec\n",
      "FINISHED ALL RUNS\n"
     ]
    }
   ],
   "source": [
    "# Now, apply a range of Wakefield Park rain gardens in all seven subcatchments simultaneously\n",
    "from copy import deepcopy\n",
    "for numberForAllLid in range(1,10):\n",
    "    newRunList=deepcopy(zeroLidList)  # copy the zeroLidList into a new list\n",
    "    for lid in newRunList:\n",
    "        lid['Number'] = numberForAllLid  # the same number of LIDs will be in every subcatchment\n",
    "    newRunDocId = runswmm(newRunList,swmmInpList,thisRunCollection)\n",
    "    cursor = thisRunCollection.find_one({'_id':newRunDocId})\n",
    "    newVolume = cursor['volume']\n",
    "    volumeReduction = zeroLidVolume - newVolume\n",
    "    #print \"Stored record %s for volume = %s\" % (newRunDocId,newVolume)\n",
    "    #print \"volumeReduction = %s\" % (volumeReduction)\n",
    "print \"FINISHED ALL RUNS\""
   ]
  },
  {
   "cell_type": "markdown",
   "metadata": {},
   "source": [
    "### To display all of the runs from the database:"
   ]
  },
  {
   "cell_type": "code",
   "execution_count": 3,
   "metadata": {
    "collapsed": false
   },
   "outputs": [],
   "source": [
    "runs = db[collection]\n",
    "cursor = runs.find()\n",
    "#\\for run in cursor:\n",
    "#    print run\n",
    "#    print ''"
   ]
  },
  {
   "cell_type": "markdown",
   "metadata": {},
   "source": [
    "### To Reconstitute the SWMM input file for any of the runs above"
   ]
  },
  {
   "cell_type": "code",
   "execution_count": 4,
   "metadata": {
    "collapsed": false
   },
   "outputs": [],
   "source": [
    "runs = db[collection]\n",
    "cursor = runs.find_one({'_id':zeroLidDocId})\n",
    "#print cursor\n",
    "swmmInputFileStr = cursor[\"swmmInputFileStr\"]\n",
    "#print swmmInputFileStr\n",
    "f = open(\"SWMM_reconstituted.inp\",'w')\n",
    "f.write(swmmInputFileStr)  # write out the swmmInputFileStr for modified problem\n",
    "f.close()"
   ]
  },
  {
   "cell_type": "code",
   "execution_count": null,
   "metadata": {
    "collapsed": true
   },
   "outputs": [],
   "source": []
  }
 ],
 "metadata": {
  "anaconda-cloud": {},
  "kernelspec": {
   "display_name": "Python 2",
   "language": "python",
   "name": "python2"
  },
  "language_info": {
   "codemirror_mode": {
    "name": "ipython",
    "version": 2
   },
   "file_extension": ".py",
   "mimetype": "text/x-python",
   "name": "python",
   "nbconvert_exporter": "python",
   "pygments_lexer": "ipython2",
   "version": "2.7.11"
  }
 },
 "nbformat": 4,
 "nbformat_minor": 0
}
