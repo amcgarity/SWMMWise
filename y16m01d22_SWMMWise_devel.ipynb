{
 "cells": [
  {
   "cell_type": "markdown",
   "metadata": {},
   "source": [
    "Read SWMM run results from MongoDB and reconstitute the associated SWMM .inp file"
   ]
  },
  {
   "cell_type": "code",
   "execution_count": 1,
   "metadata": {
    "collapsed": false
   },
   "outputs": [
    {
     "data": {
      "text/plain": [
       "[u'y16m01d22']"
      ]
     },
     "execution_count": 2,
     "metadata": {},
     "output_type": "execute_result"
    }
   ],
   "source": [
    "from pymongo import MongoClient\n",
    "from datetime import datetime\n",
    "client = MongoClient('mongodb://server.mcgarity.info:27017')\n",
    "#client = MongoClient()  # use local database by default\n",
    "db = client.swmmwiseDebug\n",
    "collectionNames = sorted(db.collection_names())\n",
    "collectionNames"
   ]
  },
  {
   "cell_type": "code",
   "execution_count": 2,
   "metadata": {
    "collapsed": false
   },
   "outputs": [
    {
     "data": {
      "text/plain": [
       "[u'y16m01d22']"
      ]
     },
     "execution_count": 2,
     "metadata": {},
     "output_type": "execute_result"
    }
   ],
   "source": [
    "collectionNames = sorted(db.collection_names())\n",
    "collectionNames"
   ]
  },
  {
   "cell_type": "code",
   "execution_count": 67,
   "metadata": {
    "collapsed": false
   },
   "outputs": [
    {
     "data": {
      "text/plain": [
       "{u'_id': ObjectId('56a2bf00abd22f9b318b83c9'),\n",
       " u'dateTime': datetime.datetime(2016, 1, 22, 18, 44, 52, 345000),\n",
       " u'lidDict': None,\n",
       " u'peak': 21.52,\n",
       " u'runParamList': [{u'Area': 741,\n",
       "   u'FromImp': 100,\n",
       "   u'LID': u'wakefield_BR_RG',\n",
       "   u'Number': 0,\n",
       "   u'Subcat': u'S1',\n",
       "   u'Width': 0}],\n",
       " u'volume': 15.563}"
      ]
     },
     "execution_count": 4,
     "metadata": {},
     "output_type": "execute_result"
    }
   ],
   "source": [
    "runs = db['y16m01d22']\n",
    "cursor = runs.find()\n",
    "last = cursor.count()-2\n",
    "rundict = cursor[last]\n",
    "rundict"
   ]
  },
  {
   "cell_type": "code",
   "execution_count": 66,
   "metadata": {
    "collapsed": true
   },
   "outputs": [],
   "source": [
    "swmmInputFileStr = rundict[\"swmmInputFileStr\"]\n",
    "f = open(\"SWMM_reconstituted.inp\",'w')\n",
    "f.write(swmmInputFileStr)  # write out the swmmInputFileStr for modified problem\n",
    "f.close()"
   ]
  },
  {
   "cell_type": "code",
   "execution_count": null,
   "metadata": {
    "collapsed": true
   },
   "outputs": [],
   "source": []
  }
 ],
 "metadata": {
  "kernelspec": {
   "display_name": "Python 2",
   "language": "python",
   "name": "python2"
  },
  "language_info": {
   "codemirror_mode": {
    "name": "ipython",
    "version": 2
   },
   "file_extension": ".py",
   "mimetype": "text/x-python",
   "name": "python",
   "nbconvert_exporter": "python",
   "pygments_lexer": "ipython2",
   "version": "2.7.6"
  }
 },
 "nbformat": 4,
 "nbformat_minor": 0
}
