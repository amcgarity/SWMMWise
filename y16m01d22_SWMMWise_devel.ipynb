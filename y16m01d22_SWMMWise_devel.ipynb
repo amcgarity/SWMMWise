{
 "cells": [
  {
   "cell_type": "markdown",
   "metadata": {},
   "source": [
    "Read SWMM run results from MongoDB and reconstitute the associated SWMM .inp file"
   ]
  },
  {
   "cell_type": "code",
   "execution_count": 44,
   "metadata": {
    "collapsed": true
   },
   "outputs": [],
   "source": [
    "from pymongo import MongoClient\n",
    "from datetime import datetime\n",
    "#client = MongoClient('mongodb://server.mcgarity.info:27017')\n",
    "client = MongoClient()  # use local database by default\n",
    "db = client.swmmwiseDebug"
   ]
  },
  {
   "cell_type": "code",
   "execution_count": 67,
   "metadata": {
    "collapsed": false
   },
   "outputs": [
    {
     "data": {
      "text/plain": [
       "{u'_id': ObjectId('56a473dec10157adea42c54a'),\n",
       " u'lidDict': {u'S1 wakefield_BR_RG': {u'Continuity Error': -0.02,\n",
       "   u'Drain Outflow': 0.0,\n",
       "   u'Evap Loss': 14.0,\n",
       "   u'Final Storage': 0.48,\n",
       "   u'Infil Loss': 92.88,\n",
       "   u'Initial Storage': 0.3,\n",
       "   u'Surface Outflow': 0.0,\n",
       "   u'Total Inflow': 107.04}},\n",
       " u'peak': 32.21,\n",
       " u'runParamList': [{u'Area': 741,\n",
       "   u'CapRatioPct': 5,\n",
       "   u'LID': u'wakefield_BR_RG',\n",
       "   u'Number': 10,\n",
       "   u'Subcat': u'S1',\n",
       "   u'Width': 0}],\n",
       " u'swmmInputFileStr': u'[TITLE]\\nExample 2\\r\\nSurface Drainage System\\r\\n[OPTIONS]\\nFLOW_UNITS\\tCFS \\nINFILTRATION\\tHORTON \\nFLOW_ROUTING\\tKINWAVE \\nLINK_OFFSETS\\tDEPTH \\nMIN_SLOPE\\t0 \\nALLOW_PONDING\\tNO \\nSKIP_STEADY_STATE\\tNO \\nSTART_DATE\\t01/01/2008 \\nSTART_TIME\\t00:00:00 \\nREPORT_START_DATE\\t01/01/2008 \\nREPORT_START_TIME\\t00:00:00 \\nEND_DATE\\t01/01/2009 \\nEND_TIME\\t00:00:00 \\nSWEEP_START\\t01/01 \\nSWEEP_END\\t12/31 \\nDRY_DAYS\\t0 \\nREPORT_STEP\\t00:01:00 \\nWET_STEP\\t00:01:00 \\nDRY_STEP\\t01:00:00 \\nROUTING_STEP\\t0:00:15 \\nINERTIAL_DAMPING\\tPARTIAL \\nNORMAL_FLOW_LIMITED\\tSLOPE \\nFORCE_MAIN_EQUATION\\tH-W \\nVARIABLE_STEP\\t0.75 \\nLENGTHENING_STEP\\t0 \\nMIN_SURFAREA\\t0 \\nMAX_TRIALS\\t0 \\nHEAD_TOLERANCE\\t0 \\nSYS_FLOW_TOL\\t5 \\nLAT_FLOW_TOL\\t5 \\nMINIMUM_STEP\\t0.5 \\nTHREADS\\t1 \\n[EVAPORATION]\\nTEMPERATURE\\t\\nDRY_ONLY\\tNO \\n[TEMPERATURE]\\nFILE\\t\"668594.dat\" \\nWINDSPEED\\tFILE \\nSNOWMELT\\t34 0.5 0.6 0.0 50.0 0.0 \\nADC\\tPERVIOUS 1.0 1.0 1.0 1.0 1.0 1.0 1.0 1.0 1.0 1.0 \\nADC\\tPERVIOUS 1.0 1.0 1.0 1.0 1.0 1.0 1.0 1.0 1.0 1.0 \\n[RAINGAGES]\\nRainGage\\tVOLUME 0:05 1.0 FILE \"8591312066066.dat\" * IN \\n[SUBCATCHMENTS]\\nS1\\tRainGage J1 4.55 56.8 1587 2 0 \\nS2\\tRainGage J2 4.74 63.0 1653 2 0 \\nS3\\tRainGage J3 3.74 39.5 1456 3.1 0 \\nS4\\tRainGage J7 6.79 49.9 2331 3.1 0 \\nS5\\tRainGage J10 4.79 87.7 1670 2 0 \\nS6\\tRainGage J11 1.98 95.0 690 2 0 \\nS7\\tRainGage J10 2.33 0.0 907 3.1 0 \\n[SUBAREAS]\\nS1\\t0.015 0.24 0.06 0.3 25 OUTLET \\nS2\\t0.015 0.24 0.06 0.3 25 OUTLET \\nS3\\t0.015 0.24 0.06 0.3 25 OUTLET \\nS4\\t0.015 0.24 0.06 0.3 25 OUTLET \\nS5\\t0.015 0.24 0.06 0.3 25 OUTLET \\nS6\\t0.015 0.24 0.06 0.3 25 OUTLET \\nS7\\t0.015 0.24 0.06 0.3 25 OUTLET \\n[INFILTRATION]\\nS1\\t4.5 0.2 6.5 7 0 \\nS2\\t4.5 0.2 6.5 7 0 \\nS3\\t4.5 0.2 6.5 7 0 \\nS4\\t4.5 0.2 6.5 7 0 \\nS5\\t4.5 0.2 6.5 7 0 \\nS6\\t4.5 0.2 6.5 7 0 \\nS7\\t4.5 0.2 6.5 7 0 \\n[LID_CONTROLS]\\nwakefield_BR_RG\\tBC\\nwakefield_BR_RG\\tSURFACE 36 0.7 0.1 1.0 5.0 \\nwakefield_BR_RG\\tSOIL 3 0.5 0.2 0.1 1.0 10.0 3.5 \\nwakefield_BR_RG\\tSTORAGE 0.1 0.75 0.5 0 \\nwakefield_BR_RG\\tDRAIN 0 0.5 0 6 \\n[LID_USAGE]\\nS1\\twakefield_BR_RG\\t10 741 0.000 0 13.164 0   \\nS2\\twakefield_BR_RG\\t0 741 0 0 0 0   \\nS3\\twakefield_BR_RG\\t0 741 0 0 0 0   \\nS4\\twakefield_BR_RG\\t0 741 0 0 0 0   \\nS5\\twakefield_BR_RG\\t0 741 0 0 0 0   \\nS6\\twakefield_BR_RG\\t0 741 0 0 0 0   \\nS7\\twakefield_BR_RG\\t0 741 0 0 0 0   \\n[JUNCTIONS]\\nJ1\\t4973 0 0 0 0 \\nJ2\\t4969 0 0 0 0 \\nJ3\\t4973 0 0 0 0 \\nJ4\\t4971 0 0 0 0 \\nJ5\\t4969.8 0 0 0 0 \\nJ6\\t4969 0 0 0 0 \\nJ7\\t4971.5 0 0 0 0 \\nJ8\\t4966.5 0 0 0 0 \\nJ9\\t4964.8 0 0 0 0 \\nJ10\\t4963.8 0 0 0 0 \\nJ11\\t4963 0 0 0 0 \\n[OUTFALLS]\\nO1\\t4962 FREE NO \\n[CONDUITS]\\nC1\\tJ1 J5 185.00 0.05 0 0 0 0 \\nC2\\tJ2 J11 526.00 0.016 0 4 0 0 \\nC3\\tJ3 J4 109.00 0.016 0 0 0 0 \\nC4\\tJ4 J5 133.00 0.05 0 0 0 0 \\nC5\\tJ5 J6 207.00 0.05 0 0 0 0 \\nC6\\tJ7 J6 140.00 0.05 0 0 0 0 \\nC7\\tJ6 J8 95.00 0.016 0 0 0 0 \\nC8\\tJ8 J9 166.00 0.05 0 0 0 0 \\nC9\\tJ9 J10 320.00 0.05 0 0 0 0 \\nC10\\tJ10 J11 145.00 0.05 0 0 0 0 \\nC11\\tJ11 O1 89.00 0.016 0 0 0 0 \\n[XSECTIONS]\\nC1\\tTRAPEZOIDAL 3 5 5 5 1 \\nC2\\tTRAPEZOIDAL 1 0 0.0001 25 1 \\nC3\\tCIRCULAR 2.25 0 0 0 1 \\nC4\\tTRAPEZOIDAL 3 5 5 5 1 \\nC5\\tTRAPEZOIDAL 3 5 5 5 1 \\nC6\\tTRAPEZOIDAL 3 5 5 5 1 \\nC7\\tCIRCULAR 3.5 0 0 0 1 \\nC8\\tTRAPEZOIDAL 3 5 5 5 1 \\nC9\\tTRAPEZOIDAL 3 5 5 5 1 \\nC10\\tTRAPEZOIDAL 3 5 5 5 1 \\nC11\\tCIRCULAR 4.75 0 0 0 1 \\n[REPORT]\\nINPUT\\tNO \\nCONTROLS\\tNO \\nSUBCATCHMENTS\\tALL \\nNODES\\tALL \\nLINKS\\tALL \\n',\n",
       " u'swmmRunTime': u'0.0 min, 13.77 sec',\n",
       " u'swmmStartTime': u'2016-01-24 01:48:48.867410',\n",
       " u'volume': 15.571}"
      ]
     },
     "execution_count": 67,
     "metadata": {},
     "output_type": "execute_result"
    }
   ],
   "source": [
    "runs = db['y16m01d23_loop_test_5']\n",
    "cursor = runs.find()\n",
    "last = cursor.count()-1\n",
    "rundict = cursor[last]\n",
    "rundict"
   ]
  },
  {
   "cell_type": "code",
   "execution_count": 66,
   "metadata": {
    "collapsed": true
   },
   "outputs": [],
   "source": [
    "swmmInputFileStr = rundict[\"swmmInputFileStr\"]\n",
    "f = open(\"SWMM_reconstituted.inp\",'w')\n",
    "f.write(swmmInputFileStr)  # write out the swmmInputFileStr for modified problem\n",
    "f.close()"
   ]
  },
  {
   "cell_type": "code",
   "execution_count": null,
   "metadata": {
    "collapsed": true
   },
   "outputs": [],
   "source": []
  }
 ],
 "metadata": {
  "kernelspec": {
   "display_name": "Python 2",
   "language": "python",
   "name": "python2"
  },
  "language_info": {
   "codemirror_mode": {
    "name": "ipython",
    "version": 2
   },
   "file_extension": ".py",
   "mimetype": "text/x-python",
   "name": "python",
   "nbconvert_exporter": "python",
   "pygments_lexer": "ipython2",
   "version": "2.7.11"
  }
 },
 "nbformat": 4,
 "nbformat_minor": 0
}
