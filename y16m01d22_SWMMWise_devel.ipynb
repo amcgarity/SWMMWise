{
 "cells": [
  {
   "cell_type": "markdown",
   "metadata": {},
   "source": [
    "Read SWMM run results from MongoDB and reconstitute the associated SWMM .inp file"
   ]
  },
  {
   "cell_type": "code",
   "execution_count": 10,
   "metadata": {
    "collapsed": false
   },
   "outputs": [
    {
     "data": {
      "text/plain": [
       "[u'y16m01d27_2lid_tests',\n",
       " u'y16m01d27_run1',\n",
       " u'y16m01d27_run2',\n",
       " u'y16m01d27_run3',\n",
       " u'y16m01d27_run4',\n",
       " u'y16m01d27_shortTest1',\n",
       " u'y16m01d27_test1',\n",
       " u'y16m01d28_2lid_run_Example2',\n",
       " u'y16m01d28_Example2_100runs']"
      ]
     },
     "execution_count": 10,
     "metadata": {},
     "output_type": "execute_result"
    }
   ],
   "source": [
    "from pymongo import MongoClient\n",
    "from datetime import datetime\n",
    "#client = MongoClient('mongodb://server.mcgarity.info:27017')\n",
    "client = MongoClient()  # use local database by default\n",
    "#db = client[\"borg_rapid_tests\"]\n",
    "db = client[\"borg_swmm\"]\n",
    "collectionNames = sorted(db.collection_names())\n",
    "collectionNames"
   ]
  },
  {
   "cell_type": "code",
   "execution_count": 15,
   "metadata": {
    "collapsed": false
   },
   "outputs": [
    {
     "data": {
      "text/plain": [
       "{u'1': [[0.37958178678052074,\n",
       "   1.8284382558959624,\n",
       "   0.9210273078458913,\n",
       "   2.1848112012224297,\n",
       "   2.738649113508558,\n",
       "   4.0249003362899884,\n",
       "   0.4263519508359842,\n",
       "   0.42503333776840785,\n",
       "   2.4371719668705882,\n",
       "   3.2551007469312987,\n",
       "   1.6327381184400847,\n",
       "   0.07335756790669579],\n",
       "  [12.0, 7.0, 2.235999999999999]],\n",
       " u'2': [[0.2173189912497343,\n",
       "   4.856590835809845,\n",
       "   0.09597080063446675,\n",
       "   1.1637937594586503,\n",
       "   0.2232758480178369,\n",
       "   0.39222547095087945,\n",
       "   4.5054837117217215,\n",
       "   4.65483122846457,\n",
       "   3.5248196703672456,\n",
       "   0.3056111583266433,\n",
       "   0.5770744093640414,\n",
       "   3.5650348962668876],\n",
       "  [6.0, 19.0, 1.8729999999999993]],\n",
       " u'3': [[0.8459569061747652,\n",
       "   1.7561580826891954,\n",
       "   2.4074542493111113,\n",
       "   0.07726940444607042,\n",
       "   1.180594828021851,\n",
       "   1.205179596134736,\n",
       "   1.6360866584899105,\n",
       "   2.6261840522350237,\n",
       "   0.1521333505288077,\n",
       "   3.741573292934702,\n",
       "   2.5218814128362297,\n",
       "   4.478095087566901],\n",
       "  [7.0, 16.0, 2.5759999999999987]],\n",
       " u'4': [[0.22659081156053365,\n",
       "   2.9012434668609046,\n",
       "   0.3509590938573142,\n",
       "   1.5545710214773591,\n",
       "   1.7542676736494216,\n",
       "   3.6491586520916686,\n",
       "   0.8550951212772856,\n",
       "   0.3397130093862566,\n",
       "   4.459665490887049,\n",
       "   3.7619078645393973,\n",
       "   0.03578691976978139,\n",
       "   0.045997041753958225],\n",
       "  [11.0, 9.0, 2.026]],\n",
       " u'5': [[1.1429256319866807,\n",
       "   2.6566630002708784,\n",
       "   3.4566777626650125,\n",
       "   0.4958600039817067,\n",
       "   1.0676042284042584,\n",
       "   0.7309509489524529,\n",
       "   0.40261205062330985,\n",
       "   2.3282757337038116,\n",
       "   1.0967227551379992,\n",
       "   4.325153548113339,\n",
       "   2.9186458054274893,\n",
       "   4.863080282198052],\n",
       "  [9.0, 15.0, 2.599]],\n",
       " u'6': [[0.1762124931384373,\n",
       "   1.345429668749084,\n",
       "   1.6124437636724775,\n",
       "   0.7308516094300086,\n",
       "   0.8013096872720192,\n",
       "   4.264460204696389,\n",
       "   4.171506402588335,\n",
       "   2.6613006304626587,\n",
       "   2.188824397090083,\n",
       "   1.4464450258404122,\n",
       "   2.2175735077395973,\n",
       "   1.1384212705628995],\n",
       "  [9.0, 13.0, 2.6959999999999997]],\n",
       " u'7': [[0.14090867134297935,\n",
       "   0.3527526709606761,\n",
       "   3.426596792048448,\n",
       "   1.370143944250919,\n",
       "   2.0317253836038813,\n",
       "   0.1920096762925409,\n",
       "   3.9104531516578174,\n",
       "   3.0476161681692155,\n",
       "   2.781585506811176,\n",
       "   3.267833808965011,\n",
       "   1.4589972844019061,\n",
       "   2.7944591403460266],\n",
       "  [6.0, 17.0, 2.2720000000000002]],\n",
       " u'8': [[0.6290340459973165,\n",
       "   2.134066805507538,\n",
       "   0.5159400171870225,\n",
       "   0.1379571704049495,\n",
       "   3.643407580359701,\n",
       "   2.760393318664374,\n",
       "   0.5619438133579548,\n",
       "   2.4217708286414323,\n",
       "   1.2420710621499622,\n",
       "   1.2613630798322528,\n",
       "   1.145209413055612,\n",
       "   0.46824804052436914],\n",
       "  [11.0, 6.0, 2.4819999999999993]],\n",
       " u'9': [[0.016394950220453307,\n",
       "   2.6312030543645855,\n",
       "   2.4768505472403137,\n",
       "   0.37818195190704007,\n",
       "   0.4078610358778064,\n",
       "   0.11880372420856816,\n",
       "   0.7864122664989932,\n",
       "   4.813440991522148,\n",
       "   4.630437468791016,\n",
       "   4.718363735526419,\n",
       "   1.6865261822674718,\n",
       "   0.7189005964246813],\n",
       "  [5.0, 19.0, 2.0439999999999987]],\n",
       " u'_id': ObjectId('56aaa3911a5e8398d24d1849')}"
      ]
     },
     "execution_count": 15,
     "metadata": {},
     "output_type": "execute_result"
    }
   ],
   "source": [
    "#runs = db['y16m01d28_testing']\n",
    "runs = db['y16m01d28_2lid_run_Example2']\n",
    "cursor = runs.find()\n",
    "ndocs = runs.count()\n",
    "last = cursor.count()-1\n",
    "rundict = cursor[last]\n",
    "rundict\n",
    "#ndocs"
   ]
  },
  {
   "cell_type": "code",
   "execution_count": 66,
   "metadata": {
    "collapsed": true
   },
   "outputs": [],
   "source": [
    "swmmInputFileStr = rundict[\"swmmInputFileStr\"]\n",
    "f = open(\"SWMM_reconstituted.inp\",'w')\n",
    "f.write(swmmInputFileStr)  # write out the swmmInputFileStr for modified problem\n",
    "f.close()"
   ]
  },
  {
   "cell_type": "code",
   "execution_count": 1,
   "metadata": {
    "collapsed": false
   },
   "outputs": [
    {
     "data": {
      "text/plain": [
       "0.8695652173913043"
      ]
     },
     "execution_count": 1,
     "metadata": {},
     "output_type": "execute_result"
    }
   ],
   "source": [
    "1000.0/1150."
   ]
  },
  {
   "cell_type": "code",
   "execution_count": 2,
   "metadata": {
    "collapsed": false
   },
   "outputs": [
    {
     "data": {
      "text/plain": [
       "6.666666666666667"
      ]
     },
     "execution_count": 2,
     "metadata": {},
     "output_type": "execute_result"
    }
   ],
   "source": [
    "1000./150."
   ]
  },
  {
   "cell_type": "code",
   "execution_count": null,
   "metadata": {
    "collapsed": true
   },
   "outputs": [],
   "source": []
  }
 ],
 "metadata": {
  "kernelspec": {
   "display_name": "Python 2",
   "language": "python",
   "name": "python2"
  },
  "language_info": {
   "codemirror_mode": {
    "name": "ipython",
    "version": 2
   },
   "file_extension": ".py",
   "mimetype": "text/x-python",
   "name": "python",
   "nbconvert_exporter": "python",
   "pygments_lexer": "ipython2",
   "version": "2.7.6"
  }
 },
 "nbformat": 4,
 "nbformat_minor": 0
}
