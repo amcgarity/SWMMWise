{
 "cells": [
  {
   "cell_type": "markdown",
   "metadata": {},
   "source": [
    "Read SWMM run results from MongoDB and reconstitute the associated SWMM .inp file"
   ]
  },
  {
   "cell_type": "code",
   "execution_count": 3,
   "metadata": {
    "collapsed": false
   },
   "outputs": [
    {
     "data": {
      "text/plain": [
       "[u'system.indexes', u'y16m01d29_4000_1']"
      ]
     },
     "execution_count": 3,
     "metadata": {},
     "output_type": "execute_result"
    }
   ],
   "source": [
    "from pymongo import MongoClient\n",
    "from datetime import datetime\n",
    "#client = MongoClient('mongodb://server.mcgarity.info:27017')\n",
    "client = MongoClient()  # use local database by default\n",
    "#db = client[\"borg_rapid_tests\"]\n",
    "db = client[\"borg_wingo\"]\n",
    "collectionNames = sorted(db.collection_names())\n",
    "collectionNames"
   ]
  },
  {
   "cell_type": "code",
   "execution_count": 37,
   "metadata": {
    "collapsed": false
   },
   "outputs": [
    {
     "data": {
      "text/plain": [
       "{u'_id': ObjectId('56abcd5e1a5e8309c1165c20'),\n",
       " u'lidDict': {u'S1 Anna_TT_infil': {u'Continuity Error': 4.81,\n",
       "   u'Drain Outflow': 0.0,\n",
       "   u'Evap Loss': 2.22,\n",
       "   u'Final Storage': 0.0,\n",
       "   u'Infil Loss': 1356.08,\n",
       "   u'Initial Storage': 0.0,\n",
       "   u'Surface Outflow': 544.82,\n",
       "   u'Total Inflow': 1999.27},\n",
       "  u'S1 wakefield_BR_RG': {u'Continuity Error': -0.01,\n",
       "   u'Drain Outflow': 0.0,\n",
       "   u'Evap Loss': 19.3,\n",
       "   u'Final Storage': 0.5,\n",
       "   u'Infil Loss': 760.38,\n",
       "   u'Initial Storage': 0.3,\n",
       "   u'Surface Outflow': 1182.72,\n",
       "   u'Total Inflow': 1962.41},\n",
       "  u'S2 Anna_TT_infil': {u'Continuity Error': 0.46,\n",
       "   u'Drain Outflow': 0.0,\n",
       "   u'Evap Loss': 1.15,\n",
       "   u'Final Storage': 0.0,\n",
       "   u'Infil Loss': 695.71,\n",
       "   u'Initial Storage': 0.0,\n",
       "   u'Surface Outflow': 18.69,\n",
       "   u'Total Inflow': 718.86},\n",
       "  u'S2 wakefield_BR_RG': {u'Continuity Error': -0.02,\n",
       "   u'Drain Outflow': 0.0,\n",
       "   u'Evap Loss': 17.71,\n",
       "   u'Final Storage': 0.5,\n",
       "   u'Infil Loss': 528.86,\n",
       "   u'Initial Storage': 0.3,\n",
       "   u'Surface Outflow': 165.07,\n",
       "   u'Total Inflow': 711.69},\n",
       "  u'S3 Anna_TT_infil': {u'Continuity Error': 3.13,\n",
       "   u'Drain Outflow': 0.0,\n",
       "   u'Evap Loss': 1.59,\n",
       "   u'Final Storage': 0.0,\n",
       "   u'Infil Loss': 1087.31,\n",
       "   u'Initial Storage': 0.0,\n",
       "   u'Surface Outflow': 243.65,\n",
       "   u'Total Inflow': 1375.55},\n",
       "  u'S3 wakefield_BR_RG': {u'Continuity Error': -0.01,\n",
       "   u'Drain Outflow': 0.0,\n",
       "   u'Evap Loss': 18.71,\n",
       "   u'Final Storage': 0.5,\n",
       "   u'Infil Loss': 698.24,\n",
       "   u'Initial Storage': 0.3,\n",
       "   u'Surface Outflow': 653.08,\n",
       "   u'Total Inflow': 1370.05},\n",
       "  u'S4 Anna_TT_infil': {u'Continuity Error': 4.18,\n",
       "   u'Drain Outflow': 0.0,\n",
       "   u'Evap Loss': 2.15,\n",
       "   u'Final Storage': 0.0,\n",
       "   u'Infil Loss': 1316.07,\n",
       "   u'Initial Storage': 0.0,\n",
       "   u'Surface Outflow': 432.81,\n",
       "   u'Total Inflow': 1827.4},\n",
       "  u'S4 wakefield_BR_RG': {u'Continuity Error': -0.01,\n",
       "   u'Drain Outflow': 0.0,\n",
       "   u'Evap Loss': 19.2,\n",
       "   u'Final Storage': 0.5,\n",
       "   u'Infil Loss': 755.37,\n",
       "   u'Initial Storage': 0.3,\n",
       "   u'Surface Outflow': 1039.43,\n",
       "   u'Total Inflow': 1814.01},\n",
       "  u'S5 Anna_TT_infil': {u'Continuity Error': 0.5,\n",
       "   u'Drain Outflow': 0.0,\n",
       "   u'Evap Loss': 1.01,\n",
       "   u'Final Storage': 0.0,\n",
       "   u'Infil Loss': 707.08,\n",
       "   u'Initial Storage': 0.0,\n",
       "   u'Surface Outflow': 20.62,\n",
       "   u'Total Inflow': 732.35},\n",
       "  u'S5 wakefield_BR_RG': {u'Continuity Error': -0.02,\n",
       "   u'Drain Outflow': 0.0,\n",
       "   u'Evap Loss': 17.99,\n",
       "   u'Final Storage': 0.5,\n",
       "   u'Infil Loss': 536.17,\n",
       "   u'Initial Storage': 0.3,\n",
       "   u'Surface Outflow': 173.3,\n",
       "   u'Total Inflow': 727.53},\n",
       "  u'S6 Anna_TT_infil': {u'Continuity Error': 0.47,\n",
       "   u'Drain Outflow': 0.0,\n",
       "   u'Evap Loss': 1.18,\n",
       "   u'Final Storage': 0.0,\n",
       "   u'Infil Loss': 698.44,\n",
       "   u'Initial Storage': 0.0,\n",
       "   u'Surface Outflow': 19.19,\n",
       "   u'Total Inflow': 722.2},\n",
       "  u'S6 wakefield_BR_RG': {u'Continuity Error': -0.02,\n",
       "   u'Drain Outflow': 0.0,\n",
       "   u'Evap Loss': 17.7,\n",
       "   u'Final Storage': 0.5,\n",
       "   u'Infil Loss': 531.39,\n",
       "   u'Initial Storage': 0.3,\n",
       "   u'Surface Outflow': 167.95,\n",
       "   u'Total Inflow': 717.08},\n",
       "  u'S7 Anna_TT_infil': {u'Continuity Error': 1.57,\n",
       "   u'Drain Outflow': 0.0,\n",
       "   u'Evap Loss': 1.14,\n",
       "   u'Final Storage': 0.0,\n",
       "   u'Infil Loss': 898.82,\n",
       "   u'Initial Storage': 0.0,\n",
       "   u'Surface Outflow': 89.27,\n",
       "   u'Total Inflow': 1004.99},\n",
       "  u'S7 wakefield_BR_RG': {u'Continuity Error': -0.01,\n",
       "   u'Drain Outflow': 0.0,\n",
       "   u'Evap Loss': 18.4,\n",
       "   u'Final Storage': 0.5,\n",
       "   u'Infil Loss': 635.86,\n",
       "   u'Initial Storage': 0.3,\n",
       "   u'Surface Outflow': 343.99,\n",
       "   u'Total Inflow': 998.3}},\n",
       " u'numLidTotalAnna': 1,\n",
       " u'numLidTotalWakefield': 46,\n",
       " u'numlid': [10, 10, 10, 1, 5, 10, 10, 10, 0, 0, 0, 0, 1, 0],\n",
       " u'peak': None,\n",
       " u'runCount': 3001,\n",
       " u'volReduction': 22.437,\n",
       " u'volume': 29.026}"
      ]
     },
     "execution_count": 37,
     "metadata": {},
     "output_type": "execute_result"
    }
   ],
   "source": [
    "runs = db['y16m01d29_4000_1']\n",
    "cursor = runs.find()\n",
    "ndocs = runs.count()\n",
    "last = cursor.count()-1000  # Pareto solution is in the last record\n",
    "runDict = cursor[last]\n",
    "#paretoDict = cursor[last]  # get the Pareto Solution\n",
    "#numParetoPoints = len(paretoDict)\n",
    "#for i in range(1,numParetoPoints):\n",
    "#    key = str(i)   # must store mongoDB keys as strings !!\n",
    "#    paretoPointList = paretoDict[key]\n",
    "#    objList = paretoPointList[1]\n",
    "#    print objList\n",
    "    \n",
    "#for paretoPoint in paretoDict:\n",
    "#    print paretoPoint[1]\n",
    "#paretoDict['1']\n",
    "#ndocs\n",
    "#len(paretoDict)\n",
    "runDict"
   ]
  },
  {
   "cell_type": "code",
   "execution_count": 33,
   "metadata": {
    "collapsed": false
   },
   "outputs": [
    {
     "data": {
      "text/plain": [
       "{u'_id': ObjectId('56ab90681a5e830a67066cb1'),\n",
       " u'lidDict': {u'S1 Anna_TT_infil': {u'Continuity Error': 4.85,\n",
       "   u'Drain Outflow': 0.0,\n",
       "   u'Evap Loss': 2.34,\n",
       "   u'Final Storage': 0.0,\n",
       "   u'Infil Loss': 1399.58,\n",
       "   u'Initial Storage': 0.0,\n",
       "   u'Surface Outflow': 568.86,\n",
       "   u'Total Inflow': 2071.16},\n",
       "  u'S1 wakefield_BR_RG': {u'Continuity Error': -0.01,\n",
       "   u'Drain Outflow': 0.0,\n",
       "   u'Evap Loss': 19.37,\n",
       "   u'Final Storage': 0.5,\n",
       "   u'Infil Loss': 771.14,\n",
       "   u'Initial Storage': 0.3,\n",
       "   u'Surface Outflow': 1242.39,\n",
       "   u'Total Inflow': 2032.91},\n",
       "  u'S2 Anna_TT_infil': {u'Continuity Error': 0.47,\n",
       "   u'Drain Outflow': 0.0,\n",
       "   u'Evap Loss': 1.16,\n",
       "   u'Final Storage': 0.0,\n",
       "   u'Infil Loss': 699.38,\n",
       "   u'Initial Storage': 0.0,\n",
       "   u'Surface Outflow': 19.35,\n",
       "   u'Total Inflow': 723.31},\n",
       "  u'S2 wakefield_BR_RG': {u'Continuity Error': -0.02,\n",
       "   u'Drain Outflow': 0.0,\n",
       "   u'Evap Loss': 17.71,\n",
       "   u'Final Storage': 0.5,\n",
       "   u'Infil Loss': 530.83,\n",
       "   u'Initial Storage': 0.3,\n",
       "   u'Surface Outflow': 167.54,\n",
       "   u'Total Inflow': 716.12},\n",
       "  u'S3 Anna_TT_infil': {u'Continuity Error': 3.14,\n",
       "   u'Drain Outflow': 0.0,\n",
       "   u'Evap Loss': 1.6,\n",
       "   u'Final Storage': 0.0,\n",
       "   u'Infil Loss': 1093.32,\n",
       "   u'Initial Storage': 0.0,\n",
       "   u'Surface Outflow': 246.72,\n",
       "   u'Total Inflow': 1385.17},\n",
       "  u'S3 wakefield_BR_RG': {u'Continuity Error': -0.01,\n",
       "   u'Drain Outflow': 0.0,\n",
       "   u'Evap Loss': 18.72,\n",
       "   u'Final Storage': 0.5,\n",
       "   u'Infil Loss': 699.86,\n",
       "   u'Initial Storage': 0.3,\n",
       "   u'Surface Outflow': 661.23,\n",
       "   u'Total Inflow': 1379.86},\n",
       "  u'S4 Anna_TT_infil': {u'Continuity Error': 4.2,\n",
       "   u'Drain Outflow': 0.0,\n",
       "   u'Evap Loss': 2.21,\n",
       "   u'Final Storage': 0.0,\n",
       "   u'Infil Loss': 1338.27,\n",
       "   u'Initial Storage': 0.0,\n",
       "   u'Surface Outflow': 442.84,\n",
       "   u'Total Inflow': 1861.46},\n",
       "  u'S4 wakefield_BR_RG': {u'Continuity Error': -0.01,\n",
       "   u'Drain Outflow': 0.0,\n",
       "   u'Evap Loss': 19.23,\n",
       "   u'Final Storage': 0.5,\n",
       "   u'Infil Loss': 760.8,\n",
       "   u'Initial Storage': 0.3,\n",
       "   u'Surface Outflow': 1068.43,\n",
       "   u'Total Inflow': 1848.47},\n",
       "  u'S5 Anna_TT_infil': {u'Continuity Error': 0.5,\n",
       "   u'Drain Outflow': 0.0,\n",
       "   u'Evap Loss': 1.01,\n",
       "   u'Final Storage': 0.0,\n",
       "   u'Infil Loss': 707.08,\n",
       "   u'Initial Storage': 0.0,\n",
       "   u'Surface Outflow': 20.62,\n",
       "   u'Total Inflow': 732.34},\n",
       "  u'S5 wakefield_BR_RG': {u'Continuity Error': -0.02,\n",
       "   u'Drain Outflow': 0.0,\n",
       "   u'Evap Loss': 17.99,\n",
       "   u'Final Storage': 0.5,\n",
       "   u'Infil Loss': 536.17,\n",
       "   u'Initial Storage': 0.3,\n",
       "   u'Surface Outflow': 173.3,\n",
       "   u'Total Inflow': 727.52},\n",
       "  u'S6 Anna_TT_infil': {u'Continuity Error': 0.47,\n",
       "   u'Drain Outflow': 0.0,\n",
       "   u'Evap Loss': 1.18,\n",
       "   u'Final Storage': 0.0,\n",
       "   u'Infil Loss': 699.18,\n",
       "   u'Initial Storage': 0.0,\n",
       "   u'Surface Outflow': 19.33,\n",
       "   u'Total Inflow': 723.1},\n",
       "  u'S6 wakefield_BR_RG': {u'Continuity Error': -0.02,\n",
       "   u'Drain Outflow': 0.0,\n",
       "   u'Evap Loss': 17.7,\n",
       "   u'Final Storage': 0.5,\n",
       "   u'Infil Loss': 531.66,\n",
       "   u'Initial Storage': 0.3,\n",
       "   u'Surface Outflow': 168.55,\n",
       "   u'Total Inflow': 717.97},\n",
       "  u'S7 Anna_TT_infil': {u'Continuity Error': 1.58,\n",
       "   u'Drain Outflow': 0.0,\n",
       "   u'Evap Loss': 1.16,\n",
       "   u'Final Storage': 0.0,\n",
       "   u'Infil Loss': 906.73,\n",
       "   u'Initial Storage': 0.0,\n",
       "   u'Surface Outflow': 90.78,\n",
       "   u'Total Inflow': 1014.69},\n",
       "  u'S7 wakefield_BR_RG': {u'Continuity Error': -0.02,\n",
       "   u'Drain Outflow': 0.0,\n",
       "   u'Evap Loss': 18.43,\n",
       "   u'Final Storage': 0.5,\n",
       "   u'Infil Loss': 639.96,\n",
       "   u'Initial Storage': 0.3,\n",
       "   u'Surface Outflow': 349.51,\n",
       "   u'Total Inflow': 1007.93}},\n",
       " u'numLidTotalAnna': 25,\n",
       " u'numLidTotalWakefield': 24,\n",
       " u'numlid': [3, 3, 3, 2, 5, 8, 6, 10, 6, 5, 5, 1, 4, 4],\n",
       " u'peak': None,\n",
       " u'runCount': 298,\n",
       " u'volReduction': 19.041000000000004,\n",
       " u'volume': 32.422}"
      ]
     },
     "execution_count": 33,
     "metadata": {},
     "output_type": "execute_result"
    }
   ],
   "source": [
    "runs = db['y16m01d29_300_1']\n",
    "cursor = runs.find()\n",
    "ndocs = runs.count()\n",
    "last = cursor.count()-3  # Pareto solution is in the last record\n",
    "runDict = cursor[last]\n",
    "runDict"
   ]
  },
  {
   "cell_type": "code",
   "execution_count": 66,
   "metadata": {
    "collapsed": true
   },
   "outputs": [],
   "source": [
    "swmmInputFileStr = rundict[\"swmmInputFileStr\"]\n",
    "f = open(\"SWMM_reconstituted.inp\",'w')\n",
    "f.write(swmmInputFileStr)  # write out the swmmInputFileStr for modified problem\n",
    "f.close()"
   ]
  },
  {
   "cell_type": "code",
   "execution_count": 1,
   "metadata": {
    "collapsed": false
   },
   "outputs": [
    {
     "data": {
      "text/plain": [
       "0.8695652173913043"
      ]
     },
     "execution_count": 1,
     "metadata": {},
     "output_type": "execute_result"
    }
   ],
   "source": [
    "1000.0/1150."
   ]
  },
  {
   "cell_type": "code",
   "execution_count": 2,
   "metadata": {
    "collapsed": false
   },
   "outputs": [
    {
     "data": {
      "text/plain": [
       "6.666666666666667"
      ]
     },
     "execution_count": 2,
     "metadata": {},
     "output_type": "execute_result"
    }
   ],
   "source": [
    "1000./150."
   ]
  },
  {
   "cell_type": "code",
   "execution_count": null,
   "metadata": {
    "collapsed": true
   },
   "outputs": [],
   "source": []
  }
 ],
 "metadata": {
  "anaconda-cloud": {},
  "kernelspec": {
   "display_name": "Python [Root]",
   "language": "python",
   "name": "Python [Root]"
  },
  "language_info": {
   "codemirror_mode": {
    "name": "ipython",
    "version": 2
   },
   "file_extension": ".py",
   "mimetype": "text/x-python",
   "name": "python",
   "nbconvert_exporter": "python",
   "pygments_lexer": "ipython2",
   "version": "2.7.12"
  }
 },
 "nbformat": 4,
 "nbformat_minor": 0
}
