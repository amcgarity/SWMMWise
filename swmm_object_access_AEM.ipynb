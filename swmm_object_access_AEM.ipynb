{
 "cells": [
  {
   "cell_type": "code",
   "execution_count": 1,
   "metadata": {
    "collapsed": false
   },
   "outputs": [
    {
     "name": "stdout",
     "output_type": "stream",
     "text": [
      "60.67\n",
      "49.346\n",
      "741\n",
      "89\n",
      "100.000\n"
     ]
    }
   ],
   "source": [
    "from swmm_objects import *\n",
    "from swmm_read_cso_time_series import *\n",
    "swmmInputFile = \"SWMM_modified.inp\"\n",
    "#swmmInputFile = \"wingohocking_PWD.inp\"\n",
    "infile = open(swmmInputFile,'r')\n",
    "swmmInpStr = infile.readlines()\n",
    "(section_names,sections) = read_inp(swmmInpStr)\n",
    "model1 = swmm_model(\"Model1\",section_names,sections)\n",
    "area = model1.getSubcatchmentArea('T14_R6_shed')\n",
    "print area\n",
    "pctImperv = model1.getSubcatchmentPctImperv('T14_R6_shed')\n",
    "print pctImperv\n",
    "lidArea = model1.getLidArea('T14_R6_shed','wakefield_BR_RG')\n",
    "print lidArea   # SQUARE FEET !!\n",
    "lidNumber = model1.getLidNumber('T14_R6_shed','wakefield_BR_RG')\n",
    "print lidNumber\n",
    "lidFromImp = model1.getLidFromImp('T14_R6_shed','wakefield_BR_RG')\n",
    "print lidFromImp"
   ]
  },
  {
   "cell_type": "code",
   "execution_count": null,
   "metadata": {
    "collapsed": true
   },
   "outputs": [],
   "source": []
  },
  {
   "cell_type": "code",
   "execution_count": null,
   "metadata": {
    "collapsed": true
   },
   "outputs": [],
   "source": []
  }
 ],
 "metadata": {
  "kernelspec": {
   "display_name": "Python 2",
   "language": "python",
   "name": "python2"
  },
  "language_info": {
   "codemirror_mode": {
    "name": "ipython",
    "version": 2
   },
   "file_extension": ".py",
   "mimetype": "text/x-python",
   "name": "python",
   "nbconvert_exporter": "python",
   "pygments_lexer": "ipython2",
   "version": "2.7.11"
  }
 },
 "nbformat": 4,
 "nbformat_minor": 0
}
