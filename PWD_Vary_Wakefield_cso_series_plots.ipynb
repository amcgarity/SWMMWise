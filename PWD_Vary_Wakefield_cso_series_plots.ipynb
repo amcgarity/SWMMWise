{
 "cells": [
  {
   "cell_type": "code",
   "execution_count": 1,
   "metadata": {
    "collapsed": true
   },
   "outputs": [],
   "source": [
    "## Plots for loop tests for which all subcats have the same number of a single LID"
   ]
  },
  {
   "cell_type": "code",
   "execution_count": 2,
   "metadata": {
    "collapsed": false
   },
   "outputs": [],
   "source": [
    "# IMPORTANT:  RUN THIS BLOCK FIRST\n",
    "# ONLY for loop tests for which all subcats have the same number of a single LID:\n",
    "%matplotlib inline\n",
    "from pymongo import MongoClient\n",
    "from datetime import datetime\n",
    "import matplotlib.pyplot as plt\n",
    "def volume_reduction_and_runoff_volume_vs_lid_number(collectionName):\n",
    "    mGal = 133680.5  # 1 Million gallon in cubic feet\n",
    "    runs = db[collectionName]\n",
    "    cursor = runs.find()\n",
    "    numList = []\n",
    "    volReductionList = []\n",
    "    totalSurfaceOutflowList = []\n",
    "    csoVolList=[]\n",
    "    noLidRun = cursor[0]\n",
    "    noLidVolume = noLidRun['volume']\n",
    "    outflow_series_list = []\n",
    "    for run in cursor:\n",
    "        runParamsZero = run['runParamList'][0] \n",
    "        number = runParamsZero['Number']\n",
    "        numList.append(number)\n",
    "        volume = run['volume']\n",
    "        volReduction = noLidVolume-volume\n",
    "        volReductionList.append(volReduction)\n",
    "        outflow_series=run['outflow_series']\n",
    "        #outflow_series_list.append\n",
    "        series = run['outflow_series']\n",
    "        #print series\n",
    "        outflow_series_list.append(series)\n",
    "        if run['lidDict'] == None:\n",
    "            totalSurfaceOutflowList.append(None)\n",
    "            continue\n",
    "        else:\n",
    "            totalSurfaceOutflow = 0.0\n",
    "            runParamList = run['runParamList']\n",
    "            lidDict = run['lidDict']\n",
    "            for lidUsage in runParamList:\n",
    "                lid = lidUsage['LID']\n",
    "                subcat = lidUsage['Subcat']\n",
    "                lidNumber = lidUsage['Number']\n",
    "                #print lidNumber,\n",
    "                lidArea = lidUsage['Area']  # in square feet\n",
    "                lidKey = subcat+' '+lid\n",
    "                surfaceOutflowInches = lidDict[lidKey]['Surface Outflow']\n",
    "                surfaceOutflow = surfaceOutflowInches*lidNumber*lidArea/12.0  # cubic feet\n",
    "                totalSurfaceOutflow += surfaceOutflow/mGal  # convert to million Gal/year\n",
    "                \n",
    "            #print totalSurfaceOutflow\n",
    "            totalSurfaceOutflowList.append(totalSurfaceOutflow)\n",
    "\n",
    "\n",
    "    return{\"numList\": numList, \"outflow_series\": outflow_series_list, \"volReductionList\": volReductionList, \\\n",
    "           \"surface_outflow\":totalSurfaceOutflowList}"
   ]
  },
  {
   "cell_type": "markdown",
   "metadata": {},
   "source": [
    "### Show the collections that have been generated"
   ]
  },
  {
   "cell_type": "code",
   "execution_count": 3,
   "metadata": {
    "collapsed": false
   },
   "outputs": [
    {
     "data": {
      "text/plain": [
       "[u'2008',\n",
       " u'2008trial1',\n",
       " u'2008trial3',\n",
       " u'2008trial4',\n",
       " u'first_wingo_test',\n",
       " u'fourth_wingo_test',\n",
       " u'july',\n",
       " u'july10',\n",
       " u'july12',\n",
       " u'july13',\n",
       " u'july14',\n",
       " u'july15',\n",
       " u'july16',\n",
       " u'july17',\n",
       " u'july2',\n",
       " u'july21',\n",
       " u'july22',\n",
       " u'july23',\n",
       " u'july24',\n",
       " u'july3',\n",
       " u'july4',\n",
       " u'july5',\n",
       " u'july6',\n",
       " u'july7',\n",
       " u'july8',\n",
       " u'july9',\n",
       " u'second_wingo_test',\n",
       " u'y16m10d11_demonstrate_runswmm_on_aws-2']"
      ]
     },
     "execution_count": 3,
     "metadata": {},
     "output_type": "execute_result"
    }
   ],
   "source": [
    "from pymongo import MongoClient\n",
    "\n",
    "#  IMPORTANT:  Set these for each run:\n",
    "#################################################\n",
    "# mongoServer = None   # use the local mongodb server installed on your computer\n",
    "#mongoServer = 'mongodb://server.mcgarity.info:27017/'  # Art's personal server\n",
    "#mongoServer = 'mongodb://ubuntu:27017/'  # ubuntu Linux virtual machine on Art's Mac\n",
    "mongoServer = 'mongodb://aws-2.greenphilly.net:27017/'  # aws-2 server for GreenPhilly\n",
    "database = \"jcohen4\"\n",
    "username = \"jcohen4\"\n",
    "password = \"wingohocking\"\n",
    "authenticationDatabase = \"jcohen4\"\n",
    "collection = '2008trial4'\n",
    "client = MongoClient(mongoServer)\n",
    "################################################\n",
    "\n",
    "db = client[database]\n",
    "db.authenticate(username, password, source=authenticationDatabase)  # pass credentials to database\n",
    "collectionNames = sorted(db.collection_names())\n",
    "collectionNames"
   ]
  },
  {
   "cell_type": "markdown",
   "metadata": {},
   "source": [
    "csoplot"
   ]
  },
  {
   "cell_type": "code",
   "execution_count": 4,
   "metadata": {
    "collapsed": false
   },
   "outputs": [
    {
     "data": {
      "text/plain": [
       "<matplotlib.text.Text at 0x84cdcf8>"
      ]
     },
     "execution_count": 4,
     "metadata": {},
     "output_type": "execute_result"
    },
    {
     "data": {
      "image/png": "[encoded data removed]",
      "text/plain": [
       "<matplotlib.figure.Figure at 0x37cc780>"
      ]
     },
     "metadata": {},
     "output_type": "display_data"
    }
   ],
   "source": [
    "collectionName = '2008trial4'\n",
    "#print db[collectionName]\n",
    "results = volume_reduction_and_runoff_volume_vs_lid_number(collectionName)\n",
    "length = len(results[\"outflow_series\"][1])\n",
    "x = range(0,length)\n",
    "(fig, ax1) = plt.subplots()\n",
    "ax1.plot(x,results[\"outflow_series\"][1],'ko',color = 'b',markersize = 1)\n",
    "ax1.plot(x,results[\"outflow_series\"][9],'ko',color = 'y',markersize = 1)\n",
    "ax1.set_xlabel(\"minutes\",fontsize=12)\n",
    "ax1.set_ylabel(\"cso flow (cfs)\",fontsize=12)\n",
    "\n"
   ]
  },
  {
   "cell_type": "code",
   "execution_count": 5,
   "metadata": {
    "collapsed": false
   },
   "outputs": [],
   "source": [
    "def calculate_cso(outflow_values, ratio):\n",
    "    cso_flow = 0\n",
    "    hours = 0\n",
    "    tot_flow = 0\n",
    "    max_treatment = 3122*ratio #max cfs allowed to treatment\n",
    "    tot = len(outflow_values)\n",
    "    for i in outflow_values: #out_variables is list within list (though outer list is just one element) (cfs/impervious acres)\n",
    "        if i > max_treatment:  #ratio method--- \n",
    "            #print i\n",
    "            tot_flow += i\n",
    "            cso = i - max_treatment # subtracting treated from total outflow\n",
    "            cso_flow += cso \n",
    "            hours += 1\n",
    "    tot_volume = tot_flow*900*7.48052 #convert to gallons, 900 seconds in 15 minutes\n",
    "    cso_volume = cso_flow*900*7.48052 #for seconds in 15 minutes\n",
    "    #equiv_rat = cso_volume/tot_volume  #equivalency ratio\n",
    "    treated_volume = tot_volume - cso_volume\n",
    "    #print tot_volume\n",
    "    return cso_volume"
   ]
  },
  {
   "cell_type": "code",
   "execution_count": 21,
   "metadata": {
    "collapsed": false
   },
   "outputs": [
    {
     "name": "stdout",
     "output_type": "stream",
     "text": [
      "[1435544189.8723814, 1434249798.8422358, 1432956471.542025, 1431656835.9193063, 1430365104.2140188, 1429065697.4952114, 1427777991.8057873, 1426487492.1421447, 1425185042.3478003, 1423897706.9441152]\n"
     ]
    },
    {
     "data": {
      "text/plain": [
       "[<matplotlib.lines.Line2D at 0xab3c828>]"
      ]
     },
     "execution_count": 21,
     "metadata": {},
     "output_type": "execute_result"
    },
    {
     "data": {
      "image/png": "[encoded data removed]",
      "text/plain": [
       "<matplotlib.figure.Figure at 0xa8112e8>"
      ]
     },
     "metadata": {},
     "output_type": "display_data"
    }
   ],
   "source": [
    "cso_list = []\n",
    "for i in range(0,10):\n",
    "    cso = calculate_cso(results[\"outflow_series\"][i],0.01)\n",
    "    cso_list.append(cso)\n",
    "print cso_list\n",
    "lid_num = range(0,len(cso_list))\n",
    "plt.plot(x, cso_list)\n",
    "    \n",
    "    "
   ]
  },
  {
   "cell_type": "code",
   "execution_count": 23,
   "metadata": {
    "collapsed": false
   },
   "outputs": [
    {
     "data": {
      "text/plain": [
       "<matplotlib.text.Text at 0xaeb4978>"
      ]
     },
     "execution_count": 23,
     "metadata": {},
     "output_type": "execute_result"
    },
    {
     "data": {
      "image/png": "[encoded data removed]",
      "text/plain": [
       "<matplotlib.figure.Figure at 0xafd3358>"
      ]
     },
     "metadata": {},
     "output_type": "display_data"
    }
   ],
   "source": [
    "length = len(results[\"outflow_series\"][1])\n",
    "x = range(0,length)\n",
    "(fig, ax1) = plt.subplots()\n",
    "ax1.plot(x,results[\"outflow_series\"][0],'ko',color = 'b',markersize = 1)\n",
    "ax1.set_xlabel(\"minutes\",fontsize=12)\n",
    "ax1.set_ylabel(\"cso flow (cfs)\",fontsize=12)"
   ]
  },
  {
   "cell_type": "code",
   "execution_count": null,
   "metadata": {
    "collapsed": true
   },
   "outputs": [],
   "source": []
  }
 ],
 "metadata": {
  "anaconda-cloud": {},
  "kernelspec": {
   "display_name": "Python [Root]",
   "language": "python",
   "name": "Python [Root]"
  },
  "language_info": {
   "codemirror_mode": {
    "name": "ipython",
    "version": 2
   },
   "file_extension": ".py",
   "mimetype": "text/x-python",
   "name": "python",
   "nbconvert_exporter": "python",
   "pygments_lexer": "ipython2",
   "version": "2.7.12"
  }
 },
 "nbformat": 4,
 "nbformat_minor": 0
}
