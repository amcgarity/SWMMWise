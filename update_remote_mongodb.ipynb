{
 "cells": [
  {
   "cell_type": "code",
   "execution_count": 1,
   "metadata": {
    "collapsed": false
   },
   "outputs": [
    {
     "data": {
      "text/plain": [
       "[u'y16m01d22']"
      ]
     },
     "execution_count": 1,
     "metadata": {},
     "output_type": "execute_result"
    }
   ],
   "source": [
    "from pymongo import MongoClient\n",
    "from datetime import datetime\n",
    "\n",
    "\n",
    "\n",
    "collectionNames"
   ]
  },
  {
   "cell_type": "code",
   "execution_count": 7,
   "metadata": {
    "collapsed": false
   },
   "outputs": [
    {
     "data": {
      "text/plain": [
       "[u'y16m01d22', u'y16m01d23', u'y16m01d23_loop_test_1']"
      ]
     },
     "execution_count": 7,
     "metadata": {},
     "output_type": "execute_result"
    }
   ],
   "source": [
    "remote = MongoClient('mongodb://server.mcgarity.info:27017')\n",
    "dbremote = remote.swmmwiseDebug\n",
    "remotecollections = sorted(dbremote.collection_names())\n",
    "remotecollections"
   ]
  },
  {
   "cell_type": "code",
   "execution_count": 3,
   "metadata": {
    "collapsed": false
   },
   "outputs": [
    {
     "data": {
      "text/plain": [
       "[u'y16m01d22',\n",
       " u'y16m01d23',\n",
       " u'y16m01d23_loop_test_1',\n",
       " u'y16m01d23_loop_test_2',\n",
       " u'y16m01d23_loop_test_3',\n",
       " u'y16m01d23_loop_test_4',\n",
       " u'y16m01d23_loop_test_5',\n",
       " u'y16m01d23_loop_test_6',\n",
       " u'y16m01d24_loop_test_1']"
      ]
     },
     "execution_count": 3,
     "metadata": {},
     "output_type": "execute_result"
    }
   ],
   "source": [
    "local = MongoClient()\n",
    "dblocal = local.swmmwiseDebug\n",
    "localcollections = sorted(dblocal.collection_names())\n",
    "localcollections"
   ]
  },
  {
   "cell_type": "code",
   "execution_count": 6,
   "metadata": {
    "collapsed": false
   },
   "outputs": [
    {
     "name": "stdout",
     "output_type": "stream",
     "text": [
      "Inserted: 56a3c6f7c10157a54bf39098\n",
      "Inserted: 56a3c707c10157a54bf39099\n",
      "Inserted: 56a3c715c10157a54bf3909a\n"
     ]
    }
   ],
   "source": [
    "collectionName = \"y16m01d23_loop_test_1\"\n",
    "fromdocs = dblocal[collectionName]\n",
    "todocs = dbremote[collectionName]\n",
    "cursor = fromdocs.find()\n",
    "for doc in cursor:\n",
    "    docId = todocs.insert_one(doc).inserted_id\n",
    "    print \"Inserted: %s\" % docId\n"
   ]
  },
  {
   "cell_type": "code",
   "execution_count": null,
   "metadata": {
    "collapsed": true
   },
   "outputs": [],
   "source": []
  }
 ],
 "metadata": {
  "kernelspec": {
   "display_name": "Python 2",
   "language": "python",
   "name": "python2"
  },
  "language_info": {
   "codemirror_mode": {
    "name": "ipython",
    "version": 2
   },
   "file_extension": ".py",
   "mimetype": "text/x-python",
   "name": "python",
   "nbconvert_exporter": "python",
   "pygments_lexer": "ipython2",
   "version": "2.7.11"
  }
 },
 "nbformat": 4,
 "nbformat_minor": 0
}
