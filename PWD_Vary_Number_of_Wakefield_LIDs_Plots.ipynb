{
 "cells": [
  {
   "cell_type": "markdown",
   "metadata": {},
   "source": [
    "## Plots for loop tests for which all subcats have the same number of a single LID"
   ]
  },
  {
   "cell_type": "code",
   "execution_count": 1,
   "metadata": {
    "collapsed": false
   },
   "outputs": [],
   "source": [
    "# IMPORTANT:  RUN THIS BLOCK FIRST\n",
    "# ONLY for loop tests for which all subcats have the same number of a single LID:\n",
    "%matplotlib inline\n",
    "from pymongo import MongoClient\n",
    "from datetime import datetime\n",
    "import matplotlib.pyplot as plt\n",
    "def volume_reduction_and_runoff_volume_vs_lid_number(collectionName):\n",
    "    mGal = 133680.5  # 1 Million gallon in cubic feet\n",
    "    runs = db[collectionName]\n",
    "    cursor = runs.find()\n",
    "    numList = []\n",
    "    volReductionList = []\n",
    "    totalSurfaceOutflowList = []\n",
    "    csoVolList=[]\n",
    "    noLidRun = cursor[0]\n",
    "    noLidVolume = noLidRun['volume']\n",
    "    for run in cursor:\n",
    "        runParamsZero = run['runParamList'][0] \n",
    "        number = runParamsZero['Number']\n",
    "        numList.append(number)\n",
    "        volume = run['volume']\n",
    "        volReduction = noLidVolume-volume\n",
    "        volReductionList.append(volReduction)\n",
    "        cso=run['cso_volume']\n",
    "        csoVolList.append(cso)\n",
    "        if run['lidDict'] == None:\n",
    "            totalSurfaceOutflowList.append(None)\n",
    "            continue\n",
    "        else:\n",
    "            totalSurfaceOutflow = 0.0\n",
    "            runParamList = run['runParamList']\n",
    "            lidDict = run['lidDict']\n",
    "            for lidUsage in runParamList:\n",
    "                lid = lidUsage['LID']\n",
    "                subcat = lidUsage['Subcat']\n",
    "                lidNumber = lidUsage['Number']\n",
    "                #print lidNumber,\n",
    "                lidArea = lidUsage['Area']  # in square feet\n",
    "                lidKey = subcat+' '+lid\n",
    "                surfaceOutflowInches = lidDict[lidKey]['Surface Outflow']\n",
    "                surfaceOutflow = surfaceOutflowInches*lidNumber*lidArea/12.0  # cubic feet\n",
    "                totalSurfaceOutflow += surfaceOutflow/mGal  # convert to million Gal/year\n",
    "                \n",
    "            #print totalSurfaceOutflow\n",
    "            totalSurfaceOutflowList.append(totalSurfaceOutflow)\n",
    "\n",
    "\n",
    "    return(numList, csoVolList, volReductionList, totalSurfaceOutflowList)"
   ]
  },
  {
   "cell_type": "markdown",
   "metadata": {},
   "source": [
    "### Show the collections that have been generated"
   ]
  },
  {
   "cell_type": "code",
   "execution_count": 2,
   "metadata": {
    "collapsed": false
   },
   "outputs": [
    {
     "data": {
      "text/plain": [
       "[u'2008annual_1', u'july', u'july2008_1']"
      ]
     },
     "execution_count": 2,
     "metadata": {},
     "output_type": "execute_result"
    }
   ],
   "source": [
    "from pymongo import MongoClient\n",
    "\n",
    "#  IMPORTANT:  Set these for each run:\n",
    "#################################################\n",
    "# mongoServer = None   # use the local mongodb server installed on your computer\n",
    "#mongoServer = 'mongodb://server.mcgarity.info:27017/'  # Art's personal server\n",
    "#mongoServer = 'mongodb://ubuntu:27017/'  # ubuntu Linux virtual machine on Art's Mac\n",
    "mongoServer = 'mongodb://aws-2.greenphilly.net:27017/'  # aws-2 server for GreenPhilly\n",
    "database = \"ewri2017\"\n",
    "username = \"arthur\"\n",
    "password = \"jXlIkLfu5Dfr\"\n",
    "authenticationDatabase = \"admin\"\n",
    "client = MongoClient(mongoServer)\n",
    "################################################\n",
    "\n",
    "db = client[database]\n",
    "db.authenticate(username, password, source=authenticationDatabase)  # pass credentials to database\n",
    "collectionNames = sorted(db.collection_names())\n",
    "collectionNames"
   ]
  },
  {
   "cell_type": "markdown",
   "metadata": {},
   "source": [
    "### Plot Results from Increasing numbers of Wakefield Raingardens in S1 - S6"
   ]
  },
  {
   "cell_type": "code",
   "execution_count": 3,
   "metadata": {
    "collapsed": false
   },
   "outputs": [
    {
     "name": "stdout",
     "output_type": "stream",
     "text": [
      "Collection(Database(MongoClient(host=['aws-2.greenphilly.net:27017'], document_class=dict, tz_aware=False, connect=True), u'ewri2017'), u'2008annual_1')\n"
     ]
    },
    {
     "ename": "KeyError",
     "evalue": "'cso_volume'",
     "output_type": "error",
     "traceback": [
      "\u001b[0;31m-------------------------------------\u001b[0m",
      "\u001b[0;31mKeyError\u001b[0mTraceback (most recent call last)",
      "\u001b[0;32m<ipython-input-3-2ebf0665a37e>\u001b[0m in \u001b[0;36m<module>\u001b[0;34m()\u001b[0m\n\u001b[1;32m      1\u001b[0m \u001b[0mcollectionName\u001b[0m \u001b[0;34m=\u001b[0m \u001b[0;34m'2008annual_1'\u001b[0m\u001b[0;34m\u001b[0m\u001b[0m\n\u001b[1;32m      2\u001b[0m \u001b[0;32mprint\u001b[0m \u001b[0mdb\u001b[0m\u001b[0;34m[\u001b[0m\u001b[0mcollectionName\u001b[0m\u001b[0;34m]\u001b[0m\u001b[0;34m\u001b[0m\u001b[0m\n\u001b[0;32m----> 3\u001b[0;31m \u001b[0mx\u001b[0m \u001b[0;34m=\u001b[0m \u001b[0mvolume_reduction_and_runoff_volume_vs_lid_number\u001b[0m\u001b[0;34m(\u001b[0m\u001b[0mcollectionName\u001b[0m\u001b[0;34m)\u001b[0m\u001b[0;34m\u001b[0m\u001b[0m\n\u001b[0m\u001b[1;32m      4\u001b[0m \u001b[0;32mprint\u001b[0m \u001b[0mx\u001b[0m\u001b[0;34m\u001b[0m\u001b[0m\n\u001b[1;32m      5\u001b[0m \u001b[0;34m(\u001b[0m\u001b[0mfig\u001b[0m\u001b[0;34m,\u001b[0m \u001b[0max1\u001b[0m\u001b[0;34m)\u001b[0m \u001b[0;34m=\u001b[0m \u001b[0mplt\u001b[0m\u001b[0;34m.\u001b[0m\u001b[0msubplots\u001b[0m\u001b[0;34m(\u001b[0m\u001b[0;34m)\u001b[0m\u001b[0;34m\u001b[0m\u001b[0m\n",
      "\u001b[0;32m<ipython-input-1-aee3c084a762>\u001b[0m in \u001b[0;36mvolume_reduction_and_runoff_volume_vs_lid_number\u001b[0;34m(collectionName)\u001b[0m\n\u001b[1;32m     22\u001b[0m         \u001b[0mvolReduction\u001b[0m \u001b[0;34m=\u001b[0m \u001b[0mnoLidVolume\u001b[0m\u001b[0;34m-\u001b[0m\u001b[0mvolume\u001b[0m\u001b[0;34m\u001b[0m\u001b[0m\n\u001b[1;32m     23\u001b[0m         \u001b[0mvolReductionList\u001b[0m\u001b[0;34m.\u001b[0m\u001b[0mappend\u001b[0m\u001b[0;34m(\u001b[0m\u001b[0mvolReduction\u001b[0m\u001b[0;34m)\u001b[0m\u001b[0;34m\u001b[0m\u001b[0m\n\u001b[0;32m---> 24\u001b[0;31m         \u001b[0mcso\u001b[0m\u001b[0;34m=\u001b[0m\u001b[0mrun\u001b[0m\u001b[0;34m[\u001b[0m\u001b[0;34m'cso_volume'\u001b[0m\u001b[0;34m]\u001b[0m\u001b[0;34m\u001b[0m\u001b[0m\n\u001b[0m\u001b[1;32m     25\u001b[0m         \u001b[0mcsoVolList\u001b[0m\u001b[0;34m.\u001b[0m\u001b[0mappend\u001b[0m\u001b[0;34m(\u001b[0m\u001b[0mcso\u001b[0m\u001b[0;34m)\u001b[0m\u001b[0;34m\u001b[0m\u001b[0m\n\u001b[1;32m     26\u001b[0m         \u001b[0;32mif\u001b[0m \u001b[0mrun\u001b[0m\u001b[0;34m[\u001b[0m\u001b[0;34m'lidDict'\u001b[0m\u001b[0;34m]\u001b[0m \u001b[0;34m==\u001b[0m \u001b[0mNone\u001b[0m\u001b[0;34m:\u001b[0m\u001b[0;34m\u001b[0m\u001b[0m\n",
      "\u001b[0;31mKeyError\u001b[0m: 'cso_volume'"
     ]
    }
   ],
   "source": [
    "collectionName = '2008annual_1'\n",
    "print db[collectionName]\n",
    "x = volume_reduction_and_runoff_volume_vs_lid_number(collectionName)\n",
    "print x\n",
    "(fig, ax1) = plt.subplots()\n",
    "ax1.plot(x[0],x[1],'ko',markersize = 5)\n",
    "ax1.set_xlabel(\"Number of LID\",fontsize=12)\n",
    "ax1.set_ylabel(\"CSO Volume Reduction (Mgal/yr)\",fontsize=12)\n",
    "ax2 = ax1.twinx()\n",
    "ax2.plot(x[0],x[2],'ro',markersize = 5)\n",
    "ax2.set_ylabel(\"Runoff Volume Reduction (Mgal/yr)\",fontsize=12)\n",
    "plt.title('Total Lid in Wingohocking',fontsize=20)\n"
   ]
  },
  {
   "cell_type": "code",
   "execution_count": null,
   "metadata": {
    "collapsed": true
   },
   "outputs": [],
   "source": []
  }
 ],
 "metadata": {
  "anaconda-cloud": {},
  "kernelspec": {
   "display_name": "Python [Root]",
   "language": "python",
   "name": "Python [Root]"
  },
  "language_info": {
   "codemirror_mode": {
    "name": "ipython",
    "version": 2
   },
   "file_extension": ".py",
   "mimetype": "text/x-python",
   "name": "python",
   "nbconvert_exporter": "python",
   "pygments_lexer": "ipython2",
   "version": "2.7.12"
  }
 },
 "nbformat": 4,
 "nbformat_minor": 0
}
