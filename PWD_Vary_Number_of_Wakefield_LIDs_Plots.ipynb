{
 "cells": [
  {
   "cell_type": "markdown",
   "metadata": {},
   "source": [
    "## Plots for loop tests for which all subcats have the same number of a single LID"
   ]
  },
  {
   "cell_type": "code",
   "execution_count": 1,
   "metadata": {
    "collapsed": false
   },
   "outputs": [],
   "source": [
    "# IMPORTANT:  RUN THIS BLOCK FIRST\n",
    "# ONLY for loop tests for which all subcats have the same number of a single LID:\n",
    "%matplotlib inline\n",
    "from pymongo import MongoClient\n",
    "from datetime import datetime\n",
    "import matplotlib.pyplot as plt\n",
    "def volume_reduction_and_runoff_volume_vs_lid_number(collectionName):\n",
    "    mGal = 133680.5  # 1 Million gallon in cubic feet\n",
    "    runs = db[collectionName]\n",
    "    cursor = runs.find()\n",
    "    numList = []\n",
    "    volReductionList = []\n",
    "    totalSurfaceOutflowList = []\n",
    "    csoVolList=[]\n",
    "    noLidRun = cursor[0]\n",
    "    noLidVolume = noLidRun['volume']\n",
    "    for run in cursor:\n",
    "        runParamsZero = run['runParamList'][0] \n",
    "        number = runParamsZero['Number']\n",
    "        numList.append(number)\n",
    "        volume = run['volume']\n",
    "        volReduction = noLidVolume-volume\n",
    "        volReductionList.append(volReduction)\n",
    "        cso=run['cso_volume']\n",
    "        csoVolList.append(cso)\n",
    "        if run['lidDict'] == None:\n",
    "            totalSurfaceOutflowList.append(None)\n",
    "            continue\n",
    "        else:\n",
    "            totalSurfaceOutflow = 0.0\n",
    "            runParamList = run['runParamList']\n",
    "            lidDict = run['lidDict']\n",
    "            for lidUsage in runParamList:\n",
    "                lid = lidUsage['LID']\n",
    "                subcat = lidUsage['Subcat']\n",
    "                lidNumber = lidUsage['Number']\n",
    "                #print lidNumber,\n",
    "                lidArea = lidUsage['Area']  # in square feet\n",
    "                lidKey = subcat+' '+lid\n",
    "                surfaceOutflowInches = lidDict[lidKey]['Surface Outflow']\n",
    "                surfaceOutflow = surfaceOutflowInches*lidNumber*lidArea/12.0  # cubic feet\n",
    "                totalSurfaceOutflow += surfaceOutflow/mGal  # convert to million Gal/year\n",
    "                \n",
    "            #print totalSurfaceOutflow\n",
    "            totalSurfaceOutflowList.append(totalSurfaceOutflow)\n",
    "\n",
    "\n",
    "    return(numList, csoVolList, volReductionList, totalSurfaceOutflowList)"
   ]
  },
  {
   "cell_type": "markdown",
   "metadata": {},
   "source": [
    "### Show the collections that have been generated"
   ]
  },
  {
   "cell_type": "code",
   "execution_count": 2,
   "metadata": {
    "collapsed": false
   },
   "outputs": [
    {
     "data": {
      "text/plain": [
       "[u'july']"
      ]
     },
     "execution_count": 2,
     "metadata": {},
     "output_type": "execute_result"
    }
   ],
   "source": [
    "from pymongo import MongoClient\n",
    "\n",
    "#  IMPORTANT:  Set these for each run:\n",
    "#################################################\n",
    "# mongoServer = None   # use the local mongodb server installed on your computer\n",
    "#mongoServer = 'mongodb://server.mcgarity.info:27017/'  # Art's personal server\n",
    "#mongoServer = 'mongodb://ubuntu:27017/'  # ubuntu Linux virtual machine on Art's Mac\n",
    "mongoServer = 'mongodb://aws-2.greenphilly.net:27017/'  # aws-2 server for GreenPhilly\n",
    "database = \"ewri2017\"\n",
    "username = \"arthur\"\n",
    "password = \"jXlIkLfu5Dfr\"\n",
    "authenticationDatabase = \"admin\"\n",
    "collection = 'july'\n",
    "client = MongoClient(mongoServer)\n",
    "################################################\n",
    "\n",
    "db = client[database]\n",
    "db.authenticate(username, password, source=authenticationDatabase)  # pass credentials to database\n",
    "collectionNames = sorted(db.collection_names())\n",
    "collectionNames"
   ]
  },
  {
   "cell_type": "markdown",
   "metadata": {},
   "source": [
    "### Plot Results from Increasing numbers of Wakefield Raingardens in S1 - S6"
   ]
  },
  {
   "cell_type": "code",
   "execution_count": 4,
   "metadata": {
    "collapsed": false
   },
   "outputs": [
    {
     "name": "stdout",
     "output_type": "stream",
     "text": [
      "Collection(Database(MongoClient('aws-2.greenphilly.net', 27017), u'ewri2017'), u'july')\n",
      "([0, 1, 2, 3, 4, 5, 6, 7, 8, 9, 10, 11, 12, 13, 14, 15, 16, 17, 18, 19, 20], [0.0, 0.0, 0.0, 0.0, 0.0, 0.0, 0.0, 0.0, 0.0, 0.0, 0.0, 0.0, 0.0, 0.0, 0.0, 0.0, 0.0, 0.0, 0.0, 0.0, 0.0], [0.0, 0.11199999999999477, 0.22299999999998477, 0.3340000000000032, 0.4449999999999932, 0.556999999999988, 0.6680000000000064, 0.7789999999999964, 0.8899999999999864, 1.0019999999999811, 1.1129999999999995, 1.225999999999999, 1.335000000000008, 1.4470000000000027, 1.5579999999999927, 1.6680000000000064, 1.781000000000006, 1.8930000000000007, 2.002999999999986, 2.115000000000009, 2.2239999999999895], [None, 0.032514708577541226, 0.06502941715508245, 0.09741940671975344, 0.12991101918380019, 0.16213471673131086, 0.19453394474137964, 0.22747362180721942, 0.25948945433327975, 0.29159305209061903, 0.32422324123563273, 0.35649313101013236, 0.38956676553424013, 0.4205294152849518, 0.45339518478760926, 0.4861962851724821, 0.5176485725292769, 0.5493733940253066, 0.5821052060696961, 0.6140933232595629, 0.6470607156615962])\n"
     ]
    },
    {
     "data": {
      "text/plain": [
       "<matplotlib.text.Text at 0x105c01250>"
      ]
     },
     "execution_count": 4,
     "metadata": {},
     "output_type": "execute_result"
    },
    {
     "data": {
      "image/png": "[encoded data removed]",
      "text/plain": [
       "<matplotlib.figure.Figure at 0x1057816d0>"
      ]
     },
     "metadata": {},
     "output_type": "display_data"
    }
   ],
   "source": [
    "collectionName = 'july'\n",
    "print db[collectionName]\n",
    "x = volume_reduction_and_runoff_volume_vs_lid_number(collectionName)\n",
    "print x\n",
    "(fig, ax1) = plt.subplots()\n",
    "ax1.plot(x[0],x[1],'ko',markersize = 5)\n",
    "ax1.set_xlabel(\"Number of LID\",fontsize=12)\n",
    "ax1.set_ylabel(\"CSO Volume Reduction (Mgal/yr)\",fontsize=12)\n",
    "ax2 = ax1.twinx()\n",
    "ax2.plot(x[0],x[2],'ro',markersize = 5)\n",
    "ax2.set_ylabel(\"Runoff Volume Reduction (Mgal/yr)\",fontsize=12)\n",
    "plt.title('Total Lid in Wingohocking',fontsize=20)\n"
   ]
  },
  {
   "cell_type": "code",
   "execution_count": null,
   "metadata": {
    "collapsed": true
   },
   "outputs": [],
   "source": []
  }
 ],
 "metadata": {
  "anaconda-cloud": {},
  "kernelspec": {
   "display_name": "Python 2",
   "language": "python",
   "name": "python2"
  },
  "language_info": {
   "codemirror_mode": {
    "name": "ipython",
    "version": 2
   },
   "file_extension": ".py",
   "mimetype": "text/x-python",
   "name": "python",
   "nbconvert_exporter": "python",
   "pygments_lexer": "ipython2",
   "version": "2.7.11"
  }
 },
 "nbformat": 4,
 "nbformat_minor": 0
}
