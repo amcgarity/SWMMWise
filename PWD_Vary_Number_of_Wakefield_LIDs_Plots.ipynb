{
 "cells": [
  {
   "cell_type": "markdown",
   "metadata": {},
   "source": [
    "## Plots for loop tests for which all subcats have the same number of a single LID"
   ]
  },
  {
   "cell_type": "code",
   "execution_count": 1,
   "metadata": {
    "collapsed": false
   },
   "outputs": [],
   "source": [
    "# IMPORTANT:  RUN THIS BLOCK FIRST\n",
    "# ONLY for loop tests for which all subcats have the same number of a single LID:\n",
    "%matplotlib inline\n",
    "from pymongo import MongoClient\n",
    "from datetime import datetime\n",
    "import matplotlib.pyplot as plt\n",
    "def volume_reduction_and_runoff_volume_vs_lid_number(collectionName):\n",
    "    mGal = 133680.5  # 1 Million gallon in cubic feet\n",
    "    runs = db[collectionName]\n",
    "    cursor = runs.find()\n",
    "    numList = []\n",
    "    volReductionList = []\n",
    "    totalSurfaceOutflowList = []\n",
    "    csoVolList=[]\n",
    "    noLidRun = cursor[0]\n",
    "    noLidVolume = noLidRun['volume']\n",
    "    for run in cursor:\n",
    "        runParamsZero = run['runParamList'][0] \n",
    "        number = runParamsZero['Number']\n",
    "        numList.append(number)\n",
    "        volume = run['volume']\n",
    "        volReduction = noLidVolume-volume\n",
    "        volReductionList.append(volReduction)\n",
    "        cso=run['cso_volume']\n",
    "        csoVolList.append(cso)\n",
    "        if run['lidDict'] == None:\n",
    "            totalSurfaceOutflowList.append(None)\n",
    "            continue\n",
    "        else:\n",
    "            totalSurfaceOutflow = 0.0\n",
    "            runParamList = run['runParamList']\n",
    "            lidDict = run['lidDict']\n",
    "            for lidUsage in runParamList:\n",
    "                lid = lidUsage['LID']\n",
    "                subcat = lidUsage['Subcat']\n",
    "                lidNumber = lidUsage['Number']\n",
    "                #print lidNumber,\n",
    "                lidArea = lidUsage['Area']  # in square feet\n",
    "                lidKey = subcat+' '+lid\n",
    "                surfaceOutflowInches = lidDict[lidKey]['Surface Outflow']\n",
    "                surfaceOutflow = surfaceOutflowInches*lidNumber*lidArea/12.0  # cubic feet\n",
    "                totalSurfaceOutflow += surfaceOutflow/mGal  # convert to million Gal/year\n",
    "                \n",
    "            #print totalSurfaceOutflow\n",
    "            totalSurfaceOutflowList.append(totalSurfaceOutflow)\n",
    "\n",
    "\n",
    "    return(numList, csoVolList, volReductionList, totalSurfaceOutflowList)"
   ]
  },
  {
   "cell_type": "markdown",
   "metadata": {},
   "source": [
    "### Show the collections that have been generated"
   ]
  },
  {
   "cell_type": "code",
   "execution_count": 2,
   "metadata": {
    "collapsed": false
   },
   "outputs": [
    {
     "data": {
      "text/plain": [
       "[u'first_wingo_test',\n",
       " u'fourth_wingo_test',\n",
       " u'july',\n",
       " u'second_wingo_test',\n",
       " u'y16m10d11_demonstrate_runswmm_on_aws-2']"
      ]
     },
     "execution_count": 2,
     "metadata": {},
     "output_type": "execute_result"
    }
   ],
   "source": [
    "from pymongo import MongoClient\n",
    "\n",
    "#  IMPORTANT:  Set these for each run:\n",
    "#################################################\n",
    "# mongoServer = None   # use the local mongodb server installed on your computer\n",
    "#mongoServer = 'mongodb://server.mcgarity.info:27017/'  # Art's personal server\n",
    "#mongoServer = 'mongodb://ubuntu:27017/'  # ubuntu Linux virtual machine on Art's Mac\n",
    "mongoServer = 'mongodb://aws-2.greenphilly.net:27017/'  # aws-2 server for GreenPhilly\n",
    "database = \"jcohen4\"\n",
    "username = \"jcohen4\"\n",
    "password = \"wingohocking\"\n",
    "authenticationDatabase = \"jcohen4\"\n",
    "collection = 'july'\n",
    "client = MongoClient(mongoServer)\n",
    "################################################\n",
    "\n",
    "db = client[database]\n",
    "db.authenticate(username, password, source=authenticationDatabase)  # pass credentials to database\n",
    "collectionNames = sorted(db.collection_names())\n",
    "collectionNames"
   ]
  },
  {
   "cell_type": "markdown",
   "metadata": {},
   "source": [
    "### Plot Results from Increasing numbers of Wakefield Raingardens in S1 - S6"
   ]
  },
  {
   "cell_type": "code",
   "execution_count": 3,
   "metadata": {
    "collapsed": false
   },
   "outputs": [
    {
     "name": "stdout",
     "output_type": "stream",
     "text": [
      "Collection(Database(MongoClient(host=['aws-2.greenphilly.net:27017'], document_class=dict, tz_aware=False, connect=True), u'jcohen4'), u'july')\n",
      "([0, 1, 2, 3, 4, 5, 6, 7, 8, 9, 10, 11, 12, 13, 14, 15, 16, 17, 18, 19, 20, 0, 1, 2, 3, 4, 5, 6, 7, 8, 9, 10, 11, 12, 13, 14, 15, 16, 17, 18, 19, 20], [0.0, 0.0, 0.0, 0.0, 0.0, 0.0, 0.0, 0.0, 0.0, 0.0, 0.0, 0.0, 0.0, 0.0, 0.0, 0.0, 0.0, 0.0, 0.0, 0.0, 0.0, 0.0, 0.0, 0.0, 0.0, 0.0, 0.0, 0.0, 0.0, 0.0, 0.0, 0.0, 0.0, 0.0, 0.0, 0.0, 0.0, 0.0, 0.0, 0.0, 0.0, 0.0], [0.0, 0.11199999999999477, 0.22499999999999432, 0.3359999999999843, 0.4480000000000075, 0.5600000000000023, 0.6730000000000018, 0.7839999999999918, 0.8969999999999914, 1.0079999999999814, 1.120999999999981, 1.233000000000004, 1.3449999999999989, 1.4569999999999936, 1.5670000000000073, 1.6809999999999832, 1.7920000000000016, 1.9029999999999916, 2.016999999999996, 2.127999999999986, 2.2409999999999854, 0.0, 0.11199999999999477, 0.22499999999999432, 0.3359999999999843, 0.4480000000000075, 0.5600000000000023, 0.6730000000000018, 0.7839999999999918, 0.8969999999999914, 1.0079999999999814, 1.120999999999981, 1.233000000000004, 1.3449999999999989, 1.4569999999999936, 1.5670000000000073, 1.6809999999999832, 1.7920000000000016, 1.9029999999999916, 2.016999999999996, 2.127999999999986, 2.2409999999999854], [None, 0.03256552002722911, 0.06512180160906042, 0.0976965600816873, 0.1300773112009605, 0.16275831179566205, 0.19478338276712012, 0.22773229827835773, 0.25963726945964444, 0.2923413661678405, 0.3243156256896107, 0.3565439424598202, 0.3893450428446931, 0.42106986434072285, 0.4549472436144389, 0.48564197844861445, 0.517870295218824, 0.5505512958135255, 0.5828535201469175, 0.6149709755723535, 0.6463216400297724, None, 0.03256552002722911, 0.06512180160906042, 0.0976965600816873, 0.1300773112009605, 0.16275831179566205, 0.19478338276712012, 0.22773229827835773, 0.25963726945964444, 0.2923413661678405, 0.3243156256896107, 0.3565439424598202, 0.3893450428446931, 0.42106986434072285, 0.4549472436144389, 0.48564197844861445, 0.517870295218824, 0.5505512958135255, 0.5828535201469175, 0.6149709755723535, 0.6463216400297724])\n"
     ]
    },
    {
     "data": {
      "text/plain": [
       "<matplotlib.text.Text at 0x6a91e80>"
      ]
     },
     "execution_count": 3,
     "metadata": {},
     "output_type": "execute_result"
    },
    {
     "data": {
      "image/png": "[encoded data removed]",
      "text/plain": [
       "<matplotlib.figure.Figure at 0x399d0f0>"
      ]
     },
     "metadata": {},
     "output_type": "display_data"
    }
   ],
   "source": [
    "collectionName = 'july'\n",
    "print db[collectionName]\n",
    "x = volume_reduction_and_runoff_volume_vs_lid_number(collectionName)\n",
    "print x\n",
    "(fig, ax1) = plt.subplots()\n",
    "ax1.plot(x[0],x[1],'ko',markersize = 5)\n",
    "ax1.set_xlabel(\"Number of LID\",fontsize=12)\n",
    "ax1.set_ylabel(\"Volume Reduction (Mgal/yr)\",fontsize=12)\n",
    "ax2 = ax1.twinx()\n",
    "ax2.plot(x[0],x[2],'ro',markersize = 5)\n",
    "ax2.set_ylabel(\"Surface Outflow from all LID (Mgal/yr)\",fontsize=12)\n",
    "plt.title('Total Lid in Wingohocking',fontsize=20)\n"
   ]
  },
  {
   "cell_type": "code",
   "execution_count": null,
   "metadata": {
    "collapsed": true
   },
   "outputs": [],
   "source": []
  }
 ],
 "metadata": {
  "anaconda-cloud": {},
  "kernelspec": {
   "display_name": "Python [Root]",
   "language": "python",
   "name": "Python [Root]"
  },
  "language_info": {
   "codemirror_mode": {
    "name": "ipython",
    "version": 2
   },
   "file_extension": ".py",
   "mimetype": "text/x-python",
   "name": "python",
   "nbconvert_exporter": "python",
   "pygments_lexer": "ipython2",
   "version": "2.7.12"
  }
 },
 "nbformat": 4,
 "nbformat_minor": 0
}
