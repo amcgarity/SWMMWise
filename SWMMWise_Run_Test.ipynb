{
 "cells": [
  {
   "cell_type": "markdown",
   "metadata": {},
   "source": [
    "### Load imports and run the no LID case:"
   ]
  },
  {
   "cell_type": "code",
   "execution_count": 22,
   "metadata": {
    "collapsed": false
   },
   "outputs": [
    {
     "name": "stdout",
     "output_type": "stream",
     "text": [
      "Once deleted, variables cannot be recovered. Proceed (y/[n])? y\n",
      "Stored record 56a3a3b0abd22f9c8ac220c0 for no LID parameters, peak = 21.52, volume = 15.563\n"
     ]
    }
   ],
   "source": [
    "%reset\n",
    "import yaml\n",
    "from swmm_objects import *\n",
    "from swmm_read import *\n",
    "from swmm_run import runswmm\n",
    "from subprocess import call\n",
    "from pymongo import MongoClient\n",
    "from datetime import datetime\n",
    "import sys\n",
    "def runSWMM(runsCollection,runParamList):\n",
    "    dateTime = datetime.now()\n",
    "    (peak,volume,lidDict) = runswmm(runParamList)\n",
    "    run = { \"peak\": peak, \"volume\": volume, \"lidDict\": lidDict, \"runParamList\": runParamList,\n",
    "            \"dateTime\": dateTime}\n",
    "    doc_id = runsCollection.insert_one(run).inserted_id\n",
    "    return doc_id\n",
    "    # print \"Successfully stored %s\" % doc_id\n",
    "#client = MongoClient('mongodb://server.mcgarity.info:27017/')\n",
    "client = MongoClient()\n",
    "db = client.swmmwiseDebug\n",
    "runsToday = db.y16m01d22\n",
    "f = open('runlist_start.yaml','r')   # Read the no LID changable parameters from file\n",
    "noLidList = yaml.load(f)  # list of dicts, one for each line in [LID_USAGE]\n",
    "noLidDocId = runSWMM(runsToday,noLidList)  # run SWMM on the no LID model for baseline\n",
    "cursor = runsToday.find_one({'_id':noLidDocId})\n",
    "noLidPeak = cursor['peak']\n",
    "noLidVolume = cursor['volume']\n",
    "print \"Stored record %s for no LID parameters, peak = %s, volume = %s\" % (noLidDocId,noLidPeak,noLidVolume)"
   ]
  },
  {
   "cell_type": "markdown",
   "metadata": {},
   "source": [
    "### Change ALL subcatchment LID numbers:"
   ]
  },
  {
   "cell_type": "code",
   "execution_count": 23,
   "metadata": {
    "collapsed": false
   },
   "outputs": [
    {
     "name": "stdout",
     "output_type": "stream",
     "text": [
      "Stored record 56a3a3c5abd22f9c8ac220c1 for new parameters: peak = 21.5, volume = 15.109\n",
      "peakReduction = 0.02, volumeReduction = 0.454\n"
     ]
    }
   ],
   "source": [
    "numberForAllLid = 1\n",
    "newRunList=list(noLidList)\n",
    "for lid in newRunList:\n",
    "    lid['Number'] = numberForAllLid\n",
    "newRunDocId = runSWMM(runsToday,newRunList)\n",
    "cursor = runsToday.find_one({'_id':newRunDocId})\n",
    "newPeak = cursor['peak']\n",
    "newVolume = cursor['volume']\n",
    "peakReduction = noLidPeak - newPeak\n",
    "volumeReduction = noLidVolume - newVolume\n",
    "print \"Stored record %s for new parameters: peak = %s, volume = %s\" % (newRunDocId,newPeak,newVolume)\n",
    "print \"peakReduction = %s, volumeReduction = %s\" % (peakReduction,volumeReduction)"
   ]
  },
  {
   "cell_type": "code",
   "execution_count": 5,
   "metadata": {
    "collapsed": false
   },
   "outputs": [
    {
     "data": {
      "text/plain": [
       "{u'_id': ObjectId('56a2d17fabd22f9c8ac220ba'),\n",
       " u'dateTime': datetime.datetime(2016, 1, 22, 20, 3, 47, 662000),\n",
       " u'lidDict': None,\n",
       " u'peak': 21.52,\n",
       " u'runParamList': [{u'Area': 741,\n",
       "   u'FromImp': 100,\n",
       "   u'LID': u'wakefield_BR_RG',\n",
       "   u'Number': 0,\n",
       "   u'Subcat': u'S1',\n",
       "   u'Width': 0}],\n",
       " u'volume': 15.563}"
      ]
     },
     "execution_count": 5,
     "metadata": {},
     "output_type": "execute_result"
    }
   ],
   "source": [
    "runs = db.y16m01d22\n",
    "cursor = runs.find()\n",
    "last = cursor.count()-1\n",
    "cursor[last]"
   ]
  },
  {
   "cell_type": "code",
   "execution_count": 21,
   "metadata": {
    "collapsed": false
   },
   "outputs": [
    {
     "name": "stdout",
     "output_type": "stream",
     "text": [
      "{u'lidDict': None, u'dateTime': datetime.datetime(2016, 1, 22, 20, 44, 14, 282000), u'volume': 15.563, u'peak': 21.52, u'runParamList': [{u'LID': u'wakefield_BR_RG', u'Subcat': u'S1', u'Area': 741, u'Number': 0, u'Width': 0, u'FromImp': 100}], u'_id': ObjectId('56a2dafaabd22f9c8ac220bb')}\n",
      "\n",
      "{u'lidDict': {u'S1 wakefield_BR_RG': {u'Infil Loss': 966.44, u'Total Inflow': 5250.33, u'Evap Loss': 21.2, u'Surface Outflow': 4262.7, u'Continuity Error': -0.0, u'Initial Storage': 0.3, u'Final Storage': 0.5, u'Drain Outflow': 0.0}}, u'dateTime': datetime.datetime(2016, 1, 22, 21, 18, 59, 274000), u'volume': 15.109, u'peak': 21.5, u'runParamList': [{u'LID': u'wakefield_BR_RG', u'Subcat': u'S1', u'Area': 741, u'Number': 1, u'Width': 0, u'FromImp': 100}], u'_id': ObjectId('56a2e31fabd22f9c8ac220bf')}\n"
     ]
    }
   ],
   "source": [
    "runs = db.y16m01d22\n",
    "cursor = runs.find_one({'_id':noLidDocId})\n",
    "print cursor\n",
    "print ''\n",
    "cursor = runs.find_one({'_id':newRunDocId})\n",
    "print cursor"
   ]
  },
  {
   "cell_type": "code",
   "execution_count": null,
   "metadata": {
    "collapsed": true
   },
   "outputs": [],
   "source": []
  }
 ],
 "metadata": {
  "kernelspec": {
   "display_name": "Python 2",
   "language": "python",
   "name": "python2"
  },
  "language_info": {
   "codemirror_mode": {
    "name": "ipython",
    "version": 2
   },
   "file_extension": ".py",
   "mimetype": "text/x-python",
   "name": "python",
   "nbconvert_exporter": "python",
   "pygments_lexer": "ipython2",
   "version": "2.7.11"
  }
 },
 "nbformat": 4,
 "nbformat_minor": 0
}
