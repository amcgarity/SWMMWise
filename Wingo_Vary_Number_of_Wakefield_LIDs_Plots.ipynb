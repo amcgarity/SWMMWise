{
 "cells": [
  {
   "cell_type": "markdown",
   "metadata": {},
   "source": [
    "## Plots for loop tests for which all subcats have the same number of a single LID"
   ]
  },
  {
   "cell_type": "code",
   "execution_count": 10,
   "metadata": {
    "collapsed": true
   },
   "outputs": [],
   "source": [
    "# IMPORTANT:  RUN THIS BLOCK FIRST\n",
    "# ONLY for loop tests for which all subcats have the same number of a single LID:\n",
    "%matplotlib inline\n",
    "from pymongo import MongoClient\n",
    "from datetime import datetime\n",
    "import matplotlib.pyplot as plt\n",
    "def volume_reduction_and_runoff_volume_vs_lid_number(collectionName):\n",
    "    mGal = 133680.5  # 1 Million gallon in cubic feet\n",
    "    runs = db[collectionName]\n",
    "    cursor = runs.find()\n",
    "    numList = []\n",
    "    volReductionList = []\n",
    "    totalSurfaceOutflowList = []\n",
    "    noLidRun = cursor[0]\n",
    "    noLidVolume = noLidRun['volume']\n",
    "    for run in cursor:\n",
    "        runParamsZero = run['runParamList'][0] \n",
    "        number = runParamsZero['Number']\n",
    "        numList.append(number)\n",
    "        volume = run['volume']\n",
    "        volReduction = noLidVolume-volume\n",
    "        volReductionList.append(volReduction)\n",
    "        if run['lidDict'] == None:\n",
    "            totalSurfaceOutflowList.append(None)\n",
    "            continue\n",
    "        else:\n",
    "            totalSurfaceOutflow = 0.0\n",
    "            runParamList = run['runParamList']\n",
    "            lidDict = run['lidDict']\n",
    "            for lidUsage in runParamList:\n",
    "                lid = lidUsage['LID']\n",
    "                subcat = lidUsage['Subcat']\n",
    "                lidNumber = lidUsage['Number']\n",
    "                #print lidNumber,\n",
    "                lidArea = lidUsage['Area']  # in square feet\n",
    "                lidKey = subcat+' '+lid\n",
    "                surfaceOutflowInches = lidDict[lidKey]['Surface Outflow']\n",
    "                surfaceOutflow = surfaceOutflowInches*lidNumber*lidArea/12.0  # cubic feet\n",
    "                totalSurfaceOutflow += surfaceOutflow/mGal  # convert to million Gal/year\n",
    "            #print totalSurfaceOutflow\n",
    "            totalSurfaceOutflowList.append(totalSurfaceOutflow)\n",
    "    return(numList,volReductionList,totalSurfaceOutflowList)"
   ]
  },
  {
   "cell_type": "markdown",
   "metadata": {},
   "source": [
    "### Show the collections that have been generated"
   ]
  },
  {
   "cell_type": "code",
   "execution_count": 4,
   "metadata": {
    "collapsed": false
   },
   "outputs": [
    {
     "data": {
      "text/plain": [
       "[u'y16m10d11_demonstrate_runswmm_on_aws-2']"
      ]
     },
     "execution_count": 4,
     "metadata": {},
     "output_type": "execute_result"
    }
   ],
   "source": [
    "from pymongo import MongoClient\n",
    "\n",
    "#  IMPORTANT:  Set these for each run:\n",
    "#################################################\n",
    "# mongoServer = None   # use the local mongodb server installed on your computer\n",
    "#mongoServer = 'mongodb://server.mcgarity.info:27017/'  # Art's personal server\n",
    "#mongoServer = 'mongodb://ubuntu:27017/'  # ubuntu Linux virtual machine on Art's Mac\n",
    "mongoServer = 'mongodb://aws-2.greenphilly.net:27017/'  # aws-2 server for GreenPhilly\n",
    "database = \"jcohen4\"\n",
    "username = \"jcohen4\"\n",
    "password = \"wingohocking\"\n",
    "authenticationDatabase = \"jcohen4\"\n",
    "collection = 'y16m10d11_demonstrate_runswmm_on_aws-2'\n",
    "client = MongoClient(mongoServer)\n",
    "################################################\n",
    "\n",
    "db = client[database]\n",
    "db.authenticate(username, password, source=authenticationDatabase)  # pass credentials to database\n",
    "collectionNames = sorted(db.collection_names())\n",
    "collectionNames"
   ]
  },
  {
   "cell_type": "markdown",
   "metadata": {},
   "source": [
    "### Plot Results from Increasing numbers of Wakefield Raingardens in S1 - S6"
   ]
  },
  {
   "cell_type": "code",
   "execution_count": 15,
   "metadata": {
    "collapsed": false
   },
   "outputs": [
    {
     "name": "stdout",
     "output_type": "stream",
     "text": [
      "Collection(Database(MongoClient(host=['aws-2.greenphilly.net:27017'], document_class=dict, tz_aware=False, connect=True), u'jcohen4'), u'y16m10d11_demonstrate_runswmm_on_aws-2')\n"
     ]
    },
    {
     "data": {
      "text/plain": [
       "<matplotlib.text.Text at 0x96c5b70>"
      ]
     },
     "execution_count": 15,
     "metadata": {},
     "output_type": "execute_result"
    },
    {
     "data": {
      "image/png": "[encoded data removed]",
      "text/plain": [
       "<matplotlib.figure.Figure at 0x95bdbe0>"
      ]
     },
     "metadata": {},
     "output_type": "display_data"
    }
   ],
   "source": [
    "collectionName = 'y16m10d11_demonstrate_runswmm_on_aws-2'\n",
    "print db[collectionName]\n",
    "x = volume_reduction_and_runoff_volume_vs_lid_number(collectionName)\n",
    "#print x\n",
    "(fig, ax1) = plt.subplots()\n",
    "ax1.plot(numList,volReductionList,'ko',markersize = 5)\n",
    "ax1.set_xlabel(\"Number of LID\",fontsize=12)\n",
    "ax1.set_ylabel(\"Volume Reduction (Mgal/yr)\",fontsize=12)\n",
    "ax2 = ax1.twinx()\n",
    "ax2.plot(numList,totalSurfaceOutflowList,'ro',markersize = 5)\n",
    "ax2.set_ylabel(\"Surface Outflow from all LID (Mgal/yr)\",fontsize=12)\n",
    "plt.title('Total Lid in Wingohocking',fontsize=20)\n"
   ]
  },
  {
   "cell_type": "code",
   "execution_count": null,
   "metadata": {
    "collapsed": true
   },
   "outputs": [],
   "source": []
  }
 ],
 "metadata": {
  "kernelspec": {
   "display_name": "Python [Root]",
   "language": "python",
   "name": "Python [Root]"
  },
  "language_info": {
   "codemirror_mode": {
    "name": "ipython",
    "version": 2
   },
   "file_extension": ".py",
   "mimetype": "text/x-python",
   "name": "python",
   "nbconvert_exporter": "python",
   "pygments_lexer": "ipython2",
   "version": "2.7.12"
  }
 },
 "nbformat": 4,
 "nbformat_minor": 0
}
