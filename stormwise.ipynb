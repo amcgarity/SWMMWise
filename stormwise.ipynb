{
 "cells": [
  {
   "cell_type": "code",
   "execution_count": 1,
   "metadata": {
    "collapsed": false
   },
   "outputs": [],
   "source": [
    "import numpy as np\n",
    "import yaml\n",
    "f = open('wingohocking.yaml','r')\n",
    "doc = yaml.load(f)"
   ]
  },
  {
   "cell_type": "code",
   "execution_count": 24,
   "metadata": {
    "collapsed": false
   },
   "outputs": [
    {
     "data": {
      "text/plain": [
       "2"
      ]
     },
     "execution_count": 24,
     "metadata": {},
     "output_type": "execute_result"
    }
   ],
   "source": [
    "I = doc['I']\n",
    "J = doc['J']\n",
    "K = doc['K']\n",
    "T = doc['T']\n",
    "D = doc['D']\n",
    "convert = doc['convert']\n",
    "a = doc['a']\n",
    "b = doc['b']\n",
    "g = doc['g']\n",
    "deploy = doc['deploy']\n",
    "ownfr = doc['ownfr']\n",
    "area = doc['area']\n",
    "impfr = doc['impfr']\n",
    "nI = len(I)\n",
    "nJ = len(J)\n",
    "nK = len(K)\n",
    "nVars = nI*nJ*nK\n",
    "nT = len(T)\n",
    "nObjs = nT + 1  # number of benefits plus cost for Borg\n",
    "nObjs"
   ]
  },
  {
   "cell_type": "code",
   "execution_count": 27,
   "metadata": {
    "collapsed": false
   },
   "outputs": [],
   "source": [
    "u = {}\n",
    "bounds = []\n",
    "for i in sorted(I):\n",
    "    for j in sorted(J):\n",
    "        for k in sorted(K):\n",
    "            f = ownfr[i][j]*(deploy[k]['pervious']*(1-impfr[i]) + deploy[k]['impervious']*impfr[i])\n",
    "            upper = f*area[i]\n",
    "            u[(i,j,k)] = upper\n",
    "            bounds.append([0,upper])\n",
    "v = {}\n",
    "for i in sorted(I):\n",
    "    for k in sorted(K):\n",
    "        uSum = 0\n",
    "        for j in sorted(J):\n",
    "            uSum += u[(i,j,k)]\n",
    "        v[(i,k)] = round(uSum/g[k])\n"
   ]
  },
  {
   "cell_type": "code",
   "execution_count": 28,
   "metadata": {
    "collapsed": false
   },
   "outputs": [
    {
     "data": {
      "text/plain": [
       "{('private', '1_rain_garden'): 94387.51846200837,\n",
       " ('private', '2_tree_trench'): 75244.14238999691,\n",
       " ('public', '1_rain_garden'): 175757.78398963454,\n",
       " ('public', '2_tree_trench'): 140111.1496536423}"
      ]
     },
     "execution_count": 28,
     "metadata": {},
     "output_type": "execute_result"
    }
   ],
   "source": [
    "from math import log10\n",
    "# Calculate Cost Coefficients\n",
    "cost = {}\n",
    "for j in sorted(J):\n",
    "    for k in sorted(K):\n",
    "        costCoeff = 10**(a[j] - b[j]*log10(g[k]))\n",
    "        cost[(j,k)] = costCoeff\n",
    "cost"
   ]
  },
  {
   "cell_type": "code",
   "execution_count": 20,
   "metadata": {
    "collapsed": false
   },
   "outputs": [
    {
     "data": {
      "text/plain": [
       "[[0, 1], [0, 1], [0, 1], [0, 1]]"
      ]
     },
     "execution_count": 20,
     "metadata": {},
     "output_type": "execute_result"
    }
   ],
   "source": [
    "x = [[0,1]]*4\n",
    "x"
   ]
  },
  {
   "cell_type": "code",
   "execution_count": null,
   "metadata": {
    "collapsed": true
   },
   "outputs": [],
   "source": []
  }
 ],
 "metadata": {
  "kernelspec": {
   "display_name": "Python 2",
   "language": "python",
   "name": "python2"
  },
  "language_info": {
   "codemirror_mode": {
    "name": "ipython",
    "version": 2
   },
   "file_extension": ".py",
   "mimetype": "text/x-python",
   "name": "python",
   "nbconvert_exporter": "python",
   "pygments_lexer": "ipython2",
   "version": "2.7.6"
  }
 },
 "nbformat": 4,
 "nbformat_minor": 0
}
