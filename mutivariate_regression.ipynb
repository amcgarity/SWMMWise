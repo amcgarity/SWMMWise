{
 "cells": [
  {
   "cell_type": "markdown",
   "metadata": {},
   "source": [
    "# Multivariate Regression"
   ]
  },
  {
   "cell_type": "code",
   "execution_count": 1,
   "metadata": {
    "collapsed": false
   },
   "outputs": [
    {
     "name": "stdout",
     "output_type": "stream",
     "text": [
      "                            OLS Regression Results                            \n",
      "==============================================================================\n",
      "Dep. Variable:                      y   R-squared:                       1.000\n",
      "Model:                            OLS   Adj. R-squared:                    nan\n",
      "Method:                 Least Squares   F-statistic:                     0.000\n",
      "Date:                Sun, 04 Dec 2016   Prob (F-statistic):                nan\n",
      "Time:                        14:14:00   Log-Likelihood:                 130.90\n",
      "No. Observations:                   5   AIC:                            -251.8\n",
      "Df Residuals:                       0   BIC:                            -253.8\n",
      "Df Model:                           4                                         \n",
      "Covariance Type:            nonrobust                                         \n",
      "==============================================================================\n",
      "                 coef    std err          t      P>|t|      [95.0% Conf. Int.]\n",
      "------------------------------------------------------------------------------\n",
      "x1            -0.1942        inf         -0        nan           nan       nan\n",
      "x2            -0.2141        inf         -0        nan           nan       nan\n",
      "x3            -0.1422        inf         -0        nan           nan       nan\n",
      "x4            -0.1985        inf         -0        nan           nan       nan\n",
      "x5            -0.1720        inf         -0        nan           nan       nan\n",
      "x6            -0.2278        inf         -0        nan           nan       nan\n",
      "x7            -0.2097        inf         -0        nan           nan       nan\n",
      "const       1956.9470        inf          0        nan           nan       nan\n",
      "==============================================================================\n",
      "Omnibus:                          nan   Durbin-Watson:                   1.194\n",
      "Prob(Omnibus):                    nan   Jarque-Bera (JB):                0.991\n",
      "Skew:                          -1.070   Prob(JB):                        0.609\n",
      "Kurtosis:                       2.579   Cond. No.                         257.\n",
      "==============================================================================\n",
      "\n",
      "Warnings:\n",
      "[1] Standard Errors assume that the covariance matrix of the errors is correctly specified.\n",
      "[2] The input rank is higher than the number of observations.\n"
     ]
    },
    {
     "name": "stderr",
     "output_type": "stream",
     "text": [
      "/Users/jonathancohen/anaconda/lib/python2.7/site-packages/statsmodels/stats/stattools.py:72: UserWarning: omni_normtest is not valid with less than 8 observations; 5 samples were given.\n",
      "  \"samples were given.\" % int(n))\n"
     ]
    }
   ],
   "source": [
    "import numpy as np\n",
    "import statsmodels.api as sm\n",
    "\n",
    "y = [1956.947,1884.65,1898.047,1898.811,1886.877]\n",
    "#1956.947\n",
    "#x = [[0,0,0,0,0,0,0],\n",
    "#     [51, 55, 76, 45, 22, 22, 99],\n",
    "#     [8, 81, 48, 80, 18, 31, 28],\n",
    " #    [80, 38, 3, 19, 52, 90, 9],\n",
    " #    [69, 71, 68, 13, 13, 29, 88]]\n",
    "\n",
    "x = [[0,51,8,80,69],\n",
    "     [0,55,81,38,71],\n",
    "     [0,76,48,3,68],\n",
    "     [0,45,80,19,13],\n",
    "     [0,22,18,52,13],\n",
    "     [0,22,31,90,29],\n",
    "     [0,99,28,9,88]]\n",
    "[0, 51, 51, 55, 76, 45, 22, 22, 99, 8, 8, 81, 48, 80, 18, 31, 28, 80, 80, 38, 3, 19, 52, 90, 9, 69, 69, 71, 68, 13, 13, 29, 88]\n",
    "\n",
    "def reg_m(y, x):\n",
    "    ones = np.ones(len(x[0]))\n",
    "    X = sm.add_constant(np.column_stack((x[0], ones)))\n",
    "    for ele in x[1:]:\n",
    "        X = sm.add_constant(np.column_stack((ele, X)))\n",
    "    results = sm.OLS(y, X).fit()\n",
    "    return results\n",
    "reg_m(y,x)\n",
    "print reg_m(y, x).summary()"
   ]
  },
  {
   "cell_type": "code",
   "execution_count": 5,
   "metadata": {
    "collapsed": false
   },
   "outputs": [],
   "source": [
    "# IMPORTANT:  RUN THIS BLOCK FIRST\n",
    "# ONLY for loop tests for which all subcats have the same number of a single LID:\n",
    "%matplotlib inline\n",
    "from pymongo import MongoClient\n",
    "from datetime import datetime\n",
    "import matplotlib.pyplot as plt\n",
    "def volume_reduction_and_runoff_volume_vs_lid_number(collectionName):\n",
    "    mGal = 133680.5  # 1 Million gallon in cubic feet\n",
    "    runs = db[collectionName]\n",
    "    cursor = runs.find()\n",
    "    numLists = []\n",
    "    for n in range(0,7):\n",
    "        numLists.append([])\n",
    "\n",
    "    volReductionList = []\n",
    "    totalSurfaceOutflowList = []\n",
    "    csoVolList=[]\n",
    "    noLidRun = cursor[0]\n",
    "    noLidVolume = noLidRun['volume']\n",
    "    outflow_series_list = []\n",
    "    for run in cursor:\n",
    "        for i in range(0,7):\n",
    "            runParamsZero = run['runParamList'][i] \n",
    "            number = runParamsZero['Number']\n",
    "            numLists[i].append(number)\n",
    "        volume = run['volume']\n",
    "        volReduction = noLidVolume-volume\n",
    "        volReductionList.append(volReduction)\n",
    "        outflow_series=run['outflow_series']\n",
    "        #outflow_series_list.append\n",
    "        series = run['outflow_series']\n",
    "        #print series\n",
    "        outflow_series_list.append(series)\n",
    "        if run['lidDict'] == None:\n",
    "            #numList.append(number)\n",
    "            totalSurfaceOutflowList.append(None)\n",
    "            continue\n",
    "        else:\n",
    "            totalSurfaceOutflow = 0.0\n",
    "            runParamList = run['runParamList']\n",
    "            lidDict = run['lidDict']\n",
    "            for lidUsage in runParamList: #was lidUsage in runParamList \n",
    "                lid = lidUsage['LID']\n",
    "                subcat = lidUsage['Subcat']\n",
    "                #print lidNumber,\n",
    "                lidArea = lidUsage['Area']  # in square feet\n",
    "                lidKey = subcat+' '+lid\n",
    "                surfaceOutflowInches = lidDict[lidKey]['Surface Outflow']\n",
    "                surfaceOutflow = surfaceOutflowInches*lidNumber*lidArea/12.0  # cubic feet\n",
    "                totalSurfaceOutflow += surfaceOutflow/mGal  # convert to million Gal/year\n",
    "            for lidUsage in range(0,7):\n",
    "                    lidNumber = runParamList[lidUsage]['Number']\n",
    "                    numLists[lidUsage].append(lidNumber)  #so we can get list of parameters for regressions\n",
    "\n",
    "            print numLists \n",
    "            #print totalSurfaceOutflow\n",
    "            totalSurfaceOutflowList.append(totalSurfaceOutflow)\n",
    "\n",
    "\n",
    "    return{\"numLists\": numLists, \"outflow_series\": outflow_series_list, \"volReductionList\": volReductionList, \\\n",
    "           \"surface_outflow\":totalSurfaceOutflowList,}"
   ]
  },
  {
   "cell_type": "markdown",
   "metadata": {},
   "source": [
    "# Show the collections that have been generated"
   ]
  },
  {
   "cell_type": "code",
   "execution_count": 6,
   "metadata": {
    "collapsed": false
   },
   "outputs": [
    {
     "data": {
      "text/plain": [
       "[u'2008',\n",
       " u'2008trial1',\n",
       " u'2008trial3',\n",
       " u'2008trial4',\n",
       " u'2008trial6',\n",
       " u'first_wingo_test',\n",
       " u'fourth_wingo_test',\n",
       " u'impervFixed',\n",
       " u'impervNotFixed',\n",
       " u'july',\n",
       " u'july10',\n",
       " u'july12',\n",
       " u'july13',\n",
       " u'july14',\n",
       " u'july15',\n",
       " u'july16',\n",
       " u'july17',\n",
       " u'july2',\n",
       " u'july21',\n",
       " u'july22',\n",
       " u'july23',\n",
       " u'july24',\n",
       " u'july3',\n",
       " u'july4',\n",
       " u'july5',\n",
       " u'july6',\n",
       " u'july7',\n",
       " u'july8',\n",
       " u'july9',\n",
       " u'largeTrialLinier',\n",
       " u'randomTrial1',\n",
       " u'randomTrial2',\n",
       " u'randomTrial4',\n",
       " u'randomTrial5',\n",
       " u'random_multivariate',\n",
       " u'random_multivariate2',\n",
       " u'second_wingo_test',\n",
       " u'trialWith%Perv',\n",
       " u'trialWith%Perv2',\n",
       " u'y16m10d11_demonstrate_runswmm_on_aws-2']"
      ]
     },
     "execution_count": 6,
     "metadata": {},
     "output_type": "execute_result"
    }
   ],
   "source": [
    "from pymongo import MongoClient\n",
    "\n",
    "#  IMPORTANT:  Set these for each run:\n",
    "#################################################\n",
    "# mongoServer = None   # use the local mongodb server installed on your computer\n",
    "#mongoServer = 'mongodb://server.mcgarity.info:27017/'  # Art's personal server\n",
    "#mongoServer = 'mongodb://ubuntu:27017/'  # ubuntu Linux virtual machine on Art's Mac\n",
    "mongoServer = 'mongodb://aws-2.greenphilly.net:27017/'  # aws-2 server for GreenPhilly\n",
    "database = \"jcohen4\"\n",
    "username = \"jcohen4\"\n",
    "password = \"wingohocking\"\n",
    "authenticationDatabase = \"jcohen4\"\n",
    "collection = 'random_multivariate2'\n",
    "client = MongoClient(mongoServer)\n",
    "################################################\n",
    "\n",
    "db = client[database]\n",
    "db.authenticate(username, password, source=authenticationDatabase)  # pass credentials to database\n",
    "collectionNames = sorted(db.collection_names())\n",
    "collectionNames"
   ]
  },
  {
   "cell_type": "code",
   "execution_count": 7,
   "metadata": {
    "collapsed": false
   },
   "outputs": [
    {
     "ename": "UnboundLocalError",
     "evalue": "local variable 'lidNumber' referenced before assignment",
     "output_type": "error",
     "traceback": [
      "\u001b[0;31m---------------------------------------------------------------------------\u001b[0m",
      "\u001b[0;31mUnboundLocalError\u001b[0m                         Traceback (most recent call last)",
      "\u001b[0;32m<ipython-input-7-99f8dafae1da>\u001b[0m in \u001b[0;36m<module>\u001b[0;34m()\u001b[0m\n\u001b[1;32m      1\u001b[0m \u001b[0mcollectionName\u001b[0m \u001b[0;34m=\u001b[0m \u001b[0;34m'random_multivariate2'\u001b[0m\u001b[0;34m\u001b[0m\u001b[0m\n\u001b[0;32m----> 2\u001b[0;31m \u001b[0mresults\u001b[0m \u001b[0;34m=\u001b[0m \u001b[0mvolume_reduction_and_runoff_volume_vs_lid_number\u001b[0m\u001b[0;34m(\u001b[0m\u001b[0mcollectionName\u001b[0m\u001b[0;34m)\u001b[0m\u001b[0;34m\u001b[0m\u001b[0m\n\u001b[0m\u001b[1;32m      3\u001b[0m \u001b[0mnumSims\u001b[0m \u001b[0;34m=\u001b[0m \u001b[0mlen\u001b[0m\u001b[0;34m(\u001b[0m\u001b[0mresults\u001b[0m\u001b[0;34m)\u001b[0m \u001b[0;34m+\u001b[0m \u001b[0;36m1\u001b[0m\u001b[0;34m\u001b[0m\u001b[0m\n",
      "\u001b[0;32m<ipython-input-5-696b5b6d3d38>\u001b[0m in \u001b[0;36mvolume_reduction_and_runoff_volume_vs_lid_number\u001b[0;34m(collectionName)\u001b[0m\n\u001b[1;32m     47\u001b[0m                 \u001b[0mlidKey\u001b[0m \u001b[0;34m=\u001b[0m \u001b[0msubcat\u001b[0m\u001b[0;34m+\u001b[0m\u001b[0;34m' '\u001b[0m\u001b[0;34m+\u001b[0m\u001b[0mlid\u001b[0m\u001b[0;34m\u001b[0m\u001b[0m\n\u001b[1;32m     48\u001b[0m                 \u001b[0msurfaceOutflowInches\u001b[0m \u001b[0;34m=\u001b[0m \u001b[0mlidDict\u001b[0m\u001b[0;34m[\u001b[0m\u001b[0mlidKey\u001b[0m\u001b[0;34m]\u001b[0m\u001b[0;34m[\u001b[0m\u001b[0;34m'Surface Outflow'\u001b[0m\u001b[0;34m]\u001b[0m\u001b[0;34m\u001b[0m\u001b[0m\n\u001b[0;32m---> 49\u001b[0;31m                 \u001b[0msurfaceOutflow\u001b[0m \u001b[0;34m=\u001b[0m \u001b[0msurfaceOutflowInches\u001b[0m\u001b[0;34m*\u001b[0m\u001b[0mlidNumber\u001b[0m\u001b[0;34m*\u001b[0m\u001b[0mlidArea\u001b[0m\u001b[0;34m/\u001b[0m\u001b[0;36m12.0\u001b[0m  \u001b[0;31m# cubic feet\u001b[0m\u001b[0;34m\u001b[0m\u001b[0m\n\u001b[0m\u001b[1;32m     50\u001b[0m                 \u001b[0mtotalSurfaceOutflow\u001b[0m \u001b[0;34m+=\u001b[0m \u001b[0msurfaceOutflow\u001b[0m\u001b[0;34m/\u001b[0m\u001b[0mmGal\u001b[0m  \u001b[0;31m# convert to million Gal/year\u001b[0m\u001b[0;34m\u001b[0m\u001b[0m\n\u001b[1;32m     51\u001b[0m             \u001b[0;32mfor\u001b[0m \u001b[0mlidUsage\u001b[0m \u001b[0;32min\u001b[0m \u001b[0mrange\u001b[0m\u001b[0;34m(\u001b[0m\u001b[0;36m0\u001b[0m\u001b[0;34m,\u001b[0m\u001b[0;36m7\u001b[0m\u001b[0;34m)\u001b[0m\u001b[0;34m:\u001b[0m\u001b[0;34m\u001b[0m\u001b[0m\n",
      "\u001b[0;31mUnboundLocalError\u001b[0m: local variable 'lidNumber' referenced before assignment"
     ]
    }
   ],
   "source": [
    "collectionName = 'random_multivariate2'\n",
    "results = volume_reduction_and_runoff_volume_vs_lid_number(collectionName)\n",
    "numSims = len(results) + 1\n"
   ]
  },
  {
   "cell_type": "markdown",
   "metadata": {},
   "source": [
    "# use this function to calculate cso values "
   ]
  },
  {
   "cell_type": "code",
   "execution_count": null,
   "metadata": {
    "collapsed": true
   },
   "outputs": [],
   "source": [
    "def calculate_cso(outflow_values, ratio):\n",
    "    cso_flow = 0\n",
    "    hours = 0\n",
    "    tot_flow = 0\n",
    "    max_treatment = 3122*ratio #max cfs allowed to treatment\n",
    "    #print max_treatment\n",
    "    tot = len(outflow_values)\n",
    "    for i in outflow_values: #out_variables is list within list (though outer list is just one element) (cfs/impervious acres)\n",
    "        tot_flow += i\n",
    "        if i > max_treatment:  #ratio method--- \n",
    "            cso = i - max_treatment # subtracting treated from total outflow\n",
    "            cso_flow += cso \n",
    "            hours += 1\n",
    "    tot_volume = tot_flow*900*7.48052 #convert to gallons, 900 seconds in 15 minutes\n",
    "    cso_volume = cso_flow*900*7.48052 #for seconds in 15 minutes\n",
    "    #equiv_rat = cso_volume/tot_volume  #equivalency ratio\n",
    "    treated_volume = tot_volume - cso_volume\n",
    "    #print tot_volume\n",
    "    return {\"cso_volume\":cso_volume, \"tot_volume\":tot_volume}"
   ]
  },
  {
   "cell_type": "markdown",
   "metadata": {},
   "source": [
    "#  Generates list of CSO outflow for each simulation"
   ]
  },
  {
   "cell_type": "code",
   "execution_count": null,
   "metadata": {
    "collapsed": false
   },
   "outputs": [],
   "source": [
    "# generates plot of cso reduction\n",
    "cso_list = []\n",
    "tot_vol_list = []\n",
    "cso_reduction_list = []\n",
    "for i in range(0,numSims):\n",
    "    cso = calculate_cso(results[\"outflow_series\"][i],0.05)\n",
    "    cso_list.append(cso[\"cso_volume\"])\n",
    "    tot_vol_list.append(cso[\"tot_volume\"])\n",
    "    #reduction = cso[\"tot_volume\"] - cso[\"cso_volume\"]\n",
    "    #reduction_list.append(reduction)\n",
    "for i in range(0,numSims):\n",
    "    original_cso_volume = cso_list[0]  #cso from run with no lids\n",
    "    cso_reduction = original_cso_volume - cso_list[i]  \n",
    "    cso_reduction_list.append(cso_reduction)\n",
    "print cso_reduction_list"
   ]
  },
  {
   "cell_type": "markdown",
   "metadata": {},
   "source": [
    "# Formats parameters to be used for multivariate regression"
   ]
  },
  {
   "cell_type": "code",
   "execution_count": null,
   "metadata": {
    "collapsed": false
   },
   "outputs": [],
   "source": [
    "y = cso_reduction_list\n",
    "for i in range(0,numSims): \n",
    "    print results[\"numList\"][i]\n",
    "    "
   ]
  },
  {
   "cell_type": "code",
   "execution_count": null,
   "metadata": {
    "collapsed": false
   },
   "outputs": [],
   "source": []
  },
  {
   "cell_type": "code",
   "execution_count": null,
   "metadata": {
    "collapsed": false
   },
   "outputs": [],
   "source": [
    "\n"
   ]
  },
  {
   "cell_type": "code",
   "execution_count": null,
   "metadata": {
    "collapsed": true
   },
   "outputs": [],
   "source": []
  }
 ],
 "metadata": {
  "kernelspec": {
   "display_name": "Python [Root]",
   "language": "python",
   "name": "Python [Root]"
  },
  "language_info": {
   "codemirror_mode": {
    "name": "ipython",
    "version": 2
   },
   "file_extension": ".py",
   "mimetype": "text/x-python",
   "name": "python",
   "nbconvert_exporter": "python",
   "pygments_lexer": "ipython2",
   "version": "2.7.12"
  }
 },
 "nbformat": 4,
 "nbformat_minor": 0
}
