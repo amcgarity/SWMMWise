{
 "cells": [
  {
   "cell_type": "markdown",
   "metadata": {},
   "source": [
    "# Multivariate Regression"
   ]
  },
  {
   "cell_type": "markdown",
   "metadata": {},
   "source": [
    "# Show the collections that have been generated"
   ]
  },
  {
   "cell_type": "code",
   "execution_count": 1,
   "metadata": {
    "collapsed": false
   },
   "outputs": [],
   "source": [
    "from pymongo import MongoClient\n",
    "from process_collection import *\n",
    "#  IMPORTANT:  Set these for each run:\n",
    "#################################################\n",
    "# mongoServer = None   # use the local mongodb server installed on your computer\n",
    "#mongoServer = 'mongodb://server.mcgarity.info:27017/'  # Art's personal server\n",
    "#mongoServer = 'mongodb://ubuntu:27017/'  # ubuntu Linux virtual machine on Art's Mac\n",
    "mongoServer = 'mongodb://aws-2.greenphilly.net:27017/'  # aws-2 server for GreenPhilly\n",
    "database = \"jcohen4\"\n",
    "username = \"jcohen4\"\n",
    "password = \"wingohocking\"\n",
    "authenticationDatabase = \"jcohen4\"\n",
    "collection = 'random_multivariate3'\n",
    "client = MongoClient(mongoServer)\n",
    "################################################\n",
    "\n",
    "db = client[database]\n",
    "db.authenticate(username, password, source=authenticationDatabase)  # pass credentials to database\n",
    "collectionNames = sorted(db.collection_names())\n",
    "#collectionNames"
   ]
  },
  {
   "cell_type": "markdown",
   "metadata": {},
   "source": [
    "# Formats parameters to be used for multivariate regression"
   ]
  },
  {
   "cell_type": "code",
   "execution_count": 2,
   "metadata": {
    "collapsed": false
   },
   "outputs": [
    {
     "name": "stdout",
     "output_type": "stream",
     "text": [
      "[0.0, 3549565.8361079544, 3197471.2246439904, 3946074.538967982]\n",
      "[[0, 45, 90, 88], [0, 90, 8, 1], [0, 78, 85, 54], [0, 25, 4, 43], [0, 22, 60, 41], [0, 34, 6, 78], [0, 55, 65, 85]]\n",
      "                            OLS Regression Results                            \n",
      "==============================================================================\n",
      "Dep. Variable:                      y   R-squared:                       1.000\n",
      "Model:                            OLS   Adj. R-squared:                    nan\n",
      "Method:                 Least Squares   F-statistic:                     0.000\n",
      "Date:                Sun, 04 Dec 2016   Prob (F-statistic):                nan\n",
      "Time:                        18:50:01   Log-Likelihood:                 74.819\n",
      "No. Observations:                   4   AIC:                            -141.6\n",
      "Df Residuals:                       0   BIC:                            -144.1\n",
      "Df Model:                           3                                         \n",
      "Covariance Type:            nonrobust                                         \n",
      "==============================================================================\n",
      "                 coef    std err          t      P>|t|      [95.0% Conf. Int.]\n",
      "------------------------------------------------------------------------------\n",
      "x1          1.228e+04        inf          0        nan           nan       nan\n",
      "x2          1.079e+04        inf          0        nan           nan       nan\n",
      "x3          4749.1247        inf          0        nan           nan       nan\n",
      "x4          6603.8518        inf          0        nan           nan       nan\n",
      "x5          1.137e+04        inf          0        nan           nan       nan\n",
      "x6          9561.8796        inf          0        nan           nan       nan\n",
      "x7          1.089e+04        inf          0        nan           nan       nan\n",
      "const      -2.083e-10        inf         -0        nan           nan       nan\n",
      "==============================================================================\n",
      "Omnibus:                          nan   Durbin-Watson:                   0.761\n",
      "Prob(Omnibus):                    nan   Jarque-Bera (JB):                0.305\n",
      "Skew:                           0.432   Prob(JB):                        0.858\n",
      "Kurtosis:                       1.959   Cond. No.                         248.\n",
      "==============================================================================\n",
      "\n",
      "Warnings:\n",
      "[1] Standard Errors assume that the covariance matrix of the errors is correctly specified.\n",
      "[2] The input rank is higher than the number of observations.\n"
     ]
    },
    {
     "name": "stderr",
     "output_type": "stream",
     "text": [
      "C:\\Anaconda\\lib\\site-packages\\statsmodels\\stats\\stattools.py:72: UserWarning: omni_normtest is not valid with less than 8 observations; 4 samples were given.\n",
      "  \"samples were given.\" % int(n))\n"
     ]
    }
   ],
   "source": [
    "import numpy as np\n",
    "import statsmodels.api as sm\n",
    "from get_cso import * \n",
    "from process_collection import * \n",
    "collectionName = collection #from cell above\n",
    "ratio = 0.05\n",
    "numSubcatch = 7\n",
    "results = volume_reduction_and_runoff_volume_vs_lid_number(collectionName, numSubcatch, db)\n",
    "csoResults = cso_reduction(collectionName, ratio, numSubcatch, results) \n",
    "\n",
    "### regression\n",
    "y = csoResults[\"csoReduction\"]\n",
    "x = results['numLists']\n",
    "print x\n",
    "def reg_m(y, x):\n",
    "    ones = np.ones(len(x[0]))\n",
    "    X = sm.add_constant(np.column_stack((x[0], ones)))\n",
    "    for ele in x[1:]:\n",
    "        X = sm.add_constant(np.column_stack((ele, X)))\n",
    "    results = sm.OLS(y, X).fit()\n",
    "    return results\n",
    "reg_m(y,x)\n",
    "print reg_m(y, x).summary()"
   ]
  }
 ],
 "metadata": {
  "anaconda-cloud": {},
  "kernelspec": {
   "display_name": "Python 2",
   "language": "python",
   "name": "python2"
  },
  "language_info": {
   "codemirror_mode": {
    "name": "ipython",
    "version": 2
   },
   "file_extension": ".py",
   "mimetype": "text/x-python",
   "name": "python",
   "nbconvert_exporter": "python",
   "pygments_lexer": "ipython2",
   "version": "2.7.10"
  }
 },
 "nbformat": 4,
 "nbformat_minor": 0
}
