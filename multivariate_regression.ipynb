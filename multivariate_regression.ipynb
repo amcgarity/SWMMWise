{
 "cells": [
  {
   "cell_type": "markdown",
   "metadata": {},
   "source": [
    "# Multivariate Regression"
   ]
  },
  {
   "cell_type": "markdown",
   "metadata": {
    "collapsed": false
   },
   "source": [
    "import numpy as np\n",
    "import statsmodels.api as sm\n",
    "\n",
    "y = [1956.947,1884.65,1898.047,1898.811,1886.877]\n",
    "#1956.947\n",
    "#x = [[0,0,0,0,0,0,0],\n",
    "#     [51, 55, 76, 45, 22, 22, 99],\n",
    "#     [8, 81, 48, 80, 18, 31, 28],\n",
    " #    [80, 38, 3, 19, 52, 90, 9],\n",
    " #    [69, 71, 68, 13, 13, 29, 88]]\n",
    "\n",
    "x = [[0,51,8,80,69],\n",
    "     [0,55,81,38,71],\n",
    "     [0,76,48,3,68],\n",
    "     [0,45,80,19,13],\n",
    "     [0,22,18,52,13],\n",
    "     [0,22,31,90,29],\n",
    "     [0,99,28,9,88]]\n",
    "[0, 51, 51, 55, 76, 45, 22, 22, 99, 8, 8, 81, 48, 80, 18, 31, 28, 80, 80, 38, 3, 19, 52, 90, 9, 69, 69, 71, 68, 13, 13, 29, 88]\n",
    "\n",
    "def reg_m(y, x):\n",
    "    ones = np.ones(len(x[0]))\n",
    "    X = sm.add_constant(np.column_stack((x[0], ones)))\n",
    "    for ele in x[1:]:\n",
    "        X = sm.add_constant(np.column_stack((ele, X)))\n",
    "    results = sm.OLS(y, X).fit()\n",
    "    return results\n",
    "reg_m(y,x)\n",
    "print reg_m(y, x).summary()"
   ]
  },
  {
   "cell_type": "code",
   "execution_count": 2,
   "metadata": {
    "collapsed": false
   },
   "outputs": [],
   "source": [
    "# IMPORTANT:  RUN THIS BLOCK FIRST\n",
    "# ONLY for loop tests for which all subcats have the same number of a single LID:\n",
    "%matplotlib inline\n",
    "from pymongo import MongoClient\n",
    "from datetime import datetime\n",
    "import matplotlib.pyplot as plt\n",
    "def volume_reduction_and_runoff_volume_vs_lid_number(collectionName):\n",
    "    mGal = 133680.5  # 1 Million gallon in cubic feet\n",
    "    runs = db[collectionName]\n",
    "    cursor = runs.find()\n",
    "    numLists = []\n",
    "    for n in range(0,7):\n",
    "        numLists.append([])\n",
    "\n",
    "    volReductionList = []\n",
    "    totalSurfaceOutflowList = []\n",
    "    csoVolList=[]\n",
    "    noLidRun = cursor[0]\n",
    "    noLidVolume = noLidRun['volume']\n",
    "    outflow_series_list = []\n",
    "    for run in cursor:\n",
    "        for i in range(0,7):\n",
    "            runParamsZero = run['runParamList'][i] \n",
    "            numInitial = runParamsZero['Number']\n",
    "            numLists[i].append(numInitial)\n",
    "        volume = run['volume']\n",
    "        volReduction = noLidVolume-volume\n",
    "        volReductionList.append(volReduction)\n",
    "        outflow_series=run['outflow_series']\n",
    "        #outflow_series_list.append\n",
    "        series = run['outflow_series']\n",
    "        #print series\n",
    "        outflow_series_list.append(series)\n",
    "        if run['lidDict'] == None:\n",
    "            #numList.append(number)\n",
    "            totalSurfaceOutflowList.append(None)\n",
    "            continue\n",
    "        else:\n",
    "            totalSurfaceOutflow = 0.0\n",
    "            runParamList = run['runParamList']\n",
    "            lidDict = run['lidDict']\n",
    "            for lidUsage in runParamList: #was lidUsage in runParamList \n",
    "                lid = lidUsage['LID']\n",
    "                subcat = lidUsage['Subcat']\n",
    "                lidNumber = lidUsage['Number']\n",
    "                lidArea = lidUsage['Area']  # in square feet\n",
    "                lidKey = subcat+' '+lid\n",
    "                surfaceOutflowInches = lidDict[lidKey]['Surface Outflow']\n",
    "                surfaceOutflow = surfaceOutflowInches*lidNumber*lidArea/12.0  # cubic feet\n",
    "                totalSurfaceOutflow += surfaceOutflow/mGal  # convert to million Gal/year\n",
    "            totalSurfaceOutflowList.append(totalSurfaceOutflow)\n",
    "\n",
    "    return{\"numLists\": numLists, \"outflow_series\": outflow_series_list, \"volReductionList\": volReductionList, \\\n",
    "           \"surface_outflow\":totalSurfaceOutflowList,}"
   ]
  },
  {
   "cell_type": "markdown",
   "metadata": {},
   "source": [
    "# Show the collections that have been generated"
   ]
  },
  {
   "cell_type": "code",
   "execution_count": 3,
   "metadata": {
    "collapsed": false
   },
   "outputs": [
    {
     "data": {
      "text/plain": [
       "[u'2008',\n",
       " u'2008trial1',\n",
       " u'2008trial3',\n",
       " u'2008trial4',\n",
       " u'2008trial6',\n",
       " u'first_wingo_test',\n",
       " u'fourth_wingo_test',\n",
       " u'impervFixed',\n",
       " u'impervNotFixed',\n",
       " u'july',\n",
       " u'july10',\n",
       " u'july12',\n",
       " u'july13',\n",
       " u'july14',\n",
       " u'july15',\n",
       " u'july16',\n",
       " u'july17',\n",
       " u'july2',\n",
       " u'july21',\n",
       " u'july22',\n",
       " u'july23',\n",
       " u'july24',\n",
       " u'july3',\n",
       " u'july4',\n",
       " u'july5',\n",
       " u'july6',\n",
       " u'july7',\n",
       " u'july8',\n",
       " u'july9',\n",
       " u'largeTrialLinier',\n",
       " u'randomTrial1',\n",
       " u'randomTrial2',\n",
       " u'randomTrial4',\n",
       " u'randomTrial5',\n",
       " u'random_multivariate',\n",
       " u'random_multivariate2',\n",
       " u'second_wingo_test',\n",
       " u'trialWith%Perv',\n",
       " u'trialWith%Perv2',\n",
       " u'y16m10d11_demonstrate_runswmm_on_aws-2']"
      ]
     },
     "execution_count": 3,
     "metadata": {},
     "output_type": "execute_result"
    }
   ],
   "source": [
    "from pymongo import MongoClient\n",
    "\n",
    "#  IMPORTANT:  Set these for each run:\n",
    "#################################################\n",
    "# mongoServer = None   # use the local mongodb server installed on your computer\n",
    "#mongoServer = 'mongodb://server.mcgarity.info:27017/'  # Art's personal server\n",
    "#mongoServer = 'mongodb://ubuntu:27017/'  # ubuntu Linux virtual machine on Art's Mac\n",
    "mongoServer = 'mongodb://aws-2.greenphilly.net:27017/'  # aws-2 server for GreenPhilly\n",
    "database = \"jcohen4\"\n",
    "username = \"jcohen4\"\n",
    "password = \"wingohocking\"\n",
    "authenticationDatabase = \"jcohen4\"\n",
    "collection = 'random_multivariate2'\n",
    "client = MongoClient(mongoServer)\n",
    "################################################\n",
    "\n",
    "db = client[database]\n",
    "db.authenticate(username, password, source=authenticationDatabase)  # pass credentials to database\n",
    "collectionNames = sorted(db.collection_names())\n",
    "collectionNames"
   ]
  },
  {
   "cell_type": "markdown",
   "metadata": {},
   "source": [
    "# use this function to calculate cso values "
   ]
  },
  {
   "cell_type": "code",
   "execution_count": 4,
   "metadata": {
    "collapsed": true
   },
   "outputs": [],
   "source": [
    "def calculate_cso(outflow_values, ratio):\n",
    "    cso_flow = 0\n",
    "    hours = 0\n",
    "    tot_flow = 0\n",
    "    max_treatment = 3122*ratio #max cfs allowed to treatment\n",
    "    #print max_treatment\n",
    "    tot = len(outflow_values)\n",
    "    for i in outflow_values: #out_variables is list within list (though outer list is just one element) (cfs/impervious acres)\n",
    "        tot_flow += i\n",
    "        if i > max_treatment:  #ratio method--- \n",
    "            cso = i - max_treatment # subtracting treated from total outflow\n",
    "            cso_flow += cso \n",
    "            hours += 1\n",
    "    tot_volume = tot_flow*900*7.48052 #convert to gallons, 900 seconds in 15 minutes\n",
    "    cso_volume = cso_flow*900*7.48052 #for seconds in 15 minutes\n",
    "    #equiv_rat = cso_volume/tot_volume  #equivalency ratio\n",
    "    treated_volume = tot_volume - cso_volume\n",
    "    #print tot_volume\n",
    "    return {\"cso_volume\":cso_volume, \"tot_volume\":tot_volume}"
   ]
  },
  {
   "cell_type": "markdown",
   "metadata": {},
   "source": [
    "#  Generates list of CSO outflow for each simulation"
   ]
  },
  {
   "cell_type": "code",
   "execution_count": 12,
   "metadata": {
    "collapsed": false
   },
   "outputs": [
    {
     "name": "stdout",
     "output_type": "stream",
     "text": [
      "[0.0, 43717287.690467596, 35631014.630218506, 35974828.30604339, 42398989.6664511]\n"
     ]
    }
   ],
   "source": [
    "collectionName = 'random_multivariate2'\n",
    "results = volume_reduction_and_runoff_volume_vs_lid_number(collectionName)\n",
    "numSims = 5\n",
    "# generates plot of cso reduction\n",
    "cso_list = []\n",
    "tot_vol_list = []\n",
    "cso_reduction_list = []\n",
    "\n",
    "for i in range(0,numSims):\n",
    "    cso = calculate_cso(results[\"outflow_series\"][i],0.05)\n",
    "    cso_list.append(cso[\"cso_volume\"])\n",
    "    tot_vol_list.append(cso[\"tot_volume\"])\n",
    "    #reduction = cso[\"tot_volume\"] - cso[\"cso_volume\"]\n",
    "    #reduction_list.append(reduction)\n",
    "for i in range(0,numSims):\n",
    "    original_cso_volume = cso_list[0]  #cso from run with no lids\n",
    "    cso_reduction = original_cso_volume - cso_list[i]  \n",
    "    cso_reduction_list.append(cso_reduction)\n",
    "print cso_reduction_list"
   ]
  },
  {
   "cell_type": "markdown",
   "metadata": {},
   "source": [
    "# Formats parameters to be used for multivariate regression"
   ]
  },
  {
   "cell_type": "code",
   "execution_count": 13,
   "metadata": {
    "collapsed": false
   },
   "outputs": [
    {
     "name": "stdout",
     "output_type": "stream",
     "text": [
      "[0.0, 43717287.690467596, 35631014.630218506, 35974828.30604339, 42398989.6664511]\n",
      "[[0, 51, 8, 80, 69], [0, 55, 81, 38, 71], [0, 76, 48, 3, 68], [0, 45, 80, 19, 13], [0, 22, 18, 52, 13], [0, 22, 31, 90, 29], [0, 99, 28, 9, 88]]\n",
      "                            OLS Regression Results                            \n",
      "==============================================================================\n",
      "Dep. Variable:                      y   R-squared:                       1.000\n",
      "Model:                            OLS   Adj. R-squared:                    nan\n",
      "Method:                 Least Squares   F-statistic:                     0.000\n",
      "Date:                Sun, 04 Dec 2016   Prob (F-statistic):                nan\n",
      "Time:                        14:32:54   Log-Likelihood:                 84.043\n",
      "No. Observations:                   5   AIC:                            -158.1\n",
      "Df Residuals:                       0   BIC:                            -160.0\n",
      "Df Model:                           4                                         \n",
      "Covariance Type:            nonrobust                                         \n",
      "==============================================================================\n",
      "                 coef    std err          t      P>|t|      [95.0% Conf. Int.]\n",
      "------------------------------------------------------------------------------\n",
      "x1          1.162e+05        inf          0        nan           nan       nan\n",
      "x2          1.344e+05        inf          0        nan           nan       nan\n",
      "x3          8.978e+04        inf          0        nan           nan       nan\n",
      "x4          1.209e+05        inf          0        nan           nan       nan\n",
      "x5          1.019e+05        inf          0        nan           nan       nan\n",
      "x6          1.357e+05        inf          0        nan           nan       nan\n",
      "x7          1.301e+05        inf          0        nan           nan       nan\n",
      "const       3.737e-09        inf          0        nan           nan       nan\n",
      "==============================================================================\n",
      "Omnibus:                          nan   Durbin-Watson:                   3.566\n",
      "Prob(Omnibus):                    nan   Jarque-Bera (JB):                0.582\n",
      "Skew:                           0.136   Prob(JB):                        0.748\n",
      "Kurtosis:                       1.352   Cond. No.                         257.\n",
      "==============================================================================\n",
      "\n",
      "Warnings:\n",
      "[1] Standard Errors assume that the covariance matrix of the errors is correctly specified.\n",
      "[2] The input rank is higher than the number of observations.\n"
     ]
    }
   ],
   "source": [
    "collectionName = 'random_multivariate2'\n",
    "y = cso_reduction_list\n",
    "results = volume_reduction_and_runoff_volume_vs_lid_number(collectionName)\n",
    "x = results ['numLists']\n",
    "print y\n",
    "print x\n",
    "def reg_m(y, x):\n",
    "    ones = np.ones(len(x[0]))\n",
    "    X = sm.add_constant(np.column_stack((x[0], ones)))\n",
    "    for ele in x[1:]:\n",
    "        X = sm.add_constant(np.column_stack((ele, X)))\n",
    "    results = sm.OLS(y, X).fit()\n",
    "    return results\n",
    "reg_m(y,x)\n",
    "print reg_m(y, x).summary()"
   ]
  },
  {
   "cell_type": "code",
   "execution_count": null,
   "metadata": {
    "collapsed": false
   },
   "outputs": [],
   "source": [
    "\n",
    "    "
   ]
  },
  {
   "cell_type": "code",
   "execution_count": null,
   "metadata": {
    "collapsed": false
   },
   "outputs": [],
   "source": []
  },
  {
   "cell_type": "code",
   "execution_count": null,
   "metadata": {
    "collapsed": false
   },
   "outputs": [],
   "source": [
    "\n"
   ]
  },
  {
   "cell_type": "code",
   "execution_count": null,
   "metadata": {
    "collapsed": true
   },
   "outputs": [],
   "source": []
  }
 ],
 "metadata": {
  "kernelspec": {
   "display_name": "Python [Root]",
   "language": "python",
   "name": "Python [Root]"
  },
  "language_info": {
   "codemirror_mode": {
    "name": "ipython",
    "version": 2
   },
   "file_extension": ".py",
   "mimetype": "text/x-python",
   "name": "python",
   "nbconvert_exporter": "python",
   "pygments_lexer": "ipython2",
   "version": "2.7.12"
  }
 },
 "nbformat": 4,
 "nbformat_minor": 0
}
