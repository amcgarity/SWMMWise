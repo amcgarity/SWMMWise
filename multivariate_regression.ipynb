{
 "cells": [
  {
   "cell_type": "markdown",
   "metadata": {},
   "source": [
    "# Multivariate Regression"
   ]
  },
  {
   "cell_type": "markdown",
   "metadata": {},
   "source": [
    "# Show the collections that have been generated"
   ]
  },
  {
   "cell_type": "code",
   "execution_count": 5,
   "metadata": {
    "collapsed": false
   },
   "outputs": [],
   "source": [
    "from pymongo import MongoClient\n",
    "from process_collection import *\n",
    "#  IMPORTANT:  Set these for each run:\n",
    "#################################################\n",
    "# mongoServer = None   # use the local mongodb server installed on your computer\n",
    "#mongoServer = 'mongodb://server.mcgarity.info:27017/'  # Art's personal server\n",
    "#mongoServer = 'mongodb://ubuntu:27017/'  # ubuntu Linux virtual machine on Art's Mac\n",
    "mongoServer = 'mongodb://aws-2.greenphilly.net:27017/'  # aws-2 server for GreenPhilly\n",
    "database = \"jcohen4\"\n",
    "username = \"jcohen4\"\n",
    "password = \"wingohocking\"\n",
    "authenticationDatabase = \"jcohen4\"\n",
    "collection = 'random_multivariate2'\n",
    "client = MongoClient(mongoServer)\n",
    "################################################\n",
    "\n",
    "db = client[database]\n",
    "db.authenticate(username, password, source=authenticationDatabase)  # pass credentials to database\n",
    "collectionNames = sorted(db.collection_names())\n",
    "#collectionNames"
   ]
  },
  {
   "cell_type": "markdown",
   "metadata": {},
   "source": [
    "# Formats parameters to be used for multivariate regression"
   ]
  },
  {
   "cell_type": "code",
   "execution_count": 6,
   "metadata": {
    "collapsed": false
   },
   "outputs": [
    {
     "name": "stdout",
     "output_type": "stream",
     "text": [
      "[0.0, 43717287.690467596, 35631014.630218506, 35974828.30604339, 42398989.6664511]\n",
      "[[0, 51, 8, 80, 69], [0, 55, 81, 38, 71], [0, 76, 48, 3, 68], [0, 45, 80, 19, 13], [0, 22, 18, 52, 13], [0, 22, 31, 90, 29], [0, 99, 28, 9, 88]]\n",
      "                            OLS Regression Results                            \n",
      "==============================================================================\n",
      "Dep. Variable:                      y   R-squared:                       1.000\n",
      "Model:                            OLS   Adj. R-squared:                    nan\n",
      "Method:                 Least Squares   F-statistic:                     0.000\n",
      "Date:                Sun, 04 Dec 2016   Prob (F-statistic):                nan\n",
      "Time:                        16:15:58   Log-Likelihood:                 84.043\n",
      "No. Observations:                   5   AIC:                            -158.1\n",
      "Df Residuals:                       0   BIC:                            -160.0\n",
      "Df Model:                           4                                         \n",
      "Covariance Type:            nonrobust                                         \n",
      "==============================================================================\n",
      "                 coef    std err          t      P>|t|      [95.0% Conf. Int.]\n",
      "------------------------------------------------------------------------------\n",
      "x1          1.162e+05        inf          0        nan           nan       nan\n",
      "x2          1.344e+05        inf          0        nan           nan       nan\n",
      "x3          8.978e+04        inf          0        nan           nan       nan\n",
      "x4          1.209e+05        inf          0        nan           nan       nan\n",
      "x5          1.019e+05        inf          0        nan           nan       nan\n",
      "x6          1.357e+05        inf          0        nan           nan       nan\n",
      "x7          1.301e+05        inf          0        nan           nan       nan\n",
      "const       3.737e-09        inf          0        nan           nan       nan\n",
      "==============================================================================\n",
      "Omnibus:                          nan   Durbin-Watson:                   3.566\n",
      "Prob(Omnibus):                    nan   Jarque-Bera (JB):                0.582\n",
      "Skew:                           0.136   Prob(JB):                        0.748\n",
      "Kurtosis:                       1.352   Cond. No.                         257.\n",
      "==============================================================================\n",
      "\n",
      "Warnings:\n",
      "[1] Standard Errors assume that the covariance matrix of the errors is correctly specified.\n",
      "[2] The input rank is higher than the number of observations.\n"
     ]
    }
   ],
   "source": [
    "import numpy as np\n",
    "import statsmodels.api as sm\n",
    "from get_cso import * \n",
    "from process_collection import * \n",
    "collectionName = 'random_multivariate2'\n",
    "ratio = 0.05\n",
    "numSubcatch = 7\n",
    "results = volume_reduction_and_runoff_volume_vs_lid_number(collectionName, numSubcatch, db)\n",
    "csoResults = cso_reduction(collectionName, ratio, numSubcatch, results) \n",
    "\n",
    "### regression\n",
    "y = csoResults[\"csoReduction\"]\n",
    "x = results['numLists']\n",
    "print x\n",
    "def reg_m(y, x):\n",
    "    ones = np.ones(len(x[0]))\n",
    "    X = sm.add_constant(np.column_stack((x[0], ones)))\n",
    "    for ele in x[1:]:\n",
    "        X = sm.add_constant(np.column_stack((ele, X)))\n",
    "    results = sm.OLS(y, X).fit()\n",
    "    return results\n",
    "reg_m(y,x)\n",
    "print reg_m(y, x).summary()"
   ]
  },
  {
   "cell_type": "code",
   "execution_count": null,
   "metadata": {
    "collapsed": false
   },
   "outputs": [],
   "source": [
    "\n",
    "    "
   ]
  },
  {
   "cell_type": "code",
   "execution_count": null,
   "metadata": {
    "collapsed": false
   },
   "outputs": [],
   "source": []
  },
  {
   "cell_type": "code",
   "execution_count": null,
   "metadata": {
    "collapsed": false
   },
   "outputs": [],
   "source": [
    "\n"
   ]
  },
  {
   "cell_type": "code",
   "execution_count": null,
   "metadata": {
    "collapsed": true
   },
   "outputs": [],
   "source": []
  }
 ],
 "metadata": {
  "anaconda-cloud": {},
  "kernelspec": {
   "display_name": "Python [Root]",
   "language": "python",
   "name": "Python [Root]"
  },
  "language_info": {
   "codemirror_mode": {
    "name": "ipython",
    "version": 2
   },
   "file_extension": ".py",
   "mimetype": "text/x-python",
   "name": "python",
   "nbconvert_exporter": "python",
   "pygments_lexer": "ipython2",
   "version": "2.7.12"
  }
 },
 "nbformat": 4,
 "nbformat_minor": 0
}
