{
 "cells": [
  {
   "cell_type": "markdown",
   "metadata": {},
   "source": [
    "# Multivariate Regression"
   ]
  },
  {
   "cell_type": "markdown",
   "metadata": {},
   "source": [
    "# Show the collections that have been generated"
   ]
  },
  {
   "cell_type": "code",
   "execution_count": 1,
   "metadata": {
    "collapsed": false
   },
   "outputs": [],
   "source": [
    "from pymongo import MongoClient\n",
    "from process_collection import *\n",
    "#  IMPORTANT:  Set these for each run:\n",
    "#################################################\n",
    "# mongoServer = None   # use the local mongodb server installed on your computer\n",
    "#mongoServer = 'mongodb://server.mcgarity.info:27017/'  # Art's personal server\n",
    "#mongoServer = 'mongodb://ubuntu:27017/'  # ubuntu Linux virtual machine on Art's Mac\n",
    "mongoServer = 'mongodb://aws-2.greenphilly.net:27017/'  # aws-2 server for GreenPhilly\n",
    "database = \"jcohen4\"\n",
    "username = \"jcohen4\"\n",
    "password = \"wingohocking\"\n",
    "authenticationDatabase = \"jcohen4\"\n",
    "collection = 'random_multivariate8'\n",
    "client = MongoClient(mongoServer)\n",
    "################################################\n",
    "\n",
    "db = client[database]\n",
    "db.authenticate(username, password, source=authenticationDatabase)  # pass credentials to database\n",
    "collectionNames = sorted(db.collection_names())\n",
    "#collectionNames"
   ]
  },
  {
   "cell_type": "markdown",
   "metadata": {},
   "source": [
    "# Formats parameters to be used for multivariate regression"
   ]
  },
  {
   "cell_type": "code",
   "execution_count": 2,
   "metadata": {
    "collapsed": false
   },
   "outputs": [
    {
     "name": "stdout",
     "output_type": "stream",
     "text": [
      "[0.0, 24223339.074383974, 24323942.3437078, 18721748.001421094, 16873402.771764398, 22963997.272643924, 16070421.31340456, 16366171.900175571, 23559477.334776998, 17908176.370896816, 16331169.79904449, 15686448.465960264, 21978242.773020267, 18443804.79250896, 21489115.507884502, 26594224.80786109, 12246844.029696822, 20303877.981420994, 22131635.32393253, 15981660.455291986, 23764043.37495649, 15074904.735180497, 24804398.190060735, 23886150.14707291, 26315197.67160082, 29023709.942808032, 19032895.742507815, 24410804.645844817, 16637463.430704236, 18209770.739891768, 27873784.211004257]\n",
      "[[0, 43, 35, 48, 7, 30, 28, 11, 38, 3, 9, 6, 20, 40, 30, 1, 48, 7, 18, 20, 34, 1, 30, 16, 49, 46, 31, 13, 14, 33, 47], [0, 14, 14, 31, 38, 34, 1, 6, 26, 25, 22, 17, 35, 34, 26, 41, 5, 16, 5, 8, 41, 7, 35, 15, 41, 15, 35, 45, 38, 20, 25], [0, 45, 25, 24, 14, 27, 24, 23, 41, 39, 17, 13, 37, 6, 17, 43, 0, 37, 21, 16, 15, 42, 26, 45, 6, 29, 4, 7, 30, 43, 41], [0, 34, 40, 38, 15, 37, 5, 46, 37, 32, 15, 12, 42, 19, 40, 7, 13, 31, 36, 12, 38, 12, 31, 11, 25, 32, 47, 49, 33, 17, 32], [0, 31, 24, 6, 6, 29, 4, 14, 16, 3, 6, 25, 6, 18, 24, 46, 10, 46, 47, 34, 10, 49, 39, 47, 30, 48, 0, 17, 5, 33, 22], [0, 13, 19, 6, 44, 27, 41, 23, 22, 34, 30, 8, 22, 20, 27, 33, 4, 14, 30, 34, 49, 7, 35, 15, 42, 20, 5, 44, 6, 2, 39], [0, 20, 42, 0, 13, 4, 28, 11, 14, 12, 34, 47, 19, 12, 11, 49, 18, 17, 24, 6, 6, 8, 7, 49, 20, 48, 32, 23, 11, 3, 23]]\n",
      "                            OLS Regression Results                            \n",
      "==============================================================================\n",
      "Dep. Variable:                      y   R-squared:                       1.000\n",
      "Model:                            OLS   Adj. R-squared:                  1.000\n",
      "Method:                 Least Squares   F-statistic:                 1.525e+05\n",
      "Date:                Tue, 06 Dec 2016   Prob (F-statistic):           4.15e-52\n",
      "Time:                        12:27:53   Log-Likelihood:                -358.97\n",
      "No. Observations:                  31   AIC:                             733.9\n",
      "Df Residuals:                      23   BIC:                             745.4\n",
      "Df Model:                           7                                         \n",
      "Covariance Type:            nonrobust                                         \n",
      "==============================================================================\n",
      "                 coef    std err          t      P>|t|      [95.0% Conf. Int.]\n",
      "------------------------------------------------------------------------------\n",
      "x1          1.225e+05    388.621    315.100      0.000      1.22e+05  1.23e+05\n",
      "x2          1.249e+05    419.874    297.396      0.000      1.24e+05  1.26e+05\n",
      "x3          1.215e+05    400.147    303.543      0.000      1.21e+05  1.22e+05\n",
      "x4           1.23e+05    459.686    267.497      0.000      1.22e+05  1.24e+05\n",
      "x5          1.117e+05    438.542    254.641      0.000      1.11e+05  1.13e+05\n",
      "x6          1.225e+05    479.323    255.588      0.000      1.22e+05  1.24e+05\n",
      "x7          1.248e+05    361.960    344.850      0.000      1.24e+05  1.26e+05\n",
      "const       1.024e+05   2.02e+04      5.063      0.000      6.06e+04  1.44e+05\n",
      "==============================================================================\n",
      "Omnibus:                       27.094   Durbin-Watson:                   1.474\n",
      "Prob(Omnibus):                  0.000   Jarque-Bera (JB):               57.788\n",
      "Skew:                          -1.905   Prob(JB):                     2.83e-13\n",
      "Kurtosis:                       8.498   Cond. No.                         243.\n",
      "==============================================================================\n",
      "\n",
      "Warnings:\n",
      "[1] Standard Errors assume that the covariance matrix of the errors is correctly specified.\n",
      "0.999978448642\n"
     ]
    }
   ],
   "source": [
    "import numpy as np\n",
    "import statsmodels.api as sm\n",
    "from get_cso import * \n",
    "from process_collection import * \n",
    "collectionName = collection #from cell above\n",
    "ratio = 0.05\n",
    "numSubcatch = 7\n",
    "results = volume_reduction_and_runoff_volume_vs_lid_number(collectionName, numSubcatch, db)\n",
    "csoResults = cso_reduction(collectionName, ratio, numSubcatch, results) \n",
    "\n",
    "### regression\n",
    "y = csoResults[\"csoReduction\"]\n",
    "x = results['numLists']\n",
    "print x\n",
    "def reg_m(y, x):\n",
    "    ones = np.ones(len(x[0]))\n",
    "    X = sm.add_constant(np.column_stack((x[0], ones)))\n",
    "    for ele in x[1:]:\n",
    "        X = sm.add_constant(np.column_stack((ele, X)))\n",
    "    statistics = sm.OLS(y, X).fit()\n",
    "    return statistics\n",
    "reg_m(y,x)\n",
    "print reg_m(y, x).summary()\n",
    "print reg_m(y, x).rsquared\n"
   ]
  },
  {
   "cell_type": "code",
   "execution_count": 3,
   "metadata": {
    "collapsed": false
   },
   "outputs": [
    {
     "name": "stdout",
     "output_type": "stream",
     "text": [
      "[687453499.1268364, 663230160.0524524, 663129556.7831286, 668731751.1254153, 670580096.355072, 664489501.8541925, 671383077.8134319, 671087327.2266608, 663894021.7920594, 669545322.7559396, 671122329.3277919, 671767050.6608762, 665475256.3538162, 669009694.3343275, 665964383.6189519, 660859274.3189753, 675206655.0971396, 667149621.1454154, 665321863.8029039, 671471838.6715444, 663689455.7518799, 672378594.3916559, 662649100.9367757, 663567348.9797635, 661138301.4552356, 658429789.1840284, 668420603.3843286, 663042694.4809916, 670816035.6961322, 669243728.3869447, 659579714.9158322]\n",
      "[[0, 43, 35, 48, 7, 30, 28, 11, 38, 3, 9, 6, 20, 40, 30, 1, 48, 7, 18, 20, 34, 1, 30, 16, 49, 46, 31, 13, 14, 33, 47], [0, 14, 14, 31, 38, 34, 1, 6, 26, 25, 22, 17, 35, 34, 26, 41, 5, 16, 5, 8, 41, 7, 35, 15, 41, 15, 35, 45, 38, 20, 25], [0, 45, 25, 24, 14, 27, 24, 23, 41, 39, 17, 13, 37, 6, 17, 43, 0, 37, 21, 16, 15, 42, 26, 45, 6, 29, 4, 7, 30, 43, 41], [0, 34, 40, 38, 15, 37, 5, 46, 37, 32, 15, 12, 42, 19, 40, 7, 13, 31, 36, 12, 38, 12, 31, 11, 25, 32, 47, 49, 33, 17, 32], [0, 31, 24, 6, 6, 29, 4, 14, 16, 3, 6, 25, 6, 18, 24, 46, 10, 46, 47, 34, 10, 49, 39, 47, 30, 48, 0, 17, 5, 33, 22], [0, 13, 19, 6, 44, 27, 41, 23, 22, 34, 30, 8, 22, 20, 27, 33, 4, 14, 30, 34, 49, 7, 35, 15, 42, 20, 5, 44, 6, 2, 39], [0, 20, 42, 0, 13, 4, 28, 11, 14, 12, 34, 47, 19, 12, 11, 49, 18, 17, 24, 6, 6, 8, 7, 49, 20, 48, 32, 23, 11, 3, 23]]\n",
      "                            OLS Regression Results                            \n",
      "==============================================================================\n",
      "Dep. Variable:                      y   R-squared:                       1.000\n",
      "Model:                            OLS   Adj. R-squared:                  1.000\n",
      "Method:                 Least Squares   F-statistic:                 1.525e+05\n",
      "Date:                Tue, 06 Dec 2016   Prob (F-statistic):           4.15e-52\n",
      "Time:                        12:27:53   Log-Likelihood:                -358.97\n",
      "No. Observations:                  31   AIC:                             733.9\n",
      "Df Residuals:                      23   BIC:                             745.4\n",
      "Df Model:                           7                                         \n",
      "Covariance Type:            nonrobust                                         \n",
      "==============================================================================\n",
      "                 coef    std err          t      P>|t|      [95.0% Conf. Int.]\n",
      "------------------------------------------------------------------------------\n",
      "x1         -1.225e+05    388.621   -315.100      0.000     -1.23e+05 -1.22e+05\n",
      "x2         -1.249e+05    419.874   -297.396      0.000     -1.26e+05 -1.24e+05\n",
      "x3         -1.215e+05    400.147   -303.543      0.000     -1.22e+05 -1.21e+05\n",
      "x4          -1.23e+05    459.686   -267.497      0.000     -1.24e+05 -1.22e+05\n",
      "x5         -1.117e+05    438.542   -254.641      0.000     -1.13e+05 -1.11e+05\n",
      "x6         -1.225e+05    479.323   -255.588      0.000     -1.24e+05 -1.22e+05\n",
      "x7         -1.248e+05    361.960   -344.850      0.000     -1.26e+05 -1.24e+05\n",
      "const       6.874e+08   2.02e+04    3.4e+04      0.000      6.87e+08  6.87e+08\n",
      "==============================================================================\n",
      "Omnibus:                       27.094   Durbin-Watson:                   1.474\n",
      "Prob(Omnibus):                  0.000   Jarque-Bera (JB):               57.788\n",
      "Skew:                           1.905   Prob(JB):                     2.83e-13\n",
      "Kurtosis:                       8.498   Cond. No.                         243.\n",
      "==============================================================================\n",
      "\n",
      "Warnings:\n",
      "[1] Standard Errors assume that the covariance matrix of the errors is correctly specified.\n",
      "0.999978448642\n"
     ]
    }
   ],
   "source": [
    "### regression for total cso outflow\n",
    "y = csoResults[\"cso\"]\n",
    "print y\n",
    "x = results['numLists']\n",
    "print x\n",
    "def reg_m(y, x):\n",
    "    ones = np.ones(len(x[0]))\n",
    "    X = sm.add_constant(np.column_stack((x[0], ones)))\n",
    "    for ele in x[1:]:\n",
    "        X = sm.add_constant(np.column_stack((ele, X)))\n",
    "    statistics = sm.OLS(y, X).fit()\n",
    "    return statistics\n",
    "reg_m(y,x)\n",
    "print reg_m(y, x).summary()\n",
    "print reg_m(y, x).rsquared\n"
   ]
  },
  {
   "cell_type": "code",
   "execution_count": 4,
   "metadata": {
    "collapsed": false
   },
   "outputs": [
    {
     "name": "stdout",
     "output_type": "stream",
     "text": [
      "[1949310793.2803576, 1909287981.0672224, 1909497650.3181446, 1918695622.1569028, 1921883768.9133675, 1911664549.0037, 1923116705.9756114, 1922469163.738426, 1910475770.1990576, 1919685564.251623, 1922697374.2062314, 1923716892.0328724, 1913083396.4372857, 1919482829.442736, 1914265274.4622254, 1905364211.1947508, 1929696952.8741238, 1915685926.197242, 1913088136.094764, 1923287555.8160474, 1910693538.6089988, 1924114659.7072465, 1908684644.2149358, 1909754897.9204257, 1906696196.326202, 1901737531.6701698, 1918490409.7997866, 1909676424.2734199, 1921871744.7255144, 1919088320.2828696, 1903503754.2551582]\n",
      "[[0, 43, 35, 48, 7, 30, 28, 11, 38, 3, 9, 6, 20, 40, 30, 1, 48, 7, 18, 20, 34, 1, 30, 16, 49, 46, 31, 13, 14, 33, 47], [0, 14, 14, 31, 38, 34, 1, 6, 26, 25, 22, 17, 35, 34, 26, 41, 5, 16, 5, 8, 41, 7, 35, 15, 41, 15, 35, 45, 38, 20, 25], [0, 45, 25, 24, 14, 27, 24, 23, 41, 39, 17, 13, 37, 6, 17, 43, 0, 37, 21, 16, 15, 42, 26, 45, 6, 29, 4, 7, 30, 43, 41], [0, 34, 40, 38, 15, 37, 5, 46, 37, 32, 15, 12, 42, 19, 40, 7, 13, 31, 36, 12, 38, 12, 31, 11, 25, 32, 47, 49, 33, 17, 32], [0, 31, 24, 6, 6, 29, 4, 14, 16, 3, 6, 25, 6, 18, 24, 46, 10, 46, 47, 34, 10, 49, 39, 47, 30, 48, 0, 17, 5, 33, 22], [0, 13, 19, 6, 44, 27, 41, 23, 22, 34, 30, 8, 22, 20, 27, 33, 4, 14, 30, 34, 49, 7, 35, 15, 42, 20, 5, 44, 6, 2, 39], [0, 20, 42, 0, 13, 4, 28, 11, 14, 12, 34, 47, 19, 12, 11, 49, 18, 17, 24, 6, 6, 8, 7, 49, 20, 48, 32, 23, 11, 3, 23]]\n",
      "                            OLS Regression Results                            \n",
      "==============================================================================\n",
      "Dep. Variable:                      y   R-squared:                       1.000\n",
      "Model:                            OLS   Adj. R-squared:                  1.000\n",
      "Method:                 Least Squares   F-statistic:                 2.176e+06\n",
      "Date:                Tue, 06 Dec 2016   Prob (F-statistic):           2.19e-65\n",
      "Time:                        12:27:53   Log-Likelihood:                -333.17\n",
      "No. Observations:                  31   AIC:                             682.3\n",
      "Df Residuals:                      23   BIC:                             693.8\n",
      "Df Model:                           7                                         \n",
      "Covariance Type:            nonrobust                                         \n",
      "==============================================================================\n",
      "                 coef    std err          t      P>|t|      [95.0% Conf. Int.]\n",
      "------------------------------------------------------------------------------\n",
      "x1         -1.991e+05    169.104  -1177.391      0.000     -1.99e+05 -1.99e+05\n",
      "x2         -2.001e+05    182.703  -1095.114      0.000        -2e+05    -2e+05\n",
      "x3         -1.999e+05    174.119  -1147.814      0.000        -2e+05 -1.99e+05\n",
      "x4         -2.009e+05    200.027  -1004.556      0.000     -2.01e+05 -2.01e+05\n",
      "x5         -1.997e+05    190.826  -1046.715      0.000        -2e+05 -1.99e+05\n",
      "x6         -1.999e+05    208.572   -958.218      0.000        -2e+05 -1.99e+05\n",
      "x7         -1.999e+05    157.503  -1269.174      0.000        -2e+05    -2e+05\n",
      "const       1.949e+09   8803.814   2.21e+05      0.000      1.95e+09  1.95e+09\n",
      "==============================================================================\n",
      "Omnibus:                        3.071   Durbin-Watson:                   1.981\n",
      "Prob(Omnibus):                  0.215   Jarque-Bera (JB):                2.764\n",
      "Skew:                           0.688   Prob(JB):                        0.251\n",
      "Kurtosis:                       2.503   Cond. No.                         243.\n",
      "==============================================================================\n",
      "\n",
      "Warnings:\n",
      "[1] Standard Errors assume that the covariance matrix of the errors is correctly specified.\n",
      "0.999998490163\n"
     ]
    }
   ],
   "source": [
    "### regression for total volume outflow\n",
    "y = csoResults[\"totalVol\"]\n",
    "print y\n",
    "x = results['numLists']\n",
    "print x\n",
    "def reg_m(y, x):\n",
    "    ones = np.ones(len(x[0]))\n",
    "    X = sm.add_constant(np.column_stack((x[0], ones)))\n",
    "    for ele in x[1:]:\n",
    "        X = sm.add_constant(np.column_stack((ele, X)))\n",
    "    statistics = sm.OLS(y, X).fit()\n",
    "    return statistics\n",
    "reg_m(y,x)\n",
    "print reg_m(y, x).summary()\n",
    "print reg_m(y, x).rsquared"
   ]
  },
  {
   "cell_type": "code",
   "execution_count": null,
   "metadata": {
    "collapsed": true
   },
   "outputs": [],
   "source": []
  }
 ],
 "metadata": {
  "anaconda-cloud": {},
  "kernelspec": {
   "display_name": "Python [Root]",
   "language": "python",
   "name": "Python [Root]"
  },
  "language_info": {
   "codemirror_mode": {
    "name": "ipython",
    "version": 2
   },
   "file_extension": ".py",
   "mimetype": "text/x-python",
   "name": "python",
   "nbconvert_exporter": "python",
   "pygments_lexer": "ipython2",
   "version": "2.7.12"
  }
 },
 "nbformat": 4,
 "nbformat_minor": 0
}
