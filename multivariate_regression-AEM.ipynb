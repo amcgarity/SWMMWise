{
 "cells": [
  {
   "cell_type": "markdown",
   "metadata": {},
   "source": [
    "# Multivariate Regression"
   ]
  },
  {
   "cell_type": "markdown",
   "metadata": {},
   "source": [
    "# Show the collections that have been generated"
   ]
  },
  {
   "cell_type": "code",
   "execution_count": 1,
   "metadata": {
    "collapsed": false
   },
   "outputs": [
    {
     "data": {
      "text/plain": [
       "[u'2008',\n",
       " u'2008trial1',\n",
       " u'2008trial3',\n",
       " u'2008trial4',\n",
       " u'2008trial6',\n",
       " u'first_wingo_test',\n",
       " u'fourth_wingo_test',\n",
       " u'impervFixed',\n",
       " u'impervNotFixed',\n",
       " u'july',\n",
       " u'july10',\n",
       " u'july12',\n",
       " u'july13',\n",
       " u'july14',\n",
       " u'july15',\n",
       " u'july16',\n",
       " u'july17',\n",
       " u'july2',\n",
       " u'july21',\n",
       " u'july22',\n",
       " u'july23',\n",
       " u'july24',\n",
       " u'july3',\n",
       " u'july4',\n",
       " u'july5',\n",
       " u'july6',\n",
       " u'july7',\n",
       " u'july8',\n",
       " u'july9',\n",
       " u'largeTrialLinier',\n",
       " u'multivariate_250_2010',\n",
       " u'multivariate_random_250_2010',\n",
       " u'multivariate_random_250_2011',\n",
       " u'multivariate_random_250_2012',\n",
       " u'multivariate_random_250_2013',\n",
       " u'randomTrial1',\n",
       " u'randomTrial2',\n",
       " u'randomTrial4',\n",
       " u'randomTrial5',\n",
       " u'random_multivariate',\n",
       " u'random_multivariate2',\n",
       " u'random_multivariate2009',\n",
       " u'random_multivariate2009year',\n",
       " u'random_multivariate2010',\n",
       " u'random_multivariate2012year',\n",
       " u'random_multivariate250',\n",
       " u'random_multivariate250_2009',\n",
       " u'random_multivariate3',\n",
       " u'random_multivariate5',\n",
       " u'random_multivariate6',\n",
       " u'random_multivariate7',\n",
       " u'random_multivariate8',\n",
       " u'random_multivariate9',\n",
       " u'second_wingo_test',\n",
       " u'trialWith%Perv',\n",
       " u'trialWith%Perv2',\n",
       " u'y16m10d11_demonstrate_runswmm_on_aws-2',\n",
       " u'y16m12d19_AEM_Wakefield_and_Anna_1',\n",
       " u'y16m12d19_AEM_Wakefield_and_Anna_50_250',\n",
       " u'y16m12d19_AEM_tests',\n",
       " u'y16m12d20_AEM_Wingo_Zero_LID_Check']"
      ]
     },
     "execution_count": 1,
     "metadata": {},
     "output_type": "execute_result"
    }
   ],
   "source": [
    "from pymongo import MongoClient\n",
    "from process_collection import *\n",
    "#  IMPORTANT:  Set these for each run:\n",
    "#################################################\n",
    "# mongoServer = None   # use the local mongodb server installed on your computer\n",
    "#mongoServer = 'mongodb://server.mcgarity.info:27017/'  # Art's personal server\n",
    "#mongoServer = 'mongodb://ubuntu:27017/'  # ubuntu Linux virtual machine on Art's Mac\n",
    "mongoServer = 'mongodb://aws-2.greenphilly.net:27017/'  # aws-2 server for GreenPhilly\n",
    "database = \"jcohen4\"\n",
    "username = \"jcohen4\"\n",
    "password = \"wingohocking\"\n",
    "authenticationDatabase = \"jcohen4\"\n",
    "\n",
    "client = MongoClient(mongoServer)\n",
    "################################################\n",
    "\n",
    "db = client[database]\n",
    "db.authenticate(username, password, source=authenticationDatabase)  # pass credentials to database\n",
    "collectionNames = sorted(db.collection_names())\n",
    "collectionNames"
   ]
  },
  {
   "cell_type": "code",
   "execution_count": 88,
   "metadata": {
    "collapsed": false
   },
   "outputs": [
    {
     "name": "stdout",
     "output_type": "stream",
     "text": [
      "noLidPeak = 1948.45 cfs, noLidVolume = 1948.90 MGal\n",
      "noLid Runoff = 5987.73 acre-ft = 1951.11 MGal\n",
      "[{u'LID': u'wakefield_BR_RG', u'Subcat': u'TT14_574_shed', u'Area': 741, u'CapRatioPct': 5, u'Number': 0, u'Width': 0, u'SubcatArea': 150.12}, {u'LID': u'wakefield_BR_RG', u'Subcat': u'T14_K3_shed', u'Area': 741, u'CapRatioPct': 5, u'Number': 0, u'Width': 0, u'SubcatArea': 328.15}, {u'LID': u'wakefield_BR_RG', u'Subcat': u'T14_B_shed', u'Area': 741, u'CapRatioPct': 5, u'Number': 0, u'Width': 0, u'SubcatArea': 327.26}, {u'LID': u'wakefield_BR_RG', u'Subcat': u'TT14_720_shed', u'Area': 741, u'CapRatioPct': 5, u'Number': 0, u'Width': 0, u'SubcatArea': 132.26}, {u'LID': u'wakefield_BR_RG', u'Subcat': u'TT14_646A_shed', u'Area': 741, u'CapRatioPct': 5, u'Number': 0, u'Width': 0, u'SubcatArea': 73.42}, {u'LID': u'wakefield_BR_RG', u'Subcat': u'TT14_552B_shed', u'Area': 741, u'CapRatioPct': 5, u'Number': 0, u'Width': 0, u'SubcatArea': 105.38}, {u'LID': u'wakefield_BR_RG', u'Subcat': u'T14_R6_shed', u'Area': 741, u'CapRatioPct': 5, u'Number': 0, u'Width': 0, u'SubcatArea': 60.67}, {u'LID': u'Anna_TT_infil', u'Subcat': u'TT14_574_shed', u'Area': 760, u'CapRatioPct': 10, u'Number': 0, u'Width': 5, u'SubcatArea': 150.12}, {u'LID': u'Anna_TT_infil', u'Subcat': u'T14_K3_shed', u'Area': 760, u'CapRatioPct': 10, u'Number': 0, u'Width': 5, u'SubcatArea': 328.15}, {u'LID': u'Anna_TT_infil', u'Subcat': u'T14_B_shed', u'Area': 760, u'CapRatioPct': 10, u'Number': 0, u'Width': 5, u'SubcatArea': 327.26}, {u'LID': u'Anna_TT_infil', u'Subcat': u'TT14_720_shed', u'Area': 760, u'CapRatioPct': 10, u'Number': 0, u'Width': 5, u'SubcatArea': 132.26}, {u'LID': u'Anna_TT_infil', u'Subcat': u'TT14_646A_shed', u'Area': 760, u'CapRatioPct': 10, u'Number': 0, u'Width': 5, u'SubcatArea': 73.42}, {u'LID': u'Anna_TT_infil', u'Subcat': u'TT14_552B_shed', u'Area': 760, u'CapRatioPct': 10, u'Number': 0, u'Width': 5, u'SubcatArea': 105.38}, {u'LID': u'Anna_TT_infil', u'Subcat': u'T14_R6_shed', u'Area': 760, u'CapRatioPct': 10, u'Number': 0, u'Width': 5, u'SubcatArea': 60.67}]\n"
     ]
    }
   ],
   "source": [
    "acft_to_mgal = 0.325851  # 1 acre-ft = 0.325851 MGal\n",
    "collectionName = 'y16m12d19_AEM_Wakefield_and_Anna_50_250'\n",
    "runs = db[collectionName]\n",
    "cursor = runs.find()\n",
    "noLidRun = cursor[0]\n",
    "noLidVolume = noLidRun['volume']  # 10^6 Gal / yr\n",
    "noLidPeak = noLidRun['peak']   # cfs\n",
    "noLidRunoff = noLidRun['runoff']  # acre-ft/yr\n",
    "print \"noLidPeak = %0.2f cfs, noLidVolume = %0.2f MGal\" % (noLidPeak,noLidVolume)\n",
    "print \"noLid Runoff = %0.2f acre-ft = %0.2f MGal\" % (noLidRunoff,noLidRunoff*acft_to_mgal)\n",
    "# NOTE: Volume is total flow volume at sewer outlet while Runoff is total runoff volume\n",
    "#       so they will likely be slightly different\n",
    "noLidRunParamsList = noLidRun['runParamList']\n",
    "print noLidRunParamsList"
   ]
  },
  {
   "cell_type": "code",
   "execution_count": 110,
   "metadata": {
    "collapsed": false
   },
   "outputs": [
    {
     "name": "stdout",
     "output_type": "stream",
     "text": [
      "Number of Runs stored in Database = 397\n"
     ]
    }
   ],
   "source": [
    "# Compute Annual CSO Flows from results stored on Mongo\n",
    "from get_cso import * \n",
    "from process_collection import * \n",
    "collectionName = 'y16m12d19_AEM_Wakefield_and_Anna_50_250'\n",
    "ratio = 0.05\n",
    "numSubcatch = 7\n",
    "numLID = 2\n",
    "numVariables = numSubcatch*numLID\n",
    "results = volume_reduction_and_runoff_volume_vs_lid_number(collectionName, numVariables, db)\n",
    "volReduction = results[\"volReductionList\"]\n",
    "numberOfRuns = len(volReduction)\n",
    "volReductionMgal = [x / 1e6 for x in volReduction]\n",
    "numberOfRuns = len(volReductionMgal)\n",
    "#print volReduction\n",
    "csoResults = cso_reduction(collectionName, ratio, numSubcatch, results) \n",
    "csoReduction = csoResults[\"csoReduction\"]\n",
    "csoReductionMgal = [x / 1e6 for x in csoReduction]\n",
    "#print csoReduction\n",
    "cso = csoResults[\"cso\"]\n",
    "#print cso\n",
    "totVol = csoResults[\"totalVol\"]\n",
    "print \"Number of Runs stored in Database = %d\" % numberOfRuns"
   ]
  },
  {
   "cell_type": "code",
   "execution_count": 111,
   "metadata": {
    "collapsed": false,
    "scrolled": true
   },
   "outputs": [
    {
     "name": "stdout",
     "output_type": "stream",
     "text": [
      "Exact r-squared:\n",
      "0.999976004504\n",
      "                            OLS Regression Results                            \n",
      "==============================================================================\n",
      "Dep. Variable:                      y   R-squared:                       1.000\n",
      "Model:                            OLS   Adj. R-squared:                  1.000\n",
      "Method:                 Least Squares   F-statistic:                 1.137e+06\n",
      "Date:                Wed, 21 Dec 2016   Prob (F-statistic):               0.00\n",
      "Time:                        10:10:19   Log-Likelihood:                -4844.6\n",
      "No. Observations:                 397   AIC:                             9719.\n",
      "Df Residuals:                     382   BIC:                             9779.\n",
      "Df Model:                          14                                         \n",
      "Covariance Type:            nonrobust                                         \n",
      "==============================================================================\n",
      "                 coef    std err          t      P>|t|      [95.0% Conf. Int.]\n",
      "------------------------------------------------------------------------------\n",
      "x1          7.612e+04    199.018    382.456      0.000      7.57e+04  7.65e+04\n",
      "x2          7.889e+04    196.331    401.813      0.000      7.85e+04  7.93e+04\n",
      "x3          7.601e+04    206.984    367.222      0.000      7.56e+04  7.64e+04\n",
      "x4          7.734e+04    203.367    380.293      0.000      7.69e+04  7.77e+04\n",
      "x5          7.254e+04    192.898    376.050      0.000      7.22e+04  7.29e+04\n",
      "x6          7.861e+04    203.599    386.087      0.000      7.82e+04   7.9e+04\n",
      "x7          7.899e+04    194.747    405.614      0.000      7.86e+04  7.94e+04\n",
      "x8          1.209e+05    207.899    581.700      0.000      1.21e+05  1.21e+05\n",
      "x9          1.238e+05    202.697    610.842      0.000      1.23e+05  1.24e+05\n",
      "x10           1.2e+05    195.970    612.091      0.000       1.2e+05   1.2e+05\n",
      "x11         1.215e+05    195.070    622.608      0.000      1.21e+05  1.22e+05\n",
      "x12         1.106e+05    206.499    535.705      0.000       1.1e+05  1.11e+05\n",
      "x13         1.221e+05    193.203    632.189      0.000      1.22e+05  1.23e+05\n",
      "x14         1.237e+05    196.350    629.871      0.000      1.23e+05  1.24e+05\n",
      "const       2.691e+05   7223.980     37.255      0.000      2.55e+05  2.83e+05\n",
      "==============================================================================\n",
      "Omnibus:                      129.689   Durbin-Watson:                   1.047\n",
      "Prob(Omnibus):                  0.000   Jarque-Bera (JB):              353.647\n",
      "Skew:                          -1.569   Prob(JB):                     1.61e-77\n",
      "Kurtosis:                       6.395   Cond. No.                         226.\n",
      "==============================================================================\n",
      "\n",
      "Warnings:\n",
      "[1] Standard Errors assume that the covariance matrix of the errors is correctly specified.\n",
      "[  76115.60820036   78888.310541     76009.19491394   77339.20715261\n",
      "   72539.23689706   78606.76066584   78992.18938162  120935.07838125\n",
      "  123815.76853188  119951.14626279  121452.46701587  110622.61460859\n",
      "  122141.08807234  123674.9254828   269128.19215909]\n"
     ]
    }
   ],
   "source": [
    "# Multivariable Regression for Annual CSO Volumes\n",
    "import numpy as np\n",
    "import statsmodels.api as sm\n",
    "def reg_m(y, x):\n",
    "    ones = np.ones(len(x[0]))\n",
    "    X = sm.add_constant(np.column_stack((x[0], ones)))\n",
    "    for ele in x[1:]:\n",
    "        X = sm.add_constant(np.column_stack((ele, X)))\n",
    "    statistics = sm.OLS(y, X).fit()\n",
    "    return statistics\n",
    "### regression\n",
    "y = csoResults[\"csoReduction\"]\n",
    "# list of variable values (LID numbers) for each random LID placement:\n",
    "X = results['numLists']   # a list of lists (so upper case)\n",
    "stats = reg_m(y,X)\n",
    "print \"Exact r-squared:\"\n",
    "print stats.rsquared\n",
    "print stats.summary()\n",
    "print stats.params\n",
    "#print X"
   ]
  },
  {
   "cell_type": "code",
   "execution_count": 112,
   "metadata": {
    "collapsed": false
   },
   "outputs": [
    {
     "data": {
      "text/plain": [
       "<matplotlib.text.Text at 0x11f498cd0>"
      ]
     },
     "execution_count": 112,
     "metadata": {},
     "output_type": "execute_result"
    },
    {
     "data": {
      "image/png": "[encoded data removed]",
      "text/plain": [
       "<matplotlib.figure.Figure at 0x10ad9a190>"
      ]
     },
     "metadata": {},
     "output_type": "display_data"
    }
   ],
   "source": [
    "# Generate Residuals Plot for Annual CSO Volumes\n",
    "# First, transpose results['numLists']:\n",
    "xVals = zip(*results['numLists'])\n",
    "#print list(xvals[0])\n",
    "\n",
    "betaZero = stats.params[numVariables]\n",
    "yPredicted = []\n",
    "for xTuple in xVals:\n",
    "    i = 0\n",
    "    yval = betaZero\n",
    "    for beta in stats.params:\n",
    "        yval += beta*xTuple[i]\n",
    "        i += 1\n",
    "        if i == numVariables:\n",
    "            break\n",
    "    yPredicted.append(yval/1e6)  # convert to 10^6 Gal\n",
    "residuals = []\n",
    "i = 0\n",
    "for ySWMM in csoReductionMgal:\n",
    "    #print ySWMM\n",
    "    resid = ySWMM - yPredicted[i]  # Residual in 10^6 Gal\n",
    "    residuals.append(resid)\n",
    "    i+=1\n",
    "#print residuals\n",
    "(fig, ax1) = plt.subplots()\n",
    "ax1.plot(yPredicted,residuals,'ko',color = 'b',markersize = 1)\n",
    "ax1.set_xlabel(\"Predicted CSO Reduction (MGal)\",fontsize=12)\n",
    "ax1.set_ylabel(\"Residual (MGal)\",fontsize=12)"
   ]
  },
  {
   "cell_type": "code",
   "execution_count": 113,
   "metadata": {
    "collapsed": false
   },
   "outputs": [
    {
     "name": "stdout",
     "output_type": "stream",
     "text": [
      "Exact r-squared:\n",
      "0.999987057502\n",
      "                            OLS Regression Results                            \n",
      "==============================================================================\n",
      "Dep. Variable:                      y   R-squared:                       1.000\n",
      "Model:                            OLS   Adj. R-squared:                  1.000\n",
      "Method:                 Least Squares   F-statistic:                 2.108e+06\n",
      "Date:                Wed, 21 Dec 2016   Prob (F-statistic):               0.00\n",
      "Time:                        10:11:01   Log-Likelihood:                -4914.0\n",
      "No. Observations:                 397   AIC:                             9858.\n",
      "Df Residuals:                     382   BIC:                             9918.\n",
      "Df Model:                          14                                         \n",
      "Covariance Type:            nonrobust                                         \n",
      "==============================================================================\n",
      "                 coef    std err          t      P>|t|      [95.0% Conf. Int.]\n",
      "------------------------------------------------------------------------------\n",
      "x1          1.196e+05    237.068    504.300      0.000      1.19e+05   1.2e+05\n",
      "x2          1.223e+05    233.867    523.035      0.000      1.22e+05  1.23e+05\n",
      "x3          1.209e+05    246.557    490.312      0.000       1.2e+05  1.21e+05\n",
      "x4          1.229e+05    242.249    507.204      0.000      1.22e+05  1.23e+05\n",
      "x5           1.24e+05    229.777    539.734      0.000      1.24e+05  1.24e+05\n",
      "x6          1.237e+05    242.524    510.032      0.000      1.23e+05  1.24e+05\n",
      "x7          1.222e+05    231.981    526.825      0.000      1.22e+05  1.23e+05\n",
      "x8          1.961e+05    247.647    791.923      0.000      1.96e+05  1.97e+05\n",
      "x9          1.984e+05    241.450    821.516      0.000      1.98e+05  1.99e+05\n",
      "x10         1.969e+05    233.437    843.426      0.000      1.96e+05  1.97e+05\n",
      "x11         1.989e+05    232.365    855.933      0.000      1.98e+05  1.99e+05\n",
      "x12         1.993e+05    245.979    810.135      0.000      1.99e+05     2e+05\n",
      "x13         1.998e+05    230.142    868.242      0.000      1.99e+05     2e+05\n",
      "x14          1.98e+05    233.889    846.419      0.000      1.98e+05  1.98e+05\n",
      "const       2.172e+05   8605.115     25.239      0.000         2e+05  2.34e+05\n",
      "==============================================================================\n",
      "Omnibus:                       41.092   Durbin-Watson:                   1.437\n",
      "Prob(Omnibus):                  0.000   Jarque-Bera (JB):               50.975\n",
      "Skew:                          -0.825   Prob(JB):                     8.53e-12\n",
      "Kurtosis:                       3.597   Cond. No.                         226.\n",
      "==============================================================================\n",
      "\n",
      "Warnings:\n",
      "[1] Standard Errors assume that the covariance matrix of the errors is correctly specified.\n",
      "[ 119553.03542341  122320.56254457  120889.87469886  122869.54399325\n",
      "  124018.71874652  123694.99599181  122213.21412058  196117.54672607\n",
      "  198355.13233026  196886.44241196  198889.13837464  199276.59879971\n",
      "  199818.41742497  197968.22740178  217188.7964734 ]\n"
     ]
    }
   ],
   "source": [
    "# Multivariable Regression for Sewer Outflow Volume\n",
    "import numpy as np\n",
    "import statsmodels.api as sm\n",
    "def reg_m(y, x):\n",
    "    ones = np.ones(len(x[0]))\n",
    "    X = sm.add_constant(np.column_stack((x[0], ones)))\n",
    "    for ele in x[1:]:\n",
    "        X = sm.add_constant(np.column_stack((ele, X)))\n",
    "    statistics = sm.OLS(y, X).fit()\n",
    "    return statistics\n",
    "### regression\n",
    "y = volReduction\n",
    "# list of variable values (LID numbers) for each random LID placement:\n",
    "X = results['numLists']   # a list of lists (so upper case)\n",
    "stats = reg_m(y,X)\n",
    "print \"Exact r-squared:\"\n",
    "print stats.rsquared\n",
    "print stats.summary()\n",
    "print stats.params\n",
    "#print X"
   ]
  },
  {
   "cell_type": "code",
   "execution_count": 114,
   "metadata": {
    "collapsed": false
   },
   "outputs": [
    {
     "data": {
      "text/plain": [
       "<matplotlib.text.Text at 0x10d21a190>"
      ]
     },
     "execution_count": 114,
     "metadata": {},
     "output_type": "execute_result"
    },
    {
     "data": {
      "image/png": "[encoded data removed]",
      "text/plain": [
       "<matplotlib.figure.Figure at 0x11f4b08d0>"
      ]
     },
     "metadata": {},
     "output_type": "display_data"
    }
   ],
   "source": [
    "# Generate Residuals Plot for Sewer Outflow Volume\n",
    "# First, transpose results['numLists']:\n",
    "xVals = zip(*results['numLists'])\n",
    "#print list(xvals[0])\n",
    "\n",
    "betaZero = stats.params[numVariables]\n",
    "yPredicted = []\n",
    "for xTuple in xVals:\n",
    "    i = 0\n",
    "    yval = betaZero\n",
    "    for beta in stats.params:\n",
    "        yval += beta*xTuple[i]\n",
    "        i += 1\n",
    "        if i == numVariables:\n",
    "            break\n",
    "    yPredicted.append(yval/1e6)  # convert to 10^6 Gal\n",
    "residuals = []\n",
    "i = 0\n",
    "for ySWMM in volReductionMgal:\n",
    "    #print ySWMM\n",
    "    resid = ySWMM - yPredicted[i]  # Residual in 10^6 Gal\n",
    "    residuals.append(resid)\n",
    "    i+=1\n",
    "#print residuals\n",
    "(fig, ax1) = plt.subplots()\n",
    "ax1.plot(yPredicted,residuals,'ko',color = 'b',markersize = 1)\n",
    "ax1.set_xlabel(\"Predicted Sewer Outflow Reduction (MGal)\",fontsize=12)\n",
    "ax1.set_ylabel(\"Residual (MGal)\",fontsize=12)"
   ]
  },
  {
   "cell_type": "code",
   "execution_count": 115,
   "metadata": {
    "collapsed": false
   },
   "outputs": [
    {
     "name": "stdout",
     "output_type": "stream",
     "text": [
      "Total number of SWMM runs = 397\n",
      "[ 0.61644024  0.11795876]\n"
     ]
    },
    {
     "data": {
      "text/plain": [
       "(25, 45)"
      ]
     },
     "execution_count": 115,
     "metadata": {},
     "output_type": "execute_result"
    },
    {
     "data": {
      "image/png": "[encoded data removed]",
      "text/plain": [
       "<matplotlib.figure.Figure at 0x10ccc7210>"
      ]
     },
     "metadata": {},
     "output_type": "display_data"
    }
   ],
   "source": [
    "# SCATTER PLOT OF CSO ANNUAL VOLUME REDUCTION VS SEWER OUTFLOW ANNUAL VOLUME REDUCTION\n",
    "%matplotlib inline\n",
    "import matplotlib.pyplot as plt\n",
    "print \"Total number of SWMM runs = %d\" % len(volReductionMgal)\n",
    "xRange = [50,70]\n",
    "yRange = [25,45]\n",
    "# fit a straight line to CSO volume vs Outflow volume:\n",
    "VolumeRed = []\n",
    "VolumeRed.append(volReductionMgal)\n",
    "stats = reg_m(csoReductionMgal,VolumeRed)\n",
    "print stats.params\n",
    "a = stats.params[1]  # intercept\n",
    "b = stats.params[0]  # slope\n",
    "xline = []\n",
    "yline = []\n",
    "for xval in range(xRange[0],xRange[1]+1, 1):\n",
    "    xline.append(xval)\n",
    "    yval = a + b*xval\n",
    "    yline.append(yval)\n",
    "(fig, ax1) = plt.subplots()\n",
    "ax1.plot(volReductionMgal,csoReductionMgal,'ko',color = 'b',markersize = 1)\n",
    "ax1.plot(xline,yline)\n",
    "ax1.set_xlabel(\"Volume Reduction (MGal)\",fontsize=12)\n",
    "ax1.set_ylabel(\"CSO Reduction (MGal)\",fontsize=12)\n",
    "plt.xlim(xRange)\n",
    "plt.ylim(yRange)"
   ]
  },
  {
   "cell_type": "code",
   "execution_count": null,
   "metadata": {
    "collapsed": true
   },
   "outputs": [],
   "source": []
  },
  {
   "cell_type": "code",
   "execution_count": 117,
   "metadata": {
    "collapsed": false
   },
   "outputs": [
    {
     "name": "stdout",
     "output_type": "stream",
     "text": [
      "Exact r-squared:\n",
      "0.999987267192\n",
      "                            OLS Regression Results                            \n",
      "==============================================================================\n",
      "Dep. Variable:                      y   R-squared:                       1.000\n",
      "Model:                            OLS   Adj. R-squared:                  1.000\n",
      "Method:                 Least Squares   F-statistic:                 2.143e+06\n",
      "Date:                Wed, 21 Dec 2016   Prob (F-statistic):               0.00\n",
      "Time:                        10:12:41   Log-Likelihood:                -4911.6\n",
      "No. Observations:                 397   AIC:                             9853.\n",
      "Df Residuals:                     382   BIC:                             9913.\n",
      "Df Model:                          14                                         \n",
      "Covariance Type:            nonrobust                                         \n",
      "==============================================================================\n",
      "                 coef    std err          t      P>|t|      [95.0% Conf. Int.]\n",
      "------------------------------------------------------------------------------\n",
      "x1           -1.2e+05    235.620   -509.248      0.000      -1.2e+05  -1.2e+05\n",
      "x2         -1.225e+05    232.439   -526.862      0.000     -1.23e+05 -1.22e+05\n",
      "x3         -1.213e+05    245.052   -494.948      0.000     -1.22e+05 -1.21e+05\n",
      "x4         -1.232e+05    240.770   -511.836      0.000     -1.24e+05 -1.23e+05\n",
      "x5          -1.24e+05    228.375   -542.920      0.000     -1.24e+05 -1.24e+05\n",
      "x6         -1.239e+05    241.044   -513.981      0.000     -1.24e+05 -1.23e+05\n",
      "x7         -1.225e+05    230.565   -531.117      0.000     -1.23e+05 -1.22e+05\n",
      "x8         -1.969e+05    246.135   -799.822      0.000     -1.97e+05 -1.96e+05\n",
      "x9         -1.985e+05    239.976   -827.336      0.000     -1.99e+05 -1.98e+05\n",
      "x10        -1.976e+05    232.012   -851.498      0.000     -1.98e+05 -1.97e+05\n",
      "x11        -1.995e+05    230.947   -863.881      0.000        -2e+05 -1.99e+05\n",
      "x12        -1.992e+05    244.478   -814.761      0.000        -2e+05 -1.99e+05\n",
      "x13        -2.001e+05    228.737   -874.753      0.000     -2.01e+05    -2e+05\n",
      "x14        -1.983e+05    232.461   -853.234      0.000     -1.99e+05 -1.98e+05\n",
      "const       1.949e+09   8552.588   2.28e+05      0.000      1.95e+09  1.95e+09\n",
      "==============================================================================\n",
      "Omnibus:                       39.052   Durbin-Watson:                   1.459\n",
      "Prob(Omnibus):                  0.000   Jarque-Bera (JB):               47.769\n",
      "Skew:                           0.804   Prob(JB):                     4.24e-11\n",
      "Kurtosis:                       3.549   Cond. No.                         226.\n",
      "==============================================================================\n",
      "\n",
      "Warnings:\n",
      "[1] Standard Errors assume that the covariance matrix of the errors is correctly specified.\n"
     ]
    }
   ],
   "source": [
    "### regression for total volume outflow\n",
    "y = csoResults[\"totalVol\"]\n",
    "#print y\n",
    "x = results['numLists']\n",
    "#print x\n",
    "def reg_m(y, x):\n",
    "    ones = np.ones(len(x[0]))\n",
    "    X = sm.add_constant(np.column_stack((x[0], ones)))\n",
    "    for ele in x[1:]:\n",
    "        X = sm.add_constant(np.column_stack((ele, X)))\n",
    "    statistics = sm.OLS(y, X).fit()\n",
    "    return statistics\n",
    "reg_m(y,x)\n",
    "\n",
    "print \"Exact r-squared:\"\n",
    "print reg_m(y, x).rsquared\n",
    "print reg_m(y, x).summary()\n"
   ]
  },
  {
   "cell_type": "code",
   "execution_count": null,
   "metadata": {
    "collapsed": true
   },
   "outputs": [],
   "source": []
  }
 ],
 "metadata": {
  "anaconda-cloud": {},
  "kernelspec": {
   "display_name": "Python 2",
   "language": "python",
   "name": "python2"
  },
  "language_info": {
   "codemirror_mode": {
    "name": "ipython",
    "version": 2
   },
   "file_extension": ".py",
   "mimetype": "text/x-python",
   "name": "python",
   "nbconvert_exporter": "python",
   "pygments_lexer": "ipython2",
   "version": "2.7.11"
  }
 },
 "nbformat": 4,
 "nbformat_minor": 0
}
