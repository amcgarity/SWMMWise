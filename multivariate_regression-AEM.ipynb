{
 "cells": [
  {
   "cell_type": "markdown",
   "metadata": {},
   "source": [
    "# Multivariate Regression"
   ]
  },
  {
   "cell_type": "markdown",
   "metadata": {},
   "source": [
    "# Show the collections that have been generated"
   ]
  },
  {
   "cell_type": "code",
   "execution_count": 1,
   "metadata": {
    "collapsed": false
   },
   "outputs": [
    {
     "data": {
      "text/plain": [
       "[u'2008',\n",
       " u'2008trial1',\n",
       " u'2008trial3',\n",
       " u'2008trial4',\n",
       " u'2008trial6',\n",
       " u'first_wingo_test',\n",
       " u'fourth_wingo_test',\n",
       " u'impervFixed',\n",
       " u'impervNotFixed',\n",
       " u'july',\n",
       " u'july10',\n",
       " u'july12',\n",
       " u'july13',\n",
       " u'july14',\n",
       " u'july15',\n",
       " u'july16',\n",
       " u'july17',\n",
       " u'july2',\n",
       " u'july21',\n",
       " u'july22',\n",
       " u'july23',\n",
       " u'july24',\n",
       " u'july3',\n",
       " u'july4',\n",
       " u'july5',\n",
       " u'july6',\n",
       " u'july7',\n",
       " u'july8',\n",
       " u'july9',\n",
       " u'largeTrialLinier',\n",
       " u'multivariate_250_2010',\n",
       " u'multivariate_random_250_2010',\n",
       " u'multivariate_random_250_2011',\n",
       " u'multivariate_random_250_2012',\n",
       " u'multivariate_random_250_2013',\n",
       " u'randomTrial1',\n",
       " u'randomTrial2',\n",
       " u'randomTrial4',\n",
       " u'randomTrial5',\n",
       " u'random_multivariate',\n",
       " u'random_multivariate2',\n",
       " u'random_multivariate2009',\n",
       " u'random_multivariate2009year',\n",
       " u'random_multivariate2010',\n",
       " u'random_multivariate2012year',\n",
       " u'random_multivariate250',\n",
       " u'random_multivariate250_2009',\n",
       " u'random_multivariate3',\n",
       " u'random_multivariate5',\n",
       " u'random_multivariate6',\n",
       " u'random_multivariate7',\n",
       " u'random_multivariate8',\n",
       " u'random_multivariate9',\n",
       " u'second_wingo_test',\n",
       " u'trialWith%Perv',\n",
       " u'trialWith%Perv2',\n",
       " u'y16m10d11_demonstrate_runswmm_on_aws-2',\n",
       " u'y16m12d19_AEM_Wakefield_and_Anna_1',\n",
       " u'y16m12d19_AEM_Wakefield_and_Anna_50_250',\n",
       " u'y16m12d19_AEM_tests',\n",
       " u'y16m12d20_AEM_Wingo_Zero_LID_Check',\n",
       " u'y16m12d21_AEM_test_recovery_failed_SWMM_run',\n",
       " u'y16m12d27_AEM_45_Subcat_Leeds_Tree_Trench_and_Rain_Barrel',\n",
       " u'y16m12d27_AEM_45_Subcat_Leeds_Tree_Trench_and_Rain_Barrel_1',\n",
       " u'y16m12d27_AEM_45_Subcat_Leeds_Tree_Trench_and_Rain_Barrel_3',\n",
       " u'y16m12d27_AEM_45_Subcat_Leeds_Tree_Trench_and_Rain_Barrel_4',\n",
       " u'y16m12d27_AEM_45_Subcat_Leeds_Tree_Trench_and_Rain_Barrel_5',\n",
       " u'y16m12d27_AEM_7_Subcat_Leeds_Tree_Trench_and_Rain_Barrel']"
      ]
     },
     "execution_count": 1,
     "metadata": {},
     "output_type": "execute_result"
    }
   ],
   "source": [
    "from pymongo import MongoClient\n",
    "from process_collection import *\n",
    "#  IMPORTANT:  Set these for each run:\n",
    "#################################################\n",
    "# mongoServer = None   # use the local mongodb server installed on your computer\n",
    "#mongoServer = 'mongodb://server.mcgarity.info:27017/'  # Art's personal server\n",
    "#mongoServer = 'mongodb://ubuntu:27017/'  # ubuntu Linux virtual machine on Art's Mac\n",
    "mongoServer = 'mongodb://aws-2.greenphilly.net:27017/'  # aws-2 server for GreenPhilly\n",
    "database = \"jcohen4\"\n",
    "username = \"jcohen4\"\n",
    "password = \"wingohocking\"\n",
    "authenticationDatabase = \"jcohen4\"\n",
    "\n",
    "client = MongoClient(mongoServer)\n",
    "################################################\n",
    "\n",
    "db = client[database]\n",
    "db.authenticate(username, password, source=authenticationDatabase)  # pass credentials to database\n",
    "collectionNames = sorted(db.collection_names())\n",
    "collectionNames"
   ]
  },
  {
   "cell_type": "code",
   "execution_count": 2,
   "metadata": {
    "collapsed": false
   },
   "outputs": [
    {
     "name": "stdout",
     "output_type": "stream",
     "text": [
      "noLidPeak = 1948.45 cfs, noLidVolume = 1948.90 MGal\n",
      "noLid Runoff = 5987.73 acre-ft = 1951.11 MGal\n",
      "noLid csoVolumeMGal = 687.45 MGal\n"
     ]
    }
   ],
   "source": [
    "from get_cso import calculate_cso\n",
    "acft_to_mgal = 0.325851  # 1 acre-ft = 0.325851 MGal\n",
    "collectionName = 'y16m12d27_AEM_45_Subcat_Leeds_Tree_Trench_and_Rain_Barrel_5'\n",
    "runs = db[collectionName]\n",
    "cursor = runs.find()\n",
    "noLidRun = cursor[0]\n",
    "noLidVolume = noLidRun['volume']  # 10^6 Gal / yr\n",
    "noLidPeak = noLidRun['peak']   # cfs\n",
    "noLidRunoff = noLidRun['runoff']  # acre-ft/yr\n",
    "outflowSeries = noLidRun['outflow_series']\n",
    "ratio = 0.05\n",
    "csoResults = calculate_cso(outflowSeries,ratio)\n",
    "csoVolumeMGal = csoResults['cso_volume']/1e6\n",
    "print \"noLidPeak = %0.2f cfs, noLidVolume = %0.2f MGal\" % (noLidPeak,noLidVolume)\n",
    "print \"noLid Runoff = %0.2f acre-ft = %0.2f MGal\" % (noLidRunoff,noLidRunoff*acft_to_mgal)\n",
    "print \"noLid csoVolumeMGal = %0.2f MGal\" % csoVolumeMGal\n",
    "# NOTE: Volume is total flow volume at sewer outlet while Runoff is total runoff volume\n",
    "#       so they will likely be slightly different\n",
    "noLidRunParamsList = noLidRun['runParamList']\n",
    "#print noLidRunParamsList"
   ]
  },
  {
   "cell_type": "code",
   "execution_count": 3,
   "metadata": {
    "collapsed": false
   },
   "outputs": [
    {
     "name": "stdout",
     "output_type": "stream",
     "text": [
      "Number of Runs stored in Database = 743\n"
     ]
    }
   ],
   "source": [
    "# Compute Annual CSO Flows from results stored on Mongo\n",
    "from get_cso import * \n",
    "from process_collection import * \n",
    "collectionName = 'y16m12d27_AEM_45_Subcat_Leeds_Tree_Trench_and_Rain_Barrel_5'\n",
    "ratio = 0.05\n",
    "numSubcatch = 45\n",
    "numLID = 2\n",
    "numVariables = numSubcatch*numLID\n",
    "results = volume_reduction_and_runoff_volume_vs_lid_number(collectionName, numVariables, db)\n",
    "volReduction = results[\"volReductionList\"]\n",
    "numberOfRuns = len(volReduction)\n",
    "volReductionMgal = [x / 1e6 for x in volReduction]\n",
    "numberOfRuns = len(volReductionMgal)\n",
    "#print volReduction\n",
    "# ALERT:  in cso_reduction, collectionName and numSubCatch is never used !!!\n",
    "csoResults = cso_reduction(collectionName, ratio, numSubcatch, results) \n",
    "csoReduction = csoResults[\"csoReduction\"]\n",
    "csoReductionMgal = [x / 1e6 for x in csoReduction]\n",
    "#print csoReductionMgal\n",
    "cso = csoResults[\"cso\"]\n",
    "#print cso\n",
    "totVol = csoResults[\"totalVol\"]\n",
    "print \"Number of Runs stored in Database = %d\" % numberOfRuns\n",
    "#print results['numLists'][0]"
   ]
  },
  {
   "cell_type": "code",
   "execution_count": 86,
   "metadata": {
    "collapsed": false
   },
   "outputs": [
    {
     "data": {
      "text/plain": [
       "<matplotlib.text.Text at 0x146e63f10>"
      ]
     },
     "execution_count": 86,
     "metadata": {},
     "output_type": "execute_result"
    },
    {
     "data": {
      "image/png": "[encoded data removed]",
      "text/plain": [
       "<matplotlib.figure.Figure at 0x147866710>"
      ]
     },
     "metadata": {},
     "output_type": "display_data"
    }
   ],
   "source": [
    "# Compute total greened acres and plot CSO reductions vs greened acres\n",
    "%matplotlib inline\n",
    "import matplotlib.pyplot as plt\n",
    "gaPerLid = [0.1,0.936]\n",
    "lidNumbers = results['numLists']\n",
    "greenedAcres = []\n",
    "lidGreenedAcres = {}\n",
    "for lid in range(0,numLID):\n",
    "    lidGreenedAcres[lid] = []\n",
    "lidTransposed = zip(*lidNumbers)\n",
    "for run in range(0,numberOfRuns):\n",
    "    variable = 0\n",
    "    lidList = lidTransposed[run]\n",
    "    gaTotalThisRun = 0.0\n",
    "    for lid in range(0,numLID):\n",
    "        gaTotalThisLID = 0.0\n",
    "        for subcat in range(0,numSubcatch):\n",
    "            numberLID = lidList[variable]\n",
    "            thisGreenedAcres = gaPerLid[lid]*numberLID\n",
    "            gaTotalThisRun += thisGreenedAcres\n",
    "            gaTotalThisLID += thisGreenedAcres\n",
    "            variable += 1\n",
    "        lidGreenedAcres[lid].append(gaTotalThisLID)\n",
    "    greenedAcres.append(gaTotalThisRun)\n",
    "#print greenedAcres\n",
    "#print lidGreenedAcres\n",
    "(fig, ax1) = plt.subplots()\n",
    "plt.title(\"CSO Reduction vs Greened Acres\")\n",
    "ax1.plot(greenedAcres,csoReductionMgal,'ko',color = 'b',markersize = 1)\n",
    "ax1.set_xlabel(\"Greened Acres\",fontsize=12)\n",
    "ax1.set_ylabel(\"CSO Reduction (MGal/yr)\",fontsize=12)"
   ]
  },
  {
   "cell_type": "code",
   "execution_count": 87,
   "metadata": {
    "collapsed": false
   },
   "outputs": [
    {
     "data": {
      "text/plain": [
       "<matplotlib.text.Text at 0x14788e5d0>"
      ]
     },
     "execution_count": 87,
     "metadata": {},
     "output_type": "execute_result"
    },
    {
     "data": {
      "image/png": "[encoded data removed]",
      "text/plain": [
       "<matplotlib.figure.Figure at 0x14635cf10>"
      ]
     },
     "metadata": {},
     "output_type": "display_data"
    }
   ],
   "source": [
    "(fig, ax1) = plt.subplots()\n",
    "plt.title(\"Runoff Volume Reduction vs Greened Acres\")\n",
    "ax1.plot(greenedAcres,volReductionMgal,'ko',color = 'b',markersize = 1)\n",
    "ax1.set_xlabel(\"Greened Acres\",fontsize=12)\n",
    "ax1.set_ylabel(\"Runoff Volume Reduction (MGal/yr)\",fontsize=12)"
   ]
  },
  {
   "cell_type": "code",
   "execution_count": 88,
   "metadata": {
    "collapsed": false
   },
   "outputs": [
    {
     "name": "stdout",
     "output_type": "stream",
     "text": [
      "Total number of SWMM runs = 743\n"
     ]
    },
    {
     "data": {
      "text/plain": [
       "<matplotlib.text.Text at 0x147859990>"
      ]
     },
     "execution_count": 88,
     "metadata": {},
     "output_type": "execute_result"
    },
    {
     "data": {
      "image/png": "[encoded data removed]",
      "text/plain": [
       "<matplotlib.figure.Figure at 0x146b6fa90>"
      ]
     },
     "metadata": {},
     "output_type": "display_data"
    }
   ],
   "source": [
    "# SCATTER PLOT OF CSO ANNUAL VOLUME REDUCTION VS SEWER OUTFLOW ANNUAL VOLUME REDUCTION\n",
    "%matplotlib inline\n",
    "import matplotlib.pyplot as plt\n",
    "print \"Total number of SWMM runs = %d\" % len(volReductionMgal)\n",
    "#xRange = [50,70]\n",
    "#yRange = [25,45]\n",
    "(fig, ax1) = plt.subplots()\n",
    "ax1.plot(volReductionMgal,csoReductionMgal,'ko',color = 'b',markersize = 1)\n",
    "plt.title(\"CSO Reduction vs Runoff Volume Reduction\")\n",
    "ax1.set_xlabel(\"Volume Reduction (MGal)\",fontsize=12)\n",
    "ax1.set_ylabel(\"CSO Reduction (MGal)\",fontsize=12)\n",
    "#plt.xlim(xRange)\n",
    "#plt.ylim(yRange)"
   ]
  },
  {
   "cell_type": "code",
   "execution_count": 95,
   "metadata": {
    "collapsed": false
   },
   "outputs": [
    {
     "name": "stdout",
     "output_type": "stream",
     "text": [
      "Exact r-squared:\n",
      "0.968626787852\n",
      "                            OLS Regression Results                            \n",
      "==============================================================================\n",
      "Dep. Variable:                      y   R-squared:                       0.969\n",
      "Model:                            OLS   Adj. R-squared:                  0.968\n",
      "Method:                 Least Squares   F-statistic:                     870.1\n",
      "Date:                Fri, 06 Jan 2017   Prob (F-statistic):               0.00\n",
      "Time:                        17:59:31   Log-Likelihood:                -11905.\n",
      "No. Observations:                 643   AIC:                         2.386e+04\n",
      "Df Residuals:                     620   BIC:                         2.396e+04\n",
      "Df Model:                          22                                         \n",
      "Covariance Type:            nonrobust                                         \n",
      "==============================================================================\n",
      "                 coef    std err          t      P>|t|      [95.0% Conf. Int.]\n",
      "------------------------------------------------------------------------------\n",
      "x1          6.346e+05   8.47e+04      7.490      0.000      4.68e+05  8.01e+05\n",
      "x2          6.251e+05    6.3e+04      9.929      0.000      5.01e+05  7.49e+05\n",
      "x3          5.043e+05    6.6e+04      7.639      0.000      3.75e+05  6.34e+05\n",
      "x4          5.085e+05   6.47e+04      7.855      0.000      3.81e+05  6.36e+05\n",
      "x5          9.318e+05   2.21e+05      4.216      0.000      4.98e+05  1.37e+06\n",
      "x6          6.079e+05   1.09e+05      5.582      0.000      3.94e+05  8.22e+05\n",
      "x7           1.39e+06   1.72e+05      8.097      0.000      1.05e+06  1.73e+06\n",
      "x8          6.111e+05      8e+04      7.641      0.000      4.54e+05  7.68e+05\n",
      "x9          3.744e+05   3.18e+04     11.775      0.000      3.12e+05  4.37e+05\n",
      "x10         4.514e+05    3.5e+04     12.880      0.000      3.83e+05   5.2e+05\n",
      "x11         6.368e+05    8.6e+04      7.404      0.000      4.68e+05  8.06e+05\n",
      "x12          6.56e+05   9.54e+04      6.876      0.000      4.69e+05  8.43e+05\n",
      "x13          6.15e+05   7.69e+04      7.993      0.000      4.64e+05  7.66e+05\n",
      "x14         6.769e+05   8.31e+04      8.149      0.000      5.14e+05   8.4e+05\n",
      "x15          7.66e+05   7.37e+04     10.400      0.000      6.21e+05  9.11e+05\n",
      "x16         1.655e+06   2.63e+05      6.296      0.000      1.14e+06  2.17e+06\n",
      "x17         8.005e+05   1.36e+05      5.893      0.000      5.34e+05  1.07e+06\n",
      "x18         1.429e+06   2.19e+05      6.529      0.000      9.99e+05  1.86e+06\n",
      "x19         6.606e+05   1.11e+05      5.975      0.000      4.43e+05  8.78e+05\n",
      "x20         4.122e+05    3.8e+04     10.856      0.000      3.38e+05  4.87e+05\n",
      "x21         4.735e+05   4.13e+04     11.477      0.000      3.92e+05  5.54e+05\n",
      "x22         1.006e+06   1.14e+05      8.793      0.000      7.81e+05  1.23e+06\n",
      "const       3.117e+07   2.18e+06     14.326      0.000      2.69e+07  3.54e+07\n",
      "==============================================================================\n",
      "Omnibus:                       40.957   Durbin-Watson:                   1.931\n",
      "Prob(Omnibus):                  0.000   Jarque-Bera (JB):               48.480\n",
      "Skew:                           0.599   Prob(JB):                     2.97e-11\n",
      "Kurtosis:                       3.611   Cond. No.                         240.\n",
      "==============================================================================\n",
      "\n",
      "Warnings:\n",
      "[1] Standard Errors assume that the covariance matrix of the errors is correctly specified.\n",
      "[   634630.23979469    625077.15815066    504347.71057903\n",
      "    508474.77911466    931829.48100485    607921.91467203   1390129.8719097\n",
      "    611141.34062164    374396.33327073    451422.46589598\n",
      "    636844.13296108    655976.53529987    615036.3969602     676889.9568342\n",
      "    765974.81790395   1655059.6798877     800533.1025736    1429423.88394766\n",
      "    660596.15850634    412220.56913203    473475.38355172\n",
      "   1005810.99068429  31167771.52590546]\n"
     ]
    }
   ],
   "source": [
    "# Multivariable Regression for Annual CSO Reductions vs Filtered PWD Wingohocking subcatchments\n",
    "import numpy as np\n",
    "import statsmodels.api as sm\n",
    "\n",
    "def reg_m(y, x):\n",
    "    ones = np.ones(len(x[0]))\n",
    "    X = sm.add_constant(np.column_stack((x[0], ones)))\n",
    "    for ele in x[1:]:\n",
    "        X = sm.add_constant(np.column_stack((ele, X)))\n",
    "    statistics = sm.OLS(y, X).fit()\n",
    "    return statistics\n",
    "\n",
    "numberOfSubcatchmentsFiltered = 11\n",
    "gaPerLid = [0.1,0.936]\n",
    "greenedAcresFilteredTranspose = []\n",
    "csoReductionFiltered = []\n",
    "runoffVolumeReductionFiltered = []   # for runoff volume regression in later block\n",
    "#chunks = [data[x:x+100] for x in xrange(0, len(data), 100)]\n",
    "for run in range(0,numberOfRuns):\n",
    "    if greenedAcres[run] <= 2000.0:\n",
    "        csoReductionFiltered.append(csoReduction[run])\n",
    "        runoffVolumeReductionFiltered.append(volReduction[run])\n",
    "        lidList = lidTransposed[run]\n",
    "        lidChunks = [lidList[x:x+numSubcatch] for x in range(0,len(lidList),numSubcatch)]\n",
    "        #print len(lidChunks[0])\n",
    "        filteredSubcatsVariables = []\n",
    "        for lid in range(0,numLID):\n",
    "            filteredSubcats = lidChunks[lid][0:numberOfSubcatchmentsFiltered]\n",
    "            filteredSubcatsGreenedAcres = [gaPerLid[lid]*filteredSubcats[i] for i in range(0,len(filteredSubcats))]\n",
    "            #print sevenSubcatsGreenedAcres\n",
    "            filteredSubcatsVariables += filteredSubcatsGreenedAcres\n",
    "        greenedAcresFilteredTranspose.append(filteredSubcatsVariables)\n",
    "        #print sevenSubcatsVariables\n",
    "        #[list(i) for i in zip(*theArray)]\n",
    "greenedAcresFiltered = [list(i) for i in zip(*greenedAcresFilteredTranspose)]\n",
    "#print greenedAcres\n",
    "#print csoReductionFiltered\n",
    "\n",
    "stats = reg_m(csoReductionFiltered,greenedAcresFiltered)\n",
    "print \"Exact r-squared:\"\n",
    "print stats.rsquared\n",
    "print stats.summary()\n",
    "print stats.params\n",
    "#print reducedLIDNumbers\n",
    "#print reducedGreenedAcres\n",
    "      "
   ]
  },
  {
   "cell_type": "code",
   "execution_count": 96,
   "metadata": {
    "collapsed": false
   },
   "outputs": [
    {
     "data": {
      "text/plain": [
       "<matplotlib.text.Text at 0x1484b2c50>"
      ]
     },
     "execution_count": 96,
     "metadata": {},
     "output_type": "execute_result"
    },
    {
     "data": {
      "image/png": "[encoded data removed]",
      "text/plain": [
       "<matplotlib.figure.Figure at 0x1482e0810>"
      ]
     },
     "metadata": {},
     "output_type": "display_data"
    }
   ],
   "source": [
    "# Generate Residuals Plot for FILTERED Annual CSO Volumes vs reduced number of subcatchments\n",
    "%matplotlib inline\n",
    "import matplotlib.pyplot as plt\n",
    "import numpy as np\n",
    "# First, transpose results['numLists']:\n",
    "xVals = greenedAcresFilteredTranspose\n",
    "#print list(xVals[1])\n",
    "numFilteredVariables = len(greenedAcresFiltered)\n",
    "betaZero = stats.params[numFilteredVariables]\n",
    "yPredicted = []\n",
    "for x in xVals:\n",
    "    i = 0\n",
    "    yval = betaZero\n",
    "    for beta in stats.params:\n",
    "        yval += beta*x[i]\n",
    "        i += 1\n",
    "        if i == numFilteredVariables:\n",
    "            break\n",
    "    yPredicted.append(yval/1e6)  # convert to 10^6 Gal\n",
    "residuals = []\n",
    "csoReductionFilteredMgal = [x / 1e6 for x in csoReductionFiltered]\n",
    "i = 0\n",
    "for ySWMM in csoReductionFilteredMgal:\n",
    "    #print ySWMM\n",
    "    resid = ySWMM - yPredicted[i]  # Residual in 10^6 Gal\n",
    "    residuals.append(resid)\n",
    "    i+=1\n",
    "stdDevResiduals = np.std(residuals, ddof=1) #ddof=1 for SAMPLE std. dev.\n",
    "standardizedResiduals = [x / stdDevResiduals for x in residuals]\n",
    "(fig, ax1) = plt.subplots()\n",
    "plt.title(\"CSO Reduction Residuals vs Predicted CSO Reduction\")\n",
    "ax1.plot(yPredicted,standardizedResiduals,'ko',color = 'b',markersize = 1)\n",
    "ax1.set_xlabel(\"Predicted CSO Reduction (MGal)\",fontsize=12)\n",
    "#ax1.set_ylabel(\"Residual (MGal)\",fontsize=12)\n",
    "ax1.set_ylabel(\"Standardized Residual\",fontsize=12)\n",
    "stdDevText = \"Std. Dev. Residuals = %0.2f MGal\" % stdDevResiduals\n",
    "ax1.text(2,-4,stdDevText)\n"
   ]
  },
  {
   "cell_type": "code",
   "execution_count": 97,
   "metadata": {
    "collapsed": false
   },
   "outputs": [
    {
     "name": "stdout",
     "output_type": "stream",
     "text": [
      "Exact r-squared:\n",
      "0.974219217562\n",
      "                            OLS Regression Results                            \n",
      "==============================================================================\n",
      "Dep. Variable:                      y   R-squared:                       0.974\n",
      "Model:                            OLS   Adj. R-squared:                  0.973\n",
      "Method:                 Least Squares   F-statistic:                     1065.\n",
      "Date:                Fri, 06 Jan 2017   Prob (F-statistic):               0.00\n",
      "Time:                        17:59:31   Log-Likelihood:                -12214.\n",
      "No. Observations:                 643   AIC:                         2.447e+04\n",
      "Df Residuals:                     620   BIC:                         2.458e+04\n",
      "Df Model:                          22                                         \n",
      "Covariance Type:            nonrobust                                         \n",
      "==============================================================================\n",
      "                 coef    std err          t      P>|t|      [95.0% Conf. Int.]\n",
      "------------------------------------------------------------------------------\n",
      "x1          9.674e+05   1.37e+05      7.061      0.000      6.98e+05  1.24e+06\n",
      "x2           1.14e+06   1.02e+05     11.202      0.000       9.4e+05  1.34e+06\n",
      "x3          8.448e+05   1.07e+05      7.914      0.000      6.35e+05  1.05e+06\n",
      "x4           8.54e+05   1.05e+05      8.159      0.000      6.48e+05  1.06e+06\n",
      "x5          1.698e+06   3.57e+05      4.750      0.000      9.96e+05   2.4e+06\n",
      "x6          1.021e+06   1.76e+05      5.800      0.000      6.75e+05  1.37e+06\n",
      "x7          2.166e+06   2.78e+05      7.804      0.000      1.62e+06  2.71e+06\n",
      "x8          1.082e+06   1.29e+05      8.370      0.000      8.28e+05  1.34e+06\n",
      "x9          7.493e+05   5.14e+04     14.576      0.000      6.48e+05   8.5e+05\n",
      "x10         8.147e+05   5.67e+04     14.376      0.000      7.03e+05  9.26e+05\n",
      "x11         1.046e+06   1.39e+05      7.519      0.000      7.73e+05  1.32e+06\n",
      "x12          1.12e+06   1.54e+05      7.261      0.000      8.17e+05  1.42e+06\n",
      "x13         1.049e+06   1.24e+05      8.431      0.000      8.05e+05  1.29e+06\n",
      "x14         1.316e+06   1.34e+05      9.799      0.000      1.05e+06  1.58e+06\n",
      "x15         1.272e+06   1.19e+05     10.680      0.000      1.04e+06  1.51e+06\n",
      "x16         3.077e+06   4.25e+05      7.240      0.000      2.24e+06  3.91e+06\n",
      "x17         1.437e+06    2.2e+05      6.541      0.000      1.01e+06  1.87e+06\n",
      "x18         2.529e+06   3.54e+05      7.144      0.000      1.83e+06  3.22e+06\n",
      "x19         1.231e+06   1.79e+05      6.886      0.000       8.8e+05  1.58e+06\n",
      "x20         7.806e+05   6.14e+04     12.714      0.000       6.6e+05  9.01e+05\n",
      "x21         8.872e+05   6.67e+04     13.302      0.000      7.56e+05  1.02e+06\n",
      "x22         1.966e+06   1.85e+05     10.628      0.000       1.6e+06  2.33e+06\n",
      "const       3.188e+07   3.52e+06      9.062      0.000       2.5e+07  3.88e+07\n",
      "==============================================================================\n",
      "Omnibus:                       16.048   Durbin-Watson:                   1.902\n",
      "Prob(Omnibus):                  0.000   Jarque-Bera (JB):               27.564\n",
      "Skew:                           0.154   Prob(JB):                     1.03e-06\n",
      "Kurtosis:                       3.967   Cond. No.                         240.\n",
      "==============================================================================\n",
      "\n",
      "Warnings:\n",
      "[1] Standard Errors assume that the covariance matrix of the errors is correctly specified.\n",
      "[   967422.00666513   1140163.31716088    844794.88097038\n",
      "    853960.51333924   1697501.39867869   1021282.33960402\n",
      "   2166327.28155627   1082320.33702027    749310.47256905\n",
      "    814662.32502891   1045643.37759317   1119905.91510458\n",
      "   1048832.08498355   1315966.2343465    1271800.05996101\n",
      "   3077119.61225854   1436601.7269058    2528749.16713543\n",
      "   1230970.99559591    780572.1610262     887236.74976861\n",
      "   1965543.69195391  31877644.592653  ]\n"
     ]
    }
   ],
   "source": [
    "# Multivariable Regression for Annual Runoff VOLUME Reductions vs Filtered PWD Wingohocking subcatchments\n",
    "import numpy as np\n",
    "import statsmodels.api as sm\n",
    "\n",
    "def reg_m(y, x):\n",
    "    ones = np.ones(len(x[0]))\n",
    "    X = sm.add_constant(np.column_stack((x[0], ones)))\n",
    "    for ele in x[1:]:\n",
    "        X = sm.add_constant(np.column_stack((ele, X)))\n",
    "    statistics = sm.OLS(y, X).fit()\n",
    "    return statistics\n",
    "\n",
    "stats = reg_m(runoffVolumeReductionFiltered,greenedAcresFiltered)\n",
    "print \"Exact r-squared:\"\n",
    "print stats.rsquared\n",
    "print stats.summary()\n",
    "print stats.params\n",
    "      "
   ]
  },
  {
   "cell_type": "code",
   "execution_count": 99,
   "metadata": {
    "collapsed": false
   },
   "outputs": [
    {
     "data": {
      "text/plain": [
       "<matplotlib.text.Text at 0x14898f190>"
      ]
     },
     "execution_count": 99,
     "metadata": {},
     "output_type": "execute_result"
    },
    {
     "data": {
      "image/png": "[encoded data removed]",
      "text/plain": [
       "<matplotlib.figure.Figure at 0x1478c3210>"
      ]
     },
     "metadata": {},
     "output_type": "display_data"
    }
   ],
   "source": [
    "# Generate Residuals Plot for FILTERED Annual RUNOFF Volumes vs reduced number of subcatchments\n",
    "%matplotlib inline\n",
    "import matplotlib.pyplot as plt\n",
    "import numpy as np\n",
    "# First, transpose results['numLists']:\n",
    "xVals = greenedAcresFilteredTranspose\n",
    "#print list(xVals[1])\n",
    "numFilteredVariables = len(greenedAcresFiltered)\n",
    "betaZero = stats.params[numFilteredVariables]\n",
    "yPredicted = []\n",
    "for x in xVals:\n",
    "    i = 0\n",
    "    yval = betaZero\n",
    "    for beta in stats.params:\n",
    "        yval += beta*x[i]\n",
    "        i += 1\n",
    "        if i == numFilteredVariables:\n",
    "            break\n",
    "    yPredicted.append(yval/1e6)  # convert to 10^6 Gal\n",
    "residuals = []\n",
    "runoffVolumeReductionFilteredMgal = [x / 1e6 for x in runoffVolumeReductionFiltered]\n",
    "i = 0\n",
    "for ySWMM in runoffVolumeReductionFilteredMgal:\n",
    "    #print ySWMM\n",
    "    resid = ySWMM - yPredicted[i]  # Residual in 10^6 Gal\n",
    "    residuals.append(resid)\n",
    "    i+=1\n",
    "stdDevResiduals = np.std(residuals, ddof=1) #ddof=1 for SAMPLE std. dev.\n",
    "standardizedResiduals = [x / stdDevResiduals for x in residuals]\n",
    "(fig, ax1) = plt.subplots()\n",
    "ax1.plot(yPredicted,standardizedResiduals,'ko',color = 'b',markersize = 1)\n",
    "plt.title(\"Runoff Reduction Residuals vs Predicted Runoff Reduction\")\n",
    "ax1.set_xlabel(\"Predicted Runoff Reduction (MGal)\",fontsize=12)\n",
    "#ax1.set_ylabel(\"Residual (MGal)\",fontsize=12)\n",
    "ax1.set_ylabel(\"Standardized Residual\",fontsize=12)\n",
    "stdDevText = \"Std. Dev. Residuals = %0.2f MGal\" % stdDevResiduals\n",
    "ax1.text(2,-4,stdDevText)"
   ]
  },
  {
   "cell_type": "code",
   "execution_count": 7,
   "metadata": {
    "collapsed": false
   },
   "outputs": [
    {
     "data": {
      "text/plain": [
       "5.80435"
      ]
     },
     "execution_count": 7,
     "metadata": {},
     "output_type": "execute_result"
    }
   ],
   "source": [
    "import yaml\n",
    "#from swmm_run_cso import *\n",
    "from swmm_objects import *\n",
    "from swmm_read_cso_time_series import *\n",
    "swmmInpFile = \"wingohocking_PWD.inp\"  # initial SWMM .inp file\n",
    "lidListFile = \"PWD_wingo_Rain_Barrel_and_Morris_LID_List.yaml\"\n",
    "infile = open(swmmInpFile,'r')\n",
    "swmmInpStr = infile.readlines()\n",
    "infile.close()\n",
    "(section_names,sections) = read_inp(swmmInpStr)\n",
    "model = swmm_model(\"Model\",section_names,sections)\n",
    "f = open(lidListFile,'r')   # Read the LID parameters used to calculate [LID_USAGE]\n",
    "lidList = yaml.load(f)  # list of dicts, one for each line in [LID_USAGE]\n",
    "f.close()\n",
    "#lid = 0\n",
    "#for lidUsed in lidList:\n",
    "    \n",
    "model.getSubcatchmentSlope(\"TT14-574_shed\")"
   ]
  },
  {
   "cell_type": "code",
   "execution_count": null,
   "metadata": {
    "collapsed": true
   },
   "outputs": [],
   "source": []
  }
 ],
 "metadata": {
  "anaconda-cloud": {},
  "kernelspec": {
   "display_name": "Python 2",
   "language": "python",
   "name": "python2"
  },
  "language_info": {
   "codemirror_mode": {
    "name": "ipython",
    "version": 2
   },
   "file_extension": ".py",
   "mimetype": "text/x-python",
   "name": "python",
   "nbconvert_exporter": "python",
   "pygments_lexer": "ipython2",
   "version": "2.7.11"
  }
 },
 "nbformat": 4,
 "nbformat_minor": 0
}
