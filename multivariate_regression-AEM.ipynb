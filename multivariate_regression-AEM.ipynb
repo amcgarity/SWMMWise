{
 "cells": [
  {
   "cell_type": "markdown",
   "metadata": {},
   "source": [
    "# Multivariate Regression"
   ]
  },
  {
   "cell_type": "markdown",
   "metadata": {},
   "source": [
    "# Show the collections that have been generated"
   ]
  },
  {
   "cell_type": "code",
   "execution_count": 57,
   "metadata": {
    "collapsed": false
   },
   "outputs": [
    {
     "data": {
      "text/plain": [
       "[u'2008',\n",
       " u'2008trial1',\n",
       " u'2008trial3',\n",
       " u'2008trial4',\n",
       " u'2008trial6',\n",
       " u'first_wingo_test',\n",
       " u'fourth_wingo_test',\n",
       " u'impervFixed',\n",
       " u'impervNotFixed',\n",
       " u'july',\n",
       " u'july10',\n",
       " u'july12',\n",
       " u'july13',\n",
       " u'july14',\n",
       " u'july15',\n",
       " u'july16',\n",
       " u'july17',\n",
       " u'july2',\n",
       " u'july21',\n",
       " u'july22',\n",
       " u'july23',\n",
       " u'july24',\n",
       " u'july3',\n",
       " u'july4',\n",
       " u'july5',\n",
       " u'july6',\n",
       " u'july7',\n",
       " u'july8',\n",
       " u'july9',\n",
       " u'largeTrialLinier',\n",
       " u'multivariate_250_2010',\n",
       " u'multivariate_random_250_2010',\n",
       " u'multivariate_random_250_2011',\n",
       " u'multivariate_random_250_2012',\n",
       " u'multivariate_random_250_2013',\n",
       " u'randomTrial1',\n",
       " u'randomTrial2',\n",
       " u'randomTrial4',\n",
       " u'randomTrial5',\n",
       " u'random_multivariate',\n",
       " u'random_multivariate2',\n",
       " u'random_multivariate2009',\n",
       " u'random_multivariate2009year',\n",
       " u'random_multivariate2010',\n",
       " u'random_multivariate2012year',\n",
       " u'random_multivariate250',\n",
       " u'random_multivariate250_2009',\n",
       " u'random_multivariate3',\n",
       " u'random_multivariate5',\n",
       " u'random_multivariate6',\n",
       " u'random_multivariate7',\n",
       " u'random_multivariate8',\n",
       " u'random_multivariate9',\n",
       " u'second_wingo_test',\n",
       " u'trialWith%Perv',\n",
       " u'trialWith%Perv2',\n",
       " u'y16m10d11_demonstrate_runswmm_on_aws-2',\n",
       " u'y16m12d19_AEM_Wakefield_and_Anna_1',\n",
       " u'y16m12d19_AEM_Wakefield_and_Anna_50_250',\n",
       " u'y16m12d19_AEM_tests',\n",
       " u'y16m12d20_AEM_Wingo_Zero_LID_Check',\n",
       " u'y16m12d21_AEM_test_recovery_failed_SWMM_run']"
      ]
     },
     "execution_count": 57,
     "metadata": {},
     "output_type": "execute_result"
    }
   ],
   "source": [
    "from pymongo import MongoClient\n",
    "from process_collection import *\n",
    "#  IMPORTANT:  Set these for each run:\n",
    "#################################################\n",
    "# mongoServer = None   # use the local mongodb server installed on your computer\n",
    "#mongoServer = 'mongodb://server.mcgarity.info:27017/'  # Art's personal server\n",
    "#mongoServer = 'mongodb://ubuntu:27017/'  # ubuntu Linux virtual machine on Art's Mac\n",
    "mongoServer = 'mongodb://aws-2.greenphilly.net:27017/'  # aws-2 server for GreenPhilly\n",
    "database = \"jcohen4\"\n",
    "username = \"jcohen4\"\n",
    "password = \"wingohocking\"\n",
    "authenticationDatabase = \"jcohen4\"\n",
    "\n",
    "client = MongoClient(mongoServer)\n",
    "################################################\n",
    "\n",
    "db = client[database]\n",
    "db.authenticate(username, password, source=authenticationDatabase)  # pass credentials to database\n",
    "collectionNames = sorted(db.collection_names())\n",
    "collectionNames"
   ]
  },
  {
   "cell_type": "code",
   "execution_count": 58,
   "metadata": {
    "collapsed": false
   },
   "outputs": [
    {
     "name": "stdout",
     "output_type": "stream",
     "text": [
      "noLidPeak = 1948.45 cfs, noLidVolume = 1948.90 MGal\n",
      "noLid Runoff = 5987.73 acre-ft = 1951.11 MGal\n",
      "noLid csoVolumeMGal = 687.45 MGal\n"
     ]
    }
   ],
   "source": [
    "from get_cso import calculate_cso\n",
    "acft_to_mgal = 0.325851  # 1 acre-ft = 0.325851 MGal\n",
    "collectionName = 'y16m12d19_AEM_Wakefield_and_Anna_50_250'\n",
    "runs = db[collectionName]\n",
    "cursor = runs.find()\n",
    "noLidRun = cursor[0]\n",
    "noLidVolume = noLidRun['volume']  # 10^6 Gal / yr\n",
    "noLidPeak = noLidRun['peak']   # cfs\n",
    "noLidRunoff = noLidRun['runoff']  # acre-ft/yr\n",
    "outflowSeries = noLidRun['outflow_series']\n",
    "ratio = 0.05\n",
    "csoResults = calculate_cso(outflowSeries,ratio)\n",
    "csoVolumeMGal = csoResults['cso_volume']/1e6\n",
    "print \"noLidPeak = %0.2f cfs, noLidVolume = %0.2f MGal\" % (noLidPeak,noLidVolume)\n",
    "print \"noLid Runoff = %0.2f acre-ft = %0.2f MGal\" % (noLidRunoff,noLidRunoff*acft_to_mgal)\n",
    "print \"noLid csoVolumeMGal = %0.2f MGal\" % csoVolumeMGal\n",
    "# NOTE: Volume is total flow volume at sewer outlet while Runoff is total runoff volume\n",
    "#       so they will likely be slightly different\n",
    "noLidRunParamsList = noLidRun['runParamList']\n",
    "#print noLidRunParamsList"
   ]
  },
  {
   "cell_type": "code",
   "execution_count": 59,
   "metadata": {
    "collapsed": false
   },
   "outputs": [
    {
     "name": "stdout",
     "output_type": "stream",
     "text": [
      "Number of Runs stored in Database = 528\n"
     ]
    }
   ],
   "source": [
    "# Compute Annual CSO Flows from results stored on Mongo\n",
    "from get_cso import * \n",
    "from process_collection import * \n",
    "collectionName = 'y16m12d19_AEM_Wakefield_and_Anna_50_250'\n",
    "ratio = 0.05\n",
    "numSubcatch = 7\n",
    "numLID = 2\n",
    "numVariables = numSubcatch*numLID\n",
    "results = volume_reduction_and_runoff_volume_vs_lid_number(collectionName, numVariables, db)\n",
    "volReduction = results[\"volReductionList\"]\n",
    "numberOfRuns = len(volReduction)\n",
    "volReductionMgal = [x / 1e6 for x in volReduction]\n",
    "numberOfRuns = len(volReductionMgal)\n",
    "#print volReduction\n",
    "# ALERT:  in cso_reduction, collectionName and numSubCatch is never used !!!\n",
    "csoResults = cso_reduction(collectionName, ratio, numSubcatch, results) \n",
    "csoReduction = csoResults[\"csoReduction\"]\n",
    "csoReductionMgal = [x / 1e6 for x in csoReduction]\n",
    "#print csoReduction\n",
    "cso = csoResults[\"cso\"]\n",
    "#print cso\n",
    "totVol = csoResults[\"totalVol\"]\n",
    "print \"Number of Runs stored in Database = %d\" % numberOfRuns"
   ]
  },
  {
   "cell_type": "code",
   "execution_count": 60,
   "metadata": {
    "collapsed": false,
    "scrolled": true
   },
   "outputs": [
    {
     "name": "stdout",
     "output_type": "stream",
     "text": [
      "Exact r-squared:\n",
      "0.999895587246\n",
      "                            OLS Regression Results                            \n",
      "==============================================================================\n",
      "Dep. Variable:                      y   R-squared:                       1.000\n",
      "Model:                            OLS   Adj. R-squared:                  1.000\n",
      "Method:                 Least Squares   F-statistic:                 3.509e+05\n",
      "Date:                Thu, 22 Dec 2016   Prob (F-statistic):               0.00\n",
      "Time:                        14:55:44   Log-Likelihood:                -7147.7\n",
      "No. Observations:                 528   AIC:                         1.433e+04\n",
      "Df Residuals:                     513   BIC:                         1.439e+04\n",
      "Df Model:                          14                                         \n",
      "Covariance Type:            nonrobust                                         \n",
      "==============================================================================\n",
      "                 coef    std err          t      P>|t|      [95.0% Conf. Int.]\n",
      "------------------------------------------------------------------------------\n",
      "x1          7.719e+04    550.638    140.182      0.000      7.61e+04  7.83e+04\n",
      "x2          7.669e+04    509.868    150.412      0.000      7.57e+04  7.77e+04\n",
      "x3           7.54e+04    535.942    140.680      0.000      7.43e+04  7.64e+04\n",
      "x4          7.739e+04    521.514    148.404      0.000      7.64e+04  7.84e+04\n",
      "x5          7.175e+04    494.804    145.000      0.000      7.08e+04  7.27e+04\n",
      "x6          7.741e+04    494.883    156.429      0.000      7.64e+04  7.84e+04\n",
      "x7          7.849e+04    503.918    155.756      0.000      7.75e+04  7.95e+04\n",
      "x8          1.208e+05    600.532    201.170      0.000       1.2e+05  1.22e+05\n",
      "x9          1.219e+05    502.151    242.673      0.000      1.21e+05  1.23e+05\n",
      "x10         1.192e+05    513.805    231.931      0.000      1.18e+05   1.2e+05\n",
      "x11         1.197e+05    512.060    233.693      0.000      1.19e+05  1.21e+05\n",
      "x12         1.092e+05    524.935    207.977      0.000      1.08e+05   1.1e+05\n",
      "x13         1.209e+05    503.834    239.917      0.000       1.2e+05  1.22e+05\n",
      "x14         1.223e+05    501.045    244.126      0.000      1.21e+05  1.23e+05\n",
      "const       4.606e+05   1.67e+04     27.526      0.000      4.28e+05  4.93e+05\n",
      "==============================================================================\n",
      "Omnibus:                      116.495   Durbin-Watson:                   0.736\n",
      "Prob(Omnibus):                  0.000   Jarque-Bera (JB):              195.893\n",
      "Skew:                          -1.369   Prob(JB):                     2.90e-43\n",
      "Kurtosis:                       4.184   Cond. No.                         205.\n",
      "==============================================================================\n",
      "\n",
      "Warnings:\n",
      "[1] Standard Errors assume that the covariance matrix of the errors is correctly specified.\n",
      "[  77189.27969339   76690.35144448   75396.2062709    77394.63475858\n",
      "   71746.60717239   77414.17458603   78488.32694437  120808.90888062\n",
      "  121858.25410237  119167.06415619  119664.95055773  109174.43788992\n",
      "  120878.16027284  122317.92698682  460563.8414694 ]\n"
     ]
    }
   ],
   "source": [
    "# Multivariable Regression for Annual CSO Volumes\n",
    "import numpy as np\n",
    "import statsmodels.api as sm\n",
    "def reg_m(y, x):\n",
    "    ones = np.ones(len(x[0]))\n",
    "    X = sm.add_constant(np.column_stack((x[0], ones)))\n",
    "    for ele in x[1:]:\n",
    "        X = sm.add_constant(np.column_stack((ele, X)))\n",
    "    statistics = sm.OLS(y, X).fit()\n",
    "    return statistics\n",
    "### regression\n",
    "y = csoResults[\"csoReduction\"]\n",
    "# list of variable values (LID numbers) for each random LID placement:\n",
    "X = results['numLists']   # a list of lists (so upper case)\n",
    "stats = reg_m(y,X)\n",
    "print \"Exact r-squared:\"\n",
    "print stats.rsquared\n",
    "print stats.summary()\n",
    "print stats.params\n",
    "#print X"
   ]
  },
  {
   "cell_type": "code",
   "execution_count": 61,
   "metadata": {
    "collapsed": false
   },
   "outputs": [
    {
     "data": {
      "text/plain": [
       "<matplotlib.text.Text at 0x10823a790>"
      ]
     },
     "execution_count": 61,
     "metadata": {},
     "output_type": "execute_result"
    },
    {
     "data": {
      "image/png": "[encoded data removed]",
      "text/plain": [
       "<matplotlib.figure.Figure at 0x12f978110>"
      ]
     },
     "metadata": {},
     "output_type": "display_data"
    }
   ],
   "source": [
    "# Generate Residuals Plot for Annual CSO Volumes\n",
    "%matplotlib inline\n",
    "import matplotlib.pyplot as plt\n",
    "import numpy as np\n",
    "# First, transpose results['numLists']:\n",
    "xVals = zip(*results['numLists'])\n",
    "#print list(xvals[0])\n",
    "\n",
    "betaZero = stats.params[numVariables]\n",
    "yPredicted = []\n",
    "for xTuple in xVals:\n",
    "    i = 0\n",
    "    yval = betaZero\n",
    "    for beta in stats.params:\n",
    "        yval += beta*xTuple[i]\n",
    "        i += 1\n",
    "        if i == numVariables:\n",
    "            break\n",
    "    yPredicted.append(yval/1e6)  # convert to 10^6 Gal\n",
    "residuals = []\n",
    "i = 0\n",
    "for ySWMM in csoReductionMgal:\n",
    "    #print ySWMM\n",
    "    resid = ySWMM - yPredicted[i]  # Residual in 10^6 Gal\n",
    "    residuals.append(resid)\n",
    "    i+=1\n",
    "stdDevResiduals = np.std(residuals, ddof=1) #ddof=1 for SAMPLE std. dev.\n",
    "standardizedResiduals = [x / stdDevResiduals for x in residuals]\n",
    "(fig, ax1) = plt.subplots()\n",
    "ax1.plot(yPredicted,standardizedResiduals,'ko',color = 'b',markersize = 1)\n",
    "ax1.set_xlabel(\"Predicted CSO Reduction (MGal)\",fontsize=12)\n",
    "#ax1.set_ylabel(\"Residual (MGal)\",fontsize=12)\n",
    "ax1.set_ylabel(\"Standardized Residual\",fontsize=12)\n",
    "stdDevText = \"Std. Dev. Residuals = %0.2f MGal\" % stdDevResiduals\n",
    "ax1.text(2,-4,stdDevText)"
   ]
  },
  {
   "cell_type": "code",
   "execution_count": 62,
   "metadata": {
    "collapsed": false
   },
   "outputs": [
    {
     "name": "stdout",
     "output_type": "stream",
     "text": [
      "Exact r-squared:\n",
      "0.999962233738\n",
      "                            OLS Regression Results                            \n",
      "==============================================================================\n",
      "Dep. Variable:                      y   R-squared:                       1.000\n",
      "Model:                            OLS   Adj. R-squared:                  1.000\n",
      "Method:                 Least Squares   F-statistic:                 9.702e+05\n",
      "Date:                Thu, 22 Dec 2016   Prob (F-statistic):               0.00\n",
      "Time:                        14:55:45   Log-Likelihood:                -7137.5\n",
      "No. Observations:                 528   AIC:                         1.430e+04\n",
      "Df Residuals:                     513   BIC:                         1.437e+04\n",
      "Df Model:                          14                                         \n",
      "Covariance Type:            nonrobust                                         \n",
      "==============================================================================\n",
      "                 coef    std err          t      P>|t|      [95.0% Conf. Int.]\n",
      "------------------------------------------------------------------------------\n",
      "x1          1.206e+05    540.046    223.265      0.000       1.2e+05  1.22e+05\n",
      "x2          1.197e+05    500.061    239.335      0.000      1.19e+05  1.21e+05\n",
      "x3          1.196e+05    525.633    227.622      0.000      1.19e+05  1.21e+05\n",
      "x4          1.228e+05    511.483    240.158      0.000      1.22e+05  1.24e+05\n",
      "x5          1.228e+05    485.287    252.987      0.000      1.22e+05  1.24e+05\n",
      "x6          1.227e+05    485.364    252.835      0.000      1.22e+05  1.24e+05\n",
      "x7          1.214e+05    494.226    245.728      0.000       1.2e+05  1.22e+05\n",
      "x8           1.96e+05    588.981    332.838      0.000      1.95e+05  1.97e+05\n",
      "x9          1.964e+05    492.492    398.850      0.000      1.95e+05  1.97e+05\n",
      "x10         1.962e+05    503.922    389.281      0.000      1.95e+05  1.97e+05\n",
      "x11         1.975e+05    502.211    393.248      0.000      1.97e+05  1.98e+05\n",
      "x12         1.983e+05    514.838    385.108      0.000      1.97e+05  1.99e+05\n",
      "x13          1.99e+05    494.143    402.756      0.000      1.98e+05     2e+05\n",
      "x14         1.969e+05    491.407    400.684      0.000      1.96e+05  1.98e+05\n",
      "const       4.112e+05   1.64e+04     25.055      0.000      3.79e+05  4.43e+05\n",
      "==============================================================================\n",
      "Omnibus:                       90.346   Durbin-Watson:                   0.808\n",
      "Prob(Omnibus):                  0.000   Jarque-Bera (JB):              134.513\n",
      "Skew:                          -1.163   Prob(JB):                     6.18e-30\n",
      "Kurtosis:                       3.839   Cond. No.                         205.\n",
      "==============================================================================\n",
      "\n",
      "Warnings:\n",
      "[1] Standard Errors assume that the covariance matrix of the errors is correctly specified.\n",
      "[ 120573.51304108  119682.36960248  119645.52231323  122836.52820029\n",
      "  122771.20993424  122716.90396031  121445.1792909   196035.07796721\n",
      "  196430.57192033  196167.29584873  197493.07874905  198268.45594528\n",
      "  199018.90783088  196899.00910237  411157.24959017]\n"
     ]
    }
   ],
   "source": [
    "# Multivariable Regression for Sewer Outflow Volume\n",
    "import numpy as np\n",
    "import statsmodels.api as sm\n",
    "def reg_m(y, x):\n",
    "    ones = np.ones(len(x[0]))\n",
    "    X = sm.add_constant(np.column_stack((x[0], ones)))\n",
    "    for ele in x[1:]:\n",
    "        X = sm.add_constant(np.column_stack((ele, X)))\n",
    "    statistics = sm.OLS(y, X).fit()\n",
    "    return statistics\n",
    "### regression\n",
    "y = volReduction\n",
    "# list of variable values (LID numbers) for each random LID placement:\n",
    "X = results['numLists']   # a list of lists (so upper case)\n",
    "stats = reg_m(y,X)\n",
    "print \"Exact r-squared:\"\n",
    "print stats.rsquared\n",
    "print stats.summary()\n",
    "print stats.params\n",
    "#print X"
   ]
  },
  {
   "cell_type": "code",
   "execution_count": 63,
   "metadata": {
    "collapsed": false
   },
   "outputs": [
    {
     "data": {
      "text/plain": [
       "<matplotlib.text.Text at 0x1311bc7d0>"
      ]
     },
     "execution_count": 63,
     "metadata": {},
     "output_type": "execute_result"
    },
    {
     "data": {
      "image/png": "[encoded data removed]",
      "text/plain": [
       "<matplotlib.figure.Figure at 0x108e9a6d0>"
      ]
     },
     "metadata": {},
     "output_type": "display_data"
    }
   ],
   "source": [
    "# Generate Residuals Plot for Sewer Outflow Volume\n",
    "%matplotlib inline\n",
    "import numpy as np\n",
    "import matplotlib.pyplot as plt\n",
    "# First, transpose results['numLists']:\n",
    "xVals = zip(*results['numLists'])\n",
    "#print list(xvals[0])\n",
    "\n",
    "betaZero = stats.params[numVariables]\n",
    "yPredicted = []\n",
    "for xTuple in xVals:\n",
    "    i = 0\n",
    "    yval = betaZero\n",
    "    for beta in stats.params:\n",
    "        yval += beta*xTuple[i]\n",
    "        i += 1\n",
    "        if i == numVariables:\n",
    "            break\n",
    "    yPredicted.append(yval/1e6)  # convert to 10^6 Gal\n",
    "residuals = []\n",
    "i = 0\n",
    "for ySWMM in volReductionMgal:\n",
    "    #print ySWMM\n",
    "    resid = ySWMM - yPredicted[i]  # Residual in 10^6 Gal\n",
    "    residuals.append(resid)\n",
    "    i+=1\n",
    "stdDevResiduals = np.std(residuals, ddof=1) #ddof=1 for SAMPLE std. dev.\n",
    "standardizedResiduals = [x / stdDevResiduals for x in residuals]\n",
    "(fig, ax1) = plt.subplots()\n",
    "ax1.plot(yPredicted,standardizedResiduals,'ko',color = 'b',markersize = 1)\n",
    "ax1.set_xlabel(\"Predicted Sewer Outflow Reduction (MGal)\",fontsize=12)\n",
    "ax1.set_ylabel(\"Standardized Residual\",fontsize=12)\n",
    "#ax1.set_ylabel(\"Residual (MGal)\",fontsize=12)\n",
    "stdDevText = \"Std. Dev. Residuals = %0.2f MGal\" % stdDevResiduals\n",
    "ax1.text(2,-4,stdDevText)"
   ]
  },
  {
   "cell_type": "code",
   "execution_count": 64,
   "metadata": {
    "collapsed": false
   },
   "outputs": [
    {
     "name": "stdout",
     "output_type": "stream",
     "text": [
      "Total number of SWMM runs = 528\n",
      "[ 0.61315377  0.22928991]\n"
     ]
    },
    {
     "data": {
      "text/plain": [
       "<matplotlib.text.Text at 0x13098fc90>"
      ]
     },
     "execution_count": 64,
     "metadata": {},
     "output_type": "execute_result"
    },
    {
     "data": {
      "image/png": "[encoded data removed]",
      "text/plain": [
       "<matplotlib.figure.Figure at 0x1309a1cd0>"
      ]
     },
     "metadata": {},
     "output_type": "display_data"
    }
   ],
   "source": [
    "# SCATTER PLOT OF CSO ANNUAL VOLUME REDUCTION VS SEWER OUTFLOW ANNUAL VOLUME REDUCTION\n",
    "%matplotlib inline\n",
    "import matplotlib.pyplot as plt\n",
    "print \"Total number of SWMM runs = %d\" % len(volReductionMgal)\n",
    "#xRange = [50,70]\n",
    "#yRange = [25,45]\n",
    "# fit a straight line to CSO volume vs Outflow volume:\n",
    "VolumeRed = []\n",
    "VolumeRed.append(volReductionMgal)\n",
    "stats = reg_m(csoReductionMgal,VolumeRed)\n",
    "print stats.params\n",
    "a = stats.params[1]  # intercept\n",
    "b = stats.params[0]  # slope\n",
    "xline = []\n",
    "yline = []\n",
    "for xval in range(xRange[0],xRange[1]+1, 1):\n",
    "    xline.append(xval)\n",
    "    yval = a + b*xval\n",
    "    yline.append(yval)\n",
    "(fig, ax1) = plt.subplots()\n",
    "ax1.plot(volReductionMgal,csoReductionMgal,'ko',color = 'b',markersize = 1)\n",
    "ax1.plot(xline,yline)\n",
    "ax1.set_xlabel(\"Volume Reduction (MGal)\",fontsize=12)\n",
    "ax1.set_ylabel(\"CSO Reduction (MGal)\",fontsize=12)\n",
    "#plt.xlim(xRange)\n",
    "#plt.ylim(yRange)"
   ]
  },
  {
   "cell_type": "code",
   "execution_count": null,
   "metadata": {
    "collapsed": true
   },
   "outputs": [],
   "source": []
  },
  {
   "cell_type": "code",
   "execution_count": 65,
   "metadata": {
    "collapsed": false
   },
   "outputs": [
    {
     "name": "stdout",
     "output_type": "stream",
     "text": [
      "Exact r-squared:\n",
      "0.999959550874\n",
      "                            OLS Regression Results                            \n",
      "==============================================================================\n",
      "Dep. Variable:                      y   R-squared:                       1.000\n",
      "Model:                            OLS   Adj. R-squared:                  1.000\n",
      "Method:                 Least Squares   F-statistic:                 9.059e+05\n",
      "Date:                Thu, 22 Dec 2016   Prob (F-statistic):               0.00\n",
      "Time:                        14:55:45   Log-Likelihood:                -7156.4\n",
      "No. Observations:                 528   AIC:                         1.434e+04\n",
      "Df Residuals:                     513   BIC:                         1.441e+04\n",
      "Df Model:                          14                                         \n",
      "Covariance Type:            nonrobust                                         \n",
      "==============================================================================\n",
      "                 coef    std err          t      P>|t|      [95.0% Conf. Int.]\n",
      "------------------------------------------------------------------------------\n",
      "x1         -1.211e+05    559.774   -216.283      0.000     -1.22e+05  -1.2e+05\n",
      "x2         -1.198e+05    518.329   -231.056      0.000     -1.21e+05 -1.19e+05\n",
      "x3         -1.201e+05    544.835   -220.387      0.000     -1.21e+05 -1.19e+05\n",
      "x4         -1.232e+05    530.167   -232.452      0.000     -1.24e+05 -1.22e+05\n",
      "x5         -1.228e+05    503.014   -244.104      0.000     -1.24e+05 -1.22e+05\n",
      "x6         -1.228e+05    503.095   -244.170      0.000     -1.24e+05 -1.22e+05\n",
      "x7         -1.217e+05    512.280   -237.585      0.000     -1.23e+05 -1.21e+05\n",
      "x8         -1.967e+05    610.496   -322.198      0.000     -1.98e+05 -1.96e+05\n",
      "x9         -1.965e+05    510.483   -384.917      0.000     -1.97e+05 -1.95e+05\n",
      "x10        -1.968e+05    522.330   -376.742      0.000     -1.98e+05 -1.96e+05\n",
      "x11         -1.98e+05    520.556   -380.289      0.000     -1.99e+05 -1.97e+05\n",
      "x12        -1.981e+05    533.645   -371.211      0.000     -1.99e+05 -1.97e+05\n",
      "x13        -1.991e+05    512.194   -388.682      0.000        -2e+05 -1.98e+05\n",
      "x14        -1.972e+05    509.359   -387.072      0.000     -1.98e+05 -1.96e+05\n",
      "const       1.949e+09    1.7e+04   1.15e+05      0.000      1.95e+09  1.95e+09\n",
      "==============================================================================\n",
      "Omnibus:                       92.935   Durbin-Watson:                   0.826\n",
      "Prob(Omnibus):                  0.000   Jarque-Bera (JB):              140.475\n",
      "Skew:                           1.174   Prob(JB):                     3.13e-31\n",
      "Kurtosis:                       3.935   Cond. No.                         205.\n",
      "==============================================================================\n",
      "\n",
      "Warnings:\n",
      "[1] Standard Errors assume that the covariance matrix of the errors is correctly specified.\n"
     ]
    }
   ],
   "source": [
    "### regression for total volume outflow\n",
    "y = csoResults[\"totalVol\"]\n",
    "#print y\n",
    "x = results['numLists']\n",
    "#print x\n",
    "def reg_m(y, x):\n",
    "    ones = np.ones(len(x[0]))\n",
    "    X = sm.add_constant(np.column_stack((x[0], ones)))\n",
    "    for ele in x[1:]:\n",
    "        X = sm.add_constant(np.column_stack((ele, X)))\n",
    "    statistics = sm.OLS(y, X).fit()\n",
    "    return statistics\n",
    "reg_m(y,x)\n",
    "\n",
    "print \"Exact r-squared:\"\n",
    "print reg_m(y, x).rsquared\n",
    "print reg_m(y, x).summary()\n"
   ]
  },
  {
   "cell_type": "code",
   "execution_count": null,
   "metadata": {
    "collapsed": true
   },
   "outputs": [],
   "source": []
  }
 ],
 "metadata": {
  "anaconda-cloud": {},
  "kernelspec": {
   "display_name": "Python 2",
   "language": "python",
   "name": "python2"
  },
  "language_info": {
   "codemirror_mode": {
    "name": "ipython",
    "version": 2
   },
   "file_extension": ".py",
   "mimetype": "text/x-python",
   "name": "python",
   "nbconvert_exporter": "python",
   "pygments_lexer": "ipython2",
   "version": "2.7.11"
  }
 },
 "nbformat": 4,
 "nbformat_minor": 0
}
