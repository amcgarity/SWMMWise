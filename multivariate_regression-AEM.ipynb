{
 "cells": [
  {
   "cell_type": "markdown",
   "metadata": {},
   "source": [
    "# Multivariate Regression"
   ]
  },
  {
   "cell_type": "markdown",
   "metadata": {},
   "source": [
    "# Show the collections that have been generated"
   ]
  },
  {
   "cell_type": "code",
   "execution_count": 12,
   "metadata": {
    "collapsed": false
   },
   "outputs": [
    {
     "data": {
      "text/plain": [
       "[u'2008',\n",
       " u'2008trial1',\n",
       " u'2008trial3',\n",
       " u'2008trial4',\n",
       " u'2008trial6',\n",
       " u'first_wingo_test',\n",
       " u'fourth_wingo_test',\n",
       " u'impervFixed',\n",
       " u'impervNotFixed',\n",
       " u'july',\n",
       " u'july10',\n",
       " u'july12',\n",
       " u'july13',\n",
       " u'july14',\n",
       " u'july15',\n",
       " u'july16',\n",
       " u'july17',\n",
       " u'july2',\n",
       " u'july21',\n",
       " u'july22',\n",
       " u'july23',\n",
       " u'july24',\n",
       " u'july3',\n",
       " u'july4',\n",
       " u'july5',\n",
       " u'july6',\n",
       " u'july7',\n",
       " u'july8',\n",
       " u'july9',\n",
       " u'largeTrialLinier',\n",
       " u'multivariate_250_2010',\n",
       " u'multivariate_random_250_2010',\n",
       " u'multivariate_random_250_2011',\n",
       " u'multivariate_random_250_2012',\n",
       " u'multivariate_random_250_2013',\n",
       " u'randomTrial1',\n",
       " u'randomTrial2',\n",
       " u'randomTrial4',\n",
       " u'randomTrial5',\n",
       " u'random_multivariate',\n",
       " u'random_multivariate2',\n",
       " u'random_multivariate2009',\n",
       " u'random_multivariate2009year',\n",
       " u'random_multivariate2010',\n",
       " u'random_multivariate2012year',\n",
       " u'random_multivariate250',\n",
       " u'random_multivariate250_2009',\n",
       " u'random_multivariate3',\n",
       " u'random_multivariate5',\n",
       " u'random_multivariate6',\n",
       " u'random_multivariate7',\n",
       " u'random_multivariate8',\n",
       " u'random_multivariate9',\n",
       " u'second_wingo_test',\n",
       " u'trialWith%Perv',\n",
       " u'trialWith%Perv2',\n",
       " u'y16m10d11_demonstrate_runswmm_on_aws-2',\n",
       " u'y16m12d19_AEM_Wakefield_and_Anna_1',\n",
       " u'y16m12d19_AEM_Wakefield_and_Anna_50_250',\n",
       " u'y16m12d19_AEM_tests',\n",
       " u'y16m12d20_AEM_Wingo_Zero_LID_Check',\n",
       " u'y16m12d21_AEM_test_recovery_failed_SWMM_run']"
      ]
     },
     "execution_count": 12,
     "metadata": {},
     "output_type": "execute_result"
    }
   ],
   "source": [
    "from pymongo import MongoClient\n",
    "from process_collection import *\n",
    "#  IMPORTANT:  Set these for each run:\n",
    "#################################################\n",
    "# mongoServer = None   # use the local mongodb server installed on your computer\n",
    "#mongoServer = 'mongodb://server.mcgarity.info:27017/'  # Art's personal server\n",
    "#mongoServer = 'mongodb://ubuntu:27017/'  # ubuntu Linux virtual machine on Art's Mac\n",
    "mongoServer = 'mongodb://aws-2.greenphilly.net:27017/'  # aws-2 server for GreenPhilly\n",
    "database = \"jcohen4\"\n",
    "username = \"jcohen4\"\n",
    "password = \"wingohocking\"\n",
    "authenticationDatabase = \"jcohen4\"\n",
    "\n",
    "client = MongoClient(mongoServer)\n",
    "################################################\n",
    "\n",
    "db = client[database]\n",
    "db.authenticate(username, password, source=authenticationDatabase)  # pass credentials to database\n",
    "collectionNames = sorted(db.collection_names())\n",
    "collectionNames"
   ]
  },
  {
   "cell_type": "code",
   "execution_count": 13,
   "metadata": {
    "collapsed": false
   },
   "outputs": [
    {
     "name": "stdout",
     "output_type": "stream",
     "text": [
      "noLidPeak = 1948.45 cfs, noLidVolume = 1948.90 MGal\n",
      "noLid Runoff = 5987.73 acre-ft = 1951.11 MGal\n",
      "[{u'LID': u'wakefield_BR_RG', u'Subcat': u'TT14_574_shed', u'Area': 741, u'CapRatioPct': 5, u'Number': 0, u'Width': 0, u'SubcatArea': 150.12}, {u'LID': u'wakefield_BR_RG', u'Subcat': u'T14_K3_shed', u'Area': 741, u'CapRatioPct': 5, u'Number': 0, u'Width': 0, u'SubcatArea': 328.15}, {u'LID': u'wakefield_BR_RG', u'Subcat': u'T14_B_shed', u'Area': 741, u'CapRatioPct': 5, u'Number': 0, u'Width': 0, u'SubcatArea': 327.26}, {u'LID': u'wakefield_BR_RG', u'Subcat': u'TT14_720_shed', u'Area': 741, u'CapRatioPct': 5, u'Number': 0, u'Width': 0, u'SubcatArea': 132.26}, {u'LID': u'wakefield_BR_RG', u'Subcat': u'TT14_646A_shed', u'Area': 741, u'CapRatioPct': 5, u'Number': 0, u'Width': 0, u'SubcatArea': 73.42}, {u'LID': u'wakefield_BR_RG', u'Subcat': u'TT14_552B_shed', u'Area': 741, u'CapRatioPct': 5, u'Number': 0, u'Width': 0, u'SubcatArea': 105.38}, {u'LID': u'wakefield_BR_RG', u'Subcat': u'T14_R6_shed', u'Area': 741, u'CapRatioPct': 5, u'Number': 0, u'Width': 0, u'SubcatArea': 60.67}, {u'LID': u'Anna_TT_infil', u'Subcat': u'TT14_574_shed', u'Area': 760, u'CapRatioPct': 10, u'Number': 0, u'Width': 5, u'SubcatArea': 150.12}, {u'LID': u'Anna_TT_infil', u'Subcat': u'T14_K3_shed', u'Area': 760, u'CapRatioPct': 10, u'Number': 0, u'Width': 5, u'SubcatArea': 328.15}, {u'LID': u'Anna_TT_infil', u'Subcat': u'T14_B_shed', u'Area': 760, u'CapRatioPct': 10, u'Number': 0, u'Width': 5, u'SubcatArea': 327.26}, {u'LID': u'Anna_TT_infil', u'Subcat': u'TT14_720_shed', u'Area': 760, u'CapRatioPct': 10, u'Number': 0, u'Width': 5, u'SubcatArea': 132.26}, {u'LID': u'Anna_TT_infil', u'Subcat': u'TT14_646A_shed', u'Area': 760, u'CapRatioPct': 10, u'Number': 0, u'Width': 5, u'SubcatArea': 73.42}, {u'LID': u'Anna_TT_infil', u'Subcat': u'TT14_552B_shed', u'Area': 760, u'CapRatioPct': 10, u'Number': 0, u'Width': 5, u'SubcatArea': 105.38}, {u'LID': u'Anna_TT_infil', u'Subcat': u'T14_R6_shed', u'Area': 760, u'CapRatioPct': 10, u'Number': 0, u'Width': 5, u'SubcatArea': 60.67}]\n"
     ]
    }
   ],
   "source": [
    "acft_to_mgal = 0.325851  # 1 acre-ft = 0.325851 MGal\n",
    "collectionName = 'y16m12d19_AEM_Wakefield_and_Anna_50_250'\n",
    "runs = db[collectionName]\n",
    "cursor = runs.find()\n",
    "noLidRun = cursor[0]\n",
    "noLidVolume = noLidRun['volume']  # 10^6 Gal / yr\n",
    "noLidPeak = noLidRun['peak']   # cfs\n",
    "noLidRunoff = noLidRun['runoff']  # acre-ft/yr\n",
    "print \"noLidPeak = %0.2f cfs, noLidVolume = %0.2f MGal\" % (noLidPeak,noLidVolume)\n",
    "print \"noLid Runoff = %0.2f acre-ft = %0.2f MGal\" % (noLidRunoff,noLidRunoff*acft_to_mgal)\n",
    "# NOTE: Volume is total flow volume at sewer outlet while Runoff is total runoff volume\n",
    "#       so they will likely be slightly different\n",
    "noLidRunParamsList = noLidRun['runParamList']\n",
    "print noLidRunParamsList"
   ]
  },
  {
   "cell_type": "code",
   "execution_count": 14,
   "metadata": {
    "collapsed": false
   },
   "outputs": [
    {
     "name": "stdout",
     "output_type": "stream",
     "text": [
      "Number of Runs stored in Database = 438\n"
     ]
    }
   ],
   "source": [
    "# Compute Annual CSO Flows from results stored on Mongo\n",
    "from get_cso import * \n",
    "from process_collection import * \n",
    "collectionName = 'y16m12d19_AEM_Wakefield_and_Anna_50_250'\n",
    "ratio = 0.05\n",
    "numSubcatch = 7\n",
    "numLID = 2\n",
    "numVariables = numSubcatch*numLID\n",
    "results = volume_reduction_and_runoff_volume_vs_lid_number(collectionName, numVariables, db)\n",
    "volReduction = results[\"volReductionList\"]\n",
    "numberOfRuns = len(volReduction)\n",
    "volReductionMgal = [x / 1e6 for x in volReduction]\n",
    "numberOfRuns = len(volReductionMgal)\n",
    "#print volReduction\n",
    "csoResults = cso_reduction(collectionName, ratio, numSubcatch, results) \n",
    "csoReduction = csoResults[\"csoReduction\"]\n",
    "csoReductionMgal = [x / 1e6 for x in csoReduction]\n",
    "#print csoReduction\n",
    "cso = csoResults[\"cso\"]\n",
    "#print cso\n",
    "totVol = csoResults[\"totalVol\"]\n",
    "print \"Number of Runs stored in Database = %d\" % numberOfRuns"
   ]
  },
  {
   "cell_type": "code",
   "execution_count": 15,
   "metadata": {
    "collapsed": false,
    "scrolled": true
   },
   "outputs": [
    {
     "name": "stdout",
     "output_type": "stream",
     "text": [
      "Exact r-squared:\n",
      "0.99996394677\n",
      "                            OLS Regression Results                            \n",
      "==============================================================================\n",
      "Dep. Variable:                      y   R-squared:                       1.000\n",
      "Model:                            OLS   Adj. R-squared:                  1.000\n",
      "Method:                 Least Squares   F-statistic:                 8.380e+05\n",
      "Date:                Wed, 21 Dec 2016   Prob (F-statistic):               0.00\n",
      "Time:                        17:29:31   Log-Likelihood:                -5510.0\n",
      "No. Observations:                 438   AIC:                         1.105e+04\n",
      "Df Residuals:                     423   BIC:                         1.111e+04\n",
      "Df Model:                          14                                         \n",
      "Covariance Type:            nonrobust                                         \n",
      "==============================================================================\n",
      "                 coef    std err          t      P>|t|      [95.0% Conf. Int.]\n",
      "------------------------------------------------------------------------------\n",
      "x1          7.622e+04    279.470    272.728      0.000      7.57e+04  7.68e+04\n",
      "x2          7.921e+04    281.106    281.795      0.000      7.87e+04  7.98e+04\n",
      "x3          7.635e+04    287.354    265.694      0.000      7.58e+04  7.69e+04\n",
      "x4          7.754e+04    290.612    266.829      0.000       7.7e+04  7.81e+04\n",
      "x5          7.273e+04    267.763    271.634      0.000      7.22e+04  7.33e+04\n",
      "x6          7.856e+04    288.533    272.261      0.000       7.8e+04  7.91e+04\n",
      "x7          7.909e+04    277.598    284.917      0.000      7.85e+04  7.96e+04\n",
      "x8          1.215e+05    295.703    411.013      0.000      1.21e+05  1.22e+05\n",
      "x9          1.243e+05    283.958    437.831      0.000      1.24e+05  1.25e+05\n",
      "x10         1.201e+05    266.593    450.376      0.000       1.2e+05  1.21e+05\n",
      "x11         1.215e+05    276.647    439.159      0.000      1.21e+05  1.22e+05\n",
      "x12          1.11e+05    292.327    379.650      0.000       1.1e+05  1.12e+05\n",
      "x13         1.223e+05    275.102    444.418      0.000      1.22e+05  1.23e+05\n",
      "x14         1.239e+05    274.434    451.327      0.000      1.23e+05  1.24e+05\n",
      "const        1.94e+05   8249.330     23.519      0.000      1.78e+05   2.1e+05\n",
      "==============================================================================\n",
      "Omnibus:                       97.414   Durbin-Watson:                   0.763\n",
      "Prob(Omnibus):                  0.000   Jarque-Bera (JB):              179.895\n",
      "Skew:                          -1.250   Prob(JB):                     8.64e-40\n",
      "Kurtosis:                       4.899   Cond. No.                         183.\n",
      "==============================================================================\n",
      "\n",
      "Warnings:\n",
      "[1] Standard Errors assume that the covariance matrix of the errors is correctly specified.\n",
      "[  76219.24562713   79214.34965255   76348.20355174   77543.80102178\n",
      "   72733.38061755   78556.11042667   79092.47915022  121537.80409696\n",
      "  124325.41206845  120066.90746325  121491.92795778  110982.06669971\n",
      "  122260.41704043  123859.65619587  194013.92474525]\n"
     ]
    }
   ],
   "source": [
    "# Multivariable Regression for Annual CSO Volumes\n",
    "import numpy as np\n",
    "import statsmodels.api as sm\n",
    "def reg_m(y, x):\n",
    "    ones = np.ones(len(x[0]))\n",
    "    X = sm.add_constant(np.column_stack((x[0], ones)))\n",
    "    for ele in x[1:]:\n",
    "        X = sm.add_constant(np.column_stack((ele, X)))\n",
    "    statistics = sm.OLS(y, X).fit()\n",
    "    return statistics\n",
    "### regression\n",
    "y = csoResults[\"csoReduction\"]\n",
    "# list of variable values (LID numbers) for each random LID placement:\n",
    "X = results['numLists']   # a list of lists (so upper case)\n",
    "stats = reg_m(y,X)\n",
    "print \"Exact r-squared:\"\n",
    "print stats.rsquared\n",
    "print stats.summary()\n",
    "print stats.params\n",
    "#print X"
   ]
  },
  {
   "cell_type": "code",
   "execution_count": 16,
   "metadata": {
    "collapsed": false
   },
   "outputs": [
    {
     "data": {
      "text/plain": [
       "<matplotlib.text.Text at 0x102961e50>"
      ]
     },
     "execution_count": 16,
     "metadata": {},
     "output_type": "execute_result"
    },
    {
     "data": {
      "image/png": "[encoded data removed]",
      "text/plain": [
       "<matplotlib.figure.Figure at 0x13b4d3050>"
      ]
     },
     "metadata": {},
     "output_type": "display_data"
    }
   ],
   "source": [
    "# Generate Residuals Plot for Annual CSO Volumes\n",
    "%matplotlib inline\n",
    "import matplotlib.pyplot as plt\n",
    "# First, transpose results['numLists']:\n",
    "xVals = zip(*results['numLists'])\n",
    "#print list(xvals[0])\n",
    "\n",
    "betaZero = stats.params[numVariables]\n",
    "yPredicted = []\n",
    "for xTuple in xVals:\n",
    "    i = 0\n",
    "    yval = betaZero\n",
    "    for beta in stats.params:\n",
    "        yval += beta*xTuple[i]\n",
    "        i += 1\n",
    "        if i == numVariables:\n",
    "            break\n",
    "    yPredicted.append(yval/1e6)  # convert to 10^6 Gal\n",
    "residuals = []\n",
    "i = 0\n",
    "for ySWMM in csoReductionMgal:\n",
    "    #print ySWMM\n",
    "    resid = ySWMM - yPredicted[i]  # Residual in 10^6 Gal\n",
    "    residuals.append(resid)\n",
    "    i+=1\n",
    "#print residuals\n",
    "(fig, ax1) = plt.subplots()\n",
    "ax1.plot(yPredicted,residuals,'ko',color = 'b',markersize = 1)\n",
    "ax1.set_xlabel(\"Predicted CSO Reduction (MGal)\",fontsize=12)\n",
    "ax1.set_ylabel(\"Residual (MGal)\",fontsize=12)"
   ]
  },
  {
   "cell_type": "code",
   "execution_count": 17,
   "metadata": {
    "collapsed": false
   },
   "outputs": [
    {
     "name": "stdout",
     "output_type": "stream",
     "text": [
      "Exact r-squared:\n",
      "0.999985895838\n",
      "                            OLS Regression Results                            \n",
      "==============================================================================\n",
      "Dep. Variable:                      y   R-squared:                       1.000\n",
      "Model:                            OLS   Adj. R-squared:                  1.000\n",
      "Method:                 Least Squares   F-statistic:                 2.142e+06\n",
      "Date:                Wed, 21 Dec 2016   Prob (F-statistic):               0.00\n",
      "Time:                        17:29:32   Log-Likelihood:                -5516.1\n",
      "No. Observations:                 438   AIC:                         1.106e+04\n",
      "Df Residuals:                     423   BIC:                         1.112e+04\n",
      "Df Model:                          14                                         \n",
      "Covariance Type:            nonrobust                                         \n",
      "==============================================================================\n",
      "                 coef    std err          t      P>|t|      [95.0% Conf. Int.]\n",
      "------------------------------------------------------------------------------\n",
      "x1          1.197e+05    283.386    422.509      0.000      1.19e+05   1.2e+05\n",
      "x2          1.226e+05    285.045    430.166      0.000      1.22e+05  1.23e+05\n",
      "x3           1.21e+05    291.381    415.384      0.000       1.2e+05  1.22e+05\n",
      "x4           1.23e+05    294.685    417.428      0.000      1.22e+05  1.24e+05\n",
      "x5          1.241e+05    271.515    457.118      0.000      1.24e+05  1.25e+05\n",
      "x6          1.236e+05    292.577    422.367      0.000      1.23e+05  1.24e+05\n",
      "x7          1.223e+05    281.489    434.467      0.000      1.22e+05  1.23e+05\n",
      "x8          1.966e+05    299.847    655.552      0.000      1.96e+05  1.97e+05\n",
      "x9          1.988e+05    287.937    690.412      0.000      1.98e+05  1.99e+05\n",
      "x10         1.969e+05    270.329    728.419      0.000      1.96e+05  1.97e+05\n",
      "x11          1.99e+05    280.524    709.212      0.000      1.98e+05     2e+05\n",
      "x12         1.996e+05    296.424    673.364      0.000      1.99e+05     2e+05\n",
      "x13             2e+05    278.958    716.831      0.000      1.99e+05  2.01e+05\n",
      "x14         1.982e+05    278.280    712.270      0.000      1.98e+05  1.99e+05\n",
      "const       1.566e+05   8364.941     18.724      0.000       1.4e+05  1.73e+05\n",
      "==============================================================================\n",
      "Omnibus:                       57.864   Durbin-Watson:                   1.128\n",
      "Prob(Omnibus):                  0.000   Jarque-Bera (JB):               80.547\n",
      "Skew:                          -0.915   Prob(JB):                     3.23e-18\n",
      "Kurtosis:                       4.033   Cond. No.                         183.\n",
      "==============================================================================\n",
      "\n",
      "Warnings:\n",
      "[1] Standard Errors assume that the covariance matrix of the errors is correctly specified.\n",
      "[ 119733.2444655   122616.75871484  121035.18221444  123009.82362508\n",
      "  124114.72349303  123574.65346862  122297.71363118  196565.55431378\n",
      "  198795.37326917  196912.78146123  198951.1474667   199601.18641092\n",
      "  199965.71931547  198210.75330363  156624.6900104 ]\n"
     ]
    }
   ],
   "source": [
    "# Multivariable Regression for Sewer Outflow Volume\n",
    "import numpy as np\n",
    "import statsmodels.api as sm\n",
    "def reg_m(y, x):\n",
    "    ones = np.ones(len(x[0]))\n",
    "    X = sm.add_constant(np.column_stack((x[0], ones)))\n",
    "    for ele in x[1:]:\n",
    "        X = sm.add_constant(np.column_stack((ele, X)))\n",
    "    statistics = sm.OLS(y, X).fit()\n",
    "    return statistics\n",
    "### regression\n",
    "y = volReduction\n",
    "# list of variable values (LID numbers) for each random LID placement:\n",
    "X = results['numLists']   # a list of lists (so upper case)\n",
    "stats = reg_m(y,X)\n",
    "print \"Exact r-squared:\"\n",
    "print stats.rsquared\n",
    "print stats.summary()\n",
    "print stats.params\n",
    "#print X"
   ]
  },
  {
   "cell_type": "code",
   "execution_count": 18,
   "metadata": {
    "collapsed": false
   },
   "outputs": [
    {
     "data": {
      "text/plain": [
       "<matplotlib.text.Text at 0x13b4eae10>"
      ]
     },
     "execution_count": 18,
     "metadata": {},
     "output_type": "execute_result"
    },
    {
     "data": {
      "image/png": "[encoded data removed]",
      "text/plain": [
       "<matplotlib.figure.Figure at 0x103bcbcd0>"
      ]
     },
     "metadata": {},
     "output_type": "display_data"
    }
   ],
   "source": [
    "# Generate Residuals Plot for Sewer Outflow Volume\n",
    "%matplotlib inline\n",
    "import matplotlib.pyplot as plt\n",
    "# First, transpose results['numLists']:\n",
    "xVals = zip(*results['numLists'])\n",
    "#print list(xvals[0])\n",
    "\n",
    "betaZero = stats.params[numVariables]\n",
    "yPredicted = []\n",
    "for xTuple in xVals:\n",
    "    i = 0\n",
    "    yval = betaZero\n",
    "    for beta in stats.params:\n",
    "        yval += beta*xTuple[i]\n",
    "        i += 1\n",
    "        if i == numVariables:\n",
    "            break\n",
    "    yPredicted.append(yval/1e6)  # convert to 10^6 Gal\n",
    "residuals = []\n",
    "i = 0\n",
    "for ySWMM in volReductionMgal:\n",
    "    #print ySWMM\n",
    "    resid = ySWMM - yPredicted[i]  # Residual in 10^6 Gal\n",
    "    residuals.append(resid)\n",
    "    i+=1\n",
    "#print residuals\n",
    "(fig, ax1) = plt.subplots()\n",
    "ax1.plot(yPredicted,residuals,'ko',color = 'b',markersize = 1)\n",
    "ax1.set_xlabel(\"Predicted Sewer Outflow Reduction (MGal)\",fontsize=12)\n",
    "ax1.set_ylabel(\"Residual (MGal)\",fontsize=12)"
   ]
  },
  {
   "cell_type": "code",
   "execution_count": 19,
   "metadata": {
    "collapsed": false
   },
   "outputs": [
    {
     "name": "stdout",
     "output_type": "stream",
     "text": [
      "Total number of SWMM runs = 438\n",
      "[ 0.61674677  0.09323768]\n"
     ]
    },
    {
     "data": {
      "text/plain": [
       "(25, 45)"
      ]
     },
     "execution_count": 19,
     "metadata": {},
     "output_type": "execute_result"
    },
    {
     "data": {
      "image/png": "[encoded data removed]",
      "text/plain": [
       "<matplotlib.figure.Figure at 0x13ac16850>"
      ]
     },
     "metadata": {},
     "output_type": "display_data"
    }
   ],
   "source": [
    "# SCATTER PLOT OF CSO ANNUAL VOLUME REDUCTION VS SEWER OUTFLOW ANNUAL VOLUME REDUCTION\n",
    "%matplotlib inline\n",
    "import matplotlib.pyplot as plt\n",
    "print \"Total number of SWMM runs = %d\" % len(volReductionMgal)\n",
    "xRange = [50,70]\n",
    "yRange = [25,45]\n",
    "# fit a straight line to CSO volume vs Outflow volume:\n",
    "VolumeRed = []\n",
    "VolumeRed.append(volReductionMgal)\n",
    "stats = reg_m(csoReductionMgal,VolumeRed)\n",
    "print stats.params\n",
    "a = stats.params[1]  # intercept\n",
    "b = stats.params[0]  # slope\n",
    "xline = []\n",
    "yline = []\n",
    "for xval in range(xRange[0],xRange[1]+1, 1):\n",
    "    xline.append(xval)\n",
    "    yval = a + b*xval\n",
    "    yline.append(yval)\n",
    "(fig, ax1) = plt.subplots()\n",
    "ax1.plot(volReductionMgal,csoReductionMgal,'ko',color = 'b',markersize = 1)\n",
    "ax1.plot(xline,yline)\n",
    "ax1.set_xlabel(\"Volume Reduction (MGal)\",fontsize=12)\n",
    "ax1.set_ylabel(\"CSO Reduction (MGal)\",fontsize=12)\n",
    "plt.xlim(xRange)\n",
    "plt.ylim(yRange)"
   ]
  },
  {
   "cell_type": "code",
   "execution_count": null,
   "metadata": {
    "collapsed": true
   },
   "outputs": [],
   "source": []
  },
  {
   "cell_type": "code",
   "execution_count": 20,
   "metadata": {
    "collapsed": false
   },
   "outputs": [
    {
     "name": "stdout",
     "output_type": "stream",
     "text": [
      "Exact r-squared:\n",
      "0.999986251446\n",
      "                            OLS Regression Results                            \n",
      "==============================================================================\n",
      "Dep. Variable:                      y   R-squared:                       1.000\n",
      "Model:                            OLS   Adj. R-squared:                  1.000\n",
      "Method:                 Least Squares   F-statistic:                 2.198e+06\n",
      "Date:                Wed, 21 Dec 2016   Prob (F-statistic):               0.00\n",
      "Time:                        17:29:32   Log-Likelihood:                -5511.4\n",
      "No. Observations:                 438   AIC:                         1.105e+04\n",
      "Df Residuals:                     423   BIC:                         1.111e+04\n",
      "Df Model:                          14                                         \n",
      "Covariance Type:            nonrobust                                         \n",
      "==============================================================================\n",
      "                 coef    std err          t      P>|t|      [95.0% Conf. Int.]\n",
      "------------------------------------------------------------------------------\n",
      "x1         -1.202e+05    280.343   -428.617      0.000     -1.21e+05  -1.2e+05\n",
      "x2         -1.228e+05    281.984   -435.329      0.000     -1.23e+05 -1.22e+05\n",
      "x3         -1.214e+05    288.252   -421.307      0.000     -1.22e+05 -1.21e+05\n",
      "x4         -1.234e+05    291.520   -423.197      0.000     -1.24e+05 -1.23e+05\n",
      "x5         -1.241e+05    268.599   -461.963      0.000     -1.25e+05 -1.24e+05\n",
      "x6         -1.238e+05    289.434   -427.582      0.000     -1.24e+05 -1.23e+05\n",
      "x7         -1.225e+05    278.466   -440.012      0.000     -1.23e+05 -1.22e+05\n",
      "x8         -1.973e+05    296.627   -665.162      0.000     -1.98e+05 -1.97e+05\n",
      "x9          -1.99e+05    284.845   -698.504      0.000        -2e+05 -1.98e+05\n",
      "x10        -1.976e+05    267.426   -738.803      0.000     -1.98e+05 -1.97e+05\n",
      "x11        -1.996e+05    277.511   -719.097      0.000        -2e+05 -1.99e+05\n",
      "x12        -1.995e+05    293.240   -680.340      0.000        -2e+05 -1.99e+05\n",
      "x13        -2.002e+05    275.962   -725.530      0.000     -2.01e+05    -2e+05\n",
      "x14        -1.986e+05    275.292   -721.337      0.000     -1.99e+05 -1.98e+05\n",
      "const       1.949e+09   8275.097   2.36e+05      0.000      1.95e+09  1.95e+09\n",
      "==============================================================================\n",
      "Omnibus:                       63.326   Durbin-Watson:                   1.159\n",
      "Prob(Omnibus):                  0.000   Jarque-Bera (JB):               94.237\n",
      "Skew:                           0.942   Prob(JB):                     3.44e-21\n",
      "Kurtosis:                       4.271   Cond. No.                         183.\n",
      "==============================================================================\n",
      "\n",
      "Warnings:\n",
      "[1] Standard Errors assume that the covariance matrix of the errors is correctly specified.\n"
     ]
    }
   ],
   "source": [
    "### regression for total volume outflow\n",
    "y = csoResults[\"totalVol\"]\n",
    "#print y\n",
    "x = results['numLists']\n",
    "#print x\n",
    "def reg_m(y, x):\n",
    "    ones = np.ones(len(x[0]))\n",
    "    X = sm.add_constant(np.column_stack((x[0], ones)))\n",
    "    for ele in x[1:]:\n",
    "        X = sm.add_constant(np.column_stack((ele, X)))\n",
    "    statistics = sm.OLS(y, X).fit()\n",
    "    return statistics\n",
    "reg_m(y,x)\n",
    "\n",
    "print \"Exact r-squared:\"\n",
    "print reg_m(y, x).rsquared\n",
    "print reg_m(y, x).summary()\n"
   ]
  },
  {
   "cell_type": "code",
   "execution_count": null,
   "metadata": {
    "collapsed": true
   },
   "outputs": [],
   "source": []
  }
 ],
 "metadata": {
  "anaconda-cloud": {},
  "kernelspec": {
   "display_name": "Python [Root]",
   "language": "python",
   "name": "Python [Root]"
  },
  "language_info": {
   "codemirror_mode": {
    "name": "ipython",
    "version": 2
   },
   "file_extension": ".py",
   "mimetype": "text/x-python",
   "name": "python",
   "nbconvert_exporter": "python",
   "pygments_lexer": "ipython2",
   "version": "2.7.12"
  }
 },
 "nbformat": 4,
 "nbformat_minor": 0
}
