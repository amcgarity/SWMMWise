{
 "cells": [
  {
   "cell_type": "code",
   "execution_count": 1,
   "metadata": {
    "collapsed": true
   },
   "outputs": [],
   "source": [
    "VolZero = 319.424\n",
    "numLid = 10.0"
   ]
  },
  {
   "cell_type": "raw",
   "metadata": {},
   "source": []
  },
  {
   "cell_type": "code",
   "execution_count": 2,
   "metadata": {
    "collapsed": false
   },
   "outputs": [
    {
     "data": {
      "text/plain": [
       "[0.39769999999999756,\n",
       " 0.06119999999999663,\n",
       " 0.07860000000000014,\n",
       " 0.05789999999999509,\n",
       " 0.03509999999999991,\n",
       " 0.020699999999999365,\n",
       " 0.04029999999999632]"
      ]
     },
     "execution_count": 2,
     "metadata": {},
     "output_type": "execute_result"
    }
   ],
   "source": [
    "volWakeReduction = []\n",
    "ratios = []\n",
    "volWakefield = [315.447,318.812,318.638,318.845,319.073,319.217,319.021]\n",
    "for vol in volWakefield:\n",
    "    reduction = VolZero-vol\n",
    "    volWakeReduction.append(reduction)\n",
    "    ratio = reduction/10.0\n",
    "    ratios.append(ratio)\n",
    "ratios\n",
    "    "
   ]
  },
  {
   "cell_type": "code",
   "execution_count": 3,
   "metadata": {
    "collapsed": false
   },
   "outputs": [
    {
     "name": "stdout",
     "output_type": "stream",
     "text": [
      "27.3304 13.9317\n"
     ]
    }
   ],
   "source": [
    "anna_S1_10 = VolZero - 46.12\n",
    "anna_S1_20 = VolZero - 40.79\n",
    "ratio_10 = anna_S1_10/10.0\n",
    "ratio_20 = anna_S1_20/20.0\n",
    "print ratio_10,ratio_20"
   ]
  },
  {
   "cell_type": "code",
   "execution_count": 6,
   "metadata": {
    "collapsed": false
   },
   "outputs": [
    {
     "data": {
      "text/plain": [
       "[0.5343000000000003,\n",
       " 0.09680000000000036,\n",
       " 0.18900000000000006,\n",
       " 0.18569999999999992,\n",
       " 0.07259999999999991,\n",
       " 0.0509999999999998,\n",
       " 0.1105000000000004]"
      ]
     },
     "execution_count": 6,
     "metadata": {},
     "output_type": "execute_result"
    }
   ],
   "source": [
    "volAnnaReduction = []\n",
    "ratios = []\n",
    "volAnna = [314.259,318.867,318.303,318.410,319.067,319.243,318.927]\n",
    "for vol in volAnna:\n",
    "    reduction = VolZero-vol\n",
    "    volAnnaReduction.append(reduction)\n",
    "    ratio = reduction/10.0\n",
    "    ratios.append(ratio)\n",
    "ratios"
   ]
  },
  {
   "cell_type": "code",
   "execution_count": null,
   "metadata": {
    "collapsed": true
   },
   "outputs": [],
   "source": []
  }
 ],
 "metadata": {
  "kernelspec": {
   "display_name": "Python 2",
   "language": "python",
   "name": "python2"
  },
  "language_info": {
   "codemirror_mode": {
    "name": "ipython",
    "version": 2
   },
   "file_extension": ".py",
   "mimetype": "text/x-python",
   "name": "python",
   "nbconvert_exporter": "python",
   "pygments_lexer": "ipython2",
   "version": "2.7.6"
  }
 },
 "nbformat": 4,
 "nbformat_minor": 0
}
