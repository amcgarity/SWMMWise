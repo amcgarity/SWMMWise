{
 "cells": [
  {
   "cell_type": "code",
   "execution_count": 1,
   "metadata": {
    "collapsed": true
   },
   "outputs": [],
   "source": [
    "VolZero = 51.463\n",
    "numLid = 10.0"
   ]
  },
  {
   "cell_type": "code",
   "execution_count": 4,
   "metadata": {
    "collapsed": false
   },
   "outputs": [
    {
     "data": {
      "text/plain": [
       "[0.3628999999999998,\n",
       " 0.09759999999999991,\n",
       " 0.10039999999999978,\n",
       " 0.07680000000000006,\n",
       " 0.06480000000000033,\n",
       " 0.14519999999999983,\n",
       " 0.0652000000000001]"
      ]
     },
     "execution_count": 4,
     "metadata": {},
     "output_type": "execute_result"
    }
   ],
   "source": [
    "volWakeReduction = []\n",
    "ratios = []\n",
    "volWakefield = [47.834,50.487,50.459,50.695,50.815,50.011,50.811]\n",
    "for vol in volWakefield:\n",
    "    reduction = VolZero-vol\n",
    "    volWakeReduction.append(reduction)\n",
    "    ratio = reduction/10.0\n",
    "    ratios.append(ratio)\n",
    "ratios\n",
    "    "
   ]
  },
  {
   "cell_type": "code",
   "execution_count": 5,
   "metadata": {
    "collapsed": false
   },
   "outputs": [
    {
     "name": "stdout",
     "output_type": "stream",
     "text": [
      "0.5343 0.53365\n"
     ]
    }
   ],
   "source": [
    "anna_S1_10 = VolZero - 46.12\n",
    "anna_S1_20 = VolZero - 40.79\n",
    "ratio_10 = anna_S1_10/10.0\n",
    "ratio_20 = anna_S1_20/20.0\n",
    "print ratio_10,ratio_20"
   ]
  },
  {
   "cell_type": "code",
   "execution_count": 6,
   "metadata": {
    "collapsed": false
   },
   "outputs": [
    {
     "data": {
      "text/plain": [
       "[0.5343000000000003,\n",
       " 0.09680000000000036,\n",
       " 0.18900000000000006,\n",
       " 0.18569999999999992,\n",
       " 0.07259999999999991,\n",
       " 0.0509999999999998,\n",
       " 0.1105000000000004]"
      ]
     },
     "execution_count": 6,
     "metadata": {},
     "output_type": "execute_result"
    }
   ],
   "source": [
    "volAnnaReduction = []\n",
    "ratios = []\n",
    "volAnna = [46.12,50.495,49.573,49.606,50.737,50.953,50.358]\n",
    "for vol in volAnna:\n",
    "    reduction = VolZero-vol\n",
    "    volAnnaReduction.append(reduction)\n",
    "    ratio = reduction/10.0\n",
    "    ratios.append(ratio)\n",
    "ratios"
   ]
  },
  {
   "cell_type": "code",
   "execution_count": null,
   "metadata": {
    "collapsed": true
   },
   "outputs": [],
   "source": []
  }
 ],
 "metadata": {
  "kernelspec": {
   "display_name": "Python 2",
   "language": "python",
   "name": "python2"
  },
  "language_info": {
   "codemirror_mode": {
    "name": "ipython",
    "version": 2
   },
   "file_extension": ".py",
   "mimetype": "text/x-python",
   "name": "python",
   "nbconvert_exporter": "python",
   "pygments_lexer": "ipython2",
   "version": "2.7.6"
  }
 },
 "nbformat": 4,
 "nbformat_minor": 0
}
