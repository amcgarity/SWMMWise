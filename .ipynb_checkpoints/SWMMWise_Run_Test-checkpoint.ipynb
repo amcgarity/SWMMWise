{
 "cells": [
  {
   "cell_type": "code",
   "execution_count": 11,
   "metadata": {
    "collapsed": false
   },
   "outputs": [
    {
     "data": {
      "text/plain": [
       "{'Area': 741,\n",
       " 'FromImp': 100,\n",
       " 'LID': 'wakefield_BR_RG',\n",
       " 'Number': 0,\n",
       " 'Subcat': 'S1',\n",
       " 'Width': 0}"
      ]
     },
     "execution_count": 11,
     "metadata": {},
     "output_type": "execute_result"
    }
   ],
   "source": [
    "import yaml\n",
    "f = open('runlist_start.yaml','r')\n",
    "runList = yaml.load(f)\n",
    "noLid = runList[0]\n",
    "noLid"
   ]
  },
  {
   "cell_type": "code",
   "execution_count": 12,
   "metadata": {
    "collapsed": false
   },
   "outputs": [],
   "source": [
    "runlist=noLid\n",
    "runParamList = []  #create new list of dicts for the next run\n",
    "runParamList.append(noLid)\n",
    "newrunDict = dict(noLid)\n",
    "newrunDict['Number']=1\n",
    "runParamList.append(newrunDict)"
   ]
  },
  {
   "cell_type": "code",
   "execution_count": 14,
   "metadata": {
    "collapsed": false
   },
   "outputs": [],
   "source": [
    "from swmm_objects import *\n",
    "from swmm_read import *\n",
    "from swmm_run import runswmm\n",
    "from subprocess import call\n",
    "from pymongo import MongoClient\n",
    "from datetime import datetime\n",
    "import sys\n",
    "client = MongoClient('mongodb://server.mcgarity.info:27017/')\n",
    "db = client.swmmwiseDebug\n",
    "runsToday = db.y16m01d22\n",
    "dateTime = datetime.now()\n",
    "(peak,volume,lidDict) = runswmm(runParamList)\n",
    "run = { \"peak\": peak, \"volume\": volume, \"lidDict\": lidDict, \"runParamList\": runParamList,\n",
    "\t\t\"dateTime\": dateTime}\n",
    "doc_id = runsToday.insert_one(run).inserted_id\n",
    "print \"Successfully stored %s\" % doc_id"
   ]
  },
  {
   "cell_type": "code",
   "execution_count": null,
   "metadata": {
    "collapsed": true
   },
   "outputs": [],
   "source": []
  },
  {
   "cell_type": "code",
   "execution_count": null,
   "metadata": {
    "collapsed": true
   },
   "outputs": [],
   "source": []
  }
 ],
 "metadata": {
  "kernelspec": {
   "display_name": "Python 2",
   "language": "python",
   "name": "python2"
  },
  "language_info": {
   "codemirror_mode": {
    "name": "ipython",
    "version": 2
   },
   "file_extension": ".py",
   "mimetype": "text/x-python",
   "name": "python",
   "nbconvert_exporter": "python",
   "pygments_lexer": "ipython2",
   "version": "2.7.11"
  }
 },
 "nbformat": 4,
 "nbformat_minor": 0
}
