{
 "cells": [
  {
   "cell_type": "code",
   "execution_count": 1,
   "metadata": {
    "collapsed": false
   },
   "outputs": [
    {
     "data": {
      "text/plain": [
       "[u'y16m02d15_1000_1',\n",
       " u'y16m02d15_200_1',\n",
       " u'y16m02d15_4000_1',\n",
       " u'y16m02d15_debugging',\n",
       " u'y16m02d16_4000_lower_range']"
      ]
     },
     "execution_count": 1,
     "metadata": {},
     "output_type": "execute_result"
    }
   ],
   "source": [
    "%matplotlib inline\n",
    "import numpy as np\n",
    "import yaml\n",
    "from math import log10\n",
    "#import pandas as pd\n",
    "import matplotlib.pyplot as plt\n",
    "from mpl_toolkits.mplot3d import Axes3D\n",
    "from pymongo import MongoClient\n",
    "from bson.objectid import ObjectId\n",
    "#client = MongoClient('mongodb://server.mcgarity.info:27017')\n",
    "client = MongoClient()  # use local database by default\n",
    "db = client[\"borg_wingo_wise\"]\n",
    "collectionNames = sorted(db.collection_names())\n",
    "collectionNames"
   ]
  },
  {
   "cell_type": "code",
   "execution_count": 4,
   "metadata": {
    "collapsed": false
   },
   "outputs": [
    {
     "data": {
      "image/png": "[encoded data removed]",
      "text/plain": [
       "<matplotlib.figure.Figure at 0x7f28be96ded0>"
      ]
     },
     "metadata": {},
     "output_type": "display_data"
    }
   ],
   "source": [
    "runs = db['y16m02d15_4000_1']\n",
    "cursor = runs.find()\n",
    "ndocs = runs.count()\n",
    "last = cursor.count()-1  # Pareto solution is in the last record\n",
    "paretoDict = cursor[last]  # get the Pareto Solution\n",
    "                                                                                                                                                                                                                                                                                                                                                                                                                                                                                                                                                                                                                                                                                                                                                                                                                                \n",
    "totCostList1 = []\n",
    "volReductionList1 = []\n",
    "greenedAcreList1 = []\n",
    "numParetoPoints1 = len(paretoDict)\n",
    "for i in range(1,numParetoPoints1):\n",
    "    key = str(i)   # must store mongoDB keys as strings !!\n",
    "    paretoPointList = paretoDict[key]\n",
    "    solutionList = paretoPointList[0]\n",
    "    objList = paretoPointList[1]\n",
    "    #print objList\n",
    "    greenedAcreList1.append(solutionList)\n",
    "    totCostList1.append(objList[0]/1e6)\n",
    "    volReductionList1.append(-objList[1]) # restore to maximization\n",
    "#print volReductionList\n",
    "\n",
    "runs = db['y16m02d16_4000_lower_range']\n",
    "cursor = runs.find()\n",
    "ndocs = runs.count()\n",
    "last = cursor.count()-1  # Pareto solution is in the last record\n",
    "paretoDict = cursor[last]  # get the Pareto Solution\n",
    "\n",
    "totCostList2 = []\n",
    "volReductionList2 = []\n",
    "greenedAcreList2 = []\n",
    "numParetoPoints2 = len(paretoDict)\n",
    "for i in range(1,numParetoPoints2):\n",
    "    key = str(i)   # must store mongoDB keys as strings !!\n",
    "    paretoPointList = paretoDict[key]\n",
    "    solutionList = paretoPointList[0]\n",
    "    objList = paretoPointList[1]\n",
    "    #print objList\n",
    "    greenedAcreList2.append(solutionList)\n",
    "    totCostList2.append(objList[0]/1e6)\n",
    "    volReductionList2.append(-objList[1]) # restore to maximization\n",
    "\n",
    "\n",
    "plt.plot(totCostList1,volReductionList1, 'o')\n",
    "plt.plot(totCostList2,volReductionList2, '^')\n",
    "plt.xlabel('Investment ($Million)')\n",
    "plt.ylabel('Runoff Volume Reduction (MGal/yr)')\n",
    "plt.show()"
   ]
  },
  {
   "cell_type": "code",
   "execution_count": null,
   "metadata": {
    "collapsed": false,
    "scrolled": true
   },
   "outputs": [],
   "source": [
    "f = open('wingohocking.yaml','r')\n",
    "doc = yaml.load(f)\n",
    "I = doc['I']\n",
    "J = doc['J']\n",
    "K = doc['K']\n",
    "a = doc['a']\n",
    "b = doc['b']\n",
    "g = doc['g']\n",
    "# Calculate Cost Coefficients\n",
    "cost = {}\n",
    "for j in sorted(J):\n",
    "    for k in sorted(K):\n",
    "        costCoeff = 10**(a[j] - b[j]*log10(g[k]))\n",
    "        cost[(j,k)] = costCoeff\n",
    "allSolnGreenedAcresList = []   # a list of dictionaries\n",
    "allSolnCostList = []           # a list of dictionaries\n",
    "for h in range(0,numParetoPoints-1):\n",
    "    variables = greenedAcreList[h]\n",
    "    varNum = 0\n",
    "    varDict = {}\n",
    "    costDict = {}\n",
    "    for i in sorted(I):\n",
    "        for j in sorted(J):\n",
    "            for k in sorted(K):\n",
    "                greenedAcres = variables[varNum]\n",
    "                varDict[(i,j,k)] = greenedAcres  # load variable values into varDict\n",
    "                costDict[(i,j,k)] = cost[(j,k)]*greenedAcres\n",
    "                varNum += 1\n",
    "    allSolnGreenedAcresList.append(varDict)\n",
    "    allSolnCostList.append(costDict)"
   ]
  },
  {
   "cell_type": "code",
   "execution_count": null,
   "metadata": {
    "collapsed": false
   },
   "outputs": [],
   "source": [
    "subcatCostDict = {}\n",
    "for i in sorted(I):\n",
    "    #print i\n",
    "    subcatCostDict[i] = []\n",
    "\n",
    "for h in range(0,numParetoPoints-1):\n",
    "    costDict = allSolnCostList[h]\n",
    "    for i in sorted(I):\n",
    "        subcatCost = 0.0\n",
    "        for j in sorted(J):\n",
    "            for k in sorted(K):\n",
    "                subcatCost += costDict[i,j,k]\n",
    "        subcatCostDict[i].append(subcatCost/1.0e6)  # convert to $Million\n",
    "\n",
    "print subcatCostDict['S7']           \n",
    "'''\n",
    "S1 = []\n",
    "for subcatDict in subcatCostList:\n",
    "    S1_cost = subcatDict['S1']\n",
    "    S1.append(S1_cost/1e6)\n",
    "plt.plot(volReductionList, S1, 'o')\n",
    "plt.ylabel('Investment ($Million)')\n",
    "plt.xlabel('Runoff Volume Reduction (MGal/yr)')\n",
    "plt.show()\n",
    "'''"
   ]
  },
  {
   "cell_type": "code",
   "execution_count": null,
   "metadata": {
    "collapsed": false
   },
   "outputs": [],
   "source": [
    "result = db.y16m02d15_4000_1.delete_one({'_id': ObjectId('56c343611a5e830c9025b41d') })\n",
    "result"
   ]
  },
  {
   "cell_type": "code",
   "execution_count": null,
   "metadata": {
    "collapsed": false
   },
   "outputs": [],
   "source": [
    "runs = db['y16m02d15_4000_1']\n",
    "cursor = runs.find()\n",
    "ndocs = runs.count()\n",
    "last = cursor.count()-1  # Pareto solution is in the last record\n",
    "paretoDict = cursor[last]  # get the Pareto Solution\n",
    "#runNum = 1\n",
    "#runDict = cursor[runNum]\n",
    "#runDict\n",
    "paretoDict\n",
    "#extraDoc = cursor[last]\n",
    "#result = db.y16m02d15_4000_1.delete_one({'_id': ObjectId('56c343831a5e830c9025b422') })\n",
    "#result\n",
    "#extraDoc"
   ]
  },
  {
   "cell_type": "code",
   "execution_count": null,
   "metadata": {
    "collapsed": true
   },
   "outputs": [],
   "source": []
  }
 ],
 "metadata": {
  "kernelspec": {
   "display_name": "Python 2",
   "language": "python",
   "name": "python2"
  },
  "language_info": {
   "codemirror_mode": {
    "name": "ipython",
    "version": 2
   },
   "file_extension": ".py",
   "mimetype": "text/x-python",
   "name": "python",
   "nbconvert_exporter": "python",
   "pygments_lexer": "ipython2",
   "version": "2.7.6"
  }
 },
 "nbformat": 4,
 "nbformat_minor": 0
}
