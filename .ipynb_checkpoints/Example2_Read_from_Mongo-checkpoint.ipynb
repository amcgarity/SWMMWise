{
 "cells": [
  {
   "cell_type": "code",
   "execution_count": 34,
   "metadata": {
    "collapsed": true
   },
   "outputs": [],
   "source": [
    "from pymongo import MongoClient\n",
    "from datetime import datetime"
   ]
  },
  {
   "cell_type": "code",
   "execution_count": 36,
   "metadata": {
    "collapsed": false
   },
   "outputs": [
    {
     "data": {
      "text/plain": [
       "[u'y16m01d22', u'y16m01d23']"
      ]
     },
     "execution_count": 36,
     "metadata": {},
     "output_type": "execute_result"
    }
   ],
   "source": [
    "client = MongoClient()\n",
    "db = client.swmmwiseDebug\n",
    "db.collection_names()"
   ]
  },
  {
   "cell_type": "code",
   "execution_count": 38,
   "metadata": {
    "collapsed": false
   },
   "outputs": [
    {
     "data": {
      "text/plain": [
       "{u'_id': ObjectId('56a3ab4bc10157a4718ed4da'),\n",
       " u'dateTime': datetime.datetime(2016, 1, 23, 11, 33, 2, 719000),\n",
       " u'lidDict': None,\n",
       " u'peak': 21.52,\n",
       " u'runParamList': [{u'Area': 741,\n",
       "   u'FromImp': 100,\n",
       "   u'LID': u'wakefield_BR_RG',\n",
       "   u'Number': 0,\n",
       "   u'Subcat': u'S1',\n",
       "   u'Width': 0}],\n",
       " u'volume': 15.563}"
      ]
     },
     "execution_count": 38,
     "metadata": {},
     "output_type": "execute_result"
    }
   ],
   "source": [
    "runs = db.y16m01d23\n",
    "runs.find_one()"
   ]
  },
  {
   "cell_type": "code",
   "execution_count": 39,
   "metadata": {
    "collapsed": false
   },
   "outputs": [
    {
     "name": "stdout",
     "output_type": "stream",
     "text": [
      "{u'lidDict': None, u'dateTime': datetime.datetime(2016, 1, 23, 11, 33, 2, 719000), u'volume': 15.563, u'peak': 21.52, u'runParamList': [{u'LID': u'wakefield_BR_RG', u'Subcat': u'S1', u'Area': 741, u'Number': 0, u'Width': 0, u'FromImp': 100}], u'_id': ObjectId('56a3ab4bc10157a4718ed4da')}\n"
     ]
    }
   ],
   "source": [
    "for run in runs.find():\n",
    "    print run"
   ]
  },
  {
   "cell_type": "code",
   "execution_count": 19,
   "metadata": {
    "collapsed": true
   },
   "outputs": [],
   "source": [
    "cursor = runs.find({'volume':'15.563'})"
   ]
  },
  {
   "cell_type": "code",
   "execution_count": 20,
   "metadata": {
    "collapsed": false
   },
   "outputs": [
    {
     "data": {
      "text/plain": [
       "{u'_id': ObjectId('569c4ab2c101575f0f2f6362'),\n",
       " u'dateTime': datetime.datetime(2016, 1, 17, 21, 14, 57, 651000),\n",
       " u'lidDict': None,\n",
       " u'peak': u'21.52',\n",
       " u'volume': u'15.563'}"
      ]
     },
     "execution_count": 20,
     "metadata": {},
     "output_type": "execute_result"
    }
   ],
   "source": [
    "cursor.next()"
   ]
  },
  {
   "cell_type": "code",
   "execution_count": 28,
   "metadata": {
    "collapsed": true
   },
   "outputs": [],
   "source": [
    "cursor = runs.find({'volume':{\"$lt\":'15.5'}})"
   ]
  },
  {
   "cell_type": "code",
   "execution_count": 29,
   "metadata": {
    "collapsed": false
   },
   "outputs": [
    {
     "data": {
      "text/plain": [
       "{u'_id': ObjectId('569c4c85c101575f26bcd5ae'),\n",
       " u'dateTime': datetime.datetime(2016, 1, 17, 21, 22, 42, 838000),\n",
       " u'lidDict': {u'S1 wakefield_BR_RG': [u'5250.33',\n",
       "   u'21.20',\n",
       "   u'966.44',\n",
       "   u'4262.70',\n",
       "   u'0.00',\n",
       "   u'0.30',\n",
       "   u'0.50',\n",
       "   u'-0.00']},\n",
       " u'peak': u'21.50',\n",
       " u'volume': u'15.109'}"
      ]
     },
     "execution_count": 29,
     "metadata": {},
     "output_type": "execute_result"
    }
   ],
   "source": [
    "cursor.next()"
   ]
  },
  {
   "cell_type": "code",
   "execution_count": 30,
   "metadata": {
    "collapsed": false
   },
   "outputs": [
    {
     "data": {
      "text/plain": [
       "{u'_id': ObjectId('569c59dfc101575fe52a39e3'),\n",
       " u'dateTime': datetime.datetime(2016, 1, 17, 22, 19, 43, 962000),\n",
       " u'lidDict': {u'S1 wakefield_BR_RG': [u'2618.44',\n",
       "   u'20.31',\n",
       "   u'836.42',\n",
       "   u'1761.67',\n",
       "   u'0.00',\n",
       "   u'0.30',\n",
       "   u'0.50',\n",
       "   u'-0.01']},\n",
       " u'peak': u'21.48',\n",
       " u'volume': u'14.767'}"
      ]
     },
     "execution_count": 30,
     "metadata": {},
     "output_type": "execute_result"
    }
   ],
   "source": [
    "cursor.next()"
   ]
  },
  {
   "cell_type": "code",
   "execution_count": 42,
   "metadata": {
    "collapsed": false
   },
   "outputs": [
    {
     "data": {
      "text/plain": [
       "{u'_id': ObjectId('56a3bc16c10157a54bf3908c'),\n",
       " u'lidDict': None,\n",
       " u'peak': 21.52,\n",
       " u'runParamList': [{u'Area': 741,\n",
       "   u'FromImp': 100,\n",
       "   u'LID': u'wakefield_BR_RG',\n",
       "   u'Number': 0,\n",
       "   u'Subcat': u'S1',\n",
       "   u'Width': 0}],\n",
       " u'swmmRunTime': u'0.0 min, 11.70 sec',\n",
       " u'swmmStartTime': u'2016-01-23 12:44:42.868904',\n",
       " u'volume': 15.563}"
      ]
     },
     "execution_count": 42,
     "metadata": {},
     "output_type": "execute_result"
    }
   ],
   "source": [
    "# Find the last document in the collection:\n",
    "cursor = runs.find()\n",
    "last = cursor.count()-1\n",
    "cursor[last]"
   ]
  },
  {
   "cell_type": "code",
   "execution_count": null,
   "metadata": {
    "collapsed": true
   },
   "outputs": [],
   "source": []
  },
  {
   "cell_type": "code",
   "execution_count": 43,
   "metadata": {
    "collapsed": false
   },
   "outputs": [
    {
     "data": {
      "text/plain": [
       "0"
      ]
     },
     "execution_count": 43,
     "metadata": {},
     "output_type": "execute_result"
    }
   ],
   "source": [
    "numMatching = runs.find({'volume':{\"$lt\":'15.5'}}).count()\n",
    "numMatching"
   ]
  },
  {
   "cell_type": "code",
   "execution_count": 44,
   "metadata": {
    "collapsed": false
   },
   "outputs": [],
   "source": [
    "for run in runs.find({'volume':{\"$lt\":'15.5'}}):\n",
    "    print run"
   ]
  },
  {
   "cell_type": "code",
   "execution_count": null,
   "metadata": {
    "collapsed": true
   },
   "outputs": [],
   "source": []
  }
 ],
 "metadata": {
  "kernelspec": {
   "display_name": "Python 2",
   "language": "python",
   "name": "python2"
  },
  "language_info": {
   "codemirror_mode": {
    "name": "ipython",
    "version": 2
   },
   "file_extension": ".py",
   "mimetype": "text/x-python",
   "name": "python",
   "nbconvert_exporter": "python",
   "pygments_lexer": "ipython2",
   "version": "2.7.11"
  }
 },
 "nbformat": 4,
 "nbformat_minor": 0
}
