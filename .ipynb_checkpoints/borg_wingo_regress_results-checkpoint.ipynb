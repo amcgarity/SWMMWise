{
 "cells": [
  {
   "cell_type": "code",
   "execution_count": 70,
   "metadata": {
    "collapsed": false
   },
   "outputs": [
    {
     "data": {
      "text/plain": [
       "[u'y16m05d20_100_1', u'y16m05d20_100_2']"
      ]
     },
     "execution_count": 70,
     "metadata": {},
     "output_type": "execute_result"
    }
   ],
   "source": [
    "from pymongo import MongoClient\n",
    "from datetime import datetime\n",
    "import numpy as np\n",
    "from scipy import linalg\n",
    "#client = MongoClient('mongodb://server.mcgarity.info:27017')\n",
    "client = MongoClient()  # use local database by default\n",
    "#db = client[\"borg_rapid_tests\"]\n",
    "db = client[\"borg_wingo_regress\"]\n",
    "collectionNames = sorted(db.collection_names())\n",
    "collectionNames"
   ]
  },
  {
   "cell_type": "code",
   "execution_count": 62,
   "metadata": {
    "collapsed": false
   },
   "outputs": [
    {
     "data": {
      "text/plain": [
       "array([[  1.00000000e+00,   0.00000000e+00],\n",
       "       [  8.88178420e-16,   1.00000000e+00]])"
      ]
     },
     "execution_count": 62,
     "metadata": {},
     "output_type": "execute_result"
    }
   ],
   "source": [
    "list1 = [1,2]\n",
    "list2 = [3,4]\n",
    "A = np.array(list1)\n",
    "A = np.vstack((A,list2))\n",
    "B = linalg.inv(A)\n",
    "\n",
    "C = np.dot(A,B)\n",
    "C"
   ]
  },
  {
   "cell_type": "code",
   "execution_count": 78,
   "metadata": {
    "collapsed": false
   },
   "outputs": [
    {
     "data": {
      "text/plain": [
       "101"
      ]
     },
     "execution_count": 78,
     "metadata": {},
     "output_type": "execute_result"
    }
   ],
   "source": [
    "nvars = 14 (7 )\n",
    "runs = db['y16m05d20_100_2']\n",
    "cursor = runs.find()\n",
    "ndocs = runs.count()\n",
    "start = 0\n",
    "runDict = cursor[start]\n",
    "X = runDict['variables']\n",
    "X.insert(0,1.0)\n",
    "Y = [runDict['volReduction']]\n",
    "#X = np.vstack((X,runDict['variables']))\n",
    "for runNum in range(start+1,ndocs-1):\n",
    "    runDict = cursor[runNum]\n",
    "    newRow = runDict['variables']\n",
    "    newRow.insert(0,1.0)\n",
    "    X = np.vstack((X,newRow))\n",
    "    Y.append(runDict['volReduction'])\n",
    "X = np.array(X)\n",
    "Y = np.array(Y)\n",
    "XT = X.transpose()\n",
    "A = np.dot(XT,X)\n",
    "Ainv = np.linalg.inv(A)\n",
    "C = np.dot(XT,Y)\n",
    "Theta = np.dot(Ainv,C)\n",
    "Yhat = np.dot(X,Theta)\n",
    "#print Y\n",
    "#print Yhat\n",
    "e = Y - Yhat\n",
    "SSe = np.dot(e.transpose(),e)\n",
    "Var_e = SSe/(ndocs-1-nvars+1)\n",
    "Var_e"
   ]
  },
  {
   "cell_type": "code",
   "execution_count": null,
   "metadata": {
    "collapsed": true
   },
   "outputs": [],
   "source": []
  }
 ],
 "metadata": {
  "kernelspec": {
   "display_name": "Python 2",
   "language": "python",
   "name": "python2"
  },
  "language_info": {
   "codemirror_mode": {
    "name": "ipython",
    "version": 2
   },
   "file_extension": ".py",
   "mimetype": "text/x-python",
   "name": "python",
   "nbconvert_exporter": "python",
   "pygments_lexer": "ipython2",
   "version": "2.7.6"
  }
 },
 "nbformat": 4,
 "nbformat_minor": 0
}
