{
 "cells": [
  {
   "cell_type": "code",
   "execution_count": 1,
   "metadata": {
    "collapsed": false
   },
   "outputs": [
    {
     "data": {
      "text/plain": [
       "[u'y16m01d27_run1',\n",
       " u'y16m01d27_run2',\n",
       " u'y16m01d27_run3',\n",
       " u'y16m01d27_shortTest1',\n",
       " u'y16m01d27_test1']"
      ]
     },
     "execution_count": 1,
     "metadata": {},
     "output_type": "execute_result"
    }
   ],
   "source": [
    "%matplotlib inline\n",
    "import numpy as np\n",
    "#import pandas as pd\n",
    "import matplotlib.pyplot as plt\n",
    "from pymongo import MongoClient\n",
    "#client = MongoClient('mongodb://server.mcgarity.info:27017')\n",
    "client = MongoClient()  # use local database by default\n",
    "db = client[\"borg_swmm\"]\n",
    "collectionNames = sorted(db.collection_names())\n",
    "collectionNames"
   ]
  },
  {
   "cell_type": "code",
   "execution_count": 5,
   "metadata": {
    "collapsed": false
   },
   "outputs": [
    {
     "data": {
      "text/plain": [
       "{u'_id': ObjectId('56a9370d1a5e8359ccc081c1'),\n",
       " u'lidDict': {u'S4 wakefield_BR_RG': {u'Continuity Error': -0.02,\n",
       "   u'Drain Outflow': 0.0,\n",
       "   u'Evap Loss': 17.93,\n",
       "   u'Final Storage': 0.5,\n",
       "   u'Infil Loss': 538.29,\n",
       "   u'Initial Storage': 0.3,\n",
       "   u'Surface Outflow': 176.01,\n",
       "   u'Total Inflow': 732.26}},\n",
       " u'numLidTotal': 1,\n",
       " u'numlid': [0, 0, 0, 1, 0, 0],\n",
       " u'peak': 32.81,\n",
       " u'volReduction': 0.24799999999999933,\n",
       " u'volume': 15.724}"
      ]
     },
     "execution_count": 5,
     "metadata": {},
     "output_type": "execute_result"
    }
   ],
   "source": [
    "runs = db['y16m01d27_run2']\n",
    "cursor = runs.find()\n",
    "ndocs = runs.count()\n",
    "last = cursor.count()-1\n",
    "rundict = cursor[last]\n",
    "rundict\n",
    "#ndocs"
   ]
  },
  {
   "cell_type": "code",
   "execution_count": null,
   "metadata": {
    "collapsed": true
   },
   "outputs": [],
   "source": [
    "numLidTotalList = []\n",
    "volReductionList = []\n",
    "for doc in cursor:\n",
    "    numLidTotalList.append(doc['numLidTotal'])\n",
    "    negatedVolReduction = doc['volReduction]']\n",
    "    volReductionList.append(-negatedVolReduction)\n",
    "plt.plot(numLidTotalList,volReductionList)\n",
    "    "
   ]
  }
 ],
 "metadata": {
  "kernelspec": {
   "display_name": "Python 2",
   "language": "python",
   "name": "python2"
  },
  "language_info": {
   "codemirror_mode": {
    "name": "ipython",
    "version": 2
   },
   "file_extension": ".py",
   "mimetype": "text/x-python",
   "name": "python",
   "nbconvert_exporter": "python",
   "pygments_lexer": "ipython2",
   "version": "2.7.6"
  }
 },
 "nbformat": 4,
 "nbformat_minor": 0
}
