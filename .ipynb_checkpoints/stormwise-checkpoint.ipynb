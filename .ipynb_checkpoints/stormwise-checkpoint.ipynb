{
 "cells": [
  {
   "cell_type": "code",
   "execution_count": 1,
   "metadata": {
    "collapsed": false
   },
   "outputs": [],
   "source": [
    "import numpy as np\n",
    "import yaml\n",
    "f = open('wingohocking.yaml','r')\n",
    "doc = yaml.load(f)"
   ]
  },
  {
   "cell_type": "code",
   "execution_count": 24,
   "metadata": {
    "collapsed": false
   },
   "outputs": [
    {
     "data": {
      "text/plain": [
       "2"
      ]
     },
     "execution_count": 24,
     "metadata": {},
     "output_type": "execute_result"
    }
   ],
   "source": [
    "I = doc['I']\n",
    "J = doc['J']\n",
    "K = doc['K']\n",
    "T = doc['T']\n",
    "D = doc['D']\n",
    "convert = doc['convert']\n",
    "a = doc['a']\n",
    "b = doc['b']\n",
    "g = doc['g']\n",
    "deploy = doc['deploy']\n",
    "ownfr = doc['ownfr']\n",
    "area = doc['area']\n",
    "impfr = doc['impfr']\n",
    "nI = len(I)\n",
    "nJ = len(J)\n",
    "nK = len(K)\n",
    "nVars = nI*nJ*nK\n",
    "nT = len(T)\n",
    "nObjs = nT + 1  # number of benefits plus cost for Borg\n",
    "nObjs"
   ]
  },
  {
   "cell_type": "code",
   "execution_count": 26,
   "metadata": {
    "collapsed": false
   },
   "outputs": [
    {
     "data": {
      "text/plain": [
       "[[0, 104.07039999999999],\n",
       " [0, 91.0616],\n",
       " [0, 44.601600000000005],\n",
       " [0, 39.026399999999995],\n",
       " [0, 60.5031],\n",
       " [0, 81.09989999999999],\n",
       " [0, 25.929900000000004],\n",
       " [0, 34.7571],\n",
       " [0, 173.6637],\n",
       " [0, 207.54929999999996],\n",
       " [0, 74.42729999999999],\n",
       " [0, 88.94969999999998],\n",
       " [0, 93.2008],\n",
       " [0, 118.61919999999999],\n",
       " [0, 39.943200000000004],\n",
       " [0, 50.8368],\n",
       " [0, 155.04075999999998],\n",
       " [0, 122.18443999999998],\n",
       " [0, 66.44604],\n",
       " [0, 52.36475999999999],\n",
       " [0, 85.2768],\n",
       " [0, 114.30719999999998],\n",
       " [0, 36.547200000000004],\n",
       " [0, 48.9888],\n",
       " [0, 111.93279999999999],\n",
       " [0, 123.7152],\n",
       " [0, 47.971199999999996],\n",
       " [0, 53.0208]]"
      ]
     },
     "execution_count": 26,
     "metadata": {},
     "output_type": "execute_result"
    }
   ],
   "source": [
    "u = {}\n",
    "bounds = []\n",
    "for i in sorted(I):\n",
    "    for j in sorted(J):\n",
    "        for k in sorted(K):\n",
    "            f = ownfr[i][j]*(deploy[k]['pervious']*(1-impfr[i]) + deploy[k]['impervious']*impfr[i])\n",
    "            upper = f*area[i]\n",
    "            u[(i,j,k)] = upper\n",
    "            bounds.append([0,upper])\n",
    "v = {}\n",
    "for i in sorted(I):\n",
    "    for k in sorted(K):\n",
    "        uSum = 0\n",
    "        for j in sorted(J):\n",
    "            uSum += u[(i,j,k)]\n",
    "        v[(i,k)] = round(uSum/g[k])\n",
    "bounds"
   ]
  },
  {
   "cell_type": "code",
   "execution_count": 15,
   "metadata": {
    "collapsed": false
   },
   "outputs": [
    {
     "data": {
      "text/plain": [
       "{('S1', '1_rain_garden'): 142.0,\n",
       " ('S1', '2_tree_trench'): 48.0,\n",
       " ('S2', '1_rain_garden'): 82.0,\n",
       " ('S2', '2_tree_trench'): 43.0,\n",
       " ('S3', '1_rain_garden'): 236.0,\n",
       " ('S3', '2_tree_trench'): 110.0,\n",
       " ('S4', '1_rain_garden'): 127.0,\n",
       " ('S4', '2_tree_trench'): 63.0,\n",
       " ('S5', '1_rain_garden'): 211.0,\n",
       " ('S5', '2_tree_trench'): 65.0,\n",
       " ('S6', '1_rain_garden'): 116.0,\n",
       " ('S6', '2_tree_trench'): 60.0,\n",
       " ('S7', '1_rain_garden'): 152.0,\n",
       " ('S7', '2_tree_trench'): 65.0}"
      ]
     },
     "execution_count": 15,
     "metadata": {},
     "output_type": "execute_result"
    }
   ],
   "source": [
    "v"
   ]
  },
  {
   "cell_type": "code",
   "execution_count": 20,
   "metadata": {
    "collapsed": false
   },
   "outputs": [
    {
     "data": {
      "text/plain": [
       "[[0, 1], [0, 1], [0, 1], [0, 1]]"
      ]
     },
     "execution_count": 20,
     "metadata": {},
     "output_type": "execute_result"
    }
   ],
   "source": [
    "x = [[0,1]]*4\n",
    "x"
   ]
  },
  {
   "cell_type": "code",
   "execution_count": null,
   "metadata": {
    "collapsed": true
   },
   "outputs": [],
   "source": []
  }
 ],
 "metadata": {
  "kernelspec": {
   "display_name": "Python 2",
   "language": "python",
   "name": "python2"
  },
  "language_info": {
   "codemirror_mode": {
    "name": "ipython",
    "version": 2
   },
   "file_extension": ".py",
   "mimetype": "text/x-python",
   "name": "python",
   "nbconvert_exporter": "python",
   "pygments_lexer": "ipython2",
   "version": "2.7.6"
  }
 },
 "nbformat": 4,
 "nbformat_minor": 0
}
