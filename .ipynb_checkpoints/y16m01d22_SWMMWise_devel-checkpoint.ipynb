{
 "cells": [
  {
   "cell_type": "code",
   "execution_count": 44,
   "metadata": {
    "collapsed": true
   },
   "outputs": [],
   "source": [
    "from pymongo import MongoClient\n",
    "from datetime import datetime\n",
    "#client = MongoClient('mongodb://server.mcgarity.info:27017')\n",
    "client = MongoClient()  # use local database by default\n",
    "db = client.swmmwiseDebug"
   ]
  },
  {
   "cell_type": "code",
   "execution_count": 46,
   "metadata": {
    "collapsed": false
   },
   "outputs": [
    {
     "data": {
      "text/plain": [
       "{u'_id': ObjectId('56a3bc16c10157a54bf3908c'),\n",
       " u'lidDict': None,\n",
       " u'peak': 21.52,\n",
       " u'runParamList': [{u'Area': 741,\n",
       "   u'FromImp': 100,\n",
       "   u'LID': u'wakefield_BR_RG',\n",
       "   u'Number': 0,\n",
       "   u'Subcat': u'S1',\n",
       "   u'Width': 0}],\n",
       " u'swmmRunTime': u'0.0 min, 11.70 sec',\n",
       " u'swmmStartTime': u'2016-01-23 12:44:42.868904',\n",
       " u'volume': 15.563}"
      ]
     },
     "execution_count": 46,
     "metadata": {},
     "output_type": "execute_result"
    }
   ],
   "source": [
    "runs = db['y16m01d23_loop_test_2']\n",
    "cursor = runs.find()\n",
    "last = cursor.count()-1\n",
    "cursor[last]"
   ]
  },
  {
   "cell_type": "code",
   "execution_count": null,
   "metadata": {
    "collapsed": true
   },
   "outputs": [],
   "source": []
  },
  {
   "cell_type": "code",
   "execution_count": null,
   "metadata": {
    "collapsed": true
   },
   "outputs": [],
   "source": []
  }
 ],
 "metadata": {
  "kernelspec": {
   "display_name": "Python 2",
   "language": "python",
   "name": "python2"
  },
  "language_info": {
   "codemirror_mode": {
    "name": "ipython",
    "version": 2
   },
   "file_extension": ".py",
   "mimetype": "text/x-python",
   "name": "python",
   "nbconvert_exporter": "python",
   "pygments_lexer": "ipython2",
   "version": "2.7.11"
  }
 },
 "nbformat": 4,
 "nbformat_minor": 0
}
