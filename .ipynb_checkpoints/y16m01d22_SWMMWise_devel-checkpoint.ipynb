{
 "cells": [
  {
   "cell_type": "markdown",
   "metadata": {},
   "source": [
    "Read SWMM run results from MongoDB and reconstitute the associated SWMM .inp file"
   ]
  },
  {
   "cell_type": "code",
   "execution_count": 8,
   "metadata": {
    "collapsed": false
   },
   "outputs": [
    {
     "data": {
      "text/plain": [
       "[u'y16m01d28_testing']"
      ]
     },
     "execution_count": 8,
     "metadata": {},
     "output_type": "execute_result"
    }
   ],
   "source": [
    "from pymongo import MongoClient\n",
    "from datetime import datetime\n",
    "#client = MongoClient('mongodb://server.mcgarity.info:27017')\n",
    "client = MongoClient()  # use local database by default\n",
    "#db = client[\"borg_rapid_tests\"]\n",
    "db = client[\"borg_swmm\"]\n",
    "collectionNames = sorted(db.collection_names())\n",
    "collectionNames"
   ]
  },
  {
   "cell_type": "code",
   "execution_count": 9,
   "metadata": {
    "collapsed": false
   },
   "outputs": [
    {
     "data": {
      "text/plain": [
       "{u'1': [[5.958947924887511, -0.7787234500932314],\n",
       "  [36.11547058324628, 16.279678883696235]],\n",
       " u'_id': ObjectId('56aa93221a5e83967c9280ae')}"
      ]
     },
     "execution_count": 9,
     "metadata": {},
     "output_type": "execute_result"
    }
   ],
   "source": [
    "#runs = db['y16m01d28_testing']\n",
    "runs = db['y16m01d28_2lid_run_Example2']\n",
    "cursor = runs.find()\n",
    "ndocs = runs.count()\n",
    "last = cursor.count()-1\n",
    "rundict = cursor[last]\n",
    "rundict\n",
    "#ndocs"
   ]
  },
  {
   "cell_type": "code",
   "execution_count": 66,
   "metadata": {
    "collapsed": true
   },
   "outputs": [],
   "source": [
    "swmmInputFileStr = rundict[\"swmmInputFileStr\"]\n",
    "f = open(\"SWMM_reconstituted.inp\",'w')\n",
    "f.write(swmmInputFileStr)  # write out the swmmInputFileStr for modified problem\n",
    "f.close()"
   ]
  },
  {
   "cell_type": "code",
   "execution_count": 1,
   "metadata": {
    "collapsed": false
   },
   "outputs": [
    {
     "data": {
      "text/plain": [
       "0.8695652173913043"
      ]
     },
     "execution_count": 1,
     "metadata": {},
     "output_type": "execute_result"
    }
   ],
   "source": [
    "1000.0/1150."
   ]
  },
  {
   "cell_type": "code",
   "execution_count": 2,
   "metadata": {
    "collapsed": false
   },
   "outputs": [
    {
     "data": {
      "text/plain": [
       "6.666666666666667"
      ]
     },
     "execution_count": 2,
     "metadata": {},
     "output_type": "execute_result"
    }
   ],
   "source": [
    "1000./150."
   ]
  },
  {
   "cell_type": "code",
   "execution_count": null,
   "metadata": {
    "collapsed": true
   },
   "outputs": [],
   "source": []
  }
 ],
 "metadata": {
  "kernelspec": {
   "display_name": "Python 2",
   "language": "python",
   "name": "python2"
  },
  "language_info": {
   "codemirror_mode": {
    "name": "ipython",
    "version": 2
   },
   "file_extension": ".py",
   "mimetype": "text/x-python",
   "name": "python",
   "nbconvert_exporter": "python",
   "pygments_lexer": "ipython2",
   "version": "2.7.6"
  }
 },
 "nbformat": 4,
 "nbformat_minor": 0
}
