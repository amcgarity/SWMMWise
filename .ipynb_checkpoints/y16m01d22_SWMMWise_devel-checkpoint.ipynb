{
 "cells": [
  {
   "cell_type": "code",
   "execution_count": 5,
   "metadata": {
    "collapsed": true
   },
   "outputs": [],
   "source": [
    "from pymongo import MongoClient\n",
    "from datetime import datetime\n",
    "client = MongoClient('mongodb://server.mcgarity.info:27017')\n",
    "db = client.swmmwiseDebug"
   ]
  },
  {
   "cell_type": "code",
   "execution_count": 42,
   "metadata": {
    "collapsed": false
   },
   "outputs": [
    {
     "data": {
      "text/plain": [
       "{u'_id': ObjectId('56a28d65abd22f99b74e7623'),\n",
       " u'dateTime': datetime.datetime(2016, 1, 22, 15, 13, 11, 832000),\n",
       " u'lidDict': {u'S1 wakefield_BR_RG': {u'Continuity Error': -0.0,\n",
       "   u'Drain Outflow': 0.0,\n",
       "   u'Evap Loss': 21.2,\n",
       "   u'Final Storage': 0.5,\n",
       "   u'Infil Loss': 966.44,\n",
       "   u'Initial Storage': 0.3,\n",
       "   u'Surface Outflow': 4262.7,\n",
       "   u'Total Inflow': 5250.33}},\n",
       " u'peak': 21.5,\n",
       " u'runParamList': [{u'Area': 741,\n",
       "   u'FromImp': 100,\n",
       "   u'LID': u'wakefield_BR_RG',\n",
       "   u'Number': 1,\n",
       "   u'Subcat': u'S1',\n",
       "   u'Width': 0}],\n",
       " u'volume': 15.109}"
      ]
     },
     "execution_count": 42,
     "metadata": {},
     "output_type": "execute_result"
    }
   ],
   "source": [
    "runs = db.y16m01d22\n",
    "cursor = runs.find()\n",
    "last = cursor.count()-1\n",
    "cursor[last]"
   ]
  },
  {
   "cell_type": "code",
   "execution_count": 41,
   "metadata": {
    "collapsed": false
   },
   "outputs": [
    {
     "name": "stdout",
     "output_type": "stream",
     "text": [
      "[{'LID': 'wakefield_BR_RG', 'Width': 0, 'Subcat': 'S1', 'FromImp': 100, 'Area': 741, 'Number': 1}]\n"
     ]
    }
   ],
   "source": [
    "import yaml\n",
    "f = open('runlist.yaml','r')\n",
    "doc = yaml.load(f)\n",
    "print doc"
   ]
  },
  {
   "cell_type": "code",
   "execution_count": null,
   "metadata": {
    "collapsed": true
   },
   "outputs": [],
   "source": []
  },
  {
   "cell_type": "code",
   "execution_count": null,
   "metadata": {
    "collapsed": true
   },
   "outputs": [],
   "source": []
  }
 ],
 "metadata": {
  "kernelspec": {
   "display_name": "Python 2",
   "language": "python",
   "name": "python2"
  },
  "language_info": {
   "codemirror_mode": {
    "name": "ipython",
    "version": 2
   },
   "file_extension": ".py",
   "mimetype": "text/x-python",
   "name": "python",
   "nbconvert_exporter": "python",
   "pygments_lexer": "ipython2",
   "version": "2.7.11"
  }
 },
 "nbformat": 4,
 "nbformat_minor": 0
}
