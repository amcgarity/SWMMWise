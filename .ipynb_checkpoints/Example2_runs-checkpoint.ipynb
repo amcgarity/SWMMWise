{
 "cells": [
  {
   "cell_type": "code",
   "execution_count": 14,
   "metadata": {
    "collapsed": true
   },
   "outputs": [],
   "source": [
    "from pymongo import MongoClient\n",
    "from datetime import datetime"
   ]
  },
  {
   "cell_type": "code",
   "execution_count": 15,
   "metadata": {
    "collapsed": false
   },
   "outputs": [
    {
     "data": {
      "text/plain": [
       "[u'y16m01d17']"
      ]
     },
     "execution_count": 15,
     "metadata": {},
     "output_type": "execute_result"
    }
   ],
   "source": [
    "client = MongoClient('mongodb://server.mcgarity.info:27017')\n",
    "db = client.swmmwise\n",
    "db.collection_names()"
   ]
  },
  {
   "cell_type": "code",
   "execution_count": 16,
   "metadata": {
    "collapsed": false
   },
   "outputs": [
    {
     "data": {
      "text/plain": [
       "{u'_id': ObjectId('569c4ab2c101575f0f2f6362'),\n",
       " u'dateTime': datetime.datetime(2016, 1, 17, 21, 14, 57, 651000),\n",
       " u'lidDict': None,\n",
       " u'peak': u'21.52',\n",
       " u'volume': u'15.563'}"
      ]
     },
     "execution_count": 16,
     "metadata": {},
     "output_type": "execute_result"
    }
   ],
   "source": [
    "runs = db.y16m01d17\n",
    "runs.find_one()"
   ]
  },
  {
   "cell_type": "code",
   "execution_count": 17,
   "metadata": {
    "collapsed": false
   },
   "outputs": [
    {
     "name": "stdout",
     "output_type": "stream",
     "text": [
      "{u'volume': u'15.563', u'lidDict': None, u'_id': ObjectId('569c4ab2c101575f0f2f6362'), u'peak': u'21.52', u'dateTime': datetime.datetime(2016, 1, 17, 21, 14, 57, 651000)}\n",
      "{u'volume': u'15.109', u'lidDict': {u'S1 wakefield_BR_RG': [u'5250.33', u'21.20', u'966.44', u'4262.70', u'0.00', u'0.30', u'0.50', u'-0.00']}, u'_id': ObjectId('569c4c85c101575f26bcd5ae'), u'peak': u'21.50', u'dateTime': datetime.datetime(2016, 1, 17, 21, 22, 42, 838000)}\n",
      "{u'volume': u'14.767', u'lidDict': {u'S1 wakefield_BR_RG': [u'2618.44', u'20.31', u'836.42', u'1761.67', u'0.00', u'0.30', u'0.50', u'-0.01']}, u'_id': ObjectId('569c59dfc101575fe52a39e3'), u'peak': u'21.48', u'dateTime': datetime.datetime(2016, 1, 17, 22, 19, 43, 962000)}\n"
     ]
    }
   ],
   "source": [
    "for run in runs.find():\n",
    "    print run"
   ]
  },
  {
   "cell_type": "code",
   "execution_count": 19,
   "metadata": {
    "collapsed": true
   },
   "outputs": [],
   "source": [
    "cursor = runs.find({'volume':'15.563'})"
   ]
  },
  {
   "cell_type": "code",
   "execution_count": 20,
   "metadata": {
    "collapsed": false
   },
   "outputs": [
    {
     "data": {
      "text/plain": [
       "{u'_id': ObjectId('569c4ab2c101575f0f2f6362'),\n",
       " u'dateTime': datetime.datetime(2016, 1, 17, 21, 14, 57, 651000),\n",
       " u'lidDict': None,\n",
       " u'peak': u'21.52',\n",
       " u'volume': u'15.563'}"
      ]
     },
     "execution_count": 20,
     "metadata": {},
     "output_type": "execute_result"
    }
   ],
   "source": [
    "cursor.next()"
   ]
  },
  {
   "cell_type": "code",
   "execution_count": 28,
   "metadata": {
    "collapsed": true
   },
   "outputs": [],
   "source": [
    "cursor = runs.find({'volume':{\"$lt\":'15.5'}})"
   ]
  },
  {
   "cell_type": "code",
   "execution_count": 29,
   "metadata": {
    "collapsed": false
   },
   "outputs": [
    {
     "data": {
      "text/plain": [
       "{u'_id': ObjectId('569c4c85c101575f26bcd5ae'),\n",
       " u'dateTime': datetime.datetime(2016, 1, 17, 21, 22, 42, 838000),\n",
       " u'lidDict': {u'S1 wakefield_BR_RG': [u'5250.33',\n",
       "   u'21.20',\n",
       "   u'966.44',\n",
       "   u'4262.70',\n",
       "   u'0.00',\n",
       "   u'0.30',\n",
       "   u'0.50',\n",
       "   u'-0.00']},\n",
       " u'peak': u'21.50',\n",
       " u'volume': u'15.109'}"
      ]
     },
     "execution_count": 29,
     "metadata": {},
     "output_type": "execute_result"
    }
   ],
   "source": [
    "cursor.next()"
   ]
  },
  {
   "cell_type": "code",
   "execution_count": 30,
   "metadata": {
    "collapsed": false
   },
   "outputs": [
    {
     "data": {
      "text/plain": [
       "{u'_id': ObjectId('569c59dfc101575fe52a39e3'),\n",
       " u'dateTime': datetime.datetime(2016, 1, 17, 22, 19, 43, 962000),\n",
       " u'lidDict': {u'S1 wakefield_BR_RG': [u'2618.44',\n",
       "   u'20.31',\n",
       "   u'836.42',\n",
       "   u'1761.67',\n",
       "   u'0.00',\n",
       "   u'0.30',\n",
       "   u'0.50',\n",
       "   u'-0.01']},\n",
       " u'peak': u'21.48',\n",
       " u'volume': u'14.767'}"
      ]
     },
     "execution_count": 30,
     "metadata": {},
     "output_type": "execute_result"
    }
   ],
   "source": [
    "cursor.next()"
   ]
  },
  {
   "cell_type": "code",
   "execution_count": 32,
   "metadata": {
    "collapsed": false
   },
   "outputs": [
    {
     "data": {
      "text/plain": [
       "3"
      ]
     },
     "execution_count": 32,
     "metadata": {},
     "output_type": "execute_result"
    }
   ],
   "source": [
    "numMatching = runs.find({'volume':{\"$lt\":'15.5'}}).count()\n",
    "numMatching"
   ]
  },
  {
   "cell_type": "code",
   "execution_count": 33,
   "metadata": {
    "collapsed": false
   },
   "outputs": [
    {
     "name": "stdout",
     "output_type": "stream",
     "text": [
      "{u'volume': u'15.109', u'lidDict': {u'S1 wakefield_BR_RG': [u'5250.33', u'21.20', u'966.44', u'4262.70', u'0.00', u'0.30', u'0.50', u'-0.00']}, u'_id': ObjectId('569c4c85c101575f26bcd5ae'), u'peak': u'21.50', u'dateTime': datetime.datetime(2016, 1, 17, 21, 22, 42, 838000)}\n",
      "{u'volume': u'14.767', u'lidDict': {u'S1 wakefield_BR_RG': [u'2618.44', u'20.31', u'836.42', u'1761.67', u'0.00', u'0.30', u'0.50', u'-0.01']}, u'_id': ObjectId('569c59dfc101575fe52a39e3'), u'peak': u'21.48', u'dateTime': datetime.datetime(2016, 1, 17, 22, 19, 43, 962000)}\n",
      "{u'volume': u'14.767', u'lidDict': {u'S1 wakefield_BR_RG': [u'2618.44', u'20.31', u'836.42', u'1761.67', u'0.00', u'0.30', u'0.50', u'-0.01']}, u'_id': ObjectId('56a254d4c1015796550678b5'), u'peak': u'21.48', u'dateTime': datetime.datetime(2016, 1, 22, 11, 11, 50, 495000)}\n"
     ]
    }
   ],
   "source": [
    "for run in runs.find({'volume':{\"$lt\":'15.5'}}):\n",
    "    print run"
   ]
  },
  {
   "cell_type": "code",
   "execution_count": null,
   "metadata": {
    "collapsed": true
   },
   "outputs": [],
   "source": []
  }
 ],
 "metadata": {
  "kernelspec": {
   "display_name": "Python 2",
   "language": "python",
   "name": "python2"
  },
  "language_info": {
   "codemirror_mode": {
    "name": "ipython",
    "version": 2
   },
   "file_extension": ".py",
   "mimetype": "text/x-python",
   "name": "python",
   "nbconvert_exporter": "python",
   "pygments_lexer": "ipython2",
   "version": "2.7.11"
  }
 },
 "nbformat": 4,
 "nbformat_minor": 0
}
