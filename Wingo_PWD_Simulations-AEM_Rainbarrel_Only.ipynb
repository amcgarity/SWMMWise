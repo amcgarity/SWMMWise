{
 "cells": [
  {
   "cell_type": "markdown",
   "metadata": {
    "collapsed": true
   },
   "source": [
    "### Load imports and run the no LID case:"
   ]
  },
  {
   "cell_type": "code",
   "execution_count": null,
   "metadata": {
    "collapsed": false,
    "scrolled": false
   },
   "outputs": [],
   "source": [
    "# Run this block to run the SWMM model on the 6-subcatchment Wingohocking model BEFORE adding GSI\n",
    "#%reset\n",
    "import yaml\n",
    "from swmm_objects import *\n",
    "from swmm_read_cso_time_series import *\n",
    "from swmm_run_cso import *\n",
    "from subprocess import call\n",
    "from pymongo import MongoClient\n",
    "from datetime import datetime\n",
    "import sys\n",
    "\n",
    "#  IMPORTANT:  Set these for each run:\n",
    "#################################################\n",
    "# mongoServer = None   # use the local mongodb server installed on your computer\n",
    "#mongoServer = 'mongodb://server.mcgarity.info:27017/'  # Art's personal server\n",
    "#mongoServer = 'mongodb://ubuntu:27017/'  # ubuntu Linux virtual machine on Art's Mac\n",
    "mongoServer = 'mongodb://aws-2.greenphilly.net:27017/'  # aws-2 server for GreenPhilly\n",
    "database = \"jcohen4\"\n",
    "username = \"jcohen4\"\n",
    "password = \"wingohocking\"\n",
    "authenticationDatabase = \"jcohen4\"\n",
    "swmmInpFile = \"wingohocking_PWD.inp\"  # initial SWMM .inp file\n",
    "lidListFile = \"PWD_wingo_RainBarrel_Only_LID_List.yaml\"\n",
    "################################################\n",
    "\n",
    "client = MongoClient(mongoServer)\n",
    "db = client[database]   # use or create the database\n",
    "db.authenticate(username, password, source=authenticationDatabase)  # pass credentials to database\n",
    "collection = 'y17m01d11_AEM_45_Subcat_RainBarrel_Only_1'\n",
    "\n",
    "thisRunCollection = db[collection]    # use or create the collection\n",
    "infile = open(swmmInpFile,'r')\n",
    "swmmInpStr = infile.readlines()\n",
    "infile.close()\n",
    "f = open(lidListFile,'r')   # Read the no LID changable parameters from file\n",
    "lidList = yaml.load(f)  # list of dicts, one for each line in [LID_USAGE]\n",
    "f.close()\n",
    "for lid in lidList:\n",
    "    lid['Number'] = 0  # initialize the lidList\n",
    "starting_perm = [0]\n",
    "zeroLidDocId = runswmm(lidList,swmmInpStr,thisRunCollection,starting_perm)  # run SWMM on the no LID model for baseline\n",
    "#cursor = thisRunCollection.find_one({'_id':zeroLidDocId})\n",
    "#zeroLidPeak = cursor['peak']\n",
    "#zeroLidVolume = cursor['volume']\n",
    "print \"Stored record %s for zero LID usage\" % zeroLidDocId"
   ]
  },
  {
   "cell_type": "markdown",
   "metadata": {},
   "source": [
    "### Loop ALL subcatchment LID numbers over a range (using np.random):"
   ]
  },
  {
   "cell_type": "code",
   "execution_count": null,
   "metadata": {
    "collapsed": false
   },
   "outputs": [],
   "source": [
    "# Run or continue a run:\n",
    "import yaml\n",
    "from swmm_run_cso import *\n",
    "from swmm_objects import *\n",
    "from swmm_read_cso_time_series import *\n",
    "from copy import deepcopy\n",
    "#import numpy as np\n",
    "from random import randint\n",
    "from subprocess import call\n",
    "from pymongo import MongoClient\n",
    "from datetime import datetime\n",
    "import sys\n",
    "\n",
    "#  IMPORTANT:  Set these for each run:\n",
    "#################################################\n",
    "# mongoServer = None   # use the local mongodb server installed on your computer\n",
    "#mongoServer = 'mongodb://server.mcgarity.info:27017/'  # Art's personal server\n",
    "#mongoServer = 'mongodb://ubuntu:27017/'  # ubuntu Linux virtual machine on Art's Mac\n",
    "mongoServer = 'mongodb://aws-2.greenphilly.net:27017/'  # aws-2 server for GreenPhilly\n",
    "database = \"jcohen4\"\n",
    "username = \"jcohen4\"\n",
    "password = \"wingohocking\"\n",
    "authenticationDatabase = \"jcohen4\"\n",
    "swmmInpFile = \"wingohocking_PWD.inp\"  # initial SWMM .inp file\n",
    "lidListFile = \"PWD_wingo_RainBarrel_Only_LID_List.yaml\"\n",
    "################################################\n",
    "squareFeetInOneAcre = 43560.0\n",
    "client = MongoClient(mongoServer)\n",
    "db = client[database]   # use or create the database\n",
    "db.authenticate(username, password, source=authenticationDatabase)  # pass credentials to database\n",
    "collection = 'y17m01d11_AEM_45_Subcat_RainBarrel_Only_1'\n",
    "thisRunCollection = db[collection]\n",
    "infile = open(swmmInpFile,'r')\n",
    "swmmInpStr = infile.readlines()\n",
    "infile.close()\n",
    "(section_names,sections) = read_inp(swmmInpStr)\n",
    "modelTemp = swmm_model(\"ModelTemp\",section_names,sections)\n",
    "f = open(lidListFile,'r')   # Read the LID parameters used to calculate [LID_USAGE]\n",
    "lidList = yaml.load(f)  # list of dicts, one for each line in [LID_USAGE]\n",
    "f.close()\n",
    "#########################\n",
    "numSubcatch = 45\n",
    "numLID = 1\n",
    "numberOfSimulations = 150\n",
    "#########################\n",
    "numVariables = numSubcatch*numLID\n",
    "initialRemainingTreatableArea = {}   # Dict indexed by subcatchment name string \n",
    "for lidListEntry in range(numVariables):\n",
    "    thisLidInfo = lidList[lidListEntry]\n",
    "    subcatName = thisLidInfo['Subcat']\n",
    "    areaSubcat = modelTemp.getSubcatchmentArea(subcatName)     # Acres   \n",
    "    impPctSubcat = modelTemp.getSubcatchmentPctImperv(subcatName)        \n",
    "    initialRemainingTreatableArea[subcatName] = (impPctSubcat/100.0)*areaSubcat  # INITIAL values (Acre)\n",
    "#print initialRemainingTreatableArea\n",
    "permList = []\n",
    "greenedAcreList = []\n",
    "\n",
    "stepSize = 0.02\n",
    "fixedUpperFraction = stepSize\n",
    "for i in range(0,numberOfSimulations):#number of simulations\n",
    "    remainingTreatableArea = dict(initialRemainingTreatableArea)   # Dict indexed by subcatchment name string  \n",
    "    lidListEntry = 0\n",
    "    randomPerm = []\n",
    "    greened = []\n",
    "    lidListEntry = 0   \n",
    "    ###############\n",
    "    #randomScaleFactor = randint(3,50)\n",
    "    \n",
    "    fixedUpperFraction += stepSize\n",
    "    if fixedUpperFraction > 1.0:\n",
    "        fixedUpperFraction = 2*stepSize\n",
    "    fixedLowerFraction = fixedUpperFraction - 2*stepSize\n",
    "    #############    \n",
    "    for lid in range(numLID):\n",
    "        for subcat in range(numSubcatch):\n",
    "            thisLidInfo = lidList[lidListEntry]\n",
    "            #lidName = thisLidInfo['LID']\n",
    "            subcatName = thisLidInfo['Subcat']\n",
    "            areaSubcat = modelTemp.getSubcatchmentArea(subcatName)     # Acres          \n",
    "            contribImpervArea = thisLidInfo['ContribImpervArea']/squareFeetInOneAcre  #ft2 to Acres        \n",
    "            numLidMaximum = int(remainingTreatableArea[subcatName]/contribImpervArea)\n",
    "            #randomIntegerUpper = randint(1,19)\n",
    "            #upperFraction = float(randomIntegerUpper)/20.0\n",
    "\n",
    "            \n",
    "            #random1 = randint(1,randomScaleFactor)\n",
    "            #random2 = randint(1,randomScaleFactor)\n",
    "            #if random1 > random2:\n",
    "            #    randomUpper = random1\n",
    "            #    randomLower = random2\n",
    "            #else:\n",
    "            #    randomUpper = random2\n",
    "            #    randomLower = random1\n",
    "            ############\n",
    "            #lower = numLidMaximum/randomUpper\n",
    "            #upper = numLidMaximum/randomLower \n",
    "            ############\n",
    "            #fixedLowerFraction = 0.90\n",
    "            #fixedUpperFraction = 0.99\n",
    "            lower = int(fixedLowerFraction*numLidMaximum)\n",
    "            upper = int(fixedUpperFraction*numLidMaximum)\n",
    "            ############\n",
    "            randomNumberLid = randint(lower,upper)\n",
    "            randomPerm.append(randomNumberLid)\n",
    "            greened.append(randomNumberLid*lidList[lidListEntry]['GreenedAcres'])\n",
    "            remainingTreatableArea[subcatName] = remainingTreatableArea[subcatName] - \\\n",
    "                  randomNumberLid*contribImpervArea #Acres\n",
    "            lidListEntry += 1\n",
    "        #print remainingTreatableArea\n",
    "    permList.append(randomPerm)\n",
    "    greenedAcreList.append(greened)\n",
    "#print permList \n",
    "#print greenedAcreList\n",
    "\n",
    "\n",
    "runNum = 0\n",
    "for perm in permList:\n",
    "    greened = greenedAcreList[runNum]\n",
    "    totGreenedAcres = sum(greened)\n",
    "    runNum += 1\n",
    "    print \"Run Number %s\" % runNum  \n",
    "    print \"Total Greened Acres %0.2f\" % totGreenedAcres\n",
    "    print perm\n",
    "    newRunList=deepcopy(lidList)  # copy the zeroLidList into a new list\n",
    "    #totalAreaTreated = 0\n",
    "    for i in range(0,numVariables): \n",
    "        #lidNumber = perm[i] # random number of LIDs for this variable\n",
    "        #subArea = newRunList[i]['SubcatArea'] #area of subcatchment\n",
    "        newRunList[i]['Number'] = perm[i]  # random number of lids for this variable\n",
    "    newRunDocId = runswmm(newRunList,swmmInpStr,thisRunCollection,perm)\n",
    "    print \"stored this run in mongodb DocId = %s (zero means failed SWMM run)\" % newRunDocId\n",
    "    #cursor = thisRunCollection.find_one({'_id':newRunDocId})\n",
    "\n",
    "    #print \"Stored record %s for volume = %s\" % (newRunDocId,newVolume)\n",
    "    #print \"volumeReduction = %s\" % (volumeReduction)\n",
    "print \"FINISHED ALL RUNS\"\n"
   ]
  },
  {
   "cell_type": "markdown",
   "metadata": {},
   "source": [
    "### To display all of the runs from the database:"
   ]
  },
  {
   "cell_type": "code",
   "execution_count": null,
   "metadata": {
    "collapsed": false
   },
   "outputs": [],
   "source": [
    "print thisRunCollection"
   ]
  },
  {
   "cell_type": "code",
   "execution_count": null,
   "metadata": {
    "collapsed": false
   },
   "outputs": [],
   "source": [
    "runs = db[collection]\n",
    "cursor = runs.find()\n",
    "for run in cursor:\n",
    "    print run\n",
    "    print ''"
   ]
  },
  {
   "cell_type": "markdown",
   "metadata": {},
   "source": [
    "### To Reconstitute the SWMM input file for any of the runs above"
   ]
  },
  {
   "cell_type": "code",
   "execution_count": null,
   "metadata": {
    "collapsed": false
   },
   "outputs": [],
   "source": [
    "runs = db[collection]\n",
    "cursor = runs.find_one({'_id':zeroLidDocId})\n",
    "#print cursor\n",
    "swmmInputFileStr = cursor[\"swmmInputFileStr\"]\n",
    "#print swmmInputFileStr\n",
    "f = open(\"SWMM_reconstituted.inp\",'w')\n",
    "f.write(swmmInputFileStr)  # write out the swmmInputFileStr for modified problem\n",
    "f.close()"
   ]
  },
  {
   "cell_type": "code",
   "execution_count": null,
   "metadata": {
    "collapsed": true
   },
   "outputs": [],
   "source": []
  }
 ],
 "metadata": {
  "anaconda-cloud": {},
  "kernelspec": {
   "display_name": "Python [default]",
   "language": "python",
   "name": "python2"
  },
  "language_info": {
   "codemirror_mode": {
    "name": "ipython",
    "version": 2
   },
   "file_extension": ".py",
   "mimetype": "text/x-python",
   "name": "python",
   "nbconvert_exporter": "python",
   "pygments_lexer": "ipython2",
   "version": "2.7.12"
  }
 },
 "nbformat": 4,
 "nbformat_minor": 0
}
