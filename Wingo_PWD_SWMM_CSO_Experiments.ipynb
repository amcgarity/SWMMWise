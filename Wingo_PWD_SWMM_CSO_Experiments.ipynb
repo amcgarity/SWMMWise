{
 "cells": [
  {
   "cell_type": "markdown",
   "metadata": {
    "collapsed": true
   },
   "source": [
    "PWD's Wingohocking SWMM Model - runs to test effects of GSI installations"
   ]
  },
  {
   "cell_type": "code",
   "execution_count": 1,
   "metadata": {
    "collapsed": false
   },
   "outputs": [
    {
     "name": "stdout",
     "output_type": "stream",
     "text": [
      "[u'2008annual_1', u'cso_experiments_1', u'july', u'july2008_1']\n"
     ]
    }
   ],
   "source": [
    "# Run this block to load imports,\n",
    "# to test mongodb connectivity, and view existing collections\n",
    "#%reset\n",
    "import yaml\n",
    "from swmm_objects import *\n",
    "from swmm_read_cso_time_series import *\n",
    "\n",
    "from subprocess import call\n",
    "from datetime import datetime\n",
    "import sys\n",
    "from mongo_credentials import *\n",
    "\n",
    "# IMPORTANT: Set mongodb database name and credentials function below\n",
    "###########################################\n",
    "database = \"ewri2017\"\n",
    "db = mongo_credentials_aws2_AEM(database)\n",
    "###########################################\n",
    "collectionNames = sorted(db.collection_names())\n",
    "print collectionNames "
   ]
  },
  {
   "cell_type": "code",
   "execution_count": 2,
   "metadata": {
    "collapsed": false,
    "scrolled": true
   },
   "outputs": [
    {
     "name": "stdout",
     "output_type": "stream",
     "text": [
      "Elapsed Time = 0.0 min, 18.39 sec\n",
      "Stored record 583ba063c1015718b3a1c466 for zero LID usage:  peak = 1906.45, volume = 183.249\n"
     ]
    }
   ],
   "source": [
    "# Run this block to run the SWMM model on the 6-subcatchment Wingohocking\n",
    "# model BEFORE adding GSI to obtain the zero LID runoff and CSO values\n",
    "from swmm_run_cso import *\n",
    "#  IMPORTANT:  Set these for each run:\n",
    "#################################################\n",
    "collection = 'cso_experiments_1'\n",
    "swmmInpFile = \"wingohocking_PWD.inp\"  # initial SWMM .inp file\n",
    "lidZeroFile = \"PWD_wingo_Wakefield_list_zero.yaml\"\n",
    "################################################\n",
    "zeroLidDocId = zero_lid_runswmm(db,collection,swmmInpFile,lidZeroFile)\n",
    "thisRunCollection = db[collection]\n",
    "cursor = thisRunCollection.find_one({'_id':zeroLidDocId})\n",
    "zeroLidPeak = cursor['peak']\n",
    "zeroLidVolume = cursor['volume']\n",
    "print \"Stored record %s for zero LID usage:  peak = %s, volume = %s\" % (zeroLidDocId,zeroLidPeak,zeroLidVolume)"
   ]
  },
  {
   "cell_type": "code",
   "execution_count": 3,
   "metadata": {
    "collapsed": false
   },
   "outputs": [
    {
     "data": {
      "text/plain": [
       "{'cso_volume': 2286913269.1718516, 'tot_volume': 6865825056.036434}"
      ]
     },
     "execution_count": 3,
     "metadata": {},
     "output_type": "execute_result"
    }
   ],
   "source": [
    "from swmm_run_cso import calculate_cso\n",
    "from mongodb_tools import mongo_doc_id_from_string\n",
    "#zeroLidDocIdString = \"583b648dc10157149703b482\"\n",
    "#zeroLidDocId = mongo_doc_id_from_string(zeroLidDocIdString)\n",
    "cursor = thisRunCollection.find_one({'_id':zeroLidDocId})\n",
    "outflowSeries = cursor[\"outflow_series\"]\n",
    "resultDict = calculate_cso(3122.0,outflowSeries,0.05,15.0)\n",
    "resultDict"
   ]
  },
  {
   "cell_type": "markdown",
   "metadata": {},
   "source": [
    "### Loop ALL subcatchment LID numbers over a range:"
   ]
  },
  {
   "cell_type": "code",
   "execution_count": null,
   "metadata": {
    "collapsed": true
   },
   "outputs": [],
   "source": [
    "# Plot Runoff Timeseries\n"
   ]
  },
  {
   "cell_type": "code",
   "execution_count": 3,
   "metadata": {
    "collapsed": false,
    "scrolled": false
   },
   "outputs": [
    {
     "ename": "KeyError",
     "evalue": "<class 'swmm_objects.lid_usage'>",
     "output_type": "error",
     "traceback": [
      "\u001b[0;31m---------------------------------------------------------------------------\u001b[0m",
      "\u001b[0;31mKeyError\u001b[0m                                  Traceback (most recent call last)",
      "\u001b[0;32m<ipython-input-3-02ae284a408a>\u001b[0m in \u001b[0;36m<module>\u001b[0;34m()\u001b[0m\n\u001b[1;32m      8\u001b[0m     \u001b[0;32mfor\u001b[0m \u001b[0mlid\u001b[0m \u001b[0;32min\u001b[0m \u001b[0mnewRunList\u001b[0m\u001b[0;34m:\u001b[0m\u001b[0;34m\u001b[0m\u001b[0m\n\u001b[1;32m      9\u001b[0m         \u001b[0mlid\u001b[0m\u001b[0;34m[\u001b[0m\u001b[0;34m'Number'\u001b[0m\u001b[0;34m]\u001b[0m \u001b[0;34m=\u001b[0m \u001b[0mnumberForAllLid\u001b[0m  \u001b[0;31m# the same number of LIDs will be in every subcatchment\u001b[0m\u001b[0;34m\u001b[0m\u001b[0m\n\u001b[0;32m---> 10\u001b[0;31m     \u001b[0mnewRunDocId\u001b[0m \u001b[0;34m=\u001b[0m \u001b[0mrunswmm\u001b[0m\u001b[0;34m(\u001b[0m\u001b[0mnewRunList\u001b[0m\u001b[0;34m,\u001b[0m\u001b[0mswmmInpStr\u001b[0m\u001b[0;34m,\u001b[0m\u001b[0mthisRunCollection\u001b[0m\u001b[0;34m)\u001b[0m\u001b[0;34m\u001b[0m\u001b[0m\n\u001b[0m\u001b[1;32m     11\u001b[0m     \u001b[0mcursor\u001b[0m \u001b[0;34m=\u001b[0m \u001b[0mthisRunCollection\u001b[0m\u001b[0;34m.\u001b[0m\u001b[0mfind_one\u001b[0m\u001b[0;34m(\u001b[0m\u001b[0;34m{\u001b[0m\u001b[0;34m'_id'\u001b[0m\u001b[0;34m:\u001b[0m\u001b[0mnewRunDocId\u001b[0m\u001b[0;34m}\u001b[0m\u001b[0;34m)\u001b[0m\u001b[0;34m\u001b[0m\u001b[0m\n\u001b[1;32m     12\u001b[0m     \u001b[0mnewVolume\u001b[0m \u001b[0;34m=\u001b[0m \u001b[0mcursor\u001b[0m\u001b[0;34m[\u001b[0m\u001b[0;34m'volume'\u001b[0m\u001b[0;34m]\u001b[0m\u001b[0;34m\u001b[0m\u001b[0m\n",
      "\u001b[0;32m/Users/arthur/gitman/SWMMWise/swmm_run_cso.pyc\u001b[0m in \u001b[0;36mrunswmm\u001b[0;34m(runParamList, swmmInitialInpFileStr, runsCollection)\u001b[0m\n\u001b[1;32m     19\u001b[0m         \u001b[0mnewWidth\u001b[0m \u001b[0;34m=\u001b[0m \u001b[0mitem\u001b[0m\u001b[0;34m[\u001b[0m\u001b[0;34m'Width'\u001b[0m\u001b[0;34m]\u001b[0m\u001b[0;34m\u001b[0m\u001b[0m\n\u001b[1;32m     20\u001b[0m         \u001b[0mCapRatioPct\u001b[0m \u001b[0;34m=\u001b[0m \u001b[0mitem\u001b[0m\u001b[0;34m[\u001b[0m\u001b[0;34m'CapRatioPct'\u001b[0m\u001b[0;34m]\u001b[0m\u001b[0;34m\u001b[0m\u001b[0m\n\u001b[0;32m---> 21\u001b[0;31m         \u001b[0mmodel1\u001b[0m\u001b[0;34m.\u001b[0m\u001b[0mlidChangeNumber\u001b[0m\u001b[0;34m(\u001b[0m\u001b[0msubCat\u001b[0m\u001b[0;34m,\u001b[0m\u001b[0mlid\u001b[0m\u001b[0;34m,\u001b[0m\u001b[0mnewNumber\u001b[0m\u001b[0;34m)\u001b[0m\u001b[0;34m\u001b[0m\u001b[0m\n\u001b[0m\u001b[1;32m     22\u001b[0m         \u001b[0mmodel1\u001b[0m\u001b[0;34m.\u001b[0m\u001b[0mlidChangeArea\u001b[0m\u001b[0;34m(\u001b[0m\u001b[0msubCat\u001b[0m\u001b[0;34m,\u001b[0m\u001b[0mlid\u001b[0m\u001b[0;34m,\u001b[0m\u001b[0mnewArea\u001b[0m\u001b[0;34m,\u001b[0m\u001b[0mCapRatioPct\u001b[0m\u001b[0;34m)\u001b[0m\u001b[0;34m\u001b[0m\u001b[0m\n\u001b[1;32m     23\u001b[0m         \u001b[0;31m###model1.lidChangeWidth(subCat,lid,newWidth)\u001b[0m\u001b[0;34m\u001b[0m\u001b[0;34m\u001b[0m\u001b[0m\n",
      "\u001b[0;32m/Users/arthur/gitman/SWMMWise/swmm_objects.pyc\u001b[0m in \u001b[0;36mlidChangeNumber\u001b[0;34m(self, subcatchment, lidname, newnumber)\u001b[0m\n\u001b[1;32m    418\u001b[0m                 \u001b[0macre\u001b[0m \u001b[0;34m=\u001b[0m \u001b[0;36m43560.0\u001b[0m\u001b[0;34m\u001b[0m\u001b[0m\n\u001b[1;32m    419\u001b[0m                 \u001b[0mnewnumber_str\u001b[0m \u001b[0;34m=\u001b[0m \u001b[0mstr\u001b[0m\u001b[0;34m(\u001b[0m\u001b[0mnewnumber\u001b[0m\u001b[0;34m)\u001b[0m\u001b[0;34m\u001b[0m\u001b[0m\n\u001b[0;32m--> 420\u001b[0;31m                 \u001b[0mlid_usage_class\u001b[0m \u001b[0;34m=\u001b[0m \u001b[0mself\u001b[0m\u001b[0;34m.\u001b[0m\u001b[0mmoddict\u001b[0m\u001b[0;34m[\u001b[0m\u001b[0mlid_usage\u001b[0m\u001b[0;34m]\u001b[0m\u001b[0;34m\u001b[0m\u001b[0m\n\u001b[0m\u001b[1;32m    421\u001b[0m                 \u001b[0mlid_area_str\u001b[0m \u001b[0;34m=\u001b[0m \u001b[0mlid_usage_class\u001b[0m\u001b[0;34m.\u001b[0m\u001b[0mget\u001b[0m\u001b[0;34m(\u001b[0m\u001b[0;34m(\u001b[0m\u001b[0msubcatchment\u001b[0m\u001b[0;34m,\u001b[0m\u001b[0mlidname\u001b[0m\u001b[0;34m)\u001b[0m\u001b[0;34m,\u001b[0m\u001b[0;34m'Area'\u001b[0m\u001b[0;34m)\u001b[0m  \u001b[0;31m# LID area in SQUARE FEET\u001b[0m\u001b[0;34m\u001b[0m\u001b[0m\n\u001b[1;32m    422\u001b[0m                 \u001b[0mlid_area\u001b[0m \u001b[0;34m=\u001b[0m \u001b[0mfloat\u001b[0m\u001b[0;34m(\u001b[0m\u001b[0mlid_area_str\u001b[0m\u001b[0;34m)\u001b[0m\u001b[0;34m\u001b[0m\u001b[0m\n",
      "\u001b[0;31mKeyError\u001b[0m: <class 'swmm_objects.lid_usage'>"
     ]
    }
   ],
   "source": [
    "# Now, apply a range of Wakefield Park rain gardens in the selected seven subcatchments simultaneously\n",
    "from copy import deepcopy\n",
    "cursor = thisRunCollection.find_one({'_id':zeroLidDocId})\n",
    "zeroLidList = cursor[\"runParamList\"]\n",
    "swmmInpStr = cursor[\"swmmInputFileStr\"]\n",
    "for numberForAllLid in range(9,10):\n",
    "    newRunList=deepcopy(zeroLidList)  # copy the zeroLidList into a new list\n",
    "    for lid in newRunList:\n",
    "        lid['Number'] = numberForAllLid  # the same number of LIDs will be in every subcatchment\n",
    "    newRunDocId = runswmm(newRunList,swmmInpStr,thisRunCollection)\n",
    "    cursor = thisRunCollection.find_one({'_id':newRunDocId})\n",
    "    newVolume = cursor['volume']\n",
    "    volumeReduction = zeroLidVolume - newVolume\n",
    "    print \"Number of Wakefield LID in each selected subcatchment $s\" % numberForAllLid\n",
    "    #print \"Stored record %s for volume = %s\" % (newRunDocId,newVolume)\n",
    "    #print \"volumeReduction = %s\" % (volumeReduction)\n",
    "print \"FINISHED ALL RUNS\""
   ]
  },
  {
   "cell_type": "markdown",
   "metadata": {},
   "source": [
    "### To display all of the runs from the database:"
   ]
  },
  {
   "cell_type": "code",
   "execution_count": 3,
   "metadata": {
    "collapsed": false
   },
   "outputs": [],
   "source": [
    "runs = db[collection]\n",
    "cursor = runs.find()\n",
    "#\\for run in cursor:\n",
    "#    print run\n",
    "#    print ''"
   ]
  },
  {
   "cell_type": "markdown",
   "metadata": {},
   "source": [
    "### To Reconstitute the SWMM input file for any of the runs above"
   ]
  },
  {
   "cell_type": "code",
   "execution_count": 4,
   "metadata": {
    "collapsed": false
   },
   "outputs": [],
   "source": [
    "runs = db[collection]\n",
    "cursor = runs.find_one({'_id':zeroLidDocId})\n",
    "#print cursor\n",
    "swmmInputFileStr = cursor[\"swmmInputFileStr\"]\n",
    "#print swmmInputFileStr\n",
    "f = open(\"SWMM_reconstituted.inp\",'w')\n",
    "f.write(swmmInputFileStr)  # write out the swmmInputFileStr for modified problem\n",
    "f.close()"
   ]
  },
  {
   "cell_type": "code",
   "execution_count": null,
   "metadata": {
    "collapsed": true
   },
   "outputs": [],
   "source": []
  }
 ],
 "metadata": {
  "anaconda-cloud": {},
  "kernelspec": {
   "display_name": "Python 2",
   "language": "python",
   "name": "python2"
  },
  "language_info": {
   "codemirror_mode": {
    "name": "ipython",
    "version": 2
   },
   "file_extension": ".py",
   "mimetype": "text/x-python",
   "name": "python",
   "nbconvert_exporter": "python",
   "pygments_lexer": "ipython2",
   "version": "2.7.11"
  }
 },
 "nbformat": 4,
 "nbformat_minor": 0
}
