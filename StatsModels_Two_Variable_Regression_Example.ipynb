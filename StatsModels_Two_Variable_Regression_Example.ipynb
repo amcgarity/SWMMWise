{
 "cells": [
  {
   "cell_type": "code",
   "execution_count": 25,
   "metadata": {
    "collapsed": false
   },
   "outputs": [
    {
     "name": "stdout",
     "output_type": "stream",
     "text": [
      "                            OLS Regression Results                            \n",
      "==============================================================================\n",
      "Dep. Variable:                      y   R-squared:                       0.991\n",
      "Model:                            OLS   Adj. R-squared:                  0.991\n",
      "Method:                 Least Squares   F-statistic:                     5290.\n",
      "Date:                Sat, 14 Jan 2017   Prob (F-statistic):          9.49e-100\n",
      "Time:                        16:17:18   Log-Likelihood:                -17.326\n",
      "No. Observations:                 100   AIC:                             40.65\n",
      "Df Residuals:                      97   BIC:                             48.47\n",
      "Df Model:                           2                                         \n",
      "Covariance Type:            nonrobust                                         \n",
      "==============================================================================\n",
      "                 coef    std err          t      P>|t|      [95.0% Conf. Int.]\n",
      "------------------------------------------------------------------------------\n",
      "const          3.5001      0.074     47.324      0.000         3.353     3.647\n",
      "x1             1.0163      0.104      9.746      0.000         0.809     1.223\n",
      "x2             9.9330      0.100     98.953      0.000         9.734    10.132\n",
      "==============================================================================\n",
      "Omnibus:                       44.016   Durbin-Watson:                   2.234\n",
      "Prob(Omnibus):                  0.000   Jarque-Bera (JB):                6.588\n",
      "Skew:                           0.025   Prob(JB):                       0.0371\n",
      "Kurtosis:                       1.743   Cond. No.                         5.05\n",
      "==============================================================================\n",
      "\n",
      "Warnings:\n",
      "[1] Standard Errors assume that the covariance matrix of the errors is correctly specified.\n",
      "[ 3.50007864  1.01630778  9.93298244]\n"
     ]
    }
   ],
   "source": [
    "import numpy as np\n",
    "import statsmodels.api as sm\n",
    "\n",
    "# Generate artificial data (2 regressors + constant)\n",
    "nobs = 100\n",
    "X = np.random.random((nobs, 2))\n",
    "#print X\n",
    "X = sm.add_constant(X)\n",
    "beta = [3, 1, 10]\n",
    "#beta = [3, 1]\n",
    "e = np.random.random(nobs)\n",
    "y = np.dot(X, beta) + e\n",
    "#print y\n",
    "# Fit regression model\n",
    "results = sm.OLS(y, X).fit()\n",
    "\n",
    "# Inspect the results\n",
    "print results.summary()\n",
    "print results.params"
   ]
  },
  {
   "cell_type": "code",
   "execution_count": 31,
   "metadata": {
    "collapsed": false
   },
   "outputs": [
    {
     "name": "stdout",
     "output_type": "stream",
     "text": [
      "0.289194838798\n"
     ]
    }
   ],
   "source": [
    "yPredicted = np.dot(X,results.params)\n",
    "residuals = y - yPredicted\n",
    "stdDevResiduals = np.std(residuals, ddof=1) #ddof=1 for SAMPLE std. dev.\n",
    "standardizedResiduals = [x / stdDevResiduals for x in residuals]\n",
    "print stdDevResiduals"
   ]
  },
  {
   "cell_type": "code",
   "execution_count": 33,
   "metadata": {
    "collapsed": false
   },
   "outputs": [
    {
     "data": {
      "text/plain": [
       "<matplotlib.text.Text at 0x117919a90>"
      ]
     },
     "execution_count": 33,
     "metadata": {},
     "output_type": "execute_result"
    },
    {
     "data": {
      "image/png": "[encoded data removed]",
      "text/plain": [
       "<matplotlib.figure.Figure at 0x116ab4750>"
      ]
     },
     "metadata": {},
     "output_type": "display_data"
    }
   ],
   "source": [
    "%matplotlib inline\n",
    "import matplotlib.pyplot as plt\n",
    "(fig, ax1) = plt.subplots()\n",
    "plt.title(\"Standardized Residuals vs Predicted\")\n",
    "ax1.plot(yPredicted,standardizedResiduals,'ko',color = 'b',markersize = 1)\n",
    "ax1.set_xlabel(\"Predicted\",fontsize=12)\n",
    "ax1.set_ylabel(\"Standardized Residual\",fontsize=12)\n",
    "stdDevText = \"Std. Dev. Residuals = %0.2f MGal\" % stdDevResiduals\n",
    "ax1.text(2,-4,stdDevText)"
   ]
  },
  {
   "cell_type": "code",
   "execution_count": null,
   "metadata": {
    "collapsed": true
   },
   "outputs": [],
   "source": []
  }
 ],
 "metadata": {
  "anaconda-cloud": {},
  "kernelspec": {
   "display_name": "Python [conda root]",
   "language": "python",
   "name": "conda-root-py"
  },
  "language_info": {
   "codemirror_mode": {
    "name": "ipython",
    "version": 2
   },
   "file_extension": ".py",
   "mimetype": "text/x-python",
   "name": "python",
   "nbconvert_exporter": "python",
   "pygments_lexer": "ipython2",
   "version": "2.7.12"
  }
 },
 "nbformat": 4,
 "nbformat_minor": 1
}
