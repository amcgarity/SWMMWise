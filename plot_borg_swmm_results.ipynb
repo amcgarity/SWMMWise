{
 "cells": [
  {
   "cell_type": "code",
   "execution_count": 1,
   "metadata": {
    "collapsed": false
   },
   "outputs": [
    {
     "data": {
      "text/plain": [
       "[u'y16m01d27_2lid_tests',\n",
       " u'y16m01d27_run1',\n",
       " u'y16m01d27_run2',\n",
       " u'y16m01d27_run3',\n",
       " u'y16m01d27_run4',\n",
       " u'y16m01d27_shortTest1',\n",
       " u'y16m01d27_test1',\n",
       " u'y16m01d28_2lid_run_Example2',\n",
       " u'y16m01d28_Example2_100runs']"
      ]
     },
     "execution_count": 1,
     "metadata": {},
     "output_type": "execute_result"
    }
   ],
   "source": [
    "%matplotlib inline\n",
    "import numpy as np\n",
    "#import pandas as pd\n",
    "import matplotlib.pyplot as plt\n",
    "from pymongo import MongoClient\n",
    "#client = MongoClient('mongodb://server.mcgarity.info:27017')\n",
    "client = MongoClient()  # use local database by default\n",
    "db = client[\"borg_swmm\"]\n",
    "collectionNames = sorted(db.collection_names())\n",
    "collectionNames"
   ]
  },
  {
   "cell_type": "code",
   "execution_count": 2,
   "metadata": {
    "collapsed": false
   },
   "outputs": [
    {
     "data": {
      "text/plain": [
       "<matplotlib.text.Text at 0x7f6550e98c50>"
      ]
     },
     "execution_count": 2,
     "metadata": {},
     "output_type": "execute_result"
    },
    {
     "data": {
      "image/png": "[encoded data removed]",
      "text/plain": [
       "<matplotlib.figure.Figure at 0x7f65521a2850>"
      ]
     },
     "metadata": {},
     "output_type": "display_data"
    }
   ],
   "source": [
    "runs = db['y16m01d28_Example2_100runs']\n",
    "cursor = runs.find()\n",
    "ndocs = runs.count()\n",
    "last = cursor.count()-1\n",
    "rundict = cursor[last]\n",
    "#rundict\n",
    "#ndocs\n",
    "numLidTotalList = []\n",
    "volReductionList = []\n",
    "for doc in cursor:\n",
    "    #print doc\n",
    "    numLidTotalList.append(doc['numLidTotal'])\n",
    "    volReductionList.append(doc['volReduction'])\n",
    "plt.plot(numLidTotalList,volReductionList, 'o')\n",
    "plt.xlabel(\"Total Number of GIs Deployed\",fontsize=10)\n",
    "plt.ylabel(\"Sewer Outflow Reduction (MGal/yr)\",fontsize=10)"
   ]
  },
  {
   "cell_type": "code",
   "execution_count": null,
   "metadata": {
    "collapsed": true
   },
   "outputs": [],
   "source": []
  }
 ],
 "metadata": {
  "kernelspec": {
   "display_name": "Python 2",
   "language": "python",
   "name": "python2"
  },
  "language_info": {
   "codemirror_mode": {
    "name": "ipython",
    "version": 2
   },
   "file_extension": ".py",
   "mimetype": "text/x-python",
   "name": "python",
   "nbconvert_exporter": "python",
   "pygments_lexer": "ipython2",
   "version": "2.7.6"
  }
 },
 "nbformat": 4,
 "nbformat_minor": 0
}
