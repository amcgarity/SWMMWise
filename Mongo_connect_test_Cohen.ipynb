{
 "cells": [
  {
   "cell_type": "code",
   "execution_count": 1,
   "metadata": {
    "collapsed": false
   },
   "outputs": [
    {
     "data": {
      "text/plain": [
       "True"
      ]
     },
     "execution_count": 1,
     "metadata": {},
     "output_type": "execute_result"
    }
   ],
   "source": [
    "# Run this block to test the connection and your credentials.\n",
    "# If you successfully connect, you will see \"True\" in the Output \n",
    "from pymongo import MongoClient\n",
    "\n",
    "# \n",
    "# mongoServer = None   # use the local mongodb server installed on your computer\n",
    "#mongoServer = 'mongodb://server.mcgarity.info:27017/'  # Art's personal server\n",
    "#mongoServer = 'mongodb://ubuntu:27017/'  # ubuntu Linux virtual machine on Art's Mac\n",
    "mongoServer = 'mongodb://aws-2.greenphilly.net:27017/'  # aws-2 server for GreenPhilly\n",
    "client = MongoClient(mongoServer)\n",
    "db = client.test  # attach to the database named \"test\"\n",
    "# db = client.jcohen4  # attach to the database named \"jcohen4\"\n",
    "# Note: jon has been given access to two databases:  test and jcohen4\n",
    "db.authenticate('jcohen4', 'wingohocking', source='jcohen4')  \n",
    "# Jon Cohen's credentials: username jcohen4 and password wingohocking are stored in database \"jcohen4\""
   ]
  },
  {
   "cell_type": "code",
   "execution_count": 3,
   "metadata": {
    "collapsed": false
   },
   "outputs": [
    {
     "name": "stdout",
     "output_type": "stream",
     "text": [
      "[u'test1', u'test3']\n"
     ]
    }
   ],
   "source": [
    "# Obtain the names of collections already stored in the database:\n",
    "collectionNames = sorted(db.collection_names())\n",
    "print collectionNames\n",
    "# below is a list containing Unicode strings with the names of the current collections stored in the database"
   ]
  },
  {
   "cell_type": "code",
   "execution_count": 4,
   "metadata": {
    "collapsed": false
   },
   "outputs": [
    {
     "data": {
      "text/plain": [
       "ObjectId('57fd58aec1015723182a5112')"
      ]
     },
     "execution_count": 4,
     "metadata": {},
     "output_type": "execute_result"
    }
   ],
   "source": [
    "# Run this block to test ability to write to the database:\n",
    "thisCollection = db['test1']    # use (or create, if it doesn't yet exist) a collection named \"test1\" in the database\n",
    "doc = {\"five\": \"six\"}   # create a very simple Python dictionary to store in the collection\n",
    "doc_id = thisCollection.insert_one(doc).inserted_id  # insert the dictionary into the database\n",
    "doc_id  # display the unique identification code assigned to this dictionary to confirm it was inserted into database"
   ]
  },
  {
   "cell_type": "code",
   "execution_count": 5,
   "metadata": {
    "collapsed": false
   },
   "outputs": [
    {
     "name": "stdout",
     "output_type": "stream",
     "text": [
      "{u'_id': ObjectId('57fd50acc10157cf376e13a5'), u'one': u'two'}\n",
      "{u'_id': ObjectId('57fd5305c10157215eebec47'), u'one': u'two'}\n",
      "{u'_id': ObjectId('57fd534ac10157215eebec48'), u'one': u'two'}\n",
      "{u'_id': ObjectId('57fd5791c10157215eebec49'), u'three': u'four'}\n",
      "{u'_id': ObjectId('57fd58aec1015723182a5112'), u'five': u'six'}\n"
     ]
    }
   ],
   "source": [
    "# Run this block to test ability to read from the database:\n",
    "cursor = db.test1.find()\n",
    "for doc in cursor:\n",
    "    print doc\n",
    "    \n",
    "# below, you should see all of the dictionaries inserted so far into the collection\n",
    "# Note: Fengwei also has access to the database named \"test\""
   ]
  },
  {
   "cell_type": "code",
   "execution_count": null,
   "metadata": {
    "collapsed": true
   },
   "outputs": [],
   "source": []
  }
 ],
 "metadata": {
  "kernelspec": {
   "display_name": "Python 2",
   "language": "python",
   "name": "python2"
  },
  "language_info": {
   "codemirror_mode": {
    "name": "ipython",
    "version": 2
   },
   "file_extension": ".py",
   "mimetype": "text/x-python",
   "name": "python",
   "nbconvert_exporter": "python",
   "pygments_lexer": "ipython2",
   "version": "2.7.11"
  }
 },
 "nbformat": 4,
 "nbformat_minor": 0
}
